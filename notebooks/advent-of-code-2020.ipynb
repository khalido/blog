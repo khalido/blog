{
 "cells": [
  {
   "cell_type": "markdown",
   "metadata": {},
   "source": [
    "---\n",
    "title: Advent of Code 2020\n",
    "description: a verbose solve of AOC 2020\n",
    "tags:\n",
    "- python\n",
    "date: 2020-12-01\n",
    "lastmod: 2020-12-01\n",
    "toc: true\n",
    "---"
   ]
  },
  {
   "cell_type": "markdown",
   "metadata": {},
   "source": [
    "The following is a write up of how to solve and the stuff I learved while doing so, thus some of the code is spelled out and slow! So look at the [AOC reddit site](https://www.reddit.com/r/adventofcode/) for ninja level solutions.\n",
    "\n",
    "I am trying to\n",
    "\n",
    "- code in a readable fashion, avoiding shortcuts (easier said then done!)\n",
    "- make visuals as many problems as possible.\n",
    "- not [mangle up jupyter notebooks too badly](https://docs.google.com/presentation/d/1n2RlMdmv1p25Xy5thJUhkKGvjtV-dkAIsUXP-AL4ffI/edit?usp=sharing). Real code is written using a text editor! Unless you are [Netflix](https://netflixtechblog.com/notebook-innovation-591ee3221233), or course, or using [rmarkdown](https://yihui.org/en/2018/09/xfun-pkg-attach/).\n",
    "\n",
    "First up, I'm importing all the libs I'll use up here:"
   ]
  },
  {
   "cell_type": "code",
   "execution_count": 2,
   "metadata": {},
   "outputs": [],
   "source": [
    "# python essentials\n",
    "import os\n",
    "import re\n",
    "import hashlib\n",
    "import math\n",
    "from pathlib import Path\n",
    "from typing import List\n",
    "from collections import defaultdict, namedtuple, Counter\n",
    "import itertools\n",
    "\n",
    "# useful external libs\n",
    "#import numpy as np\n",
    "#import pandas as pd\n",
    "\n",
    "# misc utils\n",
    "#import requests\n",
    "#from tqdm.notebook import trange, tqdm # progress bars for slow funcs\n",
    "#from functools import reduce \n",
    "\n",
    "# for plots, cause visuals\n",
    "import matplotlib.pyplot as plt # goto python viz lib\n",
    "#import seaborn as sns # prettify matplotlib\n",
    "from IPython.display import display, Markdown\n",
    "\n",
    "# javascript plotting for interactive graphs\n",
    "#import altair as alt\n",
    "#import plotly.express as px"
   ]
  },
  {
   "cell_type": "markdown",
   "metadata": {},
   "source": [
    "Some helper functions to avoid rewriting the same code for all the problems:"
   ]
  },
  {
   "cell_type": "code",
   "execution_count": 25,
   "metadata": {},
   "outputs": [],
   "source": [
    "input_path = Path(\"data\") / \"advent-of-code-2020\"\n",
    "github_url = url = \"https://github.com/khalido/adventofcode/raw/master/inputs\"\n",
    "\n",
    "def get_input(day:int=1, splitlines=True):\n",
    "    \"\"\"takes in the day, year and date, returns the input\"\"\"\n",
    "    \n",
    "    try:    # load from local disk\n",
    "        with open(input_path / f\"{day}.txt\") as f:\n",
    "            data = f.read().strip()\n",
    "    except: # else load from github repo\n",
    "        print(f\"Failed to load {year}/{day}.txt from disk\")\n",
    "\n",
    "    if splitlines: data = data.splitlines()\n",
    "\n",
    "    return data \n",
    "\n",
    "def printmd(txt=\"## testing\"):\n",
    "    display(Markdown(txt))"
   ]
  },
  {
   "cell_type": "markdown",
   "metadata": {},
   "source": [
    "## Day 1: Report Repair\n",
    "\n",
    "[#](https://adventofcode.com/2020/day/1) We have a list of numbers and need to find the two numbers that add up to 2020, and multiple them to get the answer."
   ]
  },
  {
   "cell_type": "code",
   "execution_count": 30,
   "metadata": {},
   "outputs": [
    {
     "output_type": "display_data",
     "data": {
      "text/plain": "<IPython.core.display.Markdown object>",
      "text/markdown": "Day 1A: **878724**"
     },
     "metadata": {}
    }
   ],
   "source": [
    "test1 = \"\"\"1721\n",
    "979\n",
    "366\n",
    "299\n",
    "675\n",
    "1456\"\"\".splitlines()\n",
    "\n",
    "inp1 = get_input(1)\n",
    "\n",
    "def parse_1(inp): \n",
    "    return [int(i) for i in inp]\n",
    "\n",
    "def solve_1(inp, numbers=2):\n",
    "    # get the first nums which add up to 2020\n",
    "    nums = [i for i in itertools.combinations(parse_1(inp), numbers) if sum(i)==2020][0]\n",
    "    ans = math.prod(nums)\n",
    "    return ans\n",
    "\n",
    "assert solve_1(test1) == 514579\n",
    "printmd(f\"Day 1A: **{solve_1(inp1)}**\")"
   ]
  },
  {
   "source": [
    "**Part 2:** Now we want to find the three numbers which sum to 2020 and return the multiple.\n",
    "\n",
    "Since I made a general func to solve for 1, this is just rerunning the above with numbers set to 3."
   ],
   "cell_type": "markdown",
   "metadata": {}
  },
  {
   "cell_type": "code",
   "execution_count": 31,
   "metadata": {},
   "outputs": [
    {
     "output_type": "display_data",
     "data": {
      "text/plain": "<IPython.core.display.Markdown object>",
      "text/markdown": "Day 1B: **201251610**"
     },
     "metadata": {}
    }
   ],
   "source": [
    "assert solve_1(test1, 3) == 241861950\n",
    "printmd(f\"Day 1B: **{solve_1(inp1, 3)}**\")"
   ]
  },
  {
   "source": [
    "## Day 2: Password policy\n",
    "\n",
    "[#](https://adventofcode.com/2020/day/2). We have a list of passwords in the form: `password policy: password`, where the first two numbers give a range of acceptable repeats for a character. Each policy has `\"lo\", \"hi\", \"letter\", \"password\"` which can be saved directly as a namedtuple."
   ],
   "cell_type": "markdown",
   "metadata": {}
  },
  {
   "cell_type": "code",
   "execution_count": 22,
   "metadata": {},
   "outputs": [
    {
     "output_type": "execute_result",
     "data": {
      "text/plain": [
       "[Policy(lo=1, hi=3, letter='a', password='abcde'),\n",
       " Policy(lo=1, hi=3, letter='b', password='cdefg'),\n",
       " Policy(lo=2, hi=9, letter='c', password='ccccccccc')]"
      ]
     },
     "metadata": {},
     "execution_count": 22
    }
   ],
   "source": [
    "test2 = \"\"\"1-3 a: abcde\n",
    "1-3 b: cdefg\n",
    "2-9 c: ccccccccc\"\"\".splitlines()\n",
    "\n",
    "inp2 = get_input(2)\n",
    "\n",
    "Policy = namedtuple(\"Policy\", [\"lo\", \"hi\", \"letter\", \"password\"])\n",
    "\n",
    "def parse_2(inp):\n",
    "    data = []\n",
    "\n",
    "    for pol in [pol.split() for pol in inp]:\n",
    "        lo, hi = map(int, pol[0].split(\"-\"))\n",
    "        letter = pol[1].strip(\":\")\n",
    "        password = pol[2]\n",
    "        data.append(Policy(lo, hi, letter, password))\n",
    "    \n",
    "    return data\n",
    "\n",
    "parse_2(test2) # eyeballing to see it works:"
   ]
  },
  {
   "source": [
    "To solve this is straightforward, we just make sure the count of the given char is within the acceptable range, which python makes easy by being able to do `lo < num < hi`."
   ],
   "cell_type": "markdown",
   "metadata": {}
  },
  {
   "cell_type": "code",
   "execution_count": 33,
   "metadata": {},
   "outputs": [
    {
     "output_type": "display_data",
     "data": {
      "text/plain": "<IPython.core.display.Markdown object>",
      "text/markdown": "Day 2A: **424**"
     },
     "metadata": {}
    }
   ],
   "source": [
    "def solve_2(inp=test2):\n",
    "    total = 0\n",
    "    for pol in parse_2(inp):\n",
    "        if pol.lo <= pol.password.count(pol.letter) <= pol.hi:\n",
    "            total += 1\n",
    "\n",
    "    return total\n",
    "\n",
    "assert solve_2() == 2\n",
    "printmd(f\"Day 2A: **{solve_2(inp2)}**\")\n"
   ]
  },
  {
   "source": [
    "**Part 2:** Now the two nums in the beginning are positions, starting from 1. (no zero index). Only one of those positions can have the given letter. "
   ],
   "cell_type": "markdown",
   "metadata": {}
  },
  {
   "cell_type": "code",
   "execution_count": 34,
   "metadata": {},
   "outputs": [
    {
     "output_type": "display_data",
     "data": {
      "text/plain": "<IPython.core.display.Markdown object>",
      "text/markdown": "Day 2B: **747**"
     },
     "metadata": {}
    }
   ],
   "source": [
    "def solve_2b(inp=test2):\n",
    "    total = 0\n",
    "    for pol in parse_2(inp):\n",
    "        char1 = pol.password[pol.lo-1]\n",
    "        char2 = pol.password[pol.hi-1]\n",
    "        if (pol.letter == char1) != (pol.letter == char2):\n",
    "            total += 1\n",
    "    return total\n",
    "\n",
    "assert solve_2b() == 1\n",
    "printmd(f\"Day 2B: **{solve_2b(inp2)}**\")"
   ]
  },
  {
   "source": [
    "## Day 3"
   ],
   "cell_type": "markdown",
   "metadata": {}
  }
 ],
 "metadata": {
  "kernelspec": {
   "name": "python3",
   "display_name": "Python 3.8.5 64-bit ('blog': conda)",
   "metadata": {
    "interpreter": {
     "hash": "cb56fe737ba6b7da833e2df2e5ab6c03fdda60b6e4b1cbcda9e743b1f1f5262b"
    }
   }
  },
  "language_info": {
   "codemirror_mode": {
    "name": "ipython",
    "version": 3
   },
   "file_extension": ".py",
   "mimetype": "text/x-python",
   "name": "python",
   "nbconvert_exporter": "python",
   "pygments_lexer": "ipython3",
   "version": "3.8.5-final"
  }
 },
 "nbformat": 4,
 "nbformat_minor": 4
}