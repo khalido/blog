{
 "cells": [
  {
   "cell_type": "markdown",
   "metadata": {},
   "source": [
    "---\n",
    "title: Jupyter notebooks to markdown\n",
    "description: using nbdev to convert notebooks to markdown\n",
    "date: 2020-11-10\n",
    "toc: true\n",
    "tags:\n",
    "- python\n",
    "---"
   ]
  },
  {
   "cell_type": "markdown",
   "metadata": {},
   "source": [
    "This is very meta, but since I only update notebooks once in a while, this here notebook converts all the notebooks in the folder to markdown files and images, which are used to build the blog posts on the site.\n",
    "\n",
    "The main reason to do this is to save time when rebuilding the blog on github pages, as installing nbdev and converting all the notebooks takes a while.\n",
    "\n",
    "Later on could add an option to the config to either build notebooks on each build or to just read the converted markdown files.\n"
   ]
  },
  {
   "cell_type": "code",
   "execution_count": 2,
   "metadata": {},
   "outputs": [],
   "source": [
    "#collapse-hide\n",
    "import os\n",
    "from pathlib import Path\n",
    "from nbdev.export2html import convert_md, notebook2html\n",
    "from nbdev import export2html\n",
    "import yaml\n",
    "\n",
    "import khalido as ko # my helper utils"
   ]
  },
  {
   "cell_type": "markdown",
   "metadata": {},
   "source": [
    "helper functions follow:"
   ]
  },
  {
   "cell_type": "code",
   "execution_count": 3,
   "metadata": {},
   "outputs": [],
   "source": [
    "#collapse-hide\n",
    "path_nb: Path = Path(\".\") # convert notebook is in the notebooks folder\n",
    "path_md = path_nb / \"markdown\"\n",
    "\n",
    "def make_folder(path, debug: bool = False):\n",
    "    \"\"\"makes parent folders if they don't exist for a path\"\"\"\n",
    "\n",
    "    # assume the last thing is a file if there is a dot in the name\n",
    "    if \".\" in path.name:\n",
    "        path = path.parent\n",
    "\n",
    "    try:\n",
    "        path.mkdir(parents=True, exist_ok=False)\n",
    "        if debug:\n",
    "            print(f\"{path} folder made\")\n",
    "    except FileExistsError:\n",
    "        if debug:\n",
    "            print(f\"{path} folder already exists\")\n",
    "        pass"
   ]
  },
  {
   "cell_type": "markdown",
   "metadata": {},
   "source": [
    "## nbdev\n",
    "\n",
    "NBdev comes with a number of helpful extra features, so first up using that:"
   ]
  },
  {
   "cell_type": "code",
   "execution_count": 5,
   "metadata": {},
   "outputs": [
    {
     "data": {
      "text/plain": [
       "[Path('books.ipynb'),\n",
       " Path('convert2md.ipynb'),\n",
       " Path('quicksort.ipynb'),\n",
       " Path('flood_fill.ipynb'),\n",
       " Path('blogging_with_jupyter_notebooks.ipynb'),\n",
       " Path('pinboard.ipynb'),\n",
       " Path('monte_carlo_pi.ipynb'),\n",
       " Path('knn.ipynb'),\n",
       " Path('advent-of-code-2020.ipynb'),\n",
       " Path('covid_nsw_2021.ipynb'),\n",
       " Path('Advent-of-Code-2015.ipynb'),\n",
       " Path('monty_hall.ipynb')]"
      ]
     },
     "execution_count": 5,
     "metadata": {},
     "output_type": "execute_result"
    }
   ],
   "source": [
    "nb_paths = [\n",
    "        f for f in path_nb.rglob(\"*.ipynb\") if \".ipynb_checkpoints\" not in str(f)\n",
    "    ]\n",
    "nb_paths"
   ]
  },
  {
   "cell_type": "code",
   "execution_count": 10,
   "metadata": {},
   "outputs": [
    {
     "data": {
      "text/plain": [
       "Path('/Users/ko/code/blog/notebooks/monty_hall.ipynb')"
      ]
     },
     "execution_count": 10,
     "metadata": {},
     "output_type": "execute_result"
    }
   ],
   "source": [
    "p = nb_paths[-1]\n",
    "p.absolute()"
   ]
  },
  {
   "cell_type": "code",
   "execution_count": 18,
   "metadata": {},
   "outputs": [
    {
     "name": "stdout",
     "output_type": "stream",
     "text": [
      "converting: monty_hall.ipynb\n"
     ]
    }
   ],
   "source": [
    "export2html.notebook2html(p, dest=\"nbdev\", template_file=\"fastpages.tpl\", \n",
    "                          execute=False, force_all=True)"
   ]
  },
  {
   "cell_type": "code",
   "execution_count": 7,
   "metadata": {},
   "outputs": [
    {
     "name": "stdout",
     "output_type": "stream",
     "text": [
      "Converting 11 notebooks to markdown files.\n",
      "  0: converting flood_fill.ipynb\n"
     ]
    },
    {
     "ename": "AttributeError",
     "evalue": "'MarkdownExporter' object has no attribute 'template_path'",
     "output_type": "error",
     "traceback": [
      "\u001b[0;31m---------------------------------------------------------------------------\u001b[0m",
      "\u001b[0;31mAttributeError\u001b[0m                            Traceback (most recent call last)",
      "\u001b[0;32m<ipython-input-7-ba477e698daf>\u001b[0m in \u001b[0;36m<module>\u001b[0;34m\u001b[0m\n\u001b[1;32m      9\u001b[0m     \u001b[0mpath_img\u001b[0m \u001b[0;34m=\u001b[0m \u001b[0mpath_md\u001b[0m \u001b[0;34m/\u001b[0m \u001b[0;34mf\"{nb_path.stem}_files\"\u001b[0m\u001b[0;34m\u001b[0m\u001b[0;34m\u001b[0m\u001b[0m\n\u001b[1;32m     10\u001b[0m     \u001b[0mmake_folder\u001b[0m\u001b[0;34m(\u001b[0m\u001b[0mpath_img\u001b[0m\u001b[0;34m)\u001b[0m \u001b[0;31m# make _files folder inside markdown output folder\u001b[0m\u001b[0;34m\u001b[0m\u001b[0;34m\u001b[0m\u001b[0m\n\u001b[0;32m---> 11\u001b[0;31m     \u001b[0mconvert_md\u001b[0m\u001b[0;34m(\u001b[0m\u001b[0mnb_path\u001b[0m\u001b[0;34m,\u001b[0m \u001b[0mdest_path\u001b[0m\u001b[0;34m=\u001b[0m\u001b[0mpath_md\u001b[0m\u001b[0;34m,\u001b[0m \u001b[0mimg_path\u001b[0m\u001b[0;34m=\u001b[0m\u001b[0;32mNone\u001b[0m\u001b[0;34m,\u001b[0m \u001b[0mjekyll\u001b[0m\u001b[0;34m=\u001b[0m\u001b[0;32mTrue\u001b[0m\u001b[0;34m)\u001b[0m\u001b[0;34m\u001b[0m\u001b[0;34m\u001b[0m\u001b[0m\n\u001b[0m\u001b[1;32m     12\u001b[0m     \u001b[0;31m# remove extra empty files folder made by nbdev\u001b[0m\u001b[0;34m\u001b[0m\u001b[0;34m\u001b[0m\u001b[0;34m\u001b[0m\u001b[0m\n\u001b[1;32m     13\u001b[0m     \u001b[0mPath\u001b[0m\u001b[0;34m(\u001b[0m\u001b[0mpath_img\u001b[0m\u001b[0;34m.\u001b[0m\u001b[0mstem\u001b[0m\u001b[0;34m)\u001b[0m\u001b[0;34m.\u001b[0m\u001b[0mrmdir\u001b[0m\u001b[0;34m(\u001b[0m\u001b[0;34m)\u001b[0m\u001b[0;34m\u001b[0m\u001b[0;34m\u001b[0m\u001b[0m\n",
      "\u001b[0;32m~/anaconda3/envs/blog/lib/python3.8/site-packages/nbdev/export2html.py\u001b[0m in \u001b[0;36mconvert_md\u001b[0;34m(fname, dest_path, img_path, jekyll)\u001b[0m\n\u001b[1;32m    570\u001b[0m     \u001b[0mfname\u001b[0m \u001b[0;34m=\u001b[0m \u001b[0mPath\u001b[0m\u001b[0;34m(\u001b[0m\u001b[0mfname\u001b[0m\u001b[0;34m)\u001b[0m\u001b[0;34m.\u001b[0m\u001b[0mabsolute\u001b[0m\u001b[0;34m(\u001b[0m\u001b[0;34m)\u001b[0m\u001b[0;34m\u001b[0m\u001b[0;34m\u001b[0m\u001b[0m\n\u001b[1;32m    571\u001b[0m     \u001b[0mdest_name\u001b[0m \u001b[0;34m=\u001b[0m \u001b[0mfname\u001b[0m\u001b[0;34m.\u001b[0m\u001b[0mwith_suffix\u001b[0m\u001b[0;34m(\u001b[0m\u001b[0;34m'.md'\u001b[0m\u001b[0;34m)\u001b[0m\u001b[0;34m.\u001b[0m\u001b[0mname\u001b[0m\u001b[0;34m\u001b[0m\u001b[0;34m\u001b[0m\u001b[0m\n\u001b[0;32m--> 572\u001b[0;31m     \u001b[0mexp\u001b[0m \u001b[0;34m=\u001b[0m \u001b[0mnbdev_exporter\u001b[0m\u001b[0;34m(\u001b[0m\u001b[0mcls\u001b[0m\u001b[0;34m=\u001b[0m\u001b[0mMarkdownExporter\u001b[0m\u001b[0;34m,\u001b[0m \u001b[0mtemplate_file\u001b[0m\u001b[0;34m=\u001b[0m\u001b[0;34m'jekyll-md.tpl'\u001b[0m \u001b[0;32mif\u001b[0m \u001b[0mjekyll\u001b[0m \u001b[0;32melse\u001b[0m \u001b[0;34m'md.tpl'\u001b[0m\u001b[0;34m)\u001b[0m\u001b[0;34m\u001b[0m\u001b[0;34m\u001b[0m\u001b[0m\n\u001b[0m\u001b[1;32m    573\u001b[0m     \u001b[0mexport\u001b[0m \u001b[0;34m=\u001b[0m \u001b[0mexp\u001b[0m\u001b[0;34m.\u001b[0m\u001b[0mfrom_notebook_node\u001b[0m\u001b[0;34m(\u001b[0m\u001b[0mnb\u001b[0m\u001b[0;34m,\u001b[0m \u001b[0mresources\u001b[0m\u001b[0;34m=\u001b[0m\u001b[0mmeta_jekyll\u001b[0m\u001b[0;34m)\u001b[0m\u001b[0;34m\u001b[0m\u001b[0;34m\u001b[0m\u001b[0m\n\u001b[1;32m    574\u001b[0m     \u001b[0mmd\u001b[0m \u001b[0;34m=\u001b[0m \u001b[0mexport\u001b[0m\u001b[0;34m[\u001b[0m\u001b[0;36m0\u001b[0m\u001b[0;34m]\u001b[0m\u001b[0;34m\u001b[0m\u001b[0;34m\u001b[0m\u001b[0m\n",
      "\u001b[0;32m~/anaconda3/envs/blog/lib/python3.8/site-packages/nbdev/export2html.py\u001b[0m in \u001b[0;36mnbdev_exporter\u001b[0;34m(cls, template_file)\u001b[0m\n\u001b[1;32m    486\u001b[0m     \u001b[0mexporter\u001b[0m\u001b[0;34m.\u001b[0m\u001b[0manchor_link_text\u001b[0m \u001b[0;34m=\u001b[0m \u001b[0;34m' '\u001b[0m\u001b[0;34m\u001b[0m\u001b[0;34m\u001b[0m\u001b[0m\n\u001b[1;32m    487\u001b[0m     \u001b[0mexporter\u001b[0m\u001b[0;34m.\u001b[0m\u001b[0mtemplate_file\u001b[0m \u001b[0;34m=\u001b[0m \u001b[0;34m'jekyll.tpl'\u001b[0m \u001b[0;32mif\u001b[0m \u001b[0mtemplate_file\u001b[0m \u001b[0;32mis\u001b[0m \u001b[0;32mNone\u001b[0m \u001b[0;32melse\u001b[0m \u001b[0mtemplate_file\u001b[0m\u001b[0;34m\u001b[0m\u001b[0;34m\u001b[0m\u001b[0m\n\u001b[0;32m--> 488\u001b[0;31m     \u001b[0mexporter\u001b[0m\u001b[0;34m.\u001b[0m\u001b[0mtemplate_path\u001b[0m\u001b[0;34m.\u001b[0m\u001b[0mappend\u001b[0m\u001b[0;34m(\u001b[0m\u001b[0mstr\u001b[0m\u001b[0;34m(\u001b[0m\u001b[0mPath\u001b[0m\u001b[0;34m(\u001b[0m\u001b[0m__file__\u001b[0m\u001b[0;34m)\u001b[0m\u001b[0;34m.\u001b[0m\u001b[0mparent\u001b[0m\u001b[0;34m/\u001b[0m\u001b[0;34m'templates'\u001b[0m\u001b[0;34m)\u001b[0m\u001b[0;34m)\u001b[0m\u001b[0;34m\u001b[0m\u001b[0;34m\u001b[0m\u001b[0m\n\u001b[0m\u001b[1;32m    489\u001b[0m     \u001b[0;32mreturn\u001b[0m \u001b[0mexporter\u001b[0m\u001b[0;34m\u001b[0m\u001b[0;34m\u001b[0m\u001b[0m\n\u001b[1;32m    490\u001b[0m \u001b[0;34m\u001b[0m\u001b[0m\n",
      "\u001b[0;31mAttributeError\u001b[0m: 'MarkdownExporter' object has no attribute 'template_path'"
     ]
    }
   ],
   "source": [
    "nb_paths = [\n",
    "        f for f in path_nb.rglob(\"*.ipynb\") if \".ipynb_checkpoints\" not in str(f)\n",
    "    ]\n",
    "\n",
    "print(f\"Converting {len(nb_paths)} notebooks to markdown files.\")\n",
    "\n",
    "for i, nb_path in enumerate(nb_paths):\n",
    "    print(f\"{i:3}: converting {nb_path}\")\n",
    "    path_img = path_md / f\"{nb_path.stem}_files\"\n",
    "    make_folder(path_img) # make _files folder inside markdown output folder\n",
    "    convert_md(nb_path, dest_path=path_md, img_path=None, jekyll=True)\n",
    "    # remove extra empty files folder made by nbdev\n",
    "    Path(path_img.stem).rmdir()"
   ]
  },
  {
   "cell_type": "markdown",
   "metadata": {},
   "source": [
    "So now in the markdown output folder we have a list of `.md` files, with each file having a `_files` folder containing output artifacts for that notebook."
   ]
  },
  {
   "cell_type": "code",
   "execution_count": 10,
   "metadata": {},
   "outputs": [
    {
     "data": {
      "text/plain": [
       "['monte_carlo_pi_files',\n",
       " 'monty_hall.md',\n",
       " 'flood_fill_files',\n",
       " 'us_elections_2020_files',\n",
       " 'convert2md.md',\n",
       " 'Advent-of-Code-2015_files',\n",
       " 'Advent-of-Code-2015.md',\n",
       " 'knn_files',\n",
       " 'quicksort_files',\n",
       " 'blogging_with_jupyter_notebooks.md',\n",
       " 'blogging_with_jupyter_notebooks_files',\n",
       " 'knn.md',\n",
       " 'monte_carlo_pi.md',\n",
       " 'convert2md_files',\n",
       " 'flood_fill.md',\n",
       " 'us_elections_2020.md',\n",
       " 'quicksort.md',\n",
       " 'monty_hall_files']"
      ]
     },
     "execution_count": 10,
     "metadata": {},
     "output_type": "execute_result"
    }
   ],
   "source": [
    "os.listdir(path_md)"
   ]
  },
  {
   "cell_type": "markdown",
   "metadata": {},
   "source": [
    "## nbconvert\n",
    "\n",
    "Nbconvert is usually pre-installed with jupyter notebook, so testing that out as well:"
   ]
  },
  {
   "cell_type": "code",
   "execution_count": 8,
   "metadata": {},
   "outputs": [],
   "source": [
    "import nbformat\n",
    "from nbconvert import MarkdownExporter"
   ]
  },
  {
   "cell_type": "code",
   "execution_count": 10,
   "metadata": {},
   "outputs": [
    {
     "name": "stdout",
     "output_type": "stream",
     "text": [
      "converted flood_fill.ipynb\n",
      "converted knn.ipynb\n",
      "converted blogging_with_jupyter_notebooks.ipynb\n",
      "converted Advent-of-Code-2015.ipynb\n",
      "converted monty_hall.ipynb\n",
      "converted pinboard.ipynb\n",
      "converted advent-of-code-2020.ipynb\n",
      "converted quicksort.ipynb\n",
      "converted convert2md.ipynb\n",
      "converted monte_carlo_pi.ipynb\n"
     ]
    }
   ],
   "source": [
    "nb_paths = [\n",
    "        f for f in path_nb.rglob(\"*.ipynb\") if \".ipynb_checkpoints\" not in str(f)\n",
    "    ]\n",
    "\n",
    "for nb_path in nb_paths:\n",
    "    try:\n",
    "        os.system(f'jupyter nbconvert --to markdown {nb_path} --output-dir markdown')\n",
    "    except:\n",
    "        print(f\"failed to convert {nb_path}\")\n",
    "    \n",
    "    print(f\"converted {nb_path}\")\n",
    "    "
   ]
  },
  {
   "cell_type": "code",
   "execution_count": 58,
   "metadata": {},
   "outputs": [],
   "source": [
    "md_exporter = MarkdownExporter(config=c)"
   ]
  },
  {
   "cell_type": "code",
   "execution_count": 53,
   "metadata": {},
   "outputs": [
    {
     "data": {
      "text/plain": [
       "dict_keys(['output_3_0.png', 'output_7_0.png', 'output_7_1.png', 'output_7_2.png', 'output_7_3.png', 'output_7_4.png', 'output_7_5.png', 'output_7_6.png', 'output_7_7.png', 'output_7_8.png', 'output_7_9.png', 'output_7_10.png'])"
      ]
     },
     "execution_count": 53,
     "metadata": {},
     "output_type": "execute_result"
    }
   ],
   "source": [
    "resources[\"outputs\"].keys()"
   ]
  },
  {
   "cell_type": "code",
   "execution_count": 54,
   "metadata": {},
   "outputs": [
    {
     "data": {
      "image/png": "[encoded data removed]",
      "text/plain": [
       "<IPython.core.display.Image object>"
      ]
     },
     "execution_count": 54,
     "metadata": {},
     "output_type": "execute_result"
    }
   ],
   "source": [
    "from IPython.display import Image\n",
    "Image(data=resources['outputs']['output_3_0.png'], format='png')"
   ]
  },
  {
   "cell_type": "code",
   "execution_count": 57,
   "metadata": {},
   "outputs": [],
   "source": [
    "from traitlets.config import Config\n",
    "c = Config()\n",
    "#c.HTMLExporter.preprocessors = ['nbconvert.preprocessors.ExtractOutputPreprocessor']\n",
    "c.MarkdownExporter.preprocessors = ['nbconvert.preprocessors.ExtractOutputPreprocessor']\n"
   ]
  },
  {
   "cell_type": "code",
   "execution_count": 56,
   "metadata": {},
   "outputs": [],
   "source": []
  },
  {
   "cell_type": "code",
   "execution_count": null,
   "metadata": {},
   "outputs": [],
   "source": []
  }
 ],
 "metadata": {
  "kernelspec": {
   "display_name": "Python 3 (ipykernel)",
   "language": "python",
   "name": "python3"
  },
  "language_info": {
   "codemirror_mode": {
    "name": "ipython",
    "version": 3
   },
   "file_extension": ".py",
   "mimetype": "text/x-python",
   "name": "python",
   "nbconvert_exporter": "python",
   "pygments_lexer": "ipython3",
   "version": "3.9.6"
  }
 },
 "nbformat": 4,
 "nbformat_minor": 4
}
