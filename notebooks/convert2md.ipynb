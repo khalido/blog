{
 "metadata": {
  "language_info": {
   "codemirror_mode": {
    "name": "ipython",
    "version": 3
   },
   "file_extension": ".py",
   "mimetype": "text/x-python",
   "name": "python",
   "nbconvert_exporter": "python",
   "pygments_lexer": "ipython3",
   "version": "3.8.5-final"
  },
  "orig_nbformat": 2,
  "kernelspec": {
   "name": "python3",
   "display_name": "Python 3"
  }
 },
 "nbformat": 4,
 "nbformat_minor": 2,
 "cells": [
  {
   "source": [
    "# Jupyter notebooks to markdown\n",
    "> using nbdev to convert notebooks to markdown\n",
    "\n",
    "- date: 2020-11-10\n",
    "- tags: [python]"
   ],
   "cell_type": "markdown",
   "metadata": {}
  },
  {
   "source": [
    "This is very meta, but since I only update notebooks once in a while, this here notebook converts all the notebooks in the folder to markdown files and images, which are used to build the blog posts on the site.\n",
    "\n",
    "The main reason to do this is to save time when rebuilding the blog on github pages, as installing nbdev and converting all the notebooks takes a while.\n",
    "\n",
    "Later on could add an option to the config to either build notebooks on each build or to just read the converted markdown files.\n"
   ],
   "cell_type": "markdown",
   "metadata": {}
  },
  {
   "cell_type": "code",
   "execution_count": 7,
   "metadata": {},
   "outputs": [],
   "source": [
    "#collapse-hide\n",
    "import os\n",
    "from pathlib import Path\n",
    "from nbdev.export2html import convert_md"
   ]
  },
  {
   "source": [
    "Settings used:"
   ],
   "cell_type": "markdown",
   "metadata": {}
  },
  {
   "cell_type": "code",
   "execution_count": 62,
   "metadata": {},
   "outputs": [
    {
     "output_type": "execute_result",
     "data": {
      "text/plain": [
       "(Path('.'), Path('markdown'), 'markdown')"
      ]
     },
     "metadata": {},
     "execution_count": 62
    }
   ],
   "source": [
    "path_nb: Path = Path(\".\") # convert notebook is in the notebooks folder\n",
    "\n",
    "path_md = path_nb / \"markdown\"\n",
    "path_nb, path_md, str(path_md)"
   ]
  },
  {
   "source": [
    "helper functions:"
   ],
   "cell_type": "markdown",
   "metadata": {}
  },
  {
   "cell_type": "code",
   "execution_count": 46,
   "metadata": {},
   "outputs": [],
   "source": [
    "def make_folder(path, debug: bool = False):\n",
    "    \"\"\"makes parent folders if they don't exist for a path\"\"\"\n",
    "\n",
    "    # assume the last thing is a file if there is a dot in the name\n",
    "    if \".\" in path.name:\n",
    "        path = path.parent\n",
    "\n",
    "    try:\n",
    "        path.mkdir(parents=True, exist_ok=False)\n",
    "        if debug:\n",
    "            print(f\"{path} folder made\")\n",
    "    except FileExistsError:\n",
    "        if debug:\n",
    "            print(f\"{path} folder already exists\")\n",
    "        pass"
   ]
  },
  {
   "source": [
    "Now to convert all the jupyter notebooks to markdown files:"
   ],
   "cell_type": "markdown",
   "metadata": {}
  },
  {
   "cell_type": "code",
   "execution_count": 94,
   "metadata": {},
   "outputs": [
    {
     "output_type": "stream",
     "name": "stdout",
     "text": [
      "Converting 9 notebooks to markdown files.\n",
      "converting flood_fill.ipynb\n",
      "converting knn.ipynb\n",
      "converting blogging_with_jupyter_notebooks.ipynb\n",
      "converting Advent-of-Code-2015.ipynb\n",
      "converting monty_hall.ipynb\n",
      "converting quicksort.ipynb\n",
      "converting convert2md.ipynb\n",
      "converting us_elections_2020.ipynb\n",
      "converting monte_carlo_pi.ipynb\n"
     ]
    }
   ],
   "source": [
    "nb_paths = [\n",
    "        f for f in path_nb.rglob(\"*.ipynb\") if \".ipynb_checkpoints\" not in str(f)\n",
    "    ]\n",
    "\n",
    "print(f\"Converting {len(nb_paths)} notebooks to markdown files.\")\n",
    "\n",
    "for nb_path in nb_paths:\n",
    "    print(f\"converting {nb_path}\")\n",
    "    path_img = path_md / f\"{nb_path.stem}_files\"\n",
    "    make_folder(path_img) # make _files folder inside markdown output folder\n",
    "    convert_md(nb_path, dest_path=path_md, img_path=None, jekyll=True)\n",
    "    # remove extra empty files folder made by nbdev\n",
    "    Path(path_img.stem).rmdir()"
   ]
  },
  {
   "source": [
    "So now in the markdown output folder we have a list of `.md` files, with each file having a `_files` folder containing output artifacts for that notebook."
   ],
   "cell_type": "markdown",
   "metadata": {}
  },
  {
   "cell_type": "code",
   "execution_count": 101,
   "metadata": {},
   "outputs": [
    {
     "output_type": "execute_result",
     "data": {
      "text/plain": [
       "['monte_carlo_pi_files',\n",
       " 'monty_hall.md',\n",
       " 'flood_fill_files',\n",
       " 'us_elections_2020_files',\n",
       " 'convert2md.md',\n",
       " 'Advent-of-Code-2015_files',\n",
       " 'Advent-of-Code-2015.md',\n",
       " 'knn_files',\n",
       " 'quicksort_files',\n",
       " 'blogging_with_jupyter_notebooks.md',\n",
       " 'blogging_with_jupyter_notebooks_files',\n",
       " 'knn.md',\n",
       " 'monte_carlo_pi.md',\n",
       " 'convert2md_files',\n",
       " 'flood_fill.md',\n",
       " 'us_elections_2020.md',\n",
       " 'quicksort.md',\n",
       " 'monty_hall_files']"
      ]
     },
     "metadata": {},
     "execution_count": 101
    }
   ],
   "source": [
    "os.listdir(path_md)"
   ]
  },
  {
   "source": [
    "Taking a look at a sample md file:"
   ],
   "cell_type": "markdown",
   "metadata": {}
  },
  {
   "cell_type": "code",
   "execution_count": 107,
   "metadata": {},
   "outputs": [
    {
     "output_type": "stream",
     "name": "stdout",
     "text": [
      "---\ntitle: Monty Hall\n\ndate: 2019-07-05\ntags: [python]\nsummary: \"Monty Hall brain teaser\"\ndescription: \"Monty Hall brain teaser\"\n---\n\n\nThe famous [Monty Hall brain teaser](https://en.wikipedia.org/wiki/Monty_Hall_problem):\n> Suppose you're on a game show, and you're given the choice of three doors:Behind one door is a car; behind the others, goats. You pick a door, say No. 1, and the host, who knows what's behind the doors, opens another door, say No. 3, which has a goat. He then says to you, \"Do you want to pick door No. 2?\" Is it to your advantage to switch your choice?\nThere is a really [fun discussion over at Marilyn vos Savant's site](http://marilynvossavant.com/game-show-problem/).\n\nOk, now to setup the problem, along with some kind of visuals and what not.\n\n## setting up a game\n\nThere are many ways to do this, but to keep it simple and human comprehensible I'm going to do it one game at a time. \n\nFirst up, a helper function which takes the door number guessed and the door opened up the host to reveal a goat, and returns the switched door:\n<div class=\"codecell\" markdown=\"1\">\n<div class=\"input_area\" markdown=\"1\">\n\n```python\ndef switch_door(guess, goat_door_opened):\n    \"\"\"takes in the guessed door and the goat door opened\n    and returns the switched door number\"\"\"\n    doors = [0,1,2]\n    doors.remove(goat_door_opened)\n    doors.remove(guess)\n    return doors[0]\n```\n\n</div>\n\n</div>\n\nNow the actual monty hall function - it takes in a guess and whether you want to switch your guess, and returns True or False depending on whether you win\n<div class=\"codecell\" markdown=\"1\">\n<div class=\"input_area\" markdown=\"1\">\n\n```python\ndef monty_hall(guess=0, switch_guess=False, open_goat_door=True):\n    \"\"\"sets up 3 doors 0-2, one which has a pize, and 2 have goats.\n    takes in the door number guessed by the player and whether he/she switched door\n    after one goat door is revealed\"\"\"\n    \n    doors = [door for door in range(3)]\n    np.random.shuffle(doors)\n    prize_door = doors.pop()\n    \n    goat_door_opened = doors[0]\n    \n    if goat_door_opened == guess:\n        goat_door_opened = doors[1]\n        \n    if switch_guess:\n        return switch_door(guess, goat_door_opened) == prize_door\n    else:\n        return guess == prize_door\n```\n\n</div>\n\n</div>\n\nNow to run through a bunch of monty hall games:\n<div class=\"codecell\" markdown=\"1\">\n<div class=\"input_area\" markdown=\"1\">\n\n```python\nno_switch = np.mean([monty_hall(random.randint(0,2), False) for _ in range(100000)])\nno_switch\n```\n\n</div>\n<div class=\"output_area\" markdown=\"1\">\n\n\n\n\n    0.33196\n\n\n\n</div>\n\n</div>\n\nNot switching doors wins a third of the time, which makes intuitive sense, since we are choosing one door out of three.\n<div class=\"codecell\" markdown=\"1\">\n<div class=\"input_area\" markdown=\"1\">\n\n```python\nyes_switch = np.mean([monty_hall(random.randint(0,2), True) for _ in range(100000)])\nyes_switch\n```\n\n</div>\n<div class=\"output_area\" markdown=\"1\">\n\n\n\n\n    0.66534\n\n\n\n</div>\n\n</div>\n\nThis is the suprising result, since switching our guess increases the win rate to two third! To put it more graphically:\n<div class=\"codecell\" markdown=\"1\">\n<div class=\"input_area\" markdown=\"1\">\n<details class=\"description\">\n    <summary>Code details ...</summary>\n    \n```python\n#collapse-hide\nfig, ax = plt.subplots(figsize=(8,8))\nax.set_title(\"Switching\", fontsize=16)\nax.pie([yes_switch, no_switch], labels=[\"Switching win %\", \"Not switching win %\"],\n       autopct='%1.1f%%', explode=(0, 0.05));\n```\n\n</details>\n\n</div>\n<div class=\"output_area\" markdown=\"1\">\n\n\n![svg](monty_hall_files/output_10_0.svg)\n\n\n</div>\n\n</div>\n\nSo our chances of winning essentially double if we switch our guess once a goat door has been opened.\n\nThis is a good [monty hall infographic](https://somethingaweek.wordpress.com/2010/08/19/22-lets-make-a-deal/).\n\n## the no reveal month\n\nSo what if Monty never opens a goat door, and just gives us a change to switch the guessed door? Does the winning % still change?\n\nSo first we change the switch door function to remove the reveal option:\n<div class=\"codecell\" markdown=\"1\">\n<div class=\"input_area\" markdown=\"1\">\n\n```python\ndef switch_door_no_revel(guess):\n    \"\"\"takes in the guessed door\n    and returns the switched door number\"\"\"\n    doors = [0,1,2]\n    doors.remove(guess)\n    np.random.shuffle(doors)\n    return doors[0]\n```\n\n</div>\n\n</div>\n\nThen I removed the revealing the goat door code from the original monty hall function above:\n<div class=\"codecell\" markdown=\"1\">\n<div class=\"input_area\" markdown=\"1\">\n\n```python\ndef monty_hall_no_reveal(guess=0, switch_guess=False):\n    \"\"\"sets up 3 doors 0-2, one which has a pize, and 2 have goats.\n    takes in the door number guessed by the player and whether he/she switched door\n    \"\"\"\n    \n    doors = [door for door in range(3)]\n    np.random.shuffle(doors)\n    prize_door = doors.pop()\n        \n    if switch_guess:\n        return switch_door_no_revel(guess) == prize_door\n    else:\n        return guess == prize_door\n```\n\n</div>\n\n</div>\n\nNow to run some sims:\n<div class=\"codecell\" markdown=\"1\">\n<div class=\"input_area\" markdown=\"1\">\n\n```python\nno_switch_no_reveal = np.mean([monty_hall_no_reveal(random.randint(0,2), False) for _ in range(100000)])\nyes_switch_no_reveal = np.mean([monty_hall_no_reveal(random.randint(0,2), True) for _ in range(100000)])\n```\n\n</div>\n\n</div>\n<div class=\"codecell\" markdown=\"1\">\n<div class=\"input_area\" markdown=\"1\">\n\n```python\nplt.bar([0,1], [yes_switch_no_reveal, no_switch_no_reveal], \ntick_label=[\"Switched Guess\",\"Didn't Switch\"], color=[\"blue\",\"red\"], alpha=0.7)\nprint(\"Switching a door if a goat door hasn't been revealed\")\n```\n\n</div>\n<div class=\"output_area\" markdown=\"1\">\n\n    Switching a door if a goat door hasn't been revealed\n\n\n\n![svg](monty_hall_files/output_18_1.svg)\n\n\n</div>\n\n</div>\n\nThere is no impact of switching our guess if a goat door hasn't been revealed. Which makes sense to, since whatever door we choose, it has 1/3 probablity of winning. \n\n"
     ]
    }
   ],
   "source": [
    "txt = [p for p in path_md.rglob(\"*.md\")][0].read_text()\n",
    "print(txt[:100])"
   ]
  },
  {
   "cell_type": "code",
   "execution_count": null,
   "metadata": {},
   "outputs": [],
   "source": []
  }
 ]
}