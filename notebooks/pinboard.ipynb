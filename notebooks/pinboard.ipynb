{
 "metadata": {
  "language_info": {
   "codemirror_mode": {
    "name": "ipython",
    "version": 3
   },
   "file_extension": ".py",
   "mimetype": "text/x-python",
   "name": "python",
   "nbconvert_exporter": "python",
   "pygments_lexer": "ipython3",
   "version": "3.8.5-final"
  },
  "orig_nbformat": 2,
  "kernelspec": {
   "name": "python3",
   "display_name": "Python 3"
  }
 },
 "nbformat": 4,
 "nbformat_minor": 2,
 "cells": [
  {
   "source": [
    "---\n",
    "title: Pinboard API\n",
    "description: using the pinboard api to download all my links and notes\n",
    "date: 2020-11-14\n",
    "tags:\n",
    "- python\n",
    "---"
   ],
   "cell_type": "markdown",
   "metadata": {}
  },
  {
   "source": [
    "I test out the pinboard api to:\n",
    "\n",
    "- download all my data\n",
    "- use the api to grab the most recent data since the last time\n",
    "- integrate it all into one big database of sorts\n",
    "- chuck in into my blog in all the right places.\n",
    "\n",
    "Some issues:\n",
    "- I have too many tags on pinboard, so that will litter my blog with too many unwanted pages. Rationalize all the different tags.\n",
    "- should these links integrate with the main blog or go elsewhere under a links section.\n",
    "\n",
    "Inspired by how [kottke.org](https://kottke.org/) has links to interesting stuff as well as blog posts."
   ],
   "cell_type": "markdown",
   "metadata": {}
  },
  {
   "cell_type": "code",
   "execution_count": null,
   "metadata": {},
   "outputs": [],
   "source": []
  }
 ]
}