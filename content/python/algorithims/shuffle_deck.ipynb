{
 "cells": [
  {
   "cell_type": "markdown",
   "metadata": {},
   "source": [
    "Using [Wikipedia's standard card deck definition](https://en.wikipedia.org/wiki/Standard_52-card_deck) I used two character string per card, with the first character being the rank of the card (2-10,JQKA) and the second being the suit.\n",
    "\n",
    "So we end up with a list of 52 two character strings: "
   ]
  },
  {
   "cell_type": "code",
   "execution_count": 3,
   "metadata": {},
   "outputs": [
    {
     "name": "stdout",
     "output_type": "stream",
     "text": [
      "['2S', '2H', '2D', '2C', '3S', '3H', '3D', '3C', '4S', '4H', '4D', '4C', '5S', '5H', '5D', '5C', '6S', '6H', '6D', '6C', '7S', '7H', '7D', '7C', '8S', '8H', '8D', '8C', '9S', '9H', '9D', '9C', 'TS', 'TH', 'TD', 'TC', 'JS', 'JH', 'JD', 'JC', 'QS', 'QH', 'QD', 'QC', 'KS', 'KH', 'KD', 'KC', 'AS', 'AH', 'AD', 'AC']\n"
     ]
    }
   ],
   "source": [
    "deck = [rank + suit for rank in '23456789TJQKA' for suit in 'SHDC']\n",
    "print(deck)"
   ]
  },
  {
   "cell_type": "markdown",
   "metadata": {},
   "source": [
    "Now to shuffle and deal cards from the deck:"
   ]
  },
  {
   "cell_type": "code",
   "execution_count": 40,
   "metadata": {},
   "outputs": [
    {
     "data": {
      "text/plain": [
       "[['AS', '8C', '8H', 'TD', '7C'],\n",
       " ['3D', 'JH', 'KC', '7S', 'TC'],\n",
       " ['AH', '5H', 'KD', '3C', 'QD']]"
      ]
     },
     "execution_count": 40,
     "metadata": {},
     "output_type": "execute_result"
    }
   ],
   "source": [
    "import random\n",
    "\n",
    "def deal(numhands=1, n=5, deck=[r+s for r in '23456789TJQKA' for s in 'SHDC']):\n",
    "    \"\"\"takes in numhands, and optionaly a deck, shuffles and returns a list of numhands hands\"\"\"\n",
    "    assert numhands*n <= len(deck), \"you're trying to deal more cards then are in the deck\"    \n",
    "    random.shuffle(deck)\n",
    "    return [deck[i*n:n*(i+1)] for i in range(numhands)]\n",
    "\n",
    "deal(3)"
   ]
  },
  {
   "cell_type": "markdown",
   "metadata": {},
   "source": [
    "## more\n",
    "\n",
    "- use [Unicode](https://en.wikipedia.org/wiki/Playing_cards_in_Unicode) to represent card hands directly."
   ]
  },
  {
   "cell_type": "code",
   "execution_count": null,
   "metadata": {
    "collapsed": true
   },
   "outputs": [],
   "source": []
  }
 ],
 "metadata": {
  "kernelspec": {
   "display_name": "Python 3",
   "language": "python",
   "name": "python3"
  },
  "language_info": {
   "codemirror_mode": {
    "name": "ipython",
    "version": 3
   },
   "file_extension": ".py",
   "mimetype": "text/x-python",
   "name": "python",
   "nbconvert_exporter": "python",
   "pygments_lexer": "ipython3",
   "version": "3.6.1"
  }
 },
 "nbformat": 4,
 "nbformat_minor": 2
}
