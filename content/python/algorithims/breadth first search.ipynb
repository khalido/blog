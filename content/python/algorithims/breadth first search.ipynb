{
 "cells": [
  {
   "cell_type": "markdown",
   "metadata": {},
   "source": [
    "First, we need a graph. A graph is just a bunch of objects, typically called nodes which are connected to each other. The connections are called edges, and can have a direction, like Tom owes money to Andy, or can be non-directional, like a road connecting two cities.\n",
    "\n",
    "A graph is a collection of nodes and edges. The BFS algo can tell us if two nodes are connected, and finds the shortest path b/w them."
   ]
  },
  {
   "cell_type": "code",
   "execution_count": 226,
   "metadata": {
    "collapsed": true
   },
   "outputs": [],
   "source": [
    "%matplotlib inline\n",
    "import numpy as np\n",
    "import pandas as pd\n",
    "import matplotlib.pyplot as plt\n",
    "from geopy.distance import great_circle\n",
    "from collections import deque"
   ]
  },
  {
   "cell_type": "markdown",
   "metadata": {},
   "source": [
    "# Date to make a graph with\n",
    "\n",
    "To make the graph interesting, I am using the [airlines and route information database from openflights.org](https://openflights.org/data.html).\n",
    "\n",
    "So we have two datasets, one about airports, and one about routes b/w airports. For the purpose of the graph, the airports are the nodes, and the routes are the edges b/w them. The routes have a direction, and the cost or weight of the route is the distance.\n",
    "\n",
    "## Nodes aka Airports"
   ]
  },
  {
   "cell_type": "code",
   "execution_count": 500,
   "metadata": {},
   "outputs": [
    {
     "name": "stdout",
     "output_type": "stream",
     "text": [
      "There are 7184 airports\n"
     ]
    },
    {
     "data": {
      "text/html": [
       "<div>\n",
       "<table border=\"1\" class=\"dataframe\">\n",
       "  <thead>\n",
       "    <tr style=\"text-align: right;\">\n",
       "      <th></th>\n",
       "      <th>Name</th>\n",
       "      <th>City</th>\n",
       "      <th>Country</th>\n",
       "      <th>IATA</th>\n",
       "      <th>ICAO</th>\n",
       "      <th>Latitude</th>\n",
       "      <th>Longitude</th>\n",
       "      <th>Altitude</th>\n",
       "      <th>Timezone</th>\n",
       "      <th>DST</th>\n",
       "      <th>Tz database</th>\n",
       "      <th>Type</th>\n",
       "      <th>Source</th>\n",
       "    </tr>\n",
       "    <tr>\n",
       "      <th>Airport ID</th>\n",
       "      <th></th>\n",
       "      <th></th>\n",
       "      <th></th>\n",
       "      <th></th>\n",
       "      <th></th>\n",
       "      <th></th>\n",
       "      <th></th>\n",
       "      <th></th>\n",
       "      <th></th>\n",
       "      <th></th>\n",
       "      <th></th>\n",
       "      <th></th>\n",
       "      <th></th>\n",
       "    </tr>\n",
       "  </thead>\n",
       "  <tbody>\n",
       "    <tr>\n",
       "      <th>1</th>\n",
       "      <td>Goroka Airport</td>\n",
       "      <td>Goroka</td>\n",
       "      <td>Papua New Guinea</td>\n",
       "      <td>GKA</td>\n",
       "      <td>AYGA</td>\n",
       "      <td>-6.081690</td>\n",
       "      <td>145.391998</td>\n",
       "      <td>5282</td>\n",
       "      <td>10</td>\n",
       "      <td>U</td>\n",
       "      <td>Pacific/Port_Moresby</td>\n",
       "      <td>airport</td>\n",
       "      <td>OurAirports</td>\n",
       "    </tr>\n",
       "    <tr>\n",
       "      <th>2</th>\n",
       "      <td>Madang Airport</td>\n",
       "      <td>Madang</td>\n",
       "      <td>Papua New Guinea</td>\n",
       "      <td>MAG</td>\n",
       "      <td>AYMD</td>\n",
       "      <td>-5.207080</td>\n",
       "      <td>145.789001</td>\n",
       "      <td>20</td>\n",
       "      <td>10</td>\n",
       "      <td>U</td>\n",
       "      <td>Pacific/Port_Moresby</td>\n",
       "      <td>airport</td>\n",
       "      <td>OurAirports</td>\n",
       "    </tr>\n",
       "    <tr>\n",
       "      <th>3</th>\n",
       "      <td>Mount Hagen Kagamuga Airport</td>\n",
       "      <td>Mount Hagen</td>\n",
       "      <td>Papua New Guinea</td>\n",
       "      <td>HGU</td>\n",
       "      <td>AYMH</td>\n",
       "      <td>-5.826790</td>\n",
       "      <td>144.296005</td>\n",
       "      <td>5388</td>\n",
       "      <td>10</td>\n",
       "      <td>U</td>\n",
       "      <td>Pacific/Port_Moresby</td>\n",
       "      <td>airport</td>\n",
       "      <td>OurAirports</td>\n",
       "    </tr>\n",
       "    <tr>\n",
       "      <th>4</th>\n",
       "      <td>Nadzab Airport</td>\n",
       "      <td>Nadzab</td>\n",
       "      <td>Papua New Guinea</td>\n",
       "      <td>LAE</td>\n",
       "      <td>AYNZ</td>\n",
       "      <td>-6.569803</td>\n",
       "      <td>146.725977</td>\n",
       "      <td>239</td>\n",
       "      <td>10</td>\n",
       "      <td>U</td>\n",
       "      <td>Pacific/Port_Moresby</td>\n",
       "      <td>airport</td>\n",
       "      <td>OurAirports</td>\n",
       "    </tr>\n",
       "    <tr>\n",
       "      <th>5</th>\n",
       "      <td>Port Moresby Jacksons International Airport</td>\n",
       "      <td>Port Moresby</td>\n",
       "      <td>Papua New Guinea</td>\n",
       "      <td>POM</td>\n",
       "      <td>AYPY</td>\n",
       "      <td>-9.443380</td>\n",
       "      <td>147.220001</td>\n",
       "      <td>146</td>\n",
       "      <td>10</td>\n",
       "      <td>U</td>\n",
       "      <td>Pacific/Port_Moresby</td>\n",
       "      <td>airport</td>\n",
       "      <td>OurAirports</td>\n",
       "    </tr>\n",
       "  </tbody>\n",
       "</table>\n",
       "</div>"
      ],
      "text/plain": [
       "                                                   Name          City  \\\n",
       "Airport ID                                                              \n",
       "1                                        Goroka Airport        Goroka   \n",
       "2                                        Madang Airport        Madang   \n",
       "3                          Mount Hagen Kagamuga Airport   Mount Hagen   \n",
       "4                                        Nadzab Airport        Nadzab   \n",
       "5           Port Moresby Jacksons International Airport  Port Moresby   \n",
       "\n",
       "                     Country IATA  ICAO  Latitude   Longitude  Altitude  \\\n",
       "Airport ID                                                                \n",
       "1           Papua New Guinea  GKA  AYGA -6.081690  145.391998      5282   \n",
       "2           Papua New Guinea  MAG  AYMD -5.207080  145.789001        20   \n",
       "3           Papua New Guinea  HGU  AYMH -5.826790  144.296005      5388   \n",
       "4           Papua New Guinea  LAE  AYNZ -6.569803  146.725977       239   \n",
       "5           Papua New Guinea  POM  AYPY -9.443380  147.220001       146   \n",
       "\n",
       "           Timezone DST           Tz database     Type       Source  \n",
       "Airport ID                                                           \n",
       "1                10   U  Pacific/Port_Moresby  airport  OurAirports  \n",
       "2                10   U  Pacific/Port_Moresby  airport  OurAirports  \n",
       "3                10   U  Pacific/Port_Moresby  airport  OurAirports  \n",
       "4                10   U  Pacific/Port_Moresby  airport  OurAirports  \n",
       "5                10   U  Pacific/Port_Moresby  airport  OurAirports  "
      ]
     },
     "execution_count": 500,
     "metadata": {},
     "output_type": "execute_result"
    }
   ],
   "source": [
    "cols = [\"Airport ID\", \"Name\", \"City\", \"Country\", \"IATA\", \"ICAO\", \"Latitude\", \"Longitude\", \"Altitude\",\n",
    "        \"Timezone\", \"DST\", \"Tz database\", \"Type\", \"Source\"]\n",
    "airports = pd.read_csv(\"data/airports.dat\", header=None, names=cols, index_col=0)\n",
    "print(f\"There are {airports.shape[0]} airports\")\n",
    "airports.head()"
   ]
  },
  {
   "cell_type": "markdown",
   "metadata": {},
   "source": [
    "Step one is is to get rid of all the info we don't need for our graph.\n",
    "\n",
    "So for Airports, I am just keeping:\n",
    "- **Airport ID**, Unique OpenFlights identifier\n",
    "- **City**\n",
    "- **Country**\n",
    "- **Latitude/Longitude**"
   ]
  },
  {
   "cell_type": "code",
   "execution_count": 501,
   "metadata": {},
   "outputs": [
    {
     "name": "stdout",
     "output_type": "stream",
     "text": [
      "There are 7184 airports\n"
     ]
    },
    {
     "data": {
      "text/html": [
       "<div>\n",
       "<table border=\"1\" class=\"dataframe\">\n",
       "  <thead>\n",
       "    <tr style=\"text-align: right;\">\n",
       "      <th></th>\n",
       "      <th>City</th>\n",
       "      <th>Country</th>\n",
       "      <th>Latitude</th>\n",
       "      <th>Longitude</th>\n",
       "    </tr>\n",
       "    <tr>\n",
       "      <th>Airport ID</th>\n",
       "      <th></th>\n",
       "      <th></th>\n",
       "      <th></th>\n",
       "      <th></th>\n",
       "    </tr>\n",
       "  </thead>\n",
       "  <tbody>\n",
       "    <tr>\n",
       "      <th>1</th>\n",
       "      <td>Goroka</td>\n",
       "      <td>Papua New Guinea</td>\n",
       "      <td>-6.081690</td>\n",
       "      <td>145.391998</td>\n",
       "    </tr>\n",
       "    <tr>\n",
       "      <th>2</th>\n",
       "      <td>Madang</td>\n",
       "      <td>Papua New Guinea</td>\n",
       "      <td>-5.207080</td>\n",
       "      <td>145.789001</td>\n",
       "    </tr>\n",
       "    <tr>\n",
       "      <th>3</th>\n",
       "      <td>Mount Hagen</td>\n",
       "      <td>Papua New Guinea</td>\n",
       "      <td>-5.826790</td>\n",
       "      <td>144.296005</td>\n",
       "    </tr>\n",
       "    <tr>\n",
       "      <th>4</th>\n",
       "      <td>Nadzab</td>\n",
       "      <td>Papua New Guinea</td>\n",
       "      <td>-6.569803</td>\n",
       "      <td>146.725977</td>\n",
       "    </tr>\n",
       "    <tr>\n",
       "      <th>5</th>\n",
       "      <td>Port Moresby</td>\n",
       "      <td>Papua New Guinea</td>\n",
       "      <td>-9.443380</td>\n",
       "      <td>147.220001</td>\n",
       "    </tr>\n",
       "  </tbody>\n",
       "</table>\n",
       "</div>"
      ],
      "text/plain": [
       "                    City           Country  Latitude   Longitude\n",
       "Airport ID                                                      \n",
       "1                 Goroka  Papua New Guinea -6.081690  145.391998\n",
       "2                 Madang  Papua New Guinea -5.207080  145.789001\n",
       "3            Mount Hagen  Papua New Guinea -5.826790  144.296005\n",
       "4                 Nadzab  Papua New Guinea -6.569803  146.725977\n",
       "5           Port Moresby  Papua New Guinea -9.443380  147.220001"
      ]
     },
     "execution_count": 501,
     "metadata": {},
     "output_type": "execute_result"
    }
   ],
   "source": [
    "# dropping the columns we don't need\n",
    "keep_cols = [\"City\", \"Country\", \"Latitude\", \"Longitude\"]\n",
    "airports = airports[keep_cols]\n",
    "print(f\"There are {airports.shape[0]} airports\")\n",
    "airports.head()"
   ]
  },
  {
   "cell_type": "code",
   "execution_count": 502,
   "metadata": {},
   "outputs": [
    {
     "data": {
      "text/plain": [
       "(7140, 4)"
      ]
     },
     "execution_count": 502,
     "metadata": {},
     "output_type": "execute_result"
    }
   ],
   "source": [
    "# getting rid of null values\n",
    "airports = airports.dropna(axis=0)\n",
    "airports.shape"
   ]
  },
  {
   "cell_type": "markdown",
   "metadata": {},
   "source": [
    "## Edges, aka routes flown\n",
    "\n",
    "The second dataset is the routes flown by airlines.\n",
    "\n",
    "> As of January 2012, the OpenFlights/Airline Route Mapper Route Database contains 59036 routes between 3209 airports on 531 airlines spanning the globe, as shown in the map above. "
   ]
  },
  {
   "cell_type": "code",
   "execution_count": 331,
   "metadata": {},
   "outputs": [
    {
     "name": "stdout",
     "output_type": "stream",
     "text": [
      "There are 67663 routes\n"
     ]
    },
    {
     "data": {
      "text/html": [
       "<div>\n",
       "<table border=\"1\" class=\"dataframe\">\n",
       "  <thead>\n",
       "    <tr style=\"text-align: right;\">\n",
       "      <th></th>\n",
       "      <th>Airline</th>\n",
       "      <th>Airline ID</th>\n",
       "      <th>Source airport</th>\n",
       "      <th>Source Airport ID</th>\n",
       "      <th>Destination airport</th>\n",
       "      <th>Dest Airport ID</th>\n",
       "      <th>Codeshare</th>\n",
       "      <th>Stops</th>\n",
       "      <th>Equipment</th>\n",
       "    </tr>\n",
       "  </thead>\n",
       "  <tbody>\n",
       "    <tr>\n",
       "      <th>0</th>\n",
       "      <td>2B</td>\n",
       "      <td>410</td>\n",
       "      <td>AER</td>\n",
       "      <td>2965</td>\n",
       "      <td>KZN</td>\n",
       "      <td>2990</td>\n",
       "      <td>NaN</td>\n",
       "      <td>0</td>\n",
       "      <td>CR2</td>\n",
       "    </tr>\n",
       "    <tr>\n",
       "      <th>1</th>\n",
       "      <td>2B</td>\n",
       "      <td>410</td>\n",
       "      <td>ASF</td>\n",
       "      <td>2966</td>\n",
       "      <td>KZN</td>\n",
       "      <td>2990</td>\n",
       "      <td>NaN</td>\n",
       "      <td>0</td>\n",
       "      <td>CR2</td>\n",
       "    </tr>\n",
       "    <tr>\n",
       "      <th>2</th>\n",
       "      <td>2B</td>\n",
       "      <td>410</td>\n",
       "      <td>ASF</td>\n",
       "      <td>2966</td>\n",
       "      <td>MRV</td>\n",
       "      <td>2962</td>\n",
       "      <td>NaN</td>\n",
       "      <td>0</td>\n",
       "      <td>CR2</td>\n",
       "    </tr>\n",
       "    <tr>\n",
       "      <th>3</th>\n",
       "      <td>2B</td>\n",
       "      <td>410</td>\n",
       "      <td>CEK</td>\n",
       "      <td>2968</td>\n",
       "      <td>KZN</td>\n",
       "      <td>2990</td>\n",
       "      <td>NaN</td>\n",
       "      <td>0</td>\n",
       "      <td>CR2</td>\n",
       "    </tr>\n",
       "    <tr>\n",
       "      <th>4</th>\n",
       "      <td>2B</td>\n",
       "      <td>410</td>\n",
       "      <td>CEK</td>\n",
       "      <td>2968</td>\n",
       "      <td>OVB</td>\n",
       "      <td>4078</td>\n",
       "      <td>NaN</td>\n",
       "      <td>0</td>\n",
       "      <td>CR2</td>\n",
       "    </tr>\n",
       "  </tbody>\n",
       "</table>\n",
       "</div>"
      ],
      "text/plain": [
       "  Airline Airline ID Source airport Source Airport ID Destination airport  \\\n",
       "0      2B        410            AER              2965                 KZN   \n",
       "1      2B        410            ASF              2966                 KZN   \n",
       "2      2B        410            ASF              2966                 MRV   \n",
       "3      2B        410            CEK              2968                 KZN   \n",
       "4      2B        410            CEK              2968                 OVB   \n",
       "\n",
       "  Dest Airport ID Codeshare  Stops Equipment  \n",
       "0            2990       NaN      0       CR2  \n",
       "1            2990       NaN      0       CR2  \n",
       "2            2962       NaN      0       CR2  \n",
       "3            2990       NaN      0       CR2  \n",
       "4            4078       NaN      0       CR2  "
      ]
     },
     "execution_count": 331,
     "metadata": {},
     "output_type": "execute_result"
    }
   ],
   "source": [
    "cols = [\"Airline\", \"Airline ID\", \"Source airport\", \"Source Airport ID\", \"Destination airport\",\n",
    "        \"Dest Airport ID\", \"Codeshare\", \"Stops\", \"Equipment\"]\n",
    "routes = pd.read_csv(\"data/routes.dat\", header=None, names=cols)\n",
    "print(f\"There are {routes.shape[0]} routes\")\n",
    "routes.head()"
   ]
  },
  {
   "cell_type": "markdown",
   "metadata": {},
   "source": [
    "We just need:\n",
    "\n",
    "- **Airline ID**: Unique OpenFlights identifier for airline\n",
    "- **Dest Airport ID**: Unique OpenFlights identifier for dest airport"
   ]
  },
  {
   "cell_type": "code",
   "execution_count": 332,
   "metadata": {},
   "outputs": [
    {
     "name": "stdout",
     "output_type": "stream",
     "text": [
      "There are 67652 routes\n"
     ]
    },
    {
     "data": {
      "text/html": [
       "<div>\n",
       "<table border=\"1\" class=\"dataframe\">\n",
       "  <thead>\n",
       "    <tr style=\"text-align: right;\">\n",
       "      <th></th>\n",
       "      <th>Source Airport ID</th>\n",
       "      <th>Dest Airport ID</th>\n",
       "    </tr>\n",
       "  </thead>\n",
       "  <tbody>\n",
       "    <tr>\n",
       "      <th>0</th>\n",
       "      <td>2965</td>\n",
       "      <td>2990</td>\n",
       "    </tr>\n",
       "    <tr>\n",
       "      <th>1</th>\n",
       "      <td>2966</td>\n",
       "      <td>2990</td>\n",
       "    </tr>\n",
       "    <tr>\n",
       "      <th>2</th>\n",
       "      <td>2966</td>\n",
       "      <td>2962</td>\n",
       "    </tr>\n",
       "    <tr>\n",
       "      <th>3</th>\n",
       "      <td>2968</td>\n",
       "      <td>2990</td>\n",
       "    </tr>\n",
       "    <tr>\n",
       "      <th>4</th>\n",
       "      <td>2968</td>\n",
       "      <td>4078</td>\n",
       "    </tr>\n",
       "    <tr>\n",
       "      <th>5</th>\n",
       "      <td>4029</td>\n",
       "      <td>2990</td>\n",
       "    </tr>\n",
       "    <tr>\n",
       "      <th>6</th>\n",
       "      <td>4029</td>\n",
       "      <td>6969</td>\n",
       "    </tr>\n",
       "    <tr>\n",
       "      <th>7</th>\n",
       "      <td>4029</td>\n",
       "      <td>\\N</td>\n",
       "    </tr>\n",
       "    <tr>\n",
       "      <th>8</th>\n",
       "      <td>4029</td>\n",
       "      <td>6160</td>\n",
       "    </tr>\n",
       "    <tr>\n",
       "      <th>9</th>\n",
       "      <td>6156</td>\n",
       "      <td>2952</td>\n",
       "    </tr>\n",
       "  </tbody>\n",
       "</table>\n",
       "</div>"
      ],
      "text/plain": [
       "  Source Airport ID Dest Airport ID\n",
       "0              2965            2990\n",
       "1              2966            2990\n",
       "2              2966            2962\n",
       "3              2968            2990\n",
       "4              2968            4078\n",
       "5              4029            2990\n",
       "6              4029            6969\n",
       "7              4029              \\N\n",
       "8              4029            6160\n",
       "9              6156            2952"
      ]
     },
     "execution_count": 332,
     "metadata": {},
     "output_type": "execute_result"
    }
   ],
   "source": [
    "# first drop all rows where stops aren't 0, as we only want direct connections\n",
    "routes = routes[routes[\"Stops\"] == 0]\n",
    "\n",
    "keep_cols = [\"Source Airport ID\", \"Dest Airport ID\"]\n",
    "routes = routes[keep_cols]\n",
    "print(f\"There are {routes.shape[0]} routes\")\n",
    "routes.head(10)"
   ]
  },
  {
   "cell_type": "markdown",
   "metadata": {},
   "source": [
    "Now there are some values which aren't numbers, so we need to clean them up, as you can see in row 7 above."
   ]
  },
  {
   "cell_type": "code",
   "execution_count": 333,
   "metadata": {},
   "outputs": [],
   "source": [
    "def make_int_or_null(x):\n",
    "    \"\"\"returns int or np.nan if can't return int\"\"\"\n",
    "    try:\n",
    "        return int(x)\n",
    "    except:\n",
    "        return np.nan\n",
    "    \n",
    "routes = routes.applymap(make_int_or_null)"
   ]
  },
  {
   "cell_type": "code",
   "execution_count": 334,
   "metadata": {},
   "outputs": [
    {
     "name": "stdout",
     "output_type": "stream",
     "text": [
      "There are 67652 routes before dropping null values\n",
      "there are 67229 after dropping null values\n"
     ]
    }
   ],
   "source": [
    "print(f\"There are {routes.shape[0]} routes before dropping null values\")\n",
    "routes = routes.dropna(axis=0)\n",
    "print(f\"there are {routes.shape[0]} after dropping null values\")"
   ]
  },
  {
   "cell_type": "code",
   "execution_count": 335,
   "metadata": {},
   "outputs": [
    {
     "data": {
      "text/html": [
       "<div>\n",
       "<table border=\"1\" class=\"dataframe\">\n",
       "  <thead>\n",
       "    <tr style=\"text-align: right;\">\n",
       "      <th></th>\n",
       "      <th>Source Airport ID</th>\n",
       "      <th>Dest Airport ID</th>\n",
       "    </tr>\n",
       "  </thead>\n",
       "  <tbody>\n",
       "    <tr>\n",
       "      <th>0</th>\n",
       "      <td>2965.0</td>\n",
       "      <td>2990.0</td>\n",
       "    </tr>\n",
       "    <tr>\n",
       "      <th>1</th>\n",
       "      <td>2966.0</td>\n",
       "      <td>2990.0</td>\n",
       "    </tr>\n",
       "    <tr>\n",
       "      <th>2</th>\n",
       "      <td>2966.0</td>\n",
       "      <td>2962.0</td>\n",
       "    </tr>\n",
       "    <tr>\n",
       "      <th>3</th>\n",
       "      <td>2968.0</td>\n",
       "      <td>2990.0</td>\n",
       "    </tr>\n",
       "    <tr>\n",
       "      <th>4</th>\n",
       "      <td>2968.0</td>\n",
       "      <td>4078.0</td>\n",
       "    </tr>\n",
       "  </tbody>\n",
       "</table>\n",
       "</div>"
      ],
      "text/plain": [
       "   Source Airport ID  Dest Airport ID\n",
       "0             2965.0           2990.0\n",
       "1             2966.0           2990.0\n",
       "2             2966.0           2962.0\n",
       "3             2968.0           2990.0\n",
       "4             2968.0           4078.0"
      ]
     },
     "execution_count": 335,
     "metadata": {},
     "output_type": "execute_result"
    }
   ],
   "source": [
    "routes.head()"
   ]
  },
  {
   "cell_type": "markdown",
   "metadata": {},
   "source": [
    "Now we need to be able to get the distance b/w two airports to be able to assign a weight in our graphs."
   ]
  },
  {
   "cell_type": "code",
   "execution_count": 368,
   "metadata": {},
   "outputs": [
    {
     "name": "stdout",
     "output_type": "stream",
     "text": [
      "204.03946015838426\n"
     ]
    }
   ],
   "source": [
    "def route_distance(edge):\n",
    "    \"\"\"takes a route as a pandas row, and returns distance b/w them\"\"\"\n",
    "    src_airport = airports.iloc[int(edge[\"Source Airport ID\"])]\n",
    "    dest_airport = airports.iloc[int(edge[\"Dest Airport ID\"])]\n",
    "    src_lat = src_airport[\"Latitude\"]\n",
    "    src_long = src_airport[\"Longitude\"]\n",
    "    dest_lat = dest_airport[\"Latitude\"]\n",
    "    dest_long = dest_airport[\"Longitude\"]\n",
    "    \n",
    "    src_loc = (float(src_lat), float(src_long))\n",
    "    dest_loc = (float(dest_lat), float(dest_long))\n",
    "    \n",
    "    return great_circle(src_loc, dest_loc).km\n",
    "\n",
    "#checking algo\n",
    "print(route_distance(routes.iloc[100]))"
   ]
  },
  {
   "cell_type": "markdown",
   "metadata": {},
   "source": [
    "so the data seems ready to go. We now have two pandas dataframes, **airports** and **routes**, and a function which returns the distance b/w airports.\n",
    "\n",
    "# the actual graph\n",
    "\n",
    "there are many ways to make a graph. One way is to build out all the nodes and connections. So here I'll initiate the graph as a dictionary of nodes, with the data being the edges.\n",
    "\n",
    "A blank graph where the key is each airport:"
   ]
  },
  {
   "cell_type": "code",
   "execution_count": 513,
   "metadata": {},
   "outputs": [],
   "source": [
    "graph = {}\n",
    "for i, row in airports.iterrows():\n",
    "    graph[i] = []"
   ]
  },
  {
   "cell_type": "markdown",
   "metadata": {},
   "source": [
    "Now going through each route and adding (dest_airport, distance) to each src_airport in the graph:"
   ]
  },
  {
   "cell_type": "code",
   "execution_count": 514,
   "metadata": {},
   "outputs": [
    {
     "name": "stderr",
     "output_type": "stream",
     "text": [
      "100%|██████████| 67229/67229 [01:22<00:00, 813.66it/s]\n"
     ]
    }
   ],
   "source": [
    "from tqdm import tqdm\n",
    "for i, row in tqdm(routes.iterrows(), total=len(routes), mininterval=0.5):\n",
    "    try:\n",
    "        src_airport = airports.iloc[int(row[\"Source Airport ID\"])]\n",
    "        dest_airport = airports.iloc[int(row[\"Dest Airport ID\"])]\n",
    "    except:\n",
    "        pass\n",
    "    \n",
    "    dist = great_circle((src_airport[\"Latitude\"], src_airport[\"Longitude\"]),\n",
    "                       (dest_airport[\"Latitude\"],dest_airport[\"Longitude\"]) ).km\n",
    "    \n",
    "    n = int(row[\"Source Airport ID\"])\n",
    "    d = int(row[\"Dest Airport ID\"])\n",
    "    if n in graph.keys():\n",
    "        graph[n].append((d, int(dist)))"
   ]
  },
  {
   "cell_type": "markdown",
   "metadata": {},
   "source": [
    "Now say I want to find out the graph for Karachi. Karachi has three airports, so only looking at the first one for now..."
   ]
  },
  {
   "cell_type": "code",
   "execution_count": 515,
   "metadata": {},
   "outputs": [
    {
     "data": {
      "text/html": [
       "<div>\n",
       "<table border=\"1\" class=\"dataframe\">\n",
       "  <thead>\n",
       "    <tr style=\"text-align: right;\">\n",
       "      <th></th>\n",
       "      <th>City</th>\n",
       "      <th>Country</th>\n",
       "      <th>Latitude</th>\n",
       "      <th>Longitude</th>\n",
       "    </tr>\n",
       "    <tr>\n",
       "      <th>Airport ID</th>\n",
       "      <th></th>\n",
       "      <th></th>\n",
       "      <th></th>\n",
       "      <th></th>\n",
       "    </tr>\n",
       "  </thead>\n",
       "  <tbody>\n",
       "    <tr>\n",
       "      <th>2206</th>\n",
       "      <td>Karachi</td>\n",
       "      <td>Pakistan</td>\n",
       "      <td>24.906500</td>\n",
       "      <td>67.160797</td>\n",
       "    </tr>\n",
       "    <tr>\n",
       "      <th>2213</th>\n",
       "      <td>Karachi</td>\n",
       "      <td>Pakistan</td>\n",
       "      <td>24.893600</td>\n",
       "      <td>66.938797</td>\n",
       "    </tr>\n",
       "    <tr>\n",
       "      <th>11911</th>\n",
       "      <td>Karachi</td>\n",
       "      <td>Pakistan</td>\n",
       "      <td>24.874201</td>\n",
       "      <td>67.118500</td>\n",
       "    </tr>\n",
       "  </tbody>\n",
       "</table>\n",
       "</div>"
      ],
      "text/plain": [
       "               City   Country   Latitude  Longitude\n",
       "Airport ID                                         \n",
       "2206        Karachi  Pakistan  24.906500  67.160797\n",
       "2213        Karachi  Pakistan  24.893600  66.938797\n",
       "11911       Karachi  Pakistan  24.874201  67.118500"
      ]
     },
     "execution_count": 515,
     "metadata": {},
     "output_type": "execute_result"
    }
   ],
   "source": [
    "find = airports[\"City\"] == \"Karachi\"\n",
    "airports[find]"
   ]
  },
  {
   "cell_type": "markdown",
   "metadata": {},
   "source": [
    "So I can see all the cities it's connected to, though since some cities have multiple airports they show up twice. So how do I deal with that? I can ignore multiple airports as the distance is the same, though a more complex graph would take into account the different $$ value."
   ]
  },
  {
   "cell_type": "code",
   "execution_count": 543,
   "metadata": {},
   "outputs": [
    {
     "name": "stdout",
     "output_type": "stream",
     "text": [
      "0 Abu Dhabi 1559\n",
      "1 Chengdu 6496\n",
      "2 Bangkok 3409\n",
      "3 Dubai 1507\n",
      "4 Abu Dhabi 1559\n",
      "5 Dubai 1507\n",
      "6 Sharjah 1415\n",
      "7 Bahrain 7065\n",
      "8 Bahawalpur 10912\n",
      "9 Islamabad 626\n",
      "10 Lahore 335\n",
      "11 Faisalabad 1588\n",
      "12 Multan 89\n",
      "13 Peshawar 656\n",
      "14 Quetta 621\n",
      "15 Tehran 11793\n",
      "16 Colombo 3970\n",
      "17 Dubai 1507\n",
      "18 Islamabad 626\n",
      "19 Lahore 335\n",
      "20 Multan 89\n",
      "21 Peshawar 656\n",
      "22 Quetta 621\n",
      "23 Abu Dhabi 1559\n",
      "24 Bahawalpur 10912\n",
      "25 Mumbai 4096\n",
      "26 Dhaka 5079\n",
      "27 Dera Ghazi Khan 18538\n",
      "28 Delhi 4405\n",
      "29 Dammam 6480\n",
      "30 Dubai 1507\n",
      "31 Gwadar 37\n",
      "32 Islamabad 626\n",
      "33 Jeddah 7265\n",
      "34 Kathmandu 6126\n",
      "35 Kuala Lumpur 9354\n",
      "36 Lahore 335\n",
      "37 London 9212\n",
      "38 Faisalabad 1588\n",
      "39 Muscat 1514\n",
      "40 Madinah 7420\n",
      "41 Moenjodaro 61\n",
      "42 Multan 89\n",
      "43 Peshawar 656\n",
      "44 Panjgur 577\n",
      "45 Riyadh 6449\n",
      "46 Rahim Yar Khan 679\n",
      "47 Sharjah 1415\n",
      "48 Sukkur 246\n",
      "49 Turbat 8236\n",
      "50 Quetta 621\n",
      "51 Toronto 10578\n",
      "53 Dammam 6480\n",
      "54 Jeddah 7265\n",
      "55 Riyadh 6449\n",
      "56 Bangkok 3409\n",
      "57 Muscat 1514\n",
      "58 Istanbul 13782\n",
      "59 Colombo 3970\n",
      "60 Muscat 1514\n",
      "61 Jeddah 7265\n"
     ]
    }
   ],
   "source": [
    "for i, t in enumerate(graph[2206]):\n",
    "    if t[0] in graph.keys():\n",
    "        print(i, airports.loc[t[0]][\"City\"], t[1])\n",
    "    else:\n",
    "        continue"
   ]
  },
  {
   "cell_type": "code",
   "execution_count": 525,
   "metadata": {},
   "outputs": [
    {
     "data": {
      "text/plain": [
       "(7140, 4)"
      ]
     },
     "execution_count": 525,
     "metadata": {},
     "output_type": "execute_result"
    }
   ],
   "source": [
    "airports.shape"
   ]
  },
  {
   "cell_type": "code",
   "execution_count": null,
   "metadata": {
    "collapsed": true
   },
   "outputs": [],
   "source": []
  }
 ],
 "metadata": {
  "kernelspec": {
   "display_name": "Python 3",
   "language": "python",
   "name": "python3"
  },
  "language_info": {
   "codemirror_mode": {
    "name": "ipython",
    "version": 3
   },
   "file_extension": ".py",
   "mimetype": "text/x-python",
   "name": "python",
   "nbconvert_exporter": "python",
   "pygments_lexer": "ipython3",
   "version": "3.6.1"
  }
 },
 "nbformat": 4,
 "nbformat_minor": 2
}
