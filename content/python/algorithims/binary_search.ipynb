{
 "cells": [
  {
   "cell_type": "markdown",
   "metadata": {},
   "source": [
    "# Binary search\n",
    "\n",
    "Binary search is a divide and conquer search algorithim. It takes a sort array or list of items, say a phone dictionary of names, and looks for each item in the middle of the list. If the item in the middle of the list is bigger than the item to be found, it discards the top half of the list, and if the middle is smaller, it discards the bottom half of the list.\n",
    "\n",
    "### Sources\n",
    "\n",
    "- [Khan Academy](https://www.khanacademy.org/computing/computer-science/algorithms/binary-search/a/binary-search)\n",
    "- [Wikipedia](https://en.wikipedia.org/wiki/Binary_search_algorithm)"
   ]
  },
  {
   "cell_type": "code",
   "execution_count": 2,
   "metadata": {
    "collapsed": false
   },
   "outputs": [],
   "source": [
    "def binary_search(list, item, verbose=False):\n",
    "    \"\"\"takes in item and a sorted list. returns position of item if found in the list\n",
    "    or returns None if item isn't there\"\"\"\n",
    "    \n",
    "    low = 0\n",
    "    high = len(list) - 1\n",
    "    \n",
    "    count = 1\n",
    "    while low <= high:\n",
    "        mid = (low + high) // 2 # discards the decimal\n",
    "        if verbose: print(\"Pass {}, the middle value is: {} \".format(count, list[mid]))\n",
    "        if list[mid] == item:\n",
    "            if verbose==True: print(\"Eureka! Found {} after {} passes\".format(item, count))\n",
    "            return mid\n",
    "        elif list[mid] > item:\n",
    "            high = mid - 1\n",
    "        else:\n",
    "            low = mid + 1\n",
    "        count += 1"
   ]
  },
  {
   "cell_type": "code",
   "execution_count": 11,
   "metadata": {
    "collapsed": false
   },
   "outputs": [
    {
     "data": {
      "text/plain": [
       "([0, 2, 4, 6, 8], [190, 192, 194, 196, 198])"
      ]
     },
     "execution_count": 11,
     "metadata": {},
     "output_type": "execute_result"
    }
   ],
   "source": [
    "items = [i*2 for i in range(100)]\n",
    "items[:5], items[-5:]"
   ]
  },
  {
   "cell_type": "code",
   "execution_count": 12,
   "metadata": {
    "collapsed": false
   },
   "outputs": [
    {
     "name": "stdout",
     "output_type": "stream",
     "text": [
      "Pass 1, the middle value is: 98 \n",
      "Pass 2, the middle value is: 48 \n",
      "Pass 3, the middle value is: 22 \n",
      "Pass 4, the middle value is: 10 \n",
      "Pass 5, the middle value is: 4 \n",
      "Pass 6, the middle value is: 0 \n",
      "Pass 7, the middle value is: 2 \n",
      "Eureka! Found 2 after 7 passes\n"
     ]
    },
    {
     "data": {
      "text/plain": [
       "1"
      ]
     },
     "execution_count": 12,
     "metadata": {},
     "output_type": "execute_result"
    }
   ],
   "source": [
    "binary_search(items, 2, verbose=True)"
   ]
  },
  {
   "cell_type": "markdown",
   "metadata": {},
   "source": [
    "Binary search halves the list on each pass. So the max passes through quicksort is the log of the length of the array:"
   ]
  },
  {
   "cell_type": "code",
   "execution_count": 13,
   "metadata": {
    "collapsed": false
   },
   "outputs": [
    {
     "data": {
      "text/plain": [
       "7"
      ]
     },
     "execution_count": 13,
     "metadata": {},
     "output_type": "execute_result"
    }
   ],
   "source": [
    "import math\n",
    "math.ceil(math.log2(len(items)))"
   ]
  },
  {
   "cell_type": "markdown",
   "metadata": {},
   "source": [
    "## testing time it takes to run"
   ]
  },
  {
   "cell_type": "code",
   "execution_count": 17,
   "metadata": {
    "collapsed": false
   },
   "outputs": [
    {
     "name": "stdout",
     "output_type": "stream",
     "text": [
      "length 100\n",
      "100000 loops, best of 3: 2.88 µs per loop\n"
     ]
    }
   ],
   "source": [
    "print('length', len(items))\n",
    "%timeit binary_search(items,2)"
   ]
  },
  {
   "cell_type": "code",
   "execution_count": 20,
   "metadata": {
    "collapsed": false
   },
   "outputs": [
    {
     "name": "stdout",
     "output_type": "stream",
     "text": [
      "length 100000\n",
      "100000 loops, best of 3: 7.4 µs per loop\n"
     ]
    }
   ],
   "source": [
    "items = [i*2 for i in range(100000)]\n",
    "print('length', len(items))\n",
    "%timeit binary_search(items,2)"
   ]
  },
  {
   "cell_type": "code",
   "execution_count": null,
   "metadata": {
    "collapsed": true
   },
   "outputs": [],
   "source": []
  }
 ],
 "metadata": {
  "anaconda-cloud": {},
  "kernelspec": {
   "display_name": "Python [default]",
   "language": "python",
   "name": "python3"
  },
  "language_info": {
   "codemirror_mode": {
    "name": "ipython",
    "version": 3
   },
   "file_extension": ".py",
   "mimetype": "text/x-python",
   "name": "python",
   "nbconvert_exporter": "python",
   "pygments_lexer": "ipython3",
   "version": "3.5.2"
  }
 },
 "nbformat": 4,
 "nbformat_minor": 1
}
