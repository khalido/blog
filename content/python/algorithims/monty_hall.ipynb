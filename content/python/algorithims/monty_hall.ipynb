{
 "cells": [
  {
   "cell_type": "markdown",
   "metadata": {},
   "source": [
    "The famous [Monty Hall brain teaser](https://en.wikipedia.org/wiki/Monty_Hall_problem):\n",
    "\n",
    "> Suppose you're on a game show, and you're given the choice of three doors: Behind one door is a car; behind the others, goats. You pick a door, say No. 1, and the host, who knows what's behind the doors, opens another door, say No. 3, which has a goat. He then says to you, \"Do you want to pick door No. 2?\" Is it to your advantage to switch your choice?\n",
    "\n",
    "There is a really [fun discussion over at Marilyn vos Savant's site](http://marilynvossavant.com/game-show-problem/).\n",
    "\n",
    "Ok, now to setup the problem, along with some kind of visuals and what not."
   ]
  },
  {
   "cell_type": "code",
   "execution_count": 293,
   "metadata": {
    "collapsed": true
   },
   "outputs": [],
   "source": [
    "import random\n",
    "import numpy as np\n",
    "\n",
    "# for plots, cause visuals\n",
    "%matplotlib inline\n",
    "import matplotlib.pyplot as plt \n",
    "import seaborn as sns"
   ]
  },
  {
   "cell_type": "markdown",
   "metadata": {},
   "source": [
    "# setting up a game\n",
    "\n",
    "There are many ways to do this, but to keep it simple and human comprehensible I'm going to do it one game at a time. \n",
    "\n",
    "First up, a helper function which takes the door number guessed and the door opened up the host to reveal a goat, and returns the switched door:"
   ]
  },
  {
   "cell_type": "code",
   "execution_count": 279,
   "metadata": {
    "collapsed": true
   },
   "outputs": [],
   "source": [
    "def switch_door(guess, goat_door_opened):\n",
    "    \"\"\"takes in the guessed door and the goat door opened\n",
    "    and returns the switched door number\"\"\"\n",
    "    doors = [0,1,2]\n",
    "    doors.remove(goat_door_opened)\n",
    "    doors.remove(guess)\n",
    "    return doors[0]"
   ]
  },
  {
   "cell_type": "markdown",
   "metadata": {},
   "source": [
    "Now the actual monty hall function - it takes in a guess and whether you want to switch your guess, and returns True or False depending on whether you win"
   ]
  },
  {
   "cell_type": "code",
   "execution_count": 280,
   "metadata": {
    "collapsed": true
   },
   "outputs": [],
   "source": [
    "def monty_hall(guess=0, switch_guess=False, open_goat_door=True):\n",
    "    \"\"\"sets up 3 doors 0-2, one which has a pize, and 2 have goats.\n",
    "    takes in the door number guessed by the player and whether he/she switched door\n",
    "    after one goat door is revealed\"\"\"\n",
    "    \n",
    "    doors = [door for door in range(3)]\n",
    "    np.random.shuffle(doors)\n",
    "    prize_door = doors.pop()\n",
    "    \n",
    "    goat_door_opened = doors[0]\n",
    "    \n",
    "    if goat_door_opened == guess:\n",
    "        goat_door_opened = doors[1]\n",
    "        \n",
    "    if switch_guess:\n",
    "        return switch_door(guess, goat_door_opened) == prize_door\n",
    "    else:\n",
    "        return guess == prize_door"
   ]
  },
  {
   "cell_type": "markdown",
   "metadata": {},
   "source": [
    "Now to run through a bunch of monty hall games:"
   ]
  },
  {
   "cell_type": "code",
   "execution_count": 281,
   "metadata": {},
   "outputs": [
    {
     "data": {
      "text/plain": [
       "0.33223000000000003"
      ]
     },
     "execution_count": 281,
     "metadata": {},
     "output_type": "execute_result"
    }
   ],
   "source": [
    "no_switch = np.mean([monty_hall(random.randint(0,2), False) for _ in range(100000)])\n",
    "no_switch"
   ]
  },
  {
   "cell_type": "markdown",
   "metadata": {},
   "source": [
    "Not switching doors wins a third of the time, which makes intuitive sense, since we are choosing one door out of three."
   ]
  },
  {
   "cell_type": "code",
   "execution_count": 282,
   "metadata": {},
   "outputs": [
    {
     "data": {
      "text/plain": [
       "0.66474999999999995"
      ]
     },
     "execution_count": 282,
     "metadata": {},
     "output_type": "execute_result"
    }
   ],
   "source": [
    "yes_switch = np.mean([monty_hall(random.randint(0,2), True) for _ in range(100000)])\n",
    "yes_switch"
   ]
  },
  {
   "cell_type": "markdown",
   "metadata": {},
   "source": [
    "This is the suprising result, since switching our guess increases the win rate to two third! To put it more graphically:"
   ]
  },
  {
   "cell_type": "code",
   "execution_count": 284,
   "metadata": {},
   "outputs": [
    {
     "data": {
      "image/png": "[encoded data removed]",
      "text/plain": [
       "<matplotlib.figure.Figure at 0x11fda8f28>"
      ]
     },
     "metadata": {},
     "output_type": "display_data"
    }
   ],
   "source": [
    "plt.pie([yes_switch, no_switch], labels=[\"Switching win %\", \"Not switching win %\"],\n",
    "       autopct='%1.1f%%', explode=(0, 0.05));"
   ]
  },
  {
   "cell_type": "markdown",
   "metadata": {},
   "source": [
    "So our chances of winning essentially double if we switch our guess once a goat door has been opened.\n",
    "\n",
    "A good [monty hall infographic](https://somethingaweek.wordpress.com/2010/08/19/22-lets-make-a-deal/):\n",
    "\n",
    "<img src=\"images/monty-hall.png\" width=\"75%\">."
   ]
  },
  {
   "cell_type": "markdown",
   "metadata": {},
   "source": [
    "# the no reveal month\n",
    "\n",
    "So what if Monty never opens a goat door, and just gives us a change to switch the guessed door? Does the winning % still change?\n",
    "\n",
    "So first we change the switch door function to remove the reveal option:"
   ]
  },
  {
   "cell_type": "code",
   "execution_count": 294,
   "metadata": {
    "collapsed": true
   },
   "outputs": [],
   "source": [
    "def switch_door_no_revel(guess):\n",
    "    \"\"\"takes in the guessed door\n",
    "    and returns the switched door number\"\"\"\n",
    "    doors = [0,1,2]\n",
    "    doors.remove(guess)\n",
    "    np.random.shuffle(doors)\n",
    "    return doors[0]"
   ]
  },
  {
   "cell_type": "markdown",
   "metadata": {},
   "source": [
    "Then I removed the revealing the goat door code from the original monty hall function above:"
   ]
  },
  {
   "cell_type": "code",
   "execution_count": 295,
   "metadata": {
    "collapsed": true
   },
   "outputs": [],
   "source": [
    "def monty_hall_no_reveal(guess=0, switch_guess=False):\n",
    "    \"\"\"sets up 3 doors 0-2, one which has a pize, and 2 have goats.\n",
    "    takes in the door number guessed by the player and whether he/she switched door\n",
    "    \"\"\"\n",
    "    \n",
    "    doors = [door for door in range(3)]\n",
    "    np.random.shuffle(doors)\n",
    "    prize_door = doors.pop()\n",
    "        \n",
    "    if switch_guess:\n",
    "        return switch_door_no_revel(guess) == prize_door\n",
    "    else:\n",
    "        return guess == prize_door"
   ]
  },
  {
   "cell_type": "markdown",
   "metadata": {},
   "source": [
    "Now to run some sims:"
   ]
  },
  {
   "cell_type": "code",
   "execution_count": 296,
   "metadata": {
    "collapsed": true
   },
   "outputs": [],
   "source": [
    "no_switch_no_reveal = np.mean([monty_hall_no_reveal(random.randint(0,2), False) for _ in range(100000)])\n",
    "yes_switch_no_reveal = np.mean([monty_hall_no_reveal(random.randint(0,2), True) for _ in range(100000)])"
   ]
  },
  {
   "cell_type": "code",
   "execution_count": 297,
   "metadata": {},
   "outputs": [
    {
     "data": {
      "image/png": "[encoded data removed]",
      "text/plain": [
       "<matplotlib.figure.Figure at 0x11feeebe0>"
      ]
     },
     "metadata": {},
     "output_type": "display_data"
    }
   ],
   "source": [
    "plt.bar([0,1], [yes_switch_no_reveal, no_switch_no_reveal], tick_label=[\"Switched Guess\",\"Didn't Switch\"], \n",
    "        color=[\"blue\",\"red\"], alpha=0.7);"
   ]
  },
  {
   "cell_type": "markdown",
   "metadata": {},
   "source": [
    "There is no impact of switching our guess if a goat door hasn't been revealed. Which makes sense to, since whatever door we choose, it has 1/3 probablity of winning. "
   ]
  },
  {
   "cell_type": "code",
   "execution_count": null,
   "metadata": {
    "collapsed": true
   },
   "outputs": [],
   "source": []
  }
 ],
 "metadata": {
  "kernelspec": {
   "display_name": "Python 3",
   "language": "python",
   "name": "python3"
  },
  "language_info": {
   "codemirror_mode": {
    "name": "ipython",
    "version": 3
   },
   "file_extension": ".py",
   "mimetype": "text/x-python",
   "name": "python",
   "nbconvert_exporter": "python",
   "pygments_lexer": "ipython3",
   "version": "3.6.1"
  }
 },
 "nbformat": 4,
 "nbformat_minor": 2
}
