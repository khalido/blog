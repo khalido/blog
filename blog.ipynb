{
 "cells": [
  {
   "cell_type": "code",
   "execution_count": 31,
   "metadata": {
    "tags": []
   },
   "outputs": [
    {
     "output_type": "stream",
     "name": "stdout",
     "text": "The autoreload extension is already loaded. To reload it, use:\n  %reload_ext autoreload\n"
    }
   ],
   "source": [
    "import os\n",
    "import json\n",
    "from pathlib import Path\n",
    "from dataclasses import dataclass\n",
    "from configparser import ConfigParser\n",
    "import yaml\n",
    "import re\n",
    "import pandas as pd\n",
    "from tqdm.auto import tqdm\n",
    "from datetime import datetime\n",
    "import markdown\n",
    "import nbconvert\n",
    "from collections import defaultdict\n",
    "from dataclasses import dataclass\n",
    "\n",
    "from IPython.display import display, Markdown\n",
    "\n",
    "%load_ext autoreload\n",
    "%autoreload 2\n",
    "import blog"
   ]
  },
  {
   "cell_type": "code",
   "execution_count": 35,
   "metadata": {},
   "outputs": [],
   "source": [
    "def printmd(text):\n",
    "    display(Markdown(text))"
   ]
  },
  {
   "cell_type": "markdown",
   "metadata": {},
   "source": [
    "## config\n",
    "\n",
    "All the config is saved in a config.ini file"
   ]
  },
  {
   "cell_type": "code",
   "execution_count": 2,
   "metadata": {
    "tags": []
   },
   "outputs": [
    {
     "output_type": "stream",
     "name": "stdout",
     "text": "blog: [('posts', 'notes'), ('notebooks', 'notebooks'), ('publish', 'dist')]\n"
    }
   ],
   "source": [
    "config = ConfigParser()\n",
    "config.read(\"config.ini\")\n",
    "for section in config.sections():\n",
    "    print(f\"{section}: {config.items(section)}\")"
   ]
  },
  {
   "cell_type": "code",
   "execution_count": 3,
   "metadata": {},
   "outputs": [
    {
     "output_type": "execute_result",
     "data": {
      "text/plain": "(PosixPath('notes'), PosixPath('dist'))"
     },
     "metadata": {},
     "execution_count": 3
    }
   ],
   "source": [
    "path_md = blog.path_md\n",
    "path_publish = blog.path_publish\n",
    "path_md, path_publish"
   ]
  },
  {
   "cell_type": "code",
   "execution_count": 4,
   "metadata": {
    "tags": []
   },
   "outputs": [
    {
     "output_type": "execute_result",
     "data": {
      "text/plain": "defaultdict(set,\n            {'apps': {'vs_code'},\n             'books': {'stats-done-wrong-book'},\n             'statistics': {'stats-done-wrong-book'},\n             'chromebooks': {'setup-crostini-chromebook'},\n             'python': {'anaconda', 'building_this_blog', 'note_in_subfolder'},\n             'jupyter': {'jupyterlab'}})"
     },
     "metadata": {},
     "execution_count": 4
    }
   ],
   "source": [
    "posts, postsdict, tags = blog.get_posts()\n",
    "tags # dict of tags to posts. sort this too?"
   ]
  },
  {
   "cell_type": "code",
   "execution_count": 5,
   "metadata": {
    "tags": []
   },
   "outputs": [
    {
     "output_type": "stream",
     "name": "stdout",
     "text": "tag: apps\nvs_code 2019-10-10\n---------------\ntag: books\nstats-done-wrong-book 2020-07-15\n---------------\ntag: statistics\nstats-done-wrong-book 2020-07-15\n---------------\ntag: chromebooks\nsetup-crostini-chromebook 2018-08-24\n---------------\ntag: python\nbuilding_this_blog 2020-07-14\nanaconda 2020-07-01\nnote_in_subfolder 2020-06-14\n---------------\ntag: jupyter\njupyterlab 2019-08-04\n---------------\n"
    }
   ],
   "source": [
    "for t in tags.keys():\n",
    "    print(f\"tag: {t}\")\n",
    "    for s in sorted(tags[t], key = lambda x: postsdict[x].date, reverse=True):\n",
    "        print(postsdict[s].slug, postsdict[s].date)\n",
    "        #print(postsdict[s].html[:22])\n",
    "    print(\"---------------\")"
   ]
  },
  {
   "cell_type": "code",
   "execution_count": 6,
   "metadata": {
    "tags": []
   },
   "outputs": [
    {
     "output_type": "stream",
     "name": "stdout",
     "text": "apps {'vs_code'}\nbooks {'stats-done-wrong-book'}\nstatistics {'stats-done-wrong-book'}\nchromebooks {'setup-crostini-chromebook'}\npython {'note_in_subfolder', 'anaconda', 'building_this_blog'}\njupyter {'jupyterlab'}\n"
    }
   ],
   "source": [
    "for tag, pp in tags.items():\n",
    "    print(tag, pp)"
   ]
  },
  {
   "cell_type": "code",
   "execution_count": 7,
   "metadata": {
    "tags": []
   },
   "outputs": [
    {
     "output_type": "stream",
     "name": "stdout",
     "text": "2020-07-15 Statistics Done Wrong: The Woefully Complete Guide wrong-book\n2020-07-14 how the blog was built _this_blog\n2020-07-01 Using Anaconda anaconda\n2020-06-14 Testing note in a subfolder _subfolder\n2019-10-10 Visual Studio Code vs_code\n2019-08-04 Jupyter Lab tips and tricks jupyterlab\n2018-08-24 Setting up Linux on a Chromebook with Crostini chromebook\n"
    }
   ],
   "source": [
    "for p in posts:\n",
    "    print(p.date, p.title, p.slug[-10:])"
   ]
  },
  {
   "cell_type": "code",
   "execution_count": 9,
   "metadata": {
    "tags": []
   },
   "outputs": [
    {
     "output_type": "stream",
     "name": "stdout",
     "text": "stats-done-wrong-book 2020-07-15\nno toc\nbuilding_this_blog 2020-07-14\nhas toc\nanaconda 2020-07-01\nno toc\nnote_in_subfolder 2020-06-14\nhas toc\nvs_code 2019-10-10\nno toc\njupyterlab 2019-08-04\nno toc\nsetup-crostini-chromebook 2018-08-24\nhas toc\n"
    }
   ],
   "source": [
    "for slug, p in postsdict.items():\n",
    "    print(slug, p.date)\n",
    "    if p.toc:\n",
    "        print(\"has toc\")\n",
    "    else:\n",
    "        print(\"no toc\")"
   ]
  },
  {
   "cell_type": "markdown",
   "metadata": {},
   "source": [
    "## Pinboard"
   ]
  },
  {
   "cell_type": "code",
   "execution_count": 11,
   "metadata": {},
   "outputs": [
    {
     "output_type": "execute_result",
     "data": {
      "text/plain": "'KO:8'"
     },
     "metadata": {},
     "execution_count": 11
    }
   ],
   "source": [
    "pb_token = os.environ.get(\"PB_TOKEN\")\n",
    "pb_token[:4]"
   ]
  },
  {
   "cell_type": "code",
   "execution_count": 13,
   "metadata": {},
   "outputs": [
    {
     "output_type": "execute_result",
     "data": {
      "text/plain": "datetime.datetime(2020, 7, 10, 22, 49, 29)"
     },
     "metadata": {},
     "execution_count": 13
    }
   ],
   "source": [
    "import pinboard\n",
    "pb = pinboard.Pinboard(pb_token)\n",
    "\n",
    "# check its working\n",
    "pb.posts.update() # should return most recent updated date"
   ]
  },
  {
   "cell_type": "code",
   "execution_count": 175,
   "metadata": {},
   "outputs": [],
   "source": [
    "all_posts = pb.posts.all() # list of all bookmarks"
   ]
  },
  {
   "cell_type": "code",
   "execution_count": 196,
   "metadata": {
    "tags": []
   },
   "outputs": [
    {
     "output_type": "execute_result",
     "data": {
      "text/plain": "('What I learned from looking at 200 machine learning tools',\n ['ai'],\n '',\n 'https://huyenchip.com/2020/06/22/mlops.html',\n datetime.datetime(2020, 6, 24, 4, 39, 45))"
     },
     "metadata": {},
     "execution_count": 196
    }
   ],
   "source": [
    "# the api returns a class obj\n",
    "bookmark = all_posts[0]\n",
    "# useful fields in that object:\n",
    "bookmark.description, bookmark.tags, bookmark.extended, bookmark.url, bookmark.time"
   ]
  },
  {
   "cell_type": "code",
   "execution_count": 149,
   "metadata": {},
   "outputs": [],
   "source": [
    "links = pb.posts.recent()"
   ]
  },
  {
   "cell_type": "code",
   "execution_count": 171,
   "metadata": {
    "tags": []
   },
   "outputs": [
    {
     "output_type": "stream",
     "name": "stdout",
     "text": "2020-06-24 04:39:45 ['ai']\n2020-06-22 03:38:00 ['python']\n2020-06-22 03:36:08 ['python']\n2020-06-15 06:40:30 ['apps', 'markdown']\n2020-06-14 07:20:02 ['windows', 'apps']\n2020-06-13 20:06:16 ['']\n2020-06-13 12:18:36 ['recipes']\n2020-06-13 05:03:24 ['games']\n2020-06-12 14:13:48 ['dataviz']\n2020-06-12 01:04:52 ['art', 'posters']\n2020-06-10 23:44:52 ['ai']\n2020-06-04 05:10:27 ['blogs']\n2020-06-04 02:11:58 ['analytics']\n2020-06-02 07:29:04 ['streamlit']\n2020-05-31 03:00:33 ['books', 'programming']\n"
    }
   ],
   "source": [
    "for b in links[\"posts\"]:\n",
    "    print(b.time, b.tags)"
   ]
  },
  {
   "cell_type": "code",
   "execution_count": null,
   "metadata": {},
   "outputs": [],
   "source": []
  },
  {
   "cell_type": "code",
   "execution_count": 172,
   "metadata": {},
   "outputs": [],
   "source": [
    "tag_posts = pb.posts.all(tag=[\"programming\"])"
   ]
  },
  {
   "cell_type": "code",
   "execution_count": 174,
   "metadata": {
    "tags": []
   },
   "outputs": [
    {
     "output_type": "stream",
     "name": "stdout",
     "text": "2020-05-31 03:00:33 ['books', 'programming']\n2018-03-14 07:07:19 ['programming']\n2017-02-27 23:27:15 ['python', 'programming', 'bayes']\n2016-11-15 22:35:31 ['programming', 'poster']\n2016-11-15 11:32:49 ['programming']\n"
    }
   ],
   "source": [
    "for b in tag_posts:\n",
    "    print(b.time, b.tags)"
   ]
  },
  {
   "cell_type": "markdown",
   "metadata": {},
   "source": [
    "## Read each file and parse front matter"
   ]
  },
  {
   "cell_type": "code",
   "execution_count": 34,
   "metadata": {},
   "outputs": [],
   "source": [
    "from markdown.extensions.codehilite import CodeHilite\n",
    "codehilite = CodeHilite(noclasses=True)"
   ]
  },
  {
   "cell_type": "code",
   "execution_count": 39,
   "metadata": {},
   "outputs": [],
   "source": [
    "txt = \"\"\"\n",
    "\n",
    "This is a \"test\" para. Here goes a line break:\n",
    "what does it do?\n",
    "\n",
    "```python\n",
    "print(3+3) # this is a comment\n",
    "```\n",
    "\n",
    "## Bash\n",
    "\n",
    "Most remote VM's are running a basic bash shell. Fix that by running\n",
    "\n",
    "```bash\n",
    "sudo apt update &&\n",
    "sudo apt install htop neofetch -y &&\n",
    "wget https://github.com/sharkdp/bat/releases/download/v0.15.1/bat-musl_0.15.1_amd64.deb &&\n",
    "sudo dpkg -i bat-musl_0.15.1_amd64.deb &&\n",
    "rm bat-musl_0.15.1_amd64.deb &&\n",
    "sh -c \"$(curl -fsSL https://raw.github.com/ohmybash/oh-my-bash/master/tools/install.sh)\"\n",
    "```\n",
    "\n",
    "## repos\n",
    "\n",
    "This updates repos - but doesn't upgrade as no need generally for a short lived VM and installs\n",
    "\n",
    "- [htop](https://hisham.hm/htop/): monitor machine use\n",
    "- neofetch: show machine overview\n",
    "- [Bat](https://github.com/sharkdp/bat): better cat with syntax highlighting\n",
    "- [oh-my-bash](https://ohmybash.github.io/) - makes the terminal look good\n",
    "\n",
    "If working with files:\n",
    "\n",
    "```bash\n",
    "sudo apt install fzf mc -y\n",
    "```\n",
    "\n",
    "- mc: file manager\n",
    "- fzf: fuzzy search\n",
    "\n",
    "## git\n",
    "\n",
    "Setup git by running the following inside a git repo (if needed).\n",
    "\n",
    "```bash\n",
    "git config --global user.name \"khalido\" &&\n",
    "git config --global user.email \"khalid.omar@gmail.com\" &&\n",
    "git config credential.helper 'cache --timeout=21600'\n",
    "```\n",
    "\n",
    "\n",
    "\n",
    "Note, there has gotta be a better way to do this.\n",
    "\"\"\""
   ]
  },
  {
   "cell_type": "code",
   "execution_count": 36,
   "metadata": {},
   "outputs": [],
   "source": []
  },
  {
   "cell_type": "code",
   "execution_count": 40,
   "metadata": {},
   "outputs": [],
   "source": [
    "# make enters into line breaks by adding \"nl2br\"\n",
    "extensions=[\"extra\", \"toc\", \"codehilite\"] # , \"smarty\" \n",
    "\n",
    "# https://help.farbox.com/pygments.html\n",
    "# monokai default\n",
    "\n",
    "extension_configs = {\n",
    "    'codehilite': {\n",
    "        'noclasses': True,\n",
    "        'linenums': False,\n",
    "        'pygments_style': \"monokai\"\n",
    "    },\n",
    "}"
   ]
  },
  {
   "cell_type": "code",
   "execution_count": 41,
   "metadata": {
    "tags": []
   },
   "outputs": [
    {
     "output_type": "stream",
     "name": "stdout",
     "text": "<div class=\"toc\">\n<ul>\n<li><a href=\"#twitter-embed\">twitter embed</a></li>\n</ul>\n</div>\n\n"
    }
   ],
   "source": [
    "print(md.toc)"
   ]
  },
  {
   "cell_type": "code",
   "execution_count": 10,
   "metadata": {
    "tags": []
   },
   "outputs": [
    {
     "output_type": "stream",
     "name": "stdout",
     "text": "6 posts converted and saved in dataframe\n"
    },
    {
     "output_type": "execute_result",
     "data": {
      "text/plain": "                                            title                       slug  \\\n0                              Visual Studio Code                    vs_code   \n1  Setting up Linux on a Chromebook with Crostini  setup-crostini-chromebook   \n2                                  Using Anaconda                   anaconda   \n3                     Jupyter Lab tips and tricks                 jupyterlab   \n4                          Setting up my own blog         building_this_blog   \n5                     Testing note in a subfolder          note_in_subfolder   \n\n                     date                 lastmod  \\\n0 2019-10-10 00:00:00.000 2019-10-10 00:00:00.000   \n1 2018-08-24 00:00:00.000 2019-08-07 00:00:00.000   \n2 2020-06-17 10:05:57.290 2020-06-17 10:05:57.290   \n3 2019-08-04 00:00:00.000 2020-06-17 10:06:10.030   \n4 2020-06-14 00:00:00.000 2019-08-07 00:00:00.000   \n5 2020-06-14 00:00:00.000 2019-08-07 00:00:00.000   \n\n                                   path                      filename  \\\n0                      notes/vs_code.md                    vs_code.md   \n1    notes/setup-crostini-chromebook.md  setup-crostini-chromebook.md   \n2                     notes/anaconda.md                   anaconda.md   \n3                   notes/jupyterlab.md                 jupyterlab.md   \n4           notes/building_this_blog.md         building_this_blog.md   \n5  notes/sub_notes/note_in_subfolder.md          note_in_subfolder.md   \n\n                                        front_matter  \\\n0  {'title': 'Visual Studio Code', 'date': 2019-1...   \n1  {'title': 'Setting up Linux on a Chromebook wi...   \n2    {'title': 'Using Anaconda', 'tags': ['python']}   \n3  {'title': 'Jupyter Lab tips and tricks', 'date...   \n4  {'title': 'Setting up my own blog', 'date': 20...   \n5  {'title': 'Testing note in a subfolder', 'date...   \n\n                                            markdown           tags  \\\n0  VS Code has so many extensions and stuff, that...         [apps]   \n1  ChromeOS supports a built in Linux - running i...  [chromebooks]   \n2  ## Install Anaconda\\n\\nThere seems to be two m...       [python]   \n3  My collection of tips and tricks for using jup...      [jupyter]   \n4  Hereby I talk through writing my own blog engi...       [python]   \n5  This note is inside a subfolder.\\n\\n## twitter...       [python]   \n\n                                                html  \n0  <p>VS Code has so many extensions and stuff, t...  \n1  <p>ChromeOS supports a built in Linux - runnin...  \n2  <h2 id=\"install-anaconda\">Install Anaconda</h2...  \n3  <p>My collection of tips and tricks for using ...  \n4  <p>Hereby I talk through writing my own blog e...  \n5  <p>This note is inside a subfolder.</p>\\n<h2 i...  ",
      "text/html": "<div>\n<style scoped>\n    .dataframe tbody tr th:only-of-type {\n        vertical-align: middle;\n    }\n\n    .dataframe tbody tr th {\n        vertical-align: top;\n    }\n\n    .dataframe thead th {\n        text-align: right;\n    }\n</style>\n<table border=\"1\" class=\"dataframe\">\n  <thead>\n    <tr style=\"text-align: right;\">\n      <th></th>\n      <th>title</th>\n      <th>slug</th>\n      <th>date</th>\n      <th>lastmod</th>\n      <th>path</th>\n      <th>filename</th>\n      <th>front_matter</th>\n      <th>markdown</th>\n      <th>tags</th>\n      <th>html</th>\n    </tr>\n  </thead>\n  <tbody>\n    <tr>\n      <th>0</th>\n      <td>Visual Studio Code</td>\n      <td>vs_code</td>\n      <td>2019-10-10 00:00:00.000</td>\n      <td>2019-10-10 00:00:00.000</td>\n      <td>notes/vs_code.md</td>\n      <td>vs_code.md</td>\n      <td>{'title': 'Visual Studio Code', 'date': 2019-1...</td>\n      <td>VS Code has so many extensions and stuff, that...</td>\n      <td>[apps]</td>\n      <td>&lt;p&gt;VS Code has so many extensions and stuff, t...</td>\n    </tr>\n    <tr>\n      <th>1</th>\n      <td>Setting up Linux on a Chromebook with Crostini</td>\n      <td>setup-crostini-chromebook</td>\n      <td>2018-08-24 00:00:00.000</td>\n      <td>2019-08-07 00:00:00.000</td>\n      <td>notes/setup-crostini-chromebook.md</td>\n      <td>setup-crostini-chromebook.md</td>\n      <td>{'title': 'Setting up Linux on a Chromebook wi...</td>\n      <td>ChromeOS supports a built in Linux - running i...</td>\n      <td>[chromebooks]</td>\n      <td>&lt;p&gt;ChromeOS supports a built in Linux - runnin...</td>\n    </tr>\n    <tr>\n      <th>2</th>\n      <td>Using Anaconda</td>\n      <td>anaconda</td>\n      <td>2020-06-17 10:05:57.290</td>\n      <td>2020-06-17 10:05:57.290</td>\n      <td>notes/anaconda.md</td>\n      <td>anaconda.md</td>\n      <td>{'title': 'Using Anaconda', 'tags': ['python']}</td>\n      <td>## Install Anaconda\\n\\nThere seems to be two m...</td>\n      <td>[python]</td>\n      <td>&lt;h2 id=\"install-anaconda\"&gt;Install Anaconda&lt;/h2...</td>\n    </tr>\n    <tr>\n      <th>3</th>\n      <td>Jupyter Lab tips and tricks</td>\n      <td>jupyterlab</td>\n      <td>2019-08-04 00:00:00.000</td>\n      <td>2020-06-17 10:06:10.030</td>\n      <td>notes/jupyterlab.md</td>\n      <td>jupyterlab.md</td>\n      <td>{'title': 'Jupyter Lab tips and tricks', 'date...</td>\n      <td>My collection of tips and tricks for using jup...</td>\n      <td>[jupyter]</td>\n      <td>&lt;p&gt;My collection of tips and tricks for using ...</td>\n    </tr>\n    <tr>\n      <th>4</th>\n      <td>Setting up my own blog</td>\n      <td>building_this_blog</td>\n      <td>2020-06-14 00:00:00.000</td>\n      <td>2019-08-07 00:00:00.000</td>\n      <td>notes/building_this_blog.md</td>\n      <td>building_this_blog.md</td>\n      <td>{'title': 'Setting up my own blog', 'date': 20...</td>\n      <td>Hereby I talk through writing my own blog engi...</td>\n      <td>[python]</td>\n      <td>&lt;p&gt;Hereby I talk through writing my own blog e...</td>\n    </tr>\n    <tr>\n      <th>5</th>\n      <td>Testing note in a subfolder</td>\n      <td>note_in_subfolder</td>\n      <td>2020-06-14 00:00:00.000</td>\n      <td>2019-08-07 00:00:00.000</td>\n      <td>notes/sub_notes/note_in_subfolder.md</td>\n      <td>note_in_subfolder.md</td>\n      <td>{'title': 'Testing note in a subfolder', 'date...</td>\n      <td>This note is inside a subfolder.\\n\\n## twitter...</td>\n      <td>[python]</td>\n      <td>&lt;p&gt;This note is inside a subfolder.&lt;/p&gt;\\n&lt;h2 i...</td>\n    </tr>\n  </tbody>\n</table>\n</div>"
     },
     "metadata": {},
     "execution_count": 10
    }
   ],
   "source": [
    "# configure python markdown parser\n",
    "\n",
    "# make enters into line breaks by adding \"nl2br\"\n",
    "extensions=[\"extra\", \"toc\", \"codehilite\"] # , \"smarty\" \n",
    "\n",
    "# https://help.farbox.com/pygments.html\n",
    "# monokai default\n",
    "\n",
    "extension_configs = {\n",
    "    'codehilite': {\n",
    "        'noclasses': True,\n",
    "        'linenums': False,\n",
    "        'pygments_style': \"monokai\"\n",
    "    },\n",
    "}\n",
    "\n",
    "md = markdown.Markdown(extensions=extensions, extension_configs=extension_configs)\n",
    "\n",
    "# paths\n",
    "md_paths = [f for f in path.rglob(\"*.md\")]\n",
    "notebook_paths = [f for f in path.rglob(\"*.ipynb\")]\n",
    "\n",
    "data = [] # holds all the posts\n",
    "tags = defaultdict(set) # holds set of all posts for every tag\n",
    "\n",
    "for p in md_paths:\n",
    "    d = {} # one dict for each post\n",
    "    all_txt = p.read_text() \n",
    "\n",
    "    # extract front matter b/w \"---\" lines\n",
    "    n = all_txt[3:].find(\"---\") + 3\n",
    "    fm = yaml.load(all_txt[:n]) # front matter dict\n",
    "    txt = all_txt[n+3:].strip() # text excluding front matter\n",
    "\n",
    "    # now add values I care about to the dict\n",
    "    d[\"title\"] = fm[\"title\"]\n",
    "    \n",
    "    if fm.get(\"slug\"):\n",
    "        d[\"slug\"] = fm[\"slug\"]\n",
    "    else:\n",
    "        d[\"slug\"] = p.name.split(\".\")[0]\n",
    "\n",
    "    # add created date\n",
    "    try:\n",
    "        d[\"date\"] = fm[\"date\"]\n",
    "    except:\n",
    "        dt = datetime.fromtimestamp(p.stat().st_ctime) # create time of file\n",
    "        d[\"date\"] = dt\n",
    "\n",
    "    # add last modified data\n",
    "    try:\n",
    "        d[\"lastmod\"] = fm[\"lastmod\"]\n",
    "    except:\n",
    "        dt = datetime.fromtimestamp(p.stat().st_mtime)\n",
    "        d[\"lastmod\"] = dt\n",
    "    \n",
    "    d[\"path\"] = p\n",
    "    d[\"filename\"] = p.name\n",
    "    d[\"front_matter\"] = fm\n",
    "    d[\"markdown\"] = txt\n",
    "    \n",
    "    d[\"tags\"] = fm[\"tags\"]\n",
    "    for tag in fm[\"tags\"]:\n",
    "        tags[tag].add(d[\"slug\"])\n",
    "\n",
    "    d[\"html\"] = md.convert(txt) \n",
    "    \n",
    "    data.append(d)\n",
    "\n",
    "df = pd.DataFrame(data) #.set_index(\"filename\")\n",
    "print(f\"{len(df)} posts converted and saved in dataframe\")\n",
    "df"
   ]
  },
  {
   "cell_type": "markdown",
   "metadata": {},
   "source": [
    "## Output"
   ]
  },
  {
   "cell_type": "code",
   "execution_count": 37,
   "metadata": {
    "tags": []
   },
   "outputs": [
    {
     "output_type": "stream",
     "name": "stdout",
     "text": "<class 'list'> <class 'dict'> <class 'collections.defaultdict'>\ndict_keys(['apps', 'books', 'statistics', 'chromebooks', 'python', 'jupyter'])\n"
    },
    {
     "output_type": "display_data",
     "data": {
      "text/plain": "<IPython.core.display.Markdown object>",
      "text/markdown": "\n**Post slugs**"
     },
     "metadata": {}
    },
    {
     "output_type": "stream",
     "name": "stdout",
     "text": "books/stats-done-wrong-book.html\npython/building_this_blog.html\npython/anaconda.html\npython/note_in_subfolder.html\napps/vs_code.html\njupyter/jupyterlab.html\nchromebooks/setup-crostini-chromebook.html\n"
    }
   ],
   "source": [
    "posts, postsdict, tags = blog.get_posts()\n",
    "print(type(posts), type(postsdict), type(tags))\n",
    "print(tags.keys())\n",
    "\n",
    "printmd(\"\\n**Post slugs**\")\n",
    "for post in posts:\n",
    "    print(post.link)"
   ]
  },
  {
   "cell_type": "code",
   "execution_count": 45,
   "metadata": {
    "tags": []
   },
   "outputs": [],
   "source": [
    "from mako.template import Template\n",
    "from mako.lookup import TemplateLookup\n",
    "\n",
    "lookup = TemplateLookup(directories=[\"templates\"])"
   ]
  },
  {
   "cell_type": "code",
   "execution_count": 39,
   "metadata": {
    "tags": []
   },
   "outputs": [
    {
     "output_type": "execute_result",
     "data": {
      "text/plain": "'[{\"title\": \"Statistics Done Wrong: The Woefully Complete Guide\", \"tags\": [\"books\", \"statistics\"], \"link\": \"books/stats-done-wrong-book.html\"}, {\"title\": \"how the blog was built\", \"tags\": [\"python\"], \"link\": \"python/building_this_blog.html\"}, {\"title\": \"Using Anaconda\", \"tags\": [\"python\"], \"link\": \"python/anaconda.html\"}, {\"title\": \"Testing note in a subfolder\", \"tags\": [\"python\"], \"link\": \"python/note_in_subfolder.html\"}, {\"title\": \"Visual Studio Code\", \"tags\": [\"apps\"], \"link\": \"apps/vs_code.html\"}, {\"title\": \"Jupyter Lab tips and tricks\", \"tags\": [\"jupyter\"], \"link\": \"jupyter/jupyterlab.html\"}, {\"title\": \"Setting up Linux on a Chromebook with Crostini\", \"tags\": [\"chromebooks\"], \"link\": \"chromebooks/setup-crostini-chromebook.html\"}]'"
     },
     "metadata": {},
     "execution_count": 39
    }
   ],
   "source": [
    "def search_json(posts, path=path_publish):\n",
    "    \"\"\"makes a json of the posts info to search, returns json string\n",
    "    and writes to disk\"\"\"\n",
    "\n",
    "    search_list = [\n",
    "        {\"title\": post.title, \"tags\": post.tags, \"link\": post.link} \n",
    "        for post in posts]\n",
    "\n",
    "    posts_json = json.dumps(search_list)\n",
    "    path = path / \"posts.json\"\n",
    "    make_folder(path)\n",
    "    \n",
    "    path.write_text(posts_json)\n",
    "    return posts_json\n",
    "\n",
    "postsjson = search_json(posts)\n",
    "postsjson"
   ]
  },
  {
   "cell_type": "code",
   "execution_count": 16,
   "metadata": {
    "tags": []
   },
   "outputs": [
    {
     "output_type": "stream",
     "name": "stdout",
     "text": "dist/test/test12 folder made\n"
    }
   ],
   "source": [
    "def make_folder(path, debug: bool=False):\n",
    "    \"\"\"makes parent folders if they don't exist for a path\"\"\"\n",
    "\n",
    "    # assume the last thing is a file if there is a dot in the name\n",
    "    if \".\" in path.name:\n",
    "        path = path.parent\n",
    "    \n",
    "    try:\n",
    "        path.mkdir(parents=True, exist_ok=False)\n",
    "        if debug: print(f\"{path} folder made\")\n",
    "    except FileExistsError:\n",
    "        if debug: print(f\"{path} folder already exists\")\n",
    "        pass\n",
    "\n",
    "make_folder(path=path_publish / \"test\" / \"test12\"/ \"test.html\", debug=True)"
   ]
  },
  {
   "cell_type": "code",
   "execution_count": 48,
   "metadata": {
    "tags": []
   },
   "outputs": [
    {
     "output_type": "stream",
     "name": "stdout",
     "text": "wrote index.html to dist/index.html\nwrote index.html to dist/apps/index.html\nwrote index.html to dist/books/index.html\nwrote index.html to dist/statistics/index.html\nwrote index.html to dist/chromebooks/index.html\nwrote index.html to dist/python/index.html\nwrote index.html to dist/jupyter/index.html\nwrote stats-done-wrong-book to dist/books/stats-done-wrong-book.html\nwrote building_this_blog to dist/python/building_this_blog.html\nwrote anaconda to dist/python/anaconda.html\nwrote note_in_subfolder to dist/python/note_in_subfolder.html\nwrote vs_code to dist/apps/vs_code.html\nwrote jupyterlab to dist/jupyter/jupyterlab.html\nwrote setup-crostini-chromebook to dist/chromebooks/setup-crostini-chromebook.html\n"
    }
   ],
   "source": [
    "def write_posts(tmpl:str = \"post.html\", posts=posts):\n",
    "    \"\"\"makes a html index page in the foldername using list of posts passed in\n",
    "    \n",
    "    Args:\n",
    "        tmpl: name of templete\n",
    "        posts: list of posts\n",
    "    \"\"\"\n",
    "    \n",
    "    template = lookup.get_template(tmpl)\n",
    "\n",
    "    for post in posts:\n",
    "        html = template.render(post=post).strip()\n",
    "        \n",
    "        # publish each post inside its first tag folder\n",
    "        if post.tags:\n",
    "            path = path_publish / post.tags[0]\n",
    "        else:\n",
    "            path = path_publish\n",
    "\n",
    "        make_folder(path) # make folder in case\n",
    "\n",
    "        path = path / f\"{post.slug}.html\"\n",
    "        \n",
    "        path.write_text(html)\n",
    "        print(f\"wrote {post.slug} to {path}\")\n",
    "\n",
    "\n",
    "def write_index_page(tmpl:str = \"index.html\", foldername=None, posts=posts):\n",
    "    \"\"\"makes a html index page in the foldername using list of posts passed in\n",
    "    \n",
    "    Args:\n",
    "        tmpl: name of templete\n",
    "        foldername: name of folder to create\n",
    "        posts: list of posts\n",
    "    \"\"\"\n",
    "    \n",
    "    template = lookup.get_template(tmpl)\n",
    "    path = path_publish\n",
    "\n",
    "    if foldername:\n",
    "        path = path / foldername\n",
    "    \n",
    "    make_folder(path) # make folder in case it doesn't exist\n",
    "    \n",
    "    # get json for fusejs search object\n",
    "    # todo: modify js to read json from disk instead of passing obj\n",
    "    postsjson = search_json(posts, path)\n",
    "    \n",
    "    html = template.render(posts=posts, postsjson=postsjson).strip()\n",
    "    \n",
    "    # write to disk\n",
    "    path = path / tmpl\n",
    "    path.write_text(html)\n",
    "    print(f\"wrote {tmpl} to {path}\")\n",
    "\n",
    "def write_tags(posts=posts):\n",
    "    \"\"\"writes an index.html file for each tag\"\"\"\n",
    "    for tag in tags.keys():\n",
    "        # filter posts\n",
    "        tag_posts = [post for post in posts if tag in post.tags]\n",
    "        # using the same index page for now\n",
    "        write_index_page(foldername=tag, posts=tag_posts)\n",
    "\n",
    "write_index_page(foldername=\"\", posts=posts)\n",
    "write_tags()\n",
    "write_posts(posts=posts)"
   ]
  },
  {
   "cell_type": "code",
   "execution_count": 25,
   "metadata": {},
   "outputs": [
    {
     "output_type": "execute_result",
     "data": {
      "text/plain": "('chromebooks', 'setup-crostini-chromebook')"
     },
     "metadata": {},
     "execution_count": 25
    }
   ],
   "source": [
    "post.tags[0], post.slug"
   ]
  },
  {
   "cell_type": "code",
   "execution_count": 26,
   "metadata": {
    "tags": []
   },
   "outputs": [
    {
     "output_type": "stream",
     "name": "stdout",
     "text": "wrote index.html to dist/index.html\nwrote stats-done-wrong-book to dist/stats-done-wrong-book.html\nwrote building_this_blog to dist/building_this_blog.html\nwrote anaconda to dist/anaconda.html\nwrote note_in_subfolder to dist/note_in_subfolder.html\nwrote vs_code to dist/vs_code.html\nwrote jupyterlab to dist/jupyterlab.html\nwrote setup-crostini-chromebook to dist/setup-crostini-chromebook.html\n"
    }
   ],
   "source": [
    "# make the big picture templates\n",
    "for tmpl in [\"index.html\"]:\n",
    "    template = lookup.get_template(tmpl)\n",
    "    html = template.render(posts=posts, postsjson=postsjson).strip()\n",
    "    path = path_publish / tmpl\n",
    "    path.write_text(html)\n",
    "    print(f\"wrote {tmpl} to {path}\")\n",
    "\n",
    "# write all the posts\n",
    "template = lookup.get_template(\"post.html\")\n",
    "for post in posts:\n",
    "    html = template.render(post=post).strip()\n",
    "    path = path_publish / f\"{post.slug}.html\"\n",
    "    path.write_text(html)\n",
    "    print(f\"wrote {post.slug} to {path}\")"
   ]
  },
  {
   "cell_type": "code",
   "execution_count": 37,
   "metadata": {},
   "outputs": [
    {
     "output_type": "execute_result",
     "data": {
      "text/plain": "['anaconda.html',\n 'building_this_blog.html',\n 'vs_code.html',\n 'stats-done-wrong-book.html',\n 'setup-crostini-chromebook.html',\n 'jupyterlab.html',\n 'note_in_subfolder.html',\n 'index.html']"
     },
     "metadata": {},
     "execution_count": 37
    }
   ],
   "source": [
    "os.listdir(path_publish)"
   ]
  },
  {
   "cell_type": "code",
   "execution_count": 41,
   "metadata": {
    "tags": []
   },
   "outputs": [
    {
     "output_type": "stream",
     "name": "stdout",
     "text": "['books', 'statistics']\n['python']\n['python']\n['python']\n['apps']\n['jupyter']\n['chromebooks']\n"
    }
   ],
   "source": [
    "for post in posts:\n",
    "    print(post.tags)"
   ]
  },
  {
   "cell_type": "code",
   "execution_count": 63,
   "metadata": {},
   "outputs": [
    {
     "output_type": "execute_result",
     "data": {
      "text/plain": "'[{\"title\": \"Statistics Done Wrong: The Woefully Complete Guide\", \"tags\": [\"books\", \"statistics\"], \"link\": \"stats-done-wrong-book.html\"}, {\"title\": \"how the blog was built\", \"tags\": [\"python\"], \"link\": \"building_this_blog.html\"}, {\"title\": \"Using Anaconda\", \"tags\": [\"python\"], \"link\": \"anaconda.html\"}, {\"title\": \"Testing note in a subfolder\", \"tags\": [\"python\"], \"link\": \"note_in_subfolder.html\"}, {\"title\": \"Visual Studio Code\", \"tags\": [\"apps\"], \"link\": \"vs_code.html\"}, {\"title\": \"Jupyter Lab tips and tricks\", \"tags\": [\"jupyter\"], \"link\": \"jupyterlab.html\"}, {\"title\": \"Setting up Linux on a Chromebook with Crostini\", \"tags\": [\"chromebooks\"], \"link\": \"setup-crostini-chromebook.html\"}]'"
     },
     "metadata": {},
     "execution_count": 63
    }
   ],
   "source": [
    "def searchlist(posts):\n",
    "    \"\"\"returns a json string of a list of search stuff\"\"\"\n",
    "    search_list = [{\"title\": post.title, \"tags\": post.tags, \"link\": f\"{post.slug}.html\"} for post in posts]\n",
    "    return json.dumps(search_list)\n",
    "\n",
    "postsjson = searchlist(posts)\n",
    "postsjson"
   ]
  },
  {
   "cell_type": "code",
   "execution_count": null,
   "metadata": {},
   "outputs": [],
   "source": []
  }
 ],
 "metadata": {
  "language_info": {
   "codemirror_mode": {
    "name": "ipython",
    "version": 3
   },
   "file_extension": ".py",
   "mimetype": "text/x-python",
   "name": "python",
   "nbconvert_exporter": "python",
   "pygments_lexer": "ipython3",
   "version": "3.8.1-final"
  },
  "orig_nbformat": 2,
  "kernelspec": {
   "name": "python38164bitpy38conda6fd3a50ab5434608bb05db1f6a6bff5a",
   "display_name": "Python 3.8.1 64-bit ('py38': conda)"
  }
 },
 "nbformat": 4,
 "nbformat_minor": 2
}