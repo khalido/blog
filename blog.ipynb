{
 "cells": [
  {
   "cell_type": "code",
   "execution_count": 107,
   "metadata": {
    "tags": []
   },
   "outputs": [
    {
     "output_type": "stream",
     "name": "stdout",
     "text": "The autoreload extension is already loaded. To reload it, use:\n  %reload_ext autoreload\n"
    }
   ],
   "source": [
    "import os\n",
    "import shutil\n",
    "import json\n",
    "from pathlib import Path\n",
    "from dataclasses import dataclass\n",
    "from configparser import ConfigParser\n",
    "import yaml\n",
    "import re\n",
    "import pandas as pd\n",
    "#from tqdm.auto import tqdm\n",
    "from datetime import datetime\n",
    "import markdown\n",
    "import nbconvert\n",
    "from collections import defaultdict\n",
    "from dataclasses import dataclass\n",
    "\n",
    "from pymdownx import emoji\n",
    "\n",
    "import nbformat\n",
    "\n",
    "from IPython.display import display, Markdown\n",
    "\n",
    "%load_ext autoreload\n",
    "%autoreload 2\n",
    "#import blog"
   ]
  },
  {
   "cell_type": "code",
   "execution_count": 109,
   "metadata": {},
   "outputs": [
    {
     "output_type": "execute_result",
     "data": {
      "text/plain": "<module 'pymdownx.emoji' from 'C:\\\\Users\\\\khali\\\\anaconda3\\\\envs\\\\py38\\\\lib\\\\site-packages\\\\pymdownx\\\\emoji.py'>"
     },
     "metadata": {},
     "execution_count": 109
    }
   ],
   "source": [
    "pymdownx.emoji"
   ]
  },
  {
   "cell_type": "code",
   "execution_count": 62,
   "metadata": {},
   "outputs": [],
   "source": [
    "def printmd(text):\n",
    "    display(Markdown(text))"
   ]
  },
  {
   "cell_type": "markdown",
   "metadata": {},
   "source": [
    "## config\n",
    "\n",
    "All the config is saved in a config.ini file"
   ]
  },
  {
   "cell_type": "code",
   "execution_count": 63,
   "metadata": {
    "tags": []
   },
   "outputs": [
    {
     "output_type": "stream",
     "name": "stdout",
     "text": "blog: [('posts', 'notes'), ('notebooks', 'notebooks'), ('publish', 'dist'), ('static', 'static'), ('title', '\"This is a blog\"')]\n"
    }
   ],
   "source": [
    "config = ConfigParser()\n",
    "config.read(\"config.ini\")\n",
    "for section in config.sections():\n",
    "    print(f\"{section}: {config.items(section)}\")"
   ]
  },
  {
   "cell_type": "code",
   "execution_count": 93,
   "metadata": {},
   "outputs": [
    {
     "output_type": "execute_result",
     "data": {
      "text/plain": "(WindowsPath('notes'), WindowsPath('dist'), WindowsPath('static'))"
     },
     "metadata": {},
     "execution_count": 93
    }
   ],
   "source": [
    "path_md = blog.path_md\n",
    "path_nb = blog.path_nb\n",
    "path_publish = blog.path_publish\n",
    "path_static = blog.path_static\n",
    "path_md, path_publish, path_static"
   ]
  },
  {
   "cell_type": "code",
   "execution_count": 78,
   "metadata": {
    "tags": []
   },
   "outputs": [
    {
     "output_type": "stream",
     "name": "stdout",
     "text": "converting notebooks\\monty_hall.ipynb\n\nconverted 2 notebooks to markdown files\nconverting notebooks\\test.ipynb\n\nconverted 2 notebooks to markdown files\n"
    },
    {
     "output_type": "execute_result",
     "data": {
      "text/plain": "defaultdict(set,\n            {'python': {'anaconda',\n              'building_this_blog',\n              'monty_hall',\n              'note_in_subfolder',\n              'test'},\n             'jupyter': {'jupyterlab'},\n             'chromebooks': {'setup-crostini-chromebook'},\n             'books': {'stats-done-wrong-book'},\n             'statistics': {'stats-done-wrong-book'},\n             'apps': {'vs_code'}})"
     },
     "metadata": {},
     "execution_count": 78
    }
   ],
   "source": [
    "posts, postsdict, tags = blog.get_posts()\n",
    "tags # dict of tags to posts. sort this too?"
   ]
  },
  {
   "cell_type": "code",
   "execution_count": 82,
   "metadata": {
    "tags": []
   },
   "outputs": [
    {
     "output_type": "stream",
     "name": "stdout",
     "text": "tag: python\ntest 2020-07-28 tmp\\test.md\nanaconda 2020-07-25 notes\\anaconda.md\nbuilding_this_blog 2020-07-14 notes\\building_this_blog.md\nnote_in_subfolder 2020-06-14 notes\\sub_notes\\note_in_subfolder.md\nmonty_hall 2019-07-05 tmp\\monty_hall.md\n---------------\ntag: jupyter\njupyterlab 2019-08-04 notes\\jupyterlab.md\n---------------\ntag: chromebooks\nsetup-crostini-chromebook 2018-08-24 notes\\setup-crostini-chromebook.md\n---------------\ntag: books\nstats-done-wrong-book 2020-07-25 notes\\stats-done-wrong-book.md\n---------------\ntag: statistics\nstats-done-wrong-book 2020-07-25 notes\\stats-done-wrong-book.md\n---------------\ntag: apps\nvs_code 2019-10-10 notes\\vs_code.md\n---------------\n"
    }
   ],
   "source": [
    "for t in tags.keys():\n",
    "    print(f\"tag: {t}\")\n",
    "    for s in sorted(tags[t], key = lambda x: postsdict[x].date, reverse=True):\n",
    "        print(postsdict[s].slug, postsdict[s].date, postsdict[s].path)\n",
    "        #print(postsdict[s].html[:22])\n",
    "    print(\"---------------\")"
   ]
  },
  {
   "cell_type": "code",
   "execution_count": 83,
   "metadata": {
    "tags": []
   },
   "outputs": [
    {
     "output_type": "stream",
     "name": "stdout",
     "text": "python {'building_this_blog', 'test', 'monty_hall', 'note_in_subfolder', 'anaconda'}\njupyter {'jupyterlab'}\nchromebooks {'setup-crostini-chromebook'}\nbooks {'stats-done-wrong-book'}\nstatistics {'stats-done-wrong-book'}\napps {'vs_code'}\n"
    }
   ],
   "source": [
    "for tag, pp in tags.items():\n",
    "    print(tag, pp)"
   ]
  },
  {
   "cell_type": "code",
   "execution_count": 84,
   "metadata": {
    "tags": []
   },
   "outputs": [
    {
     "output_type": "stream",
     "name": "stdout",
     "text": "2020-07-28 blogging with jupyter notebooks test\n2020-07-25 Using Anaconda anaconda\n2020-07-25 Statistics Done Wrong: The Woefully Complete Guide wrong-book\n2020-07-14 how the blog was built _this_blog\n2020-06-14 Testing note in a subfolder _subfolder\n2019-10-10 Visual Studio Code vs_code\n2019-08-04 Jupyter Lab tips and tricks jupyterlab\n2019-07-05 Monty Hall monty_hall\n2018-08-24 Setting up Linux on a Chromebook with Crostini chromebook\n"
    }
   ],
   "source": [
    "for p in posts:\n",
    "    print(p.date, p.title, p.slug[-10:])"
   ]
  },
  {
   "cell_type": "code",
   "execution_count": 85,
   "metadata": {
    "tags": []
   },
   "outputs": [
    {
     "output_type": "stream",
     "name": "stdout",
     "text": "test 2020-07-28\nhas toc\nanaconda 2020-07-25\nno toc\nstats-done-wrong-book 2020-07-25\nno toc\nbuilding_this_blog 2020-07-14\nhas toc\nnote_in_subfolder 2020-06-14\nhas toc\nvs_code 2019-10-10\nno toc\njupyterlab 2019-08-04\nno toc\nmonty_hall 2019-07-05\nno toc\nsetup-crostini-chromebook 2018-08-24\nhas toc\n"
    }
   ],
   "source": [
    "for slug, p in postsdict.items():\n",
    "    print(slug, p.date)\n",
    "    if p.toc:\n",
    "        print(\"has toc\")\n",
    "    else:\n",
    "        print(\"no toc\")"
   ]
  },
  {
   "cell_type": "markdown",
   "metadata": {},
   "source": [
    "## Pinboard"
   ]
  },
  {
   "cell_type": "code",
   "execution_count": 11,
   "metadata": {},
   "outputs": [
    {
     "output_type": "error",
     "ename": "TypeError",
     "evalue": "'NoneType' object is not subscriptable",
     "traceback": [
      "\u001b[0;31m---------------------------------------------------------------------------\u001b[0m",
      "\u001b[0;31mTypeError\u001b[0m                                 Traceback (most recent call last)",
      "\u001b[0;32m<ipython-input-11-0338e1410ef6>\u001b[0m in \u001b[0;36m<module>\u001b[0;34m\u001b[0m\n\u001b[1;32m      1\u001b[0m \u001b[0mpb_token\u001b[0m \u001b[0;34m=\u001b[0m \u001b[0mos\u001b[0m\u001b[0;34m.\u001b[0m\u001b[0menviron\u001b[0m\u001b[0;34m.\u001b[0m\u001b[0mget\u001b[0m\u001b[0;34m(\u001b[0m\u001b[0;34m\"PB_TOKEN\"\u001b[0m\u001b[0;34m)\u001b[0m\u001b[0;34m\u001b[0m\u001b[0;34m\u001b[0m\u001b[0m\n\u001b[0;32m----> 2\u001b[0;31m \u001b[0mpb_token\u001b[0m\u001b[0;34m[\u001b[0m\u001b[0;34m:\u001b[0m\u001b[0;36m4\u001b[0m\u001b[0;34m]\u001b[0m\u001b[0;34m\u001b[0m\u001b[0;34m\u001b[0m\u001b[0m\n\u001b[0m",
      "\u001b[0;31mTypeError\u001b[0m: 'NoneType' object is not subscriptable"
     ]
    }
   ],
   "source": [
    "pb_token = os.environ.get(\"PB_TOKEN\")\n",
    "pb_token[:4]"
   ]
  },
  {
   "cell_type": "code",
   "execution_count": 13,
   "metadata": {},
   "outputs": [
    {
     "output_type": "execute_result",
     "data": {
      "text/plain": "datetime.datetime(2020, 7, 10, 22, 49, 29)"
     },
     "metadata": {},
     "execution_count": 13
    }
   ],
   "source": [
    "import pinboard\n",
    "pb = pinboard.Pinboard(pb_token)\n",
    "\n",
    "# check its working\n",
    "pb.posts.update() # should return most recent updated date"
   ]
  },
  {
   "cell_type": "code",
   "execution_count": 175,
   "metadata": {},
   "outputs": [],
   "source": [
    "all_posts = pb.posts.all() # list of all bookmarks"
   ]
  },
  {
   "cell_type": "code",
   "execution_count": 196,
   "metadata": {
    "tags": []
   },
   "outputs": [
    {
     "output_type": "execute_result",
     "data": {
      "text/plain": "('What I learned from looking at 200 machine learning tools',\n ['ai'],\n '',\n 'https://huyenchip.com/2020/06/22/mlops.html',\n datetime.datetime(2020, 6, 24, 4, 39, 45))"
     },
     "metadata": {},
     "execution_count": 196
    }
   ],
   "source": [
    "# the api returns a class obj\n",
    "bookmark = all_posts[0]\n",
    "# useful fields in that object:\n",
    "bookmark.description, bookmark.tags, bookmark.extended, bookmark.url, bookmark.time"
   ]
  },
  {
   "cell_type": "code",
   "execution_count": 149,
   "metadata": {},
   "outputs": [],
   "source": [
    "links = pb.posts.recent()"
   ]
  },
  {
   "cell_type": "code",
   "execution_count": 171,
   "metadata": {
    "tags": []
   },
   "outputs": [
    {
     "output_type": "stream",
     "name": "stdout",
     "text": "2020-06-24 04:39:45 ['ai']\n2020-06-22 03:38:00 ['python']\n2020-06-22 03:36:08 ['python']\n2020-06-15 06:40:30 ['apps', 'markdown']\n2020-06-14 07:20:02 ['windows', 'apps']\n2020-06-13 20:06:16 ['']\n2020-06-13 12:18:36 ['recipes']\n2020-06-13 05:03:24 ['games']\n2020-06-12 14:13:48 ['dataviz']\n2020-06-12 01:04:52 ['art', 'posters']\n2020-06-10 23:44:52 ['ai']\n2020-06-04 05:10:27 ['blogs']\n2020-06-04 02:11:58 ['analytics']\n2020-06-02 07:29:04 ['streamlit']\n2020-05-31 03:00:33 ['books', 'programming']\n"
    }
   ],
   "source": [
    "for b in links[\"posts\"]:\n",
    "    print(b.time, b.tags)"
   ]
  },
  {
   "cell_type": "code",
   "execution_count": null,
   "metadata": {},
   "outputs": [],
   "source": []
  },
  {
   "cell_type": "code",
   "execution_count": 172,
   "metadata": {},
   "outputs": [],
   "source": [
    "tag_posts = pb.posts.all(tag=[\"programming\"])"
   ]
  },
  {
   "cell_type": "code",
   "execution_count": 174,
   "metadata": {
    "tags": []
   },
   "outputs": [
    {
     "output_type": "stream",
     "name": "stdout",
     "text": "2020-05-31 03:00:33 ['books', 'programming']\n2018-03-14 07:07:19 ['programming']\n2017-02-27 23:27:15 ['python', 'programming', 'bayes']\n2016-11-15 22:35:31 ['programming', 'poster']\n2016-11-15 11:32:49 ['programming']\n"
    }
   ],
   "source": [
    "for b in tag_posts:\n",
    "    print(b.time, b.tags)"
   ]
  },
  {
   "cell_type": "markdown",
   "metadata": {},
   "source": [
    "## Read each file and parse front matter"
   ]
  },
  {
   "cell_type": "code",
   "execution_count": 86,
   "metadata": {},
   "outputs": [],
   "source": [
    "from markdown.extensions.codehilite import CodeHilite\n",
    "codehilite = CodeHilite(noclasses=True)"
   ]
  },
  {
   "cell_type": "code",
   "execution_count": 87,
   "metadata": {},
   "outputs": [],
   "source": [
    "txt = \"\"\"\n",
    "\n",
    "This is a \"test\" para. Here goes a line break:\n",
    "what does it do?\n",
    "\n",
    "```python\n",
    "print(3+3) # this is a comment\n",
    "```\n",
    "\n",
    "## Bash\n",
    "\n",
    "Most remote VM's are running a basic bash shell. Fix that by running\n",
    "\n",
    "```bash\n",
    "sudo apt update &&\n",
    "sudo apt install htop neofetch -y &&\n",
    "wget https://github.com/sharkdp/bat/releases/download/v0.15.1/bat-musl_0.15.1_amd64.deb &&\n",
    "sudo dpkg -i bat-musl_0.15.1_amd64.deb &&\n",
    "rm bat-musl_0.15.1_amd64.deb &&\n",
    "sh -c \"$(curl -fsSL https://raw.github.com/ohmybash/oh-my-bash/master/tools/install.sh)\"\n",
    "```\n",
    "\n",
    "## repos\n",
    "\n",
    "This updates repos - but doesn't upgrade as no need generally for a short lived VM and installs\n",
    "\n",
    "- [htop](https://hisham.hm/htop/): monitor machine use\n",
    "- neofetch: show machine overview\n",
    "- [Bat](https://github.com/sharkdp/bat): better cat with syntax highlighting\n",
    "- [oh-my-bash](https://ohmybash.github.io/) - makes the terminal look good\n",
    "\n",
    "If working with files:\n",
    "\n",
    "```bash\n",
    "sudo apt install fzf mc -y\n",
    "```\n",
    "\n",
    "- mc: file manager\n",
    "- fzf: fuzzy search\n",
    "\n",
    "## git\n",
    "\n",
    "Setup git by running the following inside a git repo (if needed).\n",
    "\n",
    "```bash\n",
    "git config --global user.name \"khalido\" &&\n",
    "git config --global user.email \"khalid.omar@gmail.com\" &&\n",
    "git config credential.helper 'cache --timeout=21600'\n",
    "```\n",
    "\n",
    "\n",
    "\n",
    "Note, there has gotta be a better way to do this.\n",
    "\"\"\""
   ]
  },
  {
   "cell_type": "code",
   "execution_count": 36,
   "metadata": {},
   "outputs": [],
   "source": []
  },
  {
   "cell_type": "code",
   "execution_count": 40,
   "metadata": {},
   "outputs": [],
   "source": [
    "# make enters into line breaks by adding \"nl2br\"\n",
    "extensions=[\"extra\", \"toc\", \"codehilite\"] # , \"smarty\" \n",
    "\n",
    "# https://help.farbox.com/pygments.html\n",
    "# monokai default\n",
    "\n",
    "extension_configs = {\n",
    "    'codehilite': {\n",
    "        'noclasses': True,\n",
    "        'linenums': False,\n",
    "        'pygments_style': \"monokai\"\n",
    "    },\n",
    "}"
   ]
  },
  {
   "cell_type": "code",
   "execution_count": 41,
   "metadata": {
    "tags": []
   },
   "outputs": [
    {
     "output_type": "stream",
     "name": "stdout",
     "text": "<div class=\"toc\">\n<ul>\n<li><a href=\"#twitter-embed\">twitter embed</a></li>\n</ul>\n</div>\n\n"
    }
   ],
   "source": [
    "print(md.toc)"
   ]
  },
  {
   "cell_type": "code",
   "execution_count": 94,
   "metadata": {
    "tags": []
   },
   "outputs": [
    {
     "output_type": "stream",
     "name": "stdout",
     "text": "7 posts converted and saved in dataframe\n"
    },
    {
     "output_type": "execute_result",
     "data": {
      "text/plain": "                                               title  \\\n0                                     Using Anaconda   \n1                             how the blog was built   \n2                        Jupyter Lab tips and tricks   \n3     Setting up Linux on a Chromebook with Crostini   \n4  Statistics Done Wrong: The Woefully Complete G...   \n5                                 Visual Studio Code   \n6                        Testing note in a subfolder   \n\n                        slug                       date  \\\n0                   anaconda 2020-07-25 08:35:00.889113   \n1         building_this_blog 2020-07-14 00:00:00.000000   \n2                 jupyterlab 2019-08-04 00:00:00.000000   \n3  setup-crostini-chromebook 2018-08-24 00:00:00.000000   \n4      stats-done-wrong-book 2020-07-25 08:35:00.892111   \n5                    vs_code 2019-10-10 00:00:00.000000   \n6          note_in_subfolder 2020-06-14 00:00:00.000000   \n\n                     lastmod                                  path  \\\n0 2020-07-25 08:35:00.890138                     notes\\anaconda.md   \n1 2020-07-28 13:01:56.023950           notes\\building_this_blog.md   \n2 2020-07-25 08:35:00.891112                   notes\\jupyterlab.md   \n3 2019-08-07 00:00:00.000000    notes\\setup-crostini-chromebook.md   \n4 2020-07-25 08:35:00.892111        notes\\stats-done-wrong-book.md   \n5 2019-10-10 00:00:00.000000                      notes\\vs_code.md   \n6 2019-08-07 00:00:00.000000  notes\\sub_notes\\note_in_subfolder.md   \n\n                       filename  \\\n0                   anaconda.md   \n1         building_this_blog.md   \n2                 jupyterlab.md   \n3  setup-crostini-chromebook.md   \n4      stats-done-wrong-book.md   \n5                    vs_code.md   \n6          note_in_subfolder.md   \n\n                                        front_matter  \\\n0    {'title': 'Using Anaconda', 'tags': ['python']}   \n1  {'title': 'how the blog was built', 'date': 20...   \n2  {'title': 'Jupyter Lab tips and tricks', 'date...   \n3  {'title': 'Setting up Linux on a Chromebook wi...   \n4  {'title': 'Statistics Done Wrong: The Woefully...   \n5  {'title': 'Visual Studio Code', 'date': 2019-1...   \n6  {'title': 'Testing note in a subfolder', 'date...   \n\n                                            markdown                 tags  \\\n0  ## Install Anaconda\\n\\nThere seems to be two m...             [python]   \n1  Hereby I talk through writing my own blog engi...             [python]   \n2  My collection of tips and tricks for using jup...            [jupyter]   \n3  ChromeOS supports a built in Linux - running i...        [chromebooks]   \n4  This is a great statistics primer - Alex Reinh...  [books, statistics]   \n5  VS Code has so many extensions and stuff, that...               [apps]   \n6  This note is inside a subfolder.\\n\\n## twitter...             [python]   \n\n                                                html  \n0  <h2 id=\"install-anaconda\">Install Anaconda</h2...  \n1  <p>Hereby I talk through writing my own blog e...  \n2  <p>My collection of tips and tricks for using ...  \n3  <p>ChromeOS supports a built in Linux - runnin...  \n4  <p>This is a great statistics primer - Alex Re...  \n5  <p>VS Code has so many extensions and stuff, t...  \n6  <p>This note is inside a subfolder.</p>\\n<h2 i...  ",
      "text/html": "<div>\n<style scoped>\n    .dataframe tbody tr th:only-of-type {\n        vertical-align: middle;\n    }\n\n    .dataframe tbody tr th {\n        vertical-align: top;\n    }\n\n    .dataframe thead th {\n        text-align: right;\n    }\n</style>\n<table border=\"1\" class=\"dataframe\">\n  <thead>\n    <tr style=\"text-align: right;\">\n      <th></th>\n      <th>title</th>\n      <th>slug</th>\n      <th>date</th>\n      <th>lastmod</th>\n      <th>path</th>\n      <th>filename</th>\n      <th>front_matter</th>\n      <th>markdown</th>\n      <th>tags</th>\n      <th>html</th>\n    </tr>\n  </thead>\n  <tbody>\n    <tr>\n      <th>0</th>\n      <td>Using Anaconda</td>\n      <td>anaconda</td>\n      <td>2020-07-25 08:35:00.889113</td>\n      <td>2020-07-25 08:35:00.890138</td>\n      <td>notes\\anaconda.md</td>\n      <td>anaconda.md</td>\n      <td>{'title': 'Using Anaconda', 'tags': ['python']}</td>\n      <td>## Install Anaconda\\n\\nThere seems to be two m...</td>\n      <td>[python]</td>\n      <td>&lt;h2 id=\"install-anaconda\"&gt;Install Anaconda&lt;/h2...</td>\n    </tr>\n    <tr>\n      <th>1</th>\n      <td>how the blog was built</td>\n      <td>building_this_blog</td>\n      <td>2020-07-14 00:00:00.000000</td>\n      <td>2020-07-28 13:01:56.023950</td>\n      <td>notes\\building_this_blog.md</td>\n      <td>building_this_blog.md</td>\n      <td>{'title': 'how the blog was built', 'date': 20...</td>\n      <td>Hereby I talk through writing my own blog engi...</td>\n      <td>[python]</td>\n      <td>&lt;p&gt;Hereby I talk through writing my own blog e...</td>\n    </tr>\n    <tr>\n      <th>2</th>\n      <td>Jupyter Lab tips and tricks</td>\n      <td>jupyterlab</td>\n      <td>2019-08-04 00:00:00.000000</td>\n      <td>2020-07-25 08:35:00.891112</td>\n      <td>notes\\jupyterlab.md</td>\n      <td>jupyterlab.md</td>\n      <td>{'title': 'Jupyter Lab tips and tricks', 'date...</td>\n      <td>My collection of tips and tricks for using jup...</td>\n      <td>[jupyter]</td>\n      <td>&lt;p&gt;My collection of tips and tricks for using ...</td>\n    </tr>\n    <tr>\n      <th>3</th>\n      <td>Setting up Linux on a Chromebook with Crostini</td>\n      <td>setup-crostini-chromebook</td>\n      <td>2018-08-24 00:00:00.000000</td>\n      <td>2019-08-07 00:00:00.000000</td>\n      <td>notes\\setup-crostini-chromebook.md</td>\n      <td>setup-crostini-chromebook.md</td>\n      <td>{'title': 'Setting up Linux on a Chromebook wi...</td>\n      <td>ChromeOS supports a built in Linux - running i...</td>\n      <td>[chromebooks]</td>\n      <td>&lt;p&gt;ChromeOS supports a built in Linux - runnin...</td>\n    </tr>\n    <tr>\n      <th>4</th>\n      <td>Statistics Done Wrong: The Woefully Complete G...</td>\n      <td>stats-done-wrong-book</td>\n      <td>2020-07-25 08:35:00.892111</td>\n      <td>2020-07-25 08:35:00.892111</td>\n      <td>notes\\stats-done-wrong-book.md</td>\n      <td>stats-done-wrong-book.md</td>\n      <td>{'title': 'Statistics Done Wrong: The Woefully...</td>\n      <td>This is a great statistics primer - Alex Reinh...</td>\n      <td>[books, statistics]</td>\n      <td>&lt;p&gt;This is a great statistics primer - Alex Re...</td>\n    </tr>\n    <tr>\n      <th>5</th>\n      <td>Visual Studio Code</td>\n      <td>vs_code</td>\n      <td>2019-10-10 00:00:00.000000</td>\n      <td>2019-10-10 00:00:00.000000</td>\n      <td>notes\\vs_code.md</td>\n      <td>vs_code.md</td>\n      <td>{'title': 'Visual Studio Code', 'date': 2019-1...</td>\n      <td>VS Code has so many extensions and stuff, that...</td>\n      <td>[apps]</td>\n      <td>&lt;p&gt;VS Code has so many extensions and stuff, t...</td>\n    </tr>\n    <tr>\n      <th>6</th>\n      <td>Testing note in a subfolder</td>\n      <td>note_in_subfolder</td>\n      <td>2020-06-14 00:00:00.000000</td>\n      <td>2019-08-07 00:00:00.000000</td>\n      <td>notes\\sub_notes\\note_in_subfolder.md</td>\n      <td>note_in_subfolder.md</td>\n      <td>{'title': 'Testing note in a subfolder', 'date...</td>\n      <td>This note is inside a subfolder.\\n\\n## twitter...</td>\n      <td>[python]</td>\n      <td>&lt;p&gt;This note is inside a subfolder.&lt;/p&gt;\\n&lt;h2 i...</td>\n    </tr>\n  </tbody>\n</table>\n</div>"
     },
     "metadata": {},
     "execution_count": 94
    }
   ],
   "source": [
    "# configure python markdown parser\n",
    "\n",
    "# make enters into line breaks by adding \"nl2br\"\n",
    "extensions=[\"extra\", \"toc\", \"codehilite\"] # , \"smarty\" \n",
    "\n",
    "# https://help.farbox.com/pygments.html\n",
    "# monokai default\n",
    "\n",
    "extension_configs = {\n",
    "    'codehilite': {\n",
    "        'noclasses': True,\n",
    "        'linenums': False,\n",
    "        'pygments_style': \"monokai\"\n",
    "    },\n",
    "}\n",
    "\n",
    "md = markdown.Markdown(extensions=extensions, extension_configs=extension_configs)\n",
    "\n",
    "# paths\n",
    "md_paths = [f for f in path_md.rglob(\"*.md\")]\n",
    "notebook_paths = [f for f in path_nb.rglob(\"*.ipynb\")]\n",
    "\n",
    "data = [] # holds all the posts\n",
    "tags = defaultdict(set) # holds set of all posts for every tag\n",
    "\n",
    "for p in md_paths:\n",
    "    d = {} # one dict for each post\n",
    "    all_txt = p.read_text() \n",
    "\n",
    "    # extract front matter b/w \"---\" lines\n",
    "    n = all_txt[3:].find(\"---\") + 3\n",
    "    fm = yaml.load(all_txt[:n]) # front matter dict\n",
    "    txt = all_txt[n+3:].strip() # text excluding front matter\n",
    "\n",
    "    # now add values I care about to the dict\n",
    "    d[\"title\"] = fm[\"title\"]\n",
    "    \n",
    "    if fm.get(\"slug\"):\n",
    "        d[\"slug\"] = fm[\"slug\"]\n",
    "    else:\n",
    "        d[\"slug\"] = p.name.split(\".\")[0]\n",
    "\n",
    "    # add created date\n",
    "    try:\n",
    "        d[\"date\"] = fm[\"date\"]\n",
    "    except:\n",
    "        dt = datetime.fromtimestamp(p.stat().st_ctime) # create time of file\n",
    "        d[\"date\"] = dt\n",
    "\n",
    "    # add last modified data\n",
    "    try:\n",
    "        d[\"lastmod\"] = fm[\"lastmod\"]\n",
    "    except:\n",
    "        dt = datetime.fromtimestamp(p.stat().st_mtime)\n",
    "        d[\"lastmod\"] = dt\n",
    "    \n",
    "    d[\"path\"] = p\n",
    "    d[\"filename\"] = p.name\n",
    "    d[\"front_matter\"] = fm\n",
    "    d[\"markdown\"] = txt\n",
    "    \n",
    "    d[\"tags\"] = fm[\"tags\"]\n",
    "    for tag in fm[\"tags\"]:\n",
    "        tags[tag].add(d[\"slug\"])\n",
    "\n",
    "    d[\"html\"] = md.convert(txt) \n",
    "    \n",
    "    data.append(d)\n",
    "\n",
    "df = pd.DataFrame(data) #.set_index(\"filename\")\n",
    "print(f\"{len(df)} posts converted and saved in dataframe\")\n",
    "df"
   ]
  },
  {
   "cell_type": "code",
   "execution_count": 101,
   "metadata": {
    "tags": []
   },
   "outputs": [
    {
     "output_type": "stream",
     "name": "stdout",
     "text": "{'title': 'Testing note in a subfolder', 'date': datetime.date(2020, 6, 14), 'lastmod': '2019-08-7', 'tags': ['python'], 'draft': False, 'toc': True}\n"
    },
    {
     "output_type": "execute_result",
     "data": {
      "text/plain": "'default'"
     },
     "metadata": {},
     "execution_count": 101
    }
   ],
   "source": [
    "print(fm)\n",
    "fm.get(\"tags\", \"default\")"
   ]
  },
  {
   "cell_type": "markdown",
   "metadata": {},
   "source": [
    "## Output"
   ]
  },
  {
   "cell_type": "code",
   "execution_count": 12,
   "metadata": {
    "tags": []
   },
   "outputs": [
    {
     "output_type": "stream",
     "name": "stdout",
     "text": "converting notebooks\\monty_hall.ipynb\n\nconverted 2 notebooks to markdown files\nconverting notebooks\\.ipynb_checkpoints\\monty_hall-checkpoint.ipynb\n\nconverted 2 notebooks to markdown files\n<class 'list'> <class 'dict'> <class 'collections.defaultdict'>\ndict_keys(['python', 'jupyter', 'chromebooks', 'books', 'statistics', 'apps'])\n"
    },
    {
     "output_type": "display_data",
     "data": {
      "text/plain": "<IPython.core.display.Markdown object>",
      "text/markdown": "\n**Post slugs**"
     },
     "metadata": {}
    },
    {
     "output_type": "stream",
     "name": "stdout",
     "text": "python/anaconda.html Using Anaconda\nbooks/stats-done-wrong-book.html Statistics Done Wrong: The Woefully Complete Guide\npython/building_this_blog.html how the blog was built\npython/note_in_subfolder.html Testing note in a subfolder\napps/vs_code.html Visual Studio Code\njupyter/jupyterlab.html Jupyter Lab tips and tricks\npython/monty_hall-checkpoint.html Monty Hall\npython/monty_hall.html Monty Hall\nchromebooks/setup-crostini-chromebook.html Setting up Linux on a Chromebook with Crostini\n"
    }
   ],
   "source": [
    "posts, postsdict, tags = blog.get_posts()\n",
    "print(type(posts), type(postsdict), type(tags))\n",
    "print(tags.keys())\n",
    "\n",
    "printmd(\"\\n**Post slugs**\")\n",
    "for post in posts:\n",
    "    print(post.link, post.title)"
   ]
  },
  {
   "cell_type": "code",
   "execution_count": 17,
   "metadata": {
    "tags": []
   },
   "outputs": [],
   "source": [
    "from mako.template import Template\n",
    "from mako.lookup import TemplateLookup\n",
    "\n",
    "lookup = TemplateLookup(directories=[\"templates\"])"
   ]
  },
  {
   "cell_type": "code",
   "execution_count": 18,
   "metadata": {
    "tags": []
   },
   "outputs": [
    {
     "output_type": "execute_result",
     "data": {
      "text/plain": "'[{\"title\": \"Using Anaconda\", \"tags\": [\"python\"], \"link\": \"python/anaconda.html\"}, {\"title\": \"Statistics Done Wrong: The Woefully Complete Guide\", \"tags\": [\"books\", \"statistics\"], \"link\": \"books/stats-done-wrong-book.html\"}, {\"title\": \"how the blog was built\", \"tags\": [\"python\"], \"link\": \"python/building_this_blog.html\"}, {\"title\": \"Testing note in a subfolder\", \"tags\": [\"python\"], \"link\": \"python/note_in_subfolder.html\"}, {\"title\": \"Visual Studio Code\", \"tags\": [\"apps\"], \"link\": \"apps/vs_code.html\"}, {\"title\": \"Jupyter Lab tips and tricks\", \"tags\": [\"jupyter\"], \"link\": \"jupyter/jupyterlab.html\"}, {\"title\": \"Monty Hall\", \"tags\": [\"python\"], \"link\": \"python/monty_hall.html\"}, {\"title\": \"Setting up Linux on a Chromebook with Crostini\", \"tags\": [\"chromebooks\"], \"link\": \"chromebooks/setup-crostini-chromebook.html\"}]'"
     },
     "metadata": {},
     "execution_count": 18
    }
   ],
   "source": [
    "def search_json(posts, path=path_publish):\n",
    "    \"\"\"makes a json of the posts info to search, returns json string\n",
    "    and writes to disk\"\"\"\n",
    "\n",
    "    search_list = [\n",
    "        {\"title\": post.title, \"tags\": post.tags, \"link\": post.link} \n",
    "        for post in posts]\n",
    "\n",
    "    posts_json = json.dumps(search_list)\n",
    "    path = path / \"posts.json\"\n",
    "    make_folder(path)\n",
    "    \n",
    "    path.write_text(posts_json)\n",
    "    return posts_json\n",
    "\n",
    "postsjson = search_json(posts)\n",
    "postsjson"
   ]
  },
  {
   "cell_type": "code",
   "execution_count": 19,
   "metadata": {
    "tags": []
   },
   "outputs": [
    {
     "output_type": "stream",
     "name": "stdout",
     "text": "dist/test/test12 folder already exists\n"
    }
   ],
   "source": [
    "def make_folder(path, debug: bool=False):\n",
    "    \"\"\"makes parent folders if they don't exist for a path\"\"\"\n",
    "\n",
    "    # assume the last thing is a file if there is a dot in the name\n",
    "    if \".\" in path.name:\n",
    "        path = path.parent\n",
    "    \n",
    "    try:\n",
    "        path.mkdir(parents=True, exist_ok=False)\n",
    "        if debug: print(f\"{path} folder made\")\n",
    "    except FileExistsError:\n",
    "        if debug: print(f\"{path} folder already exists\")\n",
    "        pass\n",
    "\n",
    "make_folder(path=path_publish / \"test\" / \"test12\"/ \"test.html\", debug=True)"
   ]
  },
  {
   "cell_type": "code",
   "execution_count": 20,
   "metadata": {
    "tags": []
   },
   "outputs": [
    {
     "output_type": "stream",
     "name": "stdout",
     "text": "wrote index.html to dist/index.html\nwrote index.html to dist/python/index.html\nwrote index.html to dist/jupyter/index.html\nwrote index.html to dist/chromebooks/index.html\nwrote index.html to dist/books/index.html\nwrote index.html to dist/statistics/index.html\nwrote index.html to dist/apps/index.html\nwrote anaconda to dist/python/anaconda.html\nwrote stats-done-wrong-book to dist/books/stats-done-wrong-book.html\nwrote building_this_blog to dist/python/building_this_blog.html\nwrote note_in_subfolder to dist/python/note_in_subfolder.html\nwrote vs_code to dist/apps/vs_code.html\nwrote jupyterlab to dist/jupyter/jupyterlab.html\nwrote monty_hall to dist/python/monty_hall.html\nwrote setup-crostini-chromebook to dist/chromebooks/setup-crostini-chromebook.html\n"
    }
   ],
   "source": [
    "def write_posts(tmpl:str = \"post.html\", posts=posts):\n",
    "    \"\"\"makes a html index page in the foldername using list of posts passed in\n",
    "    \n",
    "    Args:\n",
    "        tmpl: name of templete\n",
    "        posts: list of posts\n",
    "    \"\"\"\n",
    "    \n",
    "    template = lookup.get_template(tmpl)\n",
    "\n",
    "    for post in posts:\n",
    "        html = template.render(post=post).strip()\n",
    "        \n",
    "        # publish each post inside its first tag folder\n",
    "        if post.tags:\n",
    "            path = path_publish / post.tags[0]\n",
    "        else:\n",
    "            path = path_publish\n",
    "\n",
    "        make_folder(path) # make folder in case\n",
    "\n",
    "        path = path / f\"{post.slug}.html\"\n",
    "        \n",
    "        path.write_text(html)\n",
    "        print(f\"wrote {post.slug} to {path}\")\n",
    "\n",
    "\n",
    "def write_index_page(tmpl:str = \"index.html\", foldername=None, posts=posts):\n",
    "    \"\"\"makes a html index page in the foldername using list of posts passed in\n",
    "    \n",
    "    Args:\n",
    "        tmpl: name of templete\n",
    "        foldername: name of folder to create\n",
    "        posts: list of posts\n",
    "    \"\"\"\n",
    "    \n",
    "    template = lookup.get_template(tmpl)\n",
    "    path = path_publish\n",
    "\n",
    "    if foldername:\n",
    "        path = path / foldername\n",
    "    \n",
    "    make_folder(path) # make folder in case it doesn't exist\n",
    "    \n",
    "    # get json for fusejs search object\n",
    "    # todo: modify js to read json from disk instead of passing obj\n",
    "    postsjson = search_json(posts, path)\n",
    "    \n",
    "    html = template.render(posts=posts, postsjson=postsjson).strip()\n",
    "    \n",
    "    # write to disk\n",
    "    path = path / tmpl\n",
    "    path.write_text(html)\n",
    "    print(f\"wrote {tmpl} to {path}\")\n",
    "\n",
    "def write_tags(posts=posts):\n",
    "    \"\"\"writes an index.html file for each tag\"\"\"\n",
    "    for tag in tags.keys():\n",
    "        # filter posts\n",
    "        tag_posts = [post for post in posts if tag in post.tags]\n",
    "        # using the same index page for now\n",
    "        write_index_page(foldername=tag, posts=tag_posts)\n",
    "\n",
    "write_index_page(foldername=\"\", posts=posts)\n",
    "write_tags()\n",
    "write_posts(posts=posts)"
   ]
  },
  {
   "cell_type": "code",
   "execution_count": 25,
   "metadata": {},
   "outputs": [
    {
     "output_type": "execute_result",
     "data": {
      "text/plain": "('chromebooks', 'setup-crostini-chromebook')"
     },
     "metadata": {},
     "execution_count": 25
    }
   ],
   "source": [
    "post.tags[0], post.slug"
   ]
  },
  {
   "cell_type": "code",
   "execution_count": 26,
   "metadata": {
    "tags": []
   },
   "outputs": [
    {
     "output_type": "stream",
     "name": "stdout",
     "text": "wrote index.html to dist/index.html\nwrote stats-done-wrong-book to dist/stats-done-wrong-book.html\nwrote building_this_blog to dist/building_this_blog.html\nwrote anaconda to dist/anaconda.html\nwrote note_in_subfolder to dist/note_in_subfolder.html\nwrote vs_code to dist/vs_code.html\nwrote jupyterlab to dist/jupyterlab.html\nwrote setup-crostini-chromebook to dist/setup-crostini-chromebook.html\n"
    }
   ],
   "source": [
    "# make the big picture templates\n",
    "for tmpl in [\"index.html\"]:\n",
    "    template = lookup.get_template(tmpl)\n",
    "    html = template.render(posts=posts, postsjson=postsjson).strip()\n",
    "    path = path_publish / tmpl\n",
    "    path.write_text(html)\n",
    "    print(f\"wrote {tmpl} to {path}\")\n",
    "\n",
    "# write all the posts\n",
    "template = lookup.get_template(\"post.html\")\n",
    "for post in posts:\n",
    "    html = template.render(post=post).strip()\n",
    "    path = path_publish / f\"{post.slug}.html\"\n",
    "    path.write_text(html)\n",
    "    print(f\"wrote {post.slug} to {path}\")"
   ]
  },
  {
   "cell_type": "code",
   "execution_count": 37,
   "metadata": {},
   "outputs": [
    {
     "output_type": "execute_result",
     "data": {
      "text/plain": "['anaconda.html',\n 'building_this_blog.html',\n 'vs_code.html',\n 'stats-done-wrong-book.html',\n 'setup-crostini-chromebook.html',\n 'jupyterlab.html',\n 'note_in_subfolder.html',\n 'index.html']"
     },
     "metadata": {},
     "execution_count": 37
    }
   ],
   "source": [
    "os.listdir(path_publish)"
   ]
  },
  {
   "cell_type": "code",
   "execution_count": 41,
   "metadata": {
    "tags": []
   },
   "outputs": [
    {
     "output_type": "stream",
     "name": "stdout",
     "text": "['books', 'statistics']\n['python']\n['python']\n['python']\n['apps']\n['jupyter']\n['chromebooks']\n"
    }
   ],
   "source": [
    "for post in posts:\n",
    "    print(post.tags)"
   ]
  },
  {
   "cell_type": "code",
   "execution_count": 63,
   "metadata": {},
   "outputs": [
    {
     "output_type": "execute_result",
     "data": {
      "text/plain": "'[{\"title\": \"Statistics Done Wrong: The Woefully Complete Guide\", \"tags\": [\"books\", \"statistics\"], \"link\": \"stats-done-wrong-book.html\"}, {\"title\": \"how the blog was built\", \"tags\": [\"python\"], \"link\": \"building_this_blog.html\"}, {\"title\": \"Using Anaconda\", \"tags\": [\"python\"], \"link\": \"anaconda.html\"}, {\"title\": \"Testing note in a subfolder\", \"tags\": [\"python\"], \"link\": \"note_in_subfolder.html\"}, {\"title\": \"Visual Studio Code\", \"tags\": [\"apps\"], \"link\": \"vs_code.html\"}, {\"title\": \"Jupyter Lab tips and tricks\", \"tags\": [\"jupyter\"], \"link\": \"jupyterlab.html\"}, {\"title\": \"Setting up Linux on a Chromebook with Crostini\", \"tags\": [\"chromebooks\"], \"link\": \"setup-crostini-chromebook.html\"}]'"
     },
     "metadata": {},
     "execution_count": 63
    }
   ],
   "source": [
    "def searchlist(posts):\n",
    "    \"\"\"returns a json string of a list of search stuff\"\"\"\n",
    "    search_list = [{\"title\": post.title, \"tags\": post.tags, \"link\": f\"{post.slug}.html\"} for post in posts]\n",
    "    return json.dumps(search_list)\n",
    "\n",
    "postsjson = searchlist(posts)\n",
    "postsjson"
   ]
  },
  {
   "cell_type": "code",
   "execution_count": 15,
   "metadata": {},
   "outputs": [],
   "source": [
    "from nbconvert import HTMLExporter"
   ]
  },
  {
   "cell_type": "code",
   "execution_count": 13,
   "metadata": {},
   "outputs": [
    {
     "output_type": "execute_result",
     "data": {
      "text/plain": "[PosixPath('notebooks/monty_hall.ipynb')]"
     },
     "metadata": {},
     "execution_count": 13
    }
   ],
   "source": [
    "path_nb = blog.path_nb\n",
    "\n",
    "nb_paths = [f for f in path_nb.rglob(\"*.ipynb\")]\n",
    "nb_paths"
   ]
  },
  {
   "cell_type": "code",
   "execution_count": 14,
   "metadata": {
    "tags": []
   },
   "outputs": [
    {
     "output_type": "stream",
     "name": "stdout",
     "text": "Help on class FilesWriter in module nbconvert.writers.files:\n\nclass FilesWriter(nbconvert.writers.base.WriterBase)\n |  FilesWriter(*args, **kwargs)\n |  \n |  Consumes nbconvert output and produces files.\n |  \n |  Method resolution order:\n |      FilesWriter\n |      nbconvert.writers.base.WriterBase\n |      nbconvert.utils.base.NbConvertBase\n |      traitlets.config.configurable.LoggingConfigurable\n |      traitlets.config.configurable.Configurable\n |      traitlets.traitlets.HasTraits\n |      traitlets.traitlets.HasDescriptors\n |      builtins.object\n |  \n |  Methods defined here:\n |  \n |  __init__(self, **kw)\n |      Constructor\n |  \n |  write(self, output, resources, notebook_name=None, **kw)\n |      Consume and write Jinja output to the file system.  Output directory\n |      is set via the 'build_directory' variable of this instance (a \n |      configurable).\n |      \n |      See base for more...\n |  \n |  ----------------------------------------------------------------------\n |  Data descriptors defined here:\n |  \n |  build_directory\n |      A trait for unicode strings.\n |  \n |  relpath\n |      A trait for unicode strings.\n |  \n |  ----------------------------------------------------------------------\n |  Data descriptors inherited from nbconvert.writers.base.WriterBase:\n |  \n |  files\n |      An instance of a Python list.\n |  \n |  ----------------------------------------------------------------------\n |  Data descriptors inherited from nbconvert.utils.base.NbConvertBase:\n |  \n |  default_language\n |      A trait for unicode strings.\n |  \n |  display_data_priority\n |      An instance of a Python list.\n |  \n |  ----------------------------------------------------------------------\n |  Data descriptors inherited from traitlets.config.configurable.LoggingConfigurable:\n |  \n |  log\n |      A trait whose value must be an instance of a specified class.\n |      \n |      The value can also be an instance of a subclass of the specified class.\n |      \n |      Subclasses can declare default classes by overriding the klass attribute\n |  \n |  ----------------------------------------------------------------------\n |  Methods inherited from traitlets.config.configurable.Configurable:\n |  \n |  update_config(self, config)\n |      Update config and load the new values\n |  \n |  ----------------------------------------------------------------------\n |  Class methods inherited from traitlets.config.configurable.Configurable:\n |  \n |  class_config_rst_doc() from traitlets.traitlets.MetaHasTraits\n |      Generate rST documentation for this class' config options.\n |      \n |      Excludes traits defined on parent classes.\n |  \n |  class_config_section() from traitlets.traitlets.MetaHasTraits\n |      Get the config class config section\n |  \n |  class_get_help(inst=None) from traitlets.traitlets.MetaHasTraits\n |      Get the help string for this class in ReST format.\n |      \n |      If `inst` is given, it's current trait values will be used in place of\n |      class defaults.\n |  \n |  class_get_trait_help(trait, inst=None) from traitlets.traitlets.MetaHasTraits\n |      Get the help string for a single trait.\n |      \n |      If `inst` is given, it's current trait values will be used in place of\n |      the class default.\n |  \n |  class_print_help(inst=None) from traitlets.traitlets.MetaHasTraits\n |      Get the help string for a single trait and print it.\n |  \n |  section_names() from traitlets.traitlets.MetaHasTraits\n |      return section names as a list\n |  \n |  ----------------------------------------------------------------------\n |  Data descriptors inherited from traitlets.config.configurable.Configurable:\n |  \n |  config\n |      A trait whose value must be an instance of a specified class.\n |      \n |      The value can also be an instance of a subclass of the specified class.\n |      \n |      Subclasses can declare default classes by overriding the klass attribute\n |  \n |  parent\n |      A trait whose value must be an instance of a specified class.\n |      \n |      The value can also be an instance of a subclass of the specified class.\n |      \n |      Subclasses can declare default classes by overriding the klass attribute\n |  \n |  ----------------------------------------------------------------------\n |  Methods inherited from traitlets.traitlets.HasTraits:\n |  \n |  __getstate__(self)\n |  \n |  __setstate__(self, state)\n |  \n |  add_traits(self, **traits)\n |      Dynamically add trait attributes to the HasTraits instance.\n |  \n |  has_trait(self, name)\n |      Returns True if the object has a trait with the specified name.\n |  \n |  hold_trait_notifications(self)\n |      Context manager for bundling trait change notifications and cross\n |      validation.\n |      \n |      Use this when doing multiple trait assignments (init, config), to avoid\n |      race conditions in trait notifiers requesting other trait values.\n |      All trait notifications will fire after all values have been assigned.\n |  \n |  notify_change(self, change)\n |  \n |  observe(self, handler, names=traitlets.All, type='change')\n |      Setup a handler to be called when a trait changes.\n |      \n |      This is used to setup dynamic notifications of trait changes.\n |      \n |      Parameters\n |      ----------\n |      handler : callable\n |          A callable that is called when a trait changes. Its\n |          signature should be ``handler(change)``, where ``change`` is a\n |          dictionary. The change dictionary at least holds a 'type' key.\n |          * ``type``: the type of notification.\n |          Other keys may be passed depending on the value of 'type'. In the\n |          case where type is 'change', we also have the following keys:\n |          * ``owner`` : the HasTraits instance\n |          * ``old`` : the old value of the modified trait attribute\n |          * ``new`` : the new value of the modified trait attribute\n |          * ``name`` : the name of the modified trait attribute.\n |      names : list, str, All\n |          If names is All, the handler will apply to all traits.  If a list\n |          of str, handler will apply to all names in the list.  If a\n |          str, the handler will apply just to that name.\n |      type : str, All (default: 'change')\n |          The type of notification to filter by. If equal to All, then all\n |          notifications are passed to the observe handler.\n |  \n |  on_trait_change(self, handler=None, name=None, remove=False)\n |      DEPRECATED: Setup a handler to be called when a trait changes.\n |      \n |      This is used to setup dynamic notifications of trait changes.\n |      \n |      Static handlers can be created by creating methods on a HasTraits\n |      subclass with the naming convention '_[traitname]_changed'.  Thus,\n |      to create static handler for the trait 'a', create the method\n |      _a_changed(self, name, old, new) (fewer arguments can be used, see\n |      below).\n |      \n |      If `remove` is True and `handler` is not specified, all change\n |      handlers for the specified name are uninstalled.\n |      \n |      Parameters\n |      ----------\n |      handler : callable, None\n |          A callable that is called when a trait changes.  Its\n |          signature can be handler(), handler(name), handler(name, new),\n |          handler(name, old, new), or handler(name, old, new, self).\n |      name : list, str, None\n |          If None, the handler will apply to all traits.  If a list\n |          of str, handler will apply to all names in the list.  If a\n |          str, the handler will apply just to that name.\n |      remove : bool\n |          If False (the default), then install the handler.  If True\n |          then unintall it.\n |  \n |  set_trait(self, name, value)\n |      Forcibly sets trait attribute, including read-only attributes.\n |  \n |  setup_instance(self, *args, **kwargs)\n |      This is called **before** self.__init__ is called.\n |  \n |  trait_metadata(self, traitname, key, default=None)\n |      Get metadata values for trait by key.\n |  \n |  trait_names(self, **metadata)\n |      Get a list of all the names of this class' traits.\n |  \n |  traits(self, **metadata)\n |      Get a ``dict`` of all the traits of this class.  The dictionary\n |      is keyed on the name and the values are the TraitType objects.\n |      \n |      The TraitTypes returned don't know anything about the values\n |      that the various HasTrait's instances are holding.\n |      \n |      The metadata kwargs allow functions to be passed in which\n |      filter traits based on metadata values.  The functions should\n |      take a single value as an argument and return a boolean.  If\n |      any function returns False, then the trait is not included in\n |      the output.  If a metadata key doesn't exist, None will be passed\n |      to the function.\n |  \n |  unobserve(self, handler, names=traitlets.All, type='change')\n |      Remove a trait change handler.\n |      \n |      This is used to unregister handlers to trait change notifications.\n |      \n |      Parameters\n |      ----------\n |      handler : callable\n |          The callable called when a trait attribute changes.\n |      names : list, str, All (default: All)\n |          The names of the traits for which the specified handler should be\n |          uninstalled. If names is All, the specified handler is uninstalled\n |          from the list of notifiers corresponding to all changes.\n |      type : str or All (default: 'change')\n |          The type of notification to filter by. If All, the specified handler\n |          is uninstalled from the list of notifiers corresponding to all types.\n |  \n |  unobserve_all(self, name=traitlets.All)\n |      Remove trait change handlers of any type for the specified name.\n |      If name is not specified, removes all trait notifiers.\n |  \n |  ----------------------------------------------------------------------\n |  Class methods inherited from traitlets.traitlets.HasTraits:\n |  \n |  class_own_trait_events(name) from traitlets.traitlets.MetaHasTraits\n |      Get a dict of all event handlers defined on this class, not a parent.\n |      \n |      Works like ``event_handlers``, except for excluding traits from parents.\n |  \n |  class_own_traits(**metadata) from traitlets.traitlets.MetaHasTraits\n |      Get a dict of all the traitlets defined on this class, not a parent.\n |      \n |      Works like `class_traits`, except for excluding traits from parents.\n |  \n |  class_trait_names(**metadata) from traitlets.traitlets.MetaHasTraits\n |      Get a list of all the names of this class' traits.\n |      \n |      This method is just like the :meth:`trait_names` method,\n |      but is unbound.\n |  \n |  class_traits(**metadata) from traitlets.traitlets.MetaHasTraits\n |      Get a ``dict`` of all the traits of this class.  The dictionary\n |      is keyed on the name and the values are the TraitType objects.\n |      \n |      This method is just like the :meth:`traits` method, but is unbound.\n |      \n |      The TraitTypes returned don't know anything about the values\n |      that the various HasTrait's instances are holding.\n |      \n |      The metadata kwargs allow functions to be passed in which\n |      filter traits based on metadata values.  The functions should\n |      take a single value as an argument and return a boolean.  If\n |      any function returns False, then the trait is not included in\n |      the output.  If a metadata key doesn't exist, None will be passed\n |      to the function.\n |  \n |  trait_events(name=None) from traitlets.traitlets.MetaHasTraits\n |      Get a ``dict`` of all the event handlers of this class.\n |      \n |      Parameters\n |      ----------\n |      name: str (default: None)\n |          The name of a trait of this class. If name is ``None`` then all\n |          the event handlers of this class will be returned instead.\n |      \n |      Returns\n |      -------\n |      The event handlers associated with a trait name, or all event handlers.\n |  \n |  ----------------------------------------------------------------------\n |  Readonly properties inherited from traitlets.traitlets.HasTraits:\n |  \n |  cross_validation_lock\n |      A contextmanager for running a block with our cross validation lock set\n |      to True.\n |      \n |      At the end of the block, the lock's value is restored to its value\n |      prior to entering the block.\n |  \n |  ----------------------------------------------------------------------\n |  Static methods inherited from traitlets.traitlets.HasDescriptors:\n |  \n |  __new__(cls, *args, **kwargs)\n |      Create and return a new object.  See help(type) for accurate signature.\n |  \n |  ----------------------------------------------------------------------\n |  Data descriptors inherited from traitlets.traitlets.HasDescriptors:\n |  \n |  __dict__\n |      dictionary for instance variables (if defined)\n |  \n |  __weakref__\n |      list of weak references to the object (if defined)\n\n"
    }
   ],
   "source": [
    "help(nbconvert.writers.FilesWriter)"
   ]
  },
  {
   "cell_type": "code",
   "execution_count": 78,
   "metadata": {},
   "outputs": [],
   "source": []
  },
  {
   "cell_type": "code",
   "execution_count": 42,
   "metadata": {},
   "outputs": [
    {
     "output_type": "execute_result",
     "data": {
      "text/plain": "'tmp/img'"
     },
     "metadata": {},
     "execution_count": 42
    }
   ],
   "source": [
    "os.path.relpath(\"tmp/img\")"
   ]
  },
  {
   "cell_type": "code",
   "execution_count": 47,
   "metadata": {},
   "outputs": [
    {
     "output_type": "execute_result",
     "data": {
      "text/plain": "'_files'"
     },
     "metadata": {},
     "execution_count": 47
    }
   ],
   "source": [
    "writer = nbconvert.writers.FilesWriter()\n",
    "writer.relpath = \"_files\"\n",
    "writer.relpath"
   ]
  },
  {
   "cell_type": "code",
   "execution_count": 77,
   "metadata": {},
   "outputs": [
    {
     "output_type": "execute_result",
     "data": {
      "text/plain": "'tmp/kk'"
     },
     "metadata": {},
     "execution_count": 77
    }
   ],
   "source": [
    "os.path.relpath(\"tmp/kk\")"
   ]
  },
  {
   "cell_type": "code",
   "execution_count": null,
   "metadata": {},
   "outputs": [],
   "source": [
    "# move notebook outputs to the right directory"
   ]
  },
  {
   "cell_type": "code",
   "execution_count": 95,
   "metadata": {
    "tags": []
   },
   "outputs": [
    {
     "output_type": "stream",
     "name": "stdout",
     "text": "converting notebooks/monty_hall.ipynb\n\nconverted 1 notebooks to markdown files\n"
    }
   ],
   "source": [
    "def convert_notebooks_to_md():\n",
    "    # emptying tmp so don't end up with old md files here\n",
    "    shutil.rmtree(\"tmp\", ignore_errors=True)\n",
    "\n",
    "    exporter = nbconvert.MarkdownExporter()\n",
    "    writer = nbconvert.writers.FilesWriter(\n",
    "            build_directory=\"tmp\",\n",
    "            )\n",
    "\n",
    "    for nb_path in nb_paths:\n",
    "        print(f\"converting {nb_path}\")\n",
    "        \n",
    "        with open(nb_path) as f:\n",
    "            nb_node = nbformat.read(f, as_version=4)\n",
    "        #os.system(f'jupyter nbconvert --to markdown {nb_path} --output-dir tmp')\n",
    "        #return None\n",
    "\n",
    "        (body, resources) = exporter.from_notebook_node(nb_node)\n",
    "\n",
    "        writer.write(\n",
    "                    output=body,\n",
    "                    resources=resources,\n",
    "                    notebook_name=nb_path.name[:-6]\n",
    "                )\n",
    "        print(f\"\\nconverted {len(nb_paths)} notebooks to markdown files\")\n",
    "    return resources\n",
    "\n",
    "    \n",
    "r = convert_notebooks_to_md()"
   ]
  },
  {
   "cell_type": "code",
   "execution_count": 87,
   "metadata": {
    "tags": []
   },
   "outputs": [
    {
     "output_type": "stream",
     "name": "stdout",
     "text": "dict_keys(['metadata', 'output_extension', 'outputs', 'raw_mimetypes', 'global_content_filter'])\n"
    },
    {
     "output_type": "execute_result",
     "data": {
      "text/plain": "{'include_code': True,\n 'include_markdown': True,\n 'include_raw': True,\n 'include_unknown': True,\n 'include_input': True,\n 'include_output': True,\n 'include_input_prompt': True,\n 'include_output_prompt': True,\n 'no_prompt': False}"
     },
     "metadata": {},
     "execution_count": 87
    }
   ],
   "source": [
    "print(r.keys())\n",
    "r[\"global_content_filter\"]"
   ]
  },
  {
   "cell_type": "code",
   "execution_count": 89,
   "metadata": {},
   "outputs": [
    {
     "output_type": "execute_result",
     "data": {
      "text/plain": "dict_keys(['output_12_0.png', 'output_20_0.png'])"
     },
     "metadata": {},
     "execution_count": 89
    }
   ],
   "source": [
    "r[\"outputs\"].keys()"
   ]
  },
  {
   "cell_type": "code",
   "execution_count": 74,
   "metadata": {},
   "outputs": [
    {
     "output_type": "execute_result",
     "data": {
      "text/plain": "dict_keys(['metadata', 'output_extension', 'outputs', 'raw_mimetypes', 'global_content_filter'])"
     },
     "metadata": {},
     "execution_count": 74
    }
   ],
   "source": [
    "resources.keys()"
   ]
  },
  {
   "cell_type": "code",
   "execution_count": 48,
   "metadata": {},
   "outputs": [
    {
     "output_type": "execute_result",
     "data": {
      "text/plain": "{'include_code': True,\n 'include_markdown': True,\n 'include_raw': True,\n 'include_unknown': True,\n 'include_input': True,\n 'include_output': True,\n 'include_input_prompt': True,\n 'include_output_prompt': True,\n 'no_prompt': False}"
     },
     "metadata": {},
     "execution_count": 48
    }
   ],
   "source": [
    "resources[\"global_content_filter\"]"
   ]
  },
  {
   "cell_type": "code",
   "execution_count": 18,
   "metadata": {},
   "outputs": [
    {
     "output_type": "error",
     "ename": "TypeError",
     "evalue": "argument of type 'WindowsPath' is not iterable",
     "traceback": [
      "\u001b[1;31m---------------------------------------------------------------------------\u001b[0m",
      "\u001b[1;31mTypeError\u001b[0m                                 Traceback (most recent call last)",
      "\u001b[1;32m<ipython-input-18-cd11d1d3bffa>\u001b[0m in \u001b[0;36m<module>\u001b[1;34m\u001b[0m\n\u001b[1;32m----> 1\u001b[1;33m \u001b[1;33m[\u001b[0m\u001b[0mf\u001b[0m \u001b[1;32mfor\u001b[0m \u001b[0mf\u001b[0m \u001b[1;32min\u001b[0m \u001b[0mblog\u001b[0m\u001b[1;33m.\u001b[0m\u001b[0mpath_nb\u001b[0m\u001b[1;33m.\u001b[0m\u001b[0mrglob\u001b[0m\u001b[1;33m(\u001b[0m\u001b[1;34m\"*.ipynb\"\u001b[0m\u001b[1;33m)\u001b[0m \u001b[1;32mif\u001b[0m \u001b[1;34m\".ipynb_checkpoints\"\u001b[0m \u001b[1;32mnot\u001b[0m \u001b[1;32min\u001b[0m \u001b[0mf\u001b[0m\u001b[1;33m]\u001b[0m\u001b[1;33m\u001b[0m\u001b[1;33m\u001b[0m\u001b[0m\n\u001b[0m",
      "\u001b[1;32m<ipython-input-18-cd11d1d3bffa>\u001b[0m in \u001b[0;36m<listcomp>\u001b[1;34m(.0)\u001b[0m\n\u001b[1;32m----> 1\u001b[1;33m \u001b[1;33m[\u001b[0m\u001b[0mf\u001b[0m \u001b[1;32mfor\u001b[0m \u001b[0mf\u001b[0m \u001b[1;32min\u001b[0m \u001b[0mblog\u001b[0m\u001b[1;33m.\u001b[0m\u001b[0mpath_nb\u001b[0m\u001b[1;33m.\u001b[0m\u001b[0mrglob\u001b[0m\u001b[1;33m(\u001b[0m\u001b[1;34m\"*.ipynb\"\u001b[0m\u001b[1;33m)\u001b[0m \u001b[1;32mif\u001b[0m \u001b[1;34m\".ipynb_checkpoints\"\u001b[0m \u001b[1;32mnot\u001b[0m \u001b[1;32min\u001b[0m \u001b[0mf\u001b[0m\u001b[1;33m]\u001b[0m\u001b[1;33m\u001b[0m\u001b[1;33m\u001b[0m\u001b[0m\n\u001b[0m",
      "\u001b[1;31mTypeError\u001b[0m: argument of type 'WindowsPath' is not iterable"
     ]
    }
   ],
   "source": [
    "[f for f in blog.path_nb.rglob(\"*.ipynb\") if \".ipynb_checkpoints\" not in f]"
   ]
  },
  {
   "cell_type": "code",
   "execution_count": 16,
   "metadata": {},
   "outputs": [
    {
     "output_type": "execute_result",
     "data": {
      "text/plain": "WindowsPath('notebooks')"
     },
     "metadata": {},
     "execution_count": 16
    }
   ],
   "source": [
    "blog.path_nb"
   ]
  },
  {
   "cell_type": "code",
   "execution_count": 22,
   "metadata": {},
   "outputs": [
    {
     "output_type": "error",
     "ename": "AttributeError",
     "evalue": "'WindowsPath' object has no attribute 'path'",
     "traceback": [
      "\u001b[1;31m---------------------------------------------------------------------------\u001b[0m",
      "\u001b[1;31mAttributeError\u001b[0m                            Traceback (most recent call last)",
      "\u001b[1;32m<ipython-input-22-485536563ac1>\u001b[0m in \u001b[0;36m<module>\u001b[1;34m\u001b[0m\n\u001b[1;32m----> 1\u001b[1;33m \u001b[0mblog\u001b[0m\u001b[1;33m.\u001b[0m\u001b[0mpath_nb\u001b[0m\u001b[1;33m.\u001b[0m\u001b[0mpath\u001b[0m\u001b[1;33m\u001b[0m\u001b[1;33m\u001b[0m\u001b[0m\n\u001b[0m",
      "\u001b[1;31mAttributeError\u001b[0m: 'WindowsPath' object has no attribute 'path'"
     ]
    }
   ],
   "source": [
    "blog.path_nb."
   ]
  },
  {
   "cell_type": "code",
   "execution_count": 39,
   "metadata": {},
   "outputs": [
    {
     "output_type": "execute_result",
     "data": {
      "text/plain": "[WindowsPath('notebooks/monty_hall.ipynb')]"
     },
     "metadata": {},
     "execution_count": 39
    }
   ],
   "source": [
    "p = Path(\"notebooks\")\n",
    "ff = [f for f in p.rglob(\"*.ipynb\") if \".ipynb_checkpoints\" not in str(f)]\n",
    "ff"
   ]
  },
  {
   "cell_type": "code",
   "execution_count": 38,
   "metadata": {},
   "outputs": [
    {
     "output_type": "execute_result",
     "data": {
      "text/plain": "'notebooks\\\\.ipynb_checkpoints\\\\monty_hall-checkpoint.ipynb'"
     },
     "metadata": {},
     "execution_count": 38
    }
   ],
   "source": [
    "f = ff[1]\n",
    "str(f)"
   ]
  },
  {
   "cell_type": "code",
   "execution_count": 30,
   "metadata": {},
   "outputs": [
    {
     "output_type": "execute_result",
     "data": {
      "text/plain": "WindowsPath('notebooks/.ipynb_checkpoints')"
     },
     "metadata": {},
     "execution_count": 30
    }
   ],
   "source": [
    "p / \".ipynb_checkpoints/\" / \"mon\""
   ]
  },
  {
   "cell_type": "code",
   "execution_count": 43,
   "metadata": {},
   "outputs": [
    {
     "output_type": "execute_result",
     "data": {
      "text/plain": "['monty_hall_files']"
     },
     "metadata": {},
     "execution_count": 43
    }
   ],
   "source": [
    "p = Path(\"tmp\")\n",
    "pp = [p for p in os.listdir(p) if \"_files\" in p]\n",
    "pp"
   ]
  },
  {
   "cell_type": "code",
   "execution_count": 52,
   "metadata": {},
   "outputs": [
    {
     "output_type": "execute_result",
     "data": {
      "text/plain": "[WindowsPath('tmp/monty_hall_files')]"
     },
     "metadata": {},
     "execution_count": 52
    }
   ],
   "source": [
    " cc = [x for x in p.iterdir() if x.is_dir() and (\"_files\" in x.name)]\n",
    " cc"
   ]
  },
  {
   "cell_type": "code",
   "execution_count": 54,
   "metadata": {},
   "outputs": [
    {
     "output_type": "execute_result",
     "data": {
      "text/plain": "WindowsPath('dist')"
     },
     "metadata": {},
     "execution_count": 54
    }
   ],
   "source": [
    "blog.path_publish"
   ]
  },
  {
   "cell_type": "code",
   "execution_count": 60,
   "metadata": {
    "tags": []
   },
   "outputs": [
    {
     "output_type": "stream",
     "name": "stdout",
     "text": "tmp\\monty_hall_files\n"
    }
   ],
   "source": [
    "for f in cc:\n",
    "    print(f)\n",
    "    shutil.copytree(src=f, dst=blog.path_publish / \"python\", dirs_exist_ok=True)"
   ]
  },
  {
   "cell_type": "code",
   "execution_count": 56,
   "metadata": {},
   "outputs": [],
   "source": []
  },
  {
   "cell_type": "code",
   "execution_count": null,
   "metadata": {},
   "outputs": [],
   "source": []
  }
 ],
 "metadata": {
  "language_info": {
   "codemirror_mode": {
    "name": "ipython",
    "version": 3
   },
   "file_extension": ".py",
   "mimetype": "text/x-python",
   "name": "python",
   "nbconvert_exporter": "python",
   "pygments_lexer": "ipython3",
   "version": "3.8.1-final"
  },
  "orig_nbformat": 2,
  "kernelspec": {
   "name": "python_defaultSpec_1595819329316",
   "display_name": "Python 3.8.3 64-bit ('py38': conda)"
  }
 },
 "nbformat": 4,
 "nbformat_minor": 2
}