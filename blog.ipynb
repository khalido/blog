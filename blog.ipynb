{
 "cells": [
  {
   "cell_type": "code",
   "execution_count": 186,
   "metadata": {},
   "outputs": [],
   "source": [
    "import os\n",
    "from pathlib import Path\n",
    "from dataclasses import dataclass\n",
    "from configparser import ConfigParser\n",
    "import yaml\n",
    "import re\n",
    "import pandas as pd\n",
    "from tqdm.auto import tqdm\n",
    "from datetime import datetime"
   ]
  },
  {
   "cell_type": "markdown",
   "metadata": {},
   "source": [
    "## config\n",
    "\n",
    "All the config is saved in a config.ini file"
   ]
  },
  {
   "cell_type": "code",
   "execution_count": 103,
   "metadata": {},
   "outputs": [
    {
     "output_type": "stream",
     "name": "stdout",
     "text": "blog\n[('content', 'notes')]\n"
    }
   ],
   "source": [
    "c = ConfigParser()\n",
    "c.read(\"config.ini\")\n",
    "for section in c.sections():\n",
    "    print(section)\n",
    "    print(c.items(section))"
   ]
  },
  {
   "cell_type": "code",
   "execution_count": 69,
   "metadata": {},
   "outputs": [
    {
     "output_type": "execute_result",
     "data": {
      "text/plain": "PosixPath('notes')"
     },
     "metadata": {},
     "execution_count": 69
    }
   ],
   "source": [
    "path = Path(c[\"blog\"][\"content\"])\n",
    "path"
   ]
  },
  {
   "cell_type": "code",
   "execution_count": 94,
   "metadata": {},
   "outputs": [
    {
     "output_type": "execute_result",
     "data": {
      "text/plain": "('---', '\\ntitle:')"
     },
     "metadata": {},
     "execution_count": 94
    }
   ],
   "source": []
  },
  {
   "cell_type": "code",
   "execution_count": 100,
   "metadata": {},
   "outputs": [
    {
     "output_type": "execute_result",
     "data": {
      "text/plain": "{'title': 'Testing note in a subfolder',\n 'date': datetime.date(2020, 6, 14),\n 'lastmod': '2019-08-7',\n 'tags': ['python'],\n 'draft': False,\n 'toc': True}"
     },
     "metadata": {},
     "execution_count": 100
    }
   ],
   "source": [
    "yaml.load(txt[:112+3])"
   ]
  },
  {
   "cell_type": "code",
   "execution_count": 113,
   "metadata": {},
   "outputs": [
    {
     "output_type": "execute_result",
     "data": {
      "text/plain": "'This note is inside a subfolder.\\n\\n## \\n\\n## twitter embed\\n\\nThis should show a twitter tweet embedded inside the page:\\n\\n<blockquote class=\"twitter-tweet\"><p lang=\"en\" dir=\"ltr\">Sunsets don&#39;t get much better than this one over <a href=\"https://twitter.com/GrandTetonNPS?ref_src=twsrc%5Etfw\">@GrandTetonNPS</a>. <a href=\"https://twitter.com/hashtag/nature?src=hash&amp;ref_src=twsrc%5Etfw\">#nature</a> <a href=\"https://twitter.com/hashtag/sunset?src=hash&amp;ref_src=twsrc%5Etfw\">#sunset</a> <a href=\"http://t.co/YuKy2rcjyU\">pic.twitter.com/YuKy2rcjyU</a></p>&mdash; US Department of the Interior (@Interior) <a href=\"https://twitter.com/Interior/status/463440424141459456?ref_src=twsrc%5Etfw\">May 5, 2014</a></blockquote> <script async src=\"https://platform.twitter.com/widgets.js\" charset=\"utf-8\"></script>\\n\\nThe code used\\n\\n```html\\n<blockquote class=\"twitter-tweet\"><p lang=\"en\" d'"
     },
     "metadata": {},
     "execution_count": 113
    }
   ],
   "source": [
    "n = txt[3:].find(\"---\") + 3 + 3\n",
    "txt[n:1000].strip()"
   ]
  },
  {
   "cell_type": "code",
   "execution_count": 104,
   "metadata": {},
   "outputs": [
    {
     "output_type": "execute_result",
     "data": {
      "text/plain": "{'title': 'Testing note in a subfolder',\n 'date': datetime.date(2020, 6, 14),\n 'lastmod': '2019-08-7',\n 'tags': ['python'],\n 'draft': False,\n 'toc': True}"
     },
     "metadata": {},
     "execution_count": 104
    }
   ],
   "source": [
    "front_matter = yaml.load(txt[:txt[3:].find(\"---\") + 3])\n",
    "front_matter"
   ]
  },
  {
   "cell_type": "markdown",
   "metadata": {},
   "source": [
    "## Read each file and parse front matter"
   ]
  },
  {
   "cell_type": "code",
   "execution_count": 188,
   "metadata": {},
   "outputs": [],
   "source": [
    "ctime = p.stat().st_ctime"
   ]
  },
  {
   "cell_type": "code",
   "execution_count": 197,
   "metadata": {},
   "outputs": [
    {
     "output_type": "execute_result",
     "data": {
      "text/plain": "datetime.timedelta(microseconds=1)"
     },
     "metadata": {},
     "execution_count": 197
    }
   ],
   "source": [
    "datetime.resolution()"
   ]
  },
  {
   "cell_type": "code",
   "execution_count": 193,
   "metadata": {},
   "outputs": [
    {
     "output_type": "execute_result",
     "data": {
      "text/plain": "datetime.datetime(2020, 6, 17, 0, 0)"
     },
     "metadata": {},
     "execution_count": 193
    }
   ],
   "source": [
    "dt = datetime.fromtimestamp(ctime)\n",
    "datetime(dt.year, dt.month, dt.day)"
   ]
  },
  {
   "cell_type": "code",
   "execution_count": 204,
   "metadata": {},
   "outputs": [
    {
     "output_type": "execute_result",
     "data": {
      "text/plain": "                                            title                    date  \\\n0                              Visual Studio Code 2019-10-10 00:00:00.000   \n1  Setting up Linux on a Chromebook with Crostini 2018-08-24 00:00:00.000   \n2                                  Using Anaconda 2020-06-17 10:05:57.290   \n3                     Jupyter Lab tips and tricks 2019-08-04 00:00:00.000   \n4                          Setting up my own blog 2020-06-14 00:00:00.000   \n5                     Testing note in a subfolder 2020-06-14 00:00:00.000   \n\n                  lastmod                                  path  \\\n0 2019-10-10 00:00:00.000                      notes/vs_code.md   \n1 2019-08-07 00:00:00.000    notes/setup-crostini-chromebook.md   \n2 2020-06-17 10:05:57.290                     notes/anaconda.md   \n3 2020-06-17 10:06:10.030                   notes/jupyterlab.md   \n4 2019-08-07 00:00:00.000           notes/building_this_blog.md   \n5 2019-08-07 00:00:00.000  notes/sub_notes/note_in_subfolder.md   \n\n                       filename  \\\n0                    vs_code.md   \n1  setup-crostini-chromebook.md   \n2                   anaconda.md   \n3                 jupyterlab.md   \n4         building_this_blog.md   \n5          note_in_subfolder.md   \n\n                                        front_matter  \\\n0  {'title': 'Testing note in a subfolder', 'date...   \n1  {'title': 'Testing note in a subfolder', 'date...   \n2  {'title': 'Testing note in a subfolder', 'date...   \n3  {'title': 'Testing note in a subfolder', 'date...   \n4  {'title': 'Testing note in a subfolder', 'date...   \n5  {'title': 'Testing note in a subfolder', 'date...   \n\n                                            markdown           tags  \n0  VS Code has so many extensions and stuff, that...         [apps]  \n1  ChromeOS supports a built in Linux - running i...  [chromebooks]  \n2  ## Install Anaconda\\n\\nThere seems to be two m...       [python]  \n3  My collection of tips and tricks for using jup...      [jupyter]  \n4  Hereby I talk through writing my own blog engi...       [python]  \n5  This note is inside a subfolder.\\n\\n## twitter...       [python]  ",
      "text/html": "<div>\n<style scoped>\n    .dataframe tbody tr th:only-of-type {\n        vertical-align: middle;\n    }\n\n    .dataframe tbody tr th {\n        vertical-align: top;\n    }\n\n    .dataframe thead th {\n        text-align: right;\n    }\n</style>\n<table border=\"1\" class=\"dataframe\">\n  <thead>\n    <tr style=\"text-align: right;\">\n      <th></th>\n      <th>title</th>\n      <th>date</th>\n      <th>lastmod</th>\n      <th>path</th>\n      <th>filename</th>\n      <th>front_matter</th>\n      <th>markdown</th>\n      <th>tags</th>\n    </tr>\n  </thead>\n  <tbody>\n    <tr>\n      <th>0</th>\n      <td>Visual Studio Code</td>\n      <td>2019-10-10 00:00:00.000</td>\n      <td>2019-10-10 00:00:00.000</td>\n      <td>notes/vs_code.md</td>\n      <td>vs_code.md</td>\n      <td>{'title': 'Testing note in a subfolder', 'date...</td>\n      <td>VS Code has so many extensions and stuff, that...</td>\n      <td>[apps]</td>\n    </tr>\n    <tr>\n      <th>1</th>\n      <td>Setting up Linux on a Chromebook with Crostini</td>\n      <td>2018-08-24 00:00:00.000</td>\n      <td>2019-08-07 00:00:00.000</td>\n      <td>notes/setup-crostini-chromebook.md</td>\n      <td>setup-crostini-chromebook.md</td>\n      <td>{'title': 'Testing note in a subfolder', 'date...</td>\n      <td>ChromeOS supports a built in Linux - running i...</td>\n      <td>[chromebooks]</td>\n    </tr>\n    <tr>\n      <th>2</th>\n      <td>Using Anaconda</td>\n      <td>2020-06-17 10:05:57.290</td>\n      <td>2020-06-17 10:05:57.290</td>\n      <td>notes/anaconda.md</td>\n      <td>anaconda.md</td>\n      <td>{'title': 'Testing note in a subfolder', 'date...</td>\n      <td>## Install Anaconda\\n\\nThere seems to be two m...</td>\n      <td>[python]</td>\n    </tr>\n    <tr>\n      <th>3</th>\n      <td>Jupyter Lab tips and tricks</td>\n      <td>2019-08-04 00:00:00.000</td>\n      <td>2020-06-17 10:06:10.030</td>\n      <td>notes/jupyterlab.md</td>\n      <td>jupyterlab.md</td>\n      <td>{'title': 'Testing note in a subfolder', 'date...</td>\n      <td>My collection of tips and tricks for using jup...</td>\n      <td>[jupyter]</td>\n    </tr>\n    <tr>\n      <th>4</th>\n      <td>Setting up my own blog</td>\n      <td>2020-06-14 00:00:00.000</td>\n      <td>2019-08-07 00:00:00.000</td>\n      <td>notes/building_this_blog.md</td>\n      <td>building_this_blog.md</td>\n      <td>{'title': 'Testing note in a subfolder', 'date...</td>\n      <td>Hereby I talk through writing my own blog engi...</td>\n      <td>[python]</td>\n    </tr>\n    <tr>\n      <th>5</th>\n      <td>Testing note in a subfolder</td>\n      <td>2020-06-14 00:00:00.000</td>\n      <td>2019-08-07 00:00:00.000</td>\n      <td>notes/sub_notes/note_in_subfolder.md</td>\n      <td>note_in_subfolder.md</td>\n      <td>{'title': 'Testing note in a subfolder', 'date...</td>\n      <td>This note is inside a subfolder.\\n\\n## twitter...</td>\n      <td>[python]</td>\n    </tr>\n  </tbody>\n</table>\n</div>"
     },
     "metadata": {},
     "execution_count": 204
    }
   ],
   "source": [
    "md_paths = [f for f in path.rglob(\"*.md\")]\n",
    "\n",
    "data = []\n",
    "\n",
    "for p in md_paths:\n",
    "    d = {}\n",
    "    all_txt = p.read_text() \n",
    "    n = all_txt[3:].find(\"---\") + 3\n",
    "    fm = yaml.load(all_txt[:n])\n",
    "    txt = all_txt[n+3:].strip()\n",
    "\n",
    "\n",
    "    d[\"title\"] = fm[\"title\"]\n",
    "\n",
    "    # add created date\n",
    "    try:\n",
    "        d[\"date\"] = fm[\"date\"]\n",
    "    except:\n",
    "        dt = datetime.fromtimestamp(p.stat().st_ctime) # create time of file\n",
    "        d[\"date\"] = dt\n",
    "\n",
    "    # add last modified data\n",
    "    try:\n",
    "        d[\"lastmod\"] = fm[\"lastmod\"]\n",
    "    except:\n",
    "        dt = datetime.fromtimestamp(p.stat().st_mtime)\n",
    "        d[\"lastmod\"] = dt\n",
    "    \n",
    "    d[\"path\"] = p\n",
    "    d[\"filename\"] = p.name\n",
    "    d[\"front_matter\"] = front_matter\n",
    "    d[\"markdown\"] = txt\n",
    "    d[\"tags\"] = fm[\"tags\"] \n",
    "    data.append(d)\n",
    "\n",
    "df = pd.DataFrame(data) #.set_index(\"filename\")\n",
    "df"
   ]
  },
  {
   "cell_type": "code",
   "execution_count": 180,
   "metadata": {},
   "outputs": [
    {
     "output_type": "execute_result",
     "data": {
      "text/plain": "{'title': 'Testing note in a subfolder',\n 'date': datetime.date(2020, 6, 14),\n 'lastmod': '2019-08-7',\n 'tags': ['python'],\n 'draft': False,\n 'toc': True}"
     },
     "metadata": {},
     "execution_count": 180
    }
   ],
   "source": [
    "fm = df.front_matter[0]\n",
    "fm"
   ]
  },
  {
   "cell_type": "code",
   "execution_count": null,
   "metadata": {},
   "outputs": [],
   "source": []
  }
 ],
 "metadata": {
  "language_info": {
   "codemirror_mode": {
    "name": "ipython",
    "version": 3
   },
   "file_extension": ".py",
   "mimetype": "text/x-python",
   "name": "python",
   "nbconvert_exporter": "python",
   "pygments_lexer": "ipython3",
   "version": "3.7.6-final"
  },
  "orig_nbformat": 2,
  "kernelspec": {
   "name": "python37664bitbasecondab2e88a41f5a14ef89086d7161e536788",
   "display_name": "Python 3.7.6 64-bit ('base': conda)"
  }
 },
 "nbformat": 4,
 "nbformat_minor": 2
}