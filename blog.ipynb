{
 "cells": [
  {
   "cell_type": "code",
   "execution_count": 1,
   "metadata": {
    "tags": []
   },
   "outputs": [],
   "source": [
    "import os\n",
    "import shutil\n",
    "import json\n",
    "from pathlib import Path\n",
    "from dataclasses import dataclass\n",
    "from configparser import ConfigParser\n",
    "import yaml\n",
    "import re\n",
    "import pandas as pd\n",
    "#from tqdm.auto import tqdm\n",
    "from datetime import datetime\n",
    "import markdown\n",
    "import nbconvert\n",
    "from collections import defaultdict\n",
    "from dataclasses import dataclass\n",
    "\n",
    "from pymdownx import emoji\n",
    "\n",
    "#from lxml.html.clean import clean_html\n",
    "#import nbformat\n",
    "\n",
    "from IPython.display import display, Markdown\n",
    "\n",
    "%load_ext autoreload\n",
    "%autoreload 2"
   ]
  },
  {
   "cell_type": "code",
   "execution_count": 2,
   "metadata": {},
   "outputs": [],
   "source": [
    "from bloggy import blog"
   ]
  },
  {
   "cell_type": "code",
   "execution_count": 3,
   "metadata": {},
   "outputs": [],
   "source": [
    "def printmd(text):\n",
    "    display(Markdown(text))"
   ]
  },
  {
   "cell_type": "markdown",
   "metadata": {},
   "source": [
    "## config\n",
    "\n",
    "All the config is saved in a config.ini file"
   ]
  },
  {
   "cell_type": "code",
   "execution_count": 4,
   "metadata": {
    "tags": []
   },
   "outputs": [
    {
     "name": "stdout",
     "output_type": "stream",
     "text": [
      "blog: [('title', 'This is a blog'), ('baseurl', '\"\"'), ('default_post_title', 'untitled post'), ('default_post_type', 'post'), ('header', 'khalido.org'), ('header_text', 'every blog needs subheader text')]\n",
      "\n",
      "paths: [('posts', 'posts'), ('notebooks', 'notebooks'), ('nb2md', 'nb2md'), ('publish', 'public'), ('static', 'static')]\n",
      "\n"
     ]
    }
   ],
   "source": [
    "config = ConfigParser()\n",
    "config.read(\"config.ini\")\n",
    "for section in config.sections():\n",
    "    print(f\"{section}: {config.items(section)}\\n\")"
   ]
  },
  {
   "cell_type": "code",
   "execution_count": 5,
   "metadata": {},
   "outputs": [
    {
     "data": {
      "text/plain": [
       "[('title', 'This is a blog'),\n",
       " ('baseurl', '\"\"'),\n",
       " ('default_post_title', 'untitled post'),\n",
       " ('default_post_type', 'post'),\n",
       " ('header', 'khalido.org'),\n",
       " ('header_text', 'every blog needs subheader text')]"
      ]
     },
     "execution_count": 5,
     "metadata": {},
     "output_type": "execute_result"
    }
   ],
   "source": [
    "config.items(\"blog\")"
   ]
  },
  {
   "cell_type": "code",
   "execution_count": 6,
   "metadata": {},
   "outputs": [
    {
     "data": {
      "text/plain": [
       "(PosixPath('posts'), PosixPath('public'), PosixPath('static'))"
      ]
     },
     "execution_count": 6,
     "metadata": {},
     "output_type": "execute_result"
    }
   ],
   "source": [
    "path_md = blog.path_md\n",
    "path_nb = blog.path_nb\n",
    "path_publish = blog.path_publish\n",
    "path_static = blog.path_static\n",
    "path_md, path_publish, path_static"
   ]
  },
  {
   "cell_type": "code",
   "execution_count": 7,
   "metadata": {},
   "outputs": [
    {
     "data": {
      "text/plain": [
       "PosixPath('bloggy/notebook.tpl')"
      ]
     },
     "execution_count": 7,
     "metadata": {},
     "output_type": "execute_result"
    }
   ],
   "source": [
    "pa = Path(\"bloggy/notebook.tpl\")\n",
    "pa"
   ]
  },
  {
   "cell_type": "code",
   "execution_count": 69,
   "metadata": {},
   "outputs": [
    {
     "data": {
      "text/plain": [
       "0"
      ]
     },
     "execution_count": 69,
     "metadata": {},
     "output_type": "execute_result"
    }
   ],
   "source": [
    "os.system(\n",
    "    f\"jupyter nbconvert --to html {nb_paths[0]} --output-dir temp2\"\n",
    "    )"
   ]
  },
  {
   "cell_type": "code",
   "execution_count": 51,
   "metadata": {},
   "outputs": [
    {
     "data": {
      "text/plain": [
       "0"
      ]
     },
     "execution_count": 51,
     "metadata": {},
     "output_type": "execute_result"
    }
   ],
   "source": [
    "nb_paths = [\n",
    "        f for f in path_nb.rglob(\"*.ipynb\") if \".ipynb_checkpoints\" not in str(f)\n",
    "    ]\n",
    "\n",
    "os.system(\n",
    "                f\"jupyter nbconvert --to markdown {nb_paths[0]} --output-dir temp2\"\n",
    "            )"
   ]
  },
  {
   "cell_type": "code",
   "execution_count": 8,
   "metadata": {},
   "outputs": [
    {
     "name": "stdout",
     "output_type": "stream",
     "text": [
      "Using cached markdown files for jupyter notebooks\n"
     ]
    }
   ],
   "source": [
    "posts, postsdict, tagsdict = blog.get_posts(build_notebooks=False)"
   ]
  },
  {
   "cell_type": "code",
   "execution_count": 9,
   "metadata": {
    "tags": []
   },
   "outputs": [
    {
     "data": {
      "text/plain": [
       "(81, 81)"
      ]
     },
     "execution_count": 9,
     "metadata": {},
     "output_type": "execute_result"
    }
   ],
   "source": [
    "len(posts), len(postsdict)"
   ]
  },
  {
   "cell_type": "code",
   "execution_count": 11,
   "metadata": {},
   "outputs": [
    {
     "name": "stdout",
     "output_type": "stream",
     "text": [
      "<div class=\"toc\">\n",
      "<ul>\n",
      "<li><a href=\"#macos\">MacOS</a><ul>\n",
      "<li><a href=\"#do-the-setup\">Do the setup</a></li>\n",
      "<li><a href=\"#install-the-latest-macos-if-needed\">Install the latest macOS (if needed)</a></li>\n",
      "<li><a href=\"#old-stuff-below\">old stuff below</a><ul>\n",
      "<li><a href=\"#manual-tweaks\">manual tweaks</a></li>\n",
      "</ul>\n",
      "</li>\n",
      "<li><a href=\"#app-setup\">App setup</a><ul>\n",
      "<li><a href=\"#homebrew-aka-easy-install-apps\">homebrew aka easy install apps</a></li>\n",
      "</ul>\n",
      "</li>\n",
      "<li><a href=\"#essential-apps\">essential apps</a></li>\n",
      "</ul>\n",
      "</li>\n",
      "<li><a href=\"#links\">links</a></li>\n",
      "</ul>\n",
      "</div>\n",
      "\n"
     ]
    }
   ],
   "source": [
    "p = postsdict[\"setup-mac\"]\n",
    "print(p.toc)"
   ]
  },
  {
   "cell_type": "code",
   "execution_count": 12,
   "metadata": {},
   "outputs": [
    {
     "data": {
      "text/plain": [
       "['Advent-of-Code-2015',\n",
       " 'Aloo Anda ka salan',\n",
       " 'CLI',\n",
       " 'Peloton Cycle API',\n",
       " 'Pixel Tablet 2023 Review',\n",
       " 'PyConAu2018',\n",
       " 'PyConAu2019',\n",
       " 'Python setup',\n",
       " 'a-passage-north',\n",
       " 'advent-of-code-2016',\n",
       " 'advent-of-code-2020',\n",
       " 'aloo-keema',\n",
       " 'aloo-sabzi',\n",
       " 'apache-spark',\n",
       " 'bhaigan-ka-bhurta',\n",
       " 'biryani',\n",
       " 'blogging_with_jupyter_notebooks',\n",
       " 'blogs-i-like',\n",
       " 'books',\n",
       " 'building_this_blog',\n",
       " 'chrome',\n",
       " 'convert2md',\n",
       " 'covid_nsw_2021',\n",
       " 'daal',\n",
       " 'daal-sprouts',\n",
       " 'deeplearning-ai-part-1-of-5',\n",
       " 'deeplearning-ai-part-2-of-5',\n",
       " 'deeplearning-ai-part-3-of-5',\n",
       " 'dss-meetup',\n",
       " 'esp32-eink',\n",
       " 'esp8266',\n",
       " 'exercise',\n",
       " 'fastai-part1-2018',\n",
       " 'flood_fill',\n",
       " 'freedom_at_midnight',\n",
       " 'getting_to_zero',\n",
       " 'ghachar-ghochar',\n",
       " 'google-ml-best-practice',\n",
       " 'grokking-deep-learning-book',\n",
       " 'harvard-cs109-notes',\n",
       " 'indian-summer',\n",
       " 'jupyterlab',\n",
       " 'khata-bhaigan',\n",
       " 'kheera-raita',\n",
       " 'kid-friendly-hikes-in-sydney',\n",
       " 'knn',\n",
       " 'mitx6002x',\n",
       " 'monte_carlo_pi',\n",
       " 'monty_hall',\n",
       " 'ms_openhack_2018',\n",
       " 'mung-sprouts-salad',\n",
       " 'note_in_subfolder',\n",
       " 'omelette',\n",
       " 'paneer-karhai',\n",
       " 'pinboard',\n",
       " 'quicksort',\n",
       " 'setup-crostini-chromebook',\n",
       " 'setup-mac',\n",
       " 'setup-ubuntu',\n",
       " 'shopify',\n",
       " 'sml-meetup',\n",
       " 'sml-meetup-2018-09',\n",
       " 'spicychickpeas',\n",
       " 'stats-done-wrong-book',\n",
       " 'sveltekit_tailwindcss',\n",
       " 'tailwindcss',\n",
       " 'techfugees-sydney-hackathon-2018',\n",
       " 'termination-shock',\n",
       " 'the-key-man',\n",
       " 'the-naked-dont-fear-the-water',\n",
       " 'the_fifth_risk',\n",
       " 'the_uninhabitable_earth',\n",
       " 'three-body-problem',\n",
       " 'too_migrant_too_muslim_too_loud',\n",
       " 'udacity-cs101',\n",
       " 'udacity-nd101',\n",
       " 'urud-dhal',\n",
       " 'vegan-shami-kebab',\n",
       " 'vs_code',\n",
       " 'windows',\n",
       " 'zuchinni-pasta']"
      ]
     },
     "execution_count": 12,
     "metadata": {},
     "output_type": "execute_result"
    }
   ],
   "source": [
    "sorted(postsdict.keys())"
   ]
  },
  {
   "cell_type": "code",
   "execution_count": 21,
   "metadata": {
    "tags": []
   },
   "outputs": [
    {
     "name": "stdout",
     "output_type": "stream",
     "text": [
      "tag: books\n",
      "getting_to_zero 2021-06-02 posts/getting_to_zero.md\n",
      "stats-done-wrong-book 2019-05-05 posts/stats-done-wrong-book.md\n",
      "grokking-deep-learning-book 2018-08-08 posts/grokking-deep-learning-book.md\n",
      "---------------\n",
      "tag: energy\n",
      "getting_to_zero 2021-06-02 posts/getting_to_zero.md\n",
      "---------------\n",
      "tag: iot\n",
      "esp32-eink 2021-01-18 posts/esp32-eink.md\n",
      "esp8266 2021-01-08 posts/esp8266.md\n",
      "---------------\n",
      "tag: python\n",
      "anaconda 2021-01-02 posts/anaconda.md\n",
      "advent-of-code-2020 2020-12-01 notebooks/nb2md/advent-of-code-2020.md\n",
      "pinboard 2020-11-14 notebooks/nb2md/pinboard.md\n",
      "building_this_blog 2020-11-11 posts/building_this_blog.md\n",
      "convert2md 2020-11-10 notebooks/nb2md/convert2md.md\n",
      "Advent-of-Code-2015 2020-08-10 notebooks/nb2md/Advent-of-Code-2015.md\n",
      "blogging_with_jupyter_notebooks 2020-08-09 notebooks/nb2md/blogging_with_jupyter_notebooks.md\n",
      "note_in_subfolder 2020-06-14 posts/sub_notes/note_in_subfolder.md\n",
      "PyConAu2019 2019-09-20 posts/PyConAu2019.md\n",
      "monty_hall 2019-07-05 notebooks/nb2md/monty_hall.md\n",
      "advent-of-code-2016 2019-02-02 posts/advent-of-code-2016.md\n",
      "mitx6002x 2018-09-20 posts/mitx6002x.md\n",
      "PyConAu2018 2018-09-20 posts/PyConAu2018.md\n",
      "harvard-cs109-notes 2017-04-04 posts/harvard-cs109-notes.md\n",
      "udacity-cs101 2013-07-10 posts/udacity-cs101.md\n",
      "---------------\n",
      "tag: fitness\n",
      "exercise 2020-11-29 posts/exercise.md\n",
      "---------------\n",
      "tag: windows\n",
      "windows 2020-10-28 posts/windows.md\n",
      "---------------\n",
      "tag: recipes\n",
      "kheera-raita 2020-09-12 posts/recipes/kheera-raita.md\n",
      "bean-lentils 2020-09-12 posts/recipes/bean-lentils.md\n",
      "urud-dhal 2020-09-12 posts/recipes/urud-dhal.md\n",
      "spicychickpeas 2020-09-04 posts/recipes/spicychickpeas.md\n",
      "daal-sprouts 2020-08-04 posts/recipes/daal-sprouts.md\n",
      "vegan-shami-kebab 2020-08-04 posts/recipes/vegan-shami-kebab.md\n",
      "daal 2019-08-04 posts/recipes/daal.md\n",
      "paneer-karhai 2019-08-04 posts/recipes/paneer-karhai.md\n",
      "---------------\n",
      "tag: mac\n",
      "setup-mac 2020-01-20 posts/setup-mac.md\n",
      "---------------\n",
      "tag: apps\n",
      "vs_code 2019-10-10 posts/vs_code.md\n",
      "chrome 2017-03-09 posts/chrome.md\n",
      "---------------\n",
      "tag: jupyter\n",
      "jupyterlab 2019-08-04 posts/jupyterlab.md\n",
      "---------------\n",
      "tag: statistics\n",
      "stats-done-wrong-book 2019-05-05 posts/stats-done-wrong-book.md\n",
      "---------------\n",
      "tag: untagged\n",
      "blogs-i-like 2019-03-04 posts/blogs-i-like.md\n",
      "udacity-nd101 2017-08-15 posts/udacity-nd101.md\n",
      "apache-spark 2016-01-01 posts/apache-spark.md\n",
      "---------------\n",
      "tag: ml\n",
      "google-ml-best-practice 2019-03-02 posts/google-ml-best-practice.md\n",
      "---------------\n",
      "tag: meetup\n",
      "sml-meetup-2018-09 2018-09-20 posts/sml-meetup-2018-09.md\n",
      "sml-meetup 2018-08-20 posts/sml-meetup.md\n",
      "techfugees-sydney-hackathon-2018 2018-07-20 posts/techfugees-sydney-hackathon-2018.md\n",
      "dss-meetup 2018-07-12 posts/dss-meetup.md\n",
      "ms_openhack_2018 2018-06-14 posts/ms_openhack_2018.md\n",
      "---------------\n",
      "tag: data science\n",
      "sml-meetup-2018-09 2018-09-20 posts/sml-meetup-2018-09.md\n",
      "sml-meetup 2018-08-20 posts/sml-meetup.md\n",
      "ms_openhack_2018 2018-06-14 posts/ms_openhack_2018.md\n",
      "harvard-cs109-notes 2017-04-04 posts/harvard-cs109-notes.md\n",
      "---------------\n",
      "tag: linux\n",
      "setup-ubuntu 2018-09-20 posts/setup-ubuntu.md\n",
      "setup-crostini-chromebook 2018-08-24 posts/setup-crostini-chromebook.md\n",
      "---------------\n",
      "tag: courses\n",
      "mitx6002x 2018-09-20 posts/mitx6002x.md\n",
      "fastai-part1-2018 2018-05-05 posts/fastai-part1-2018.md\n",
      "deeplearning-ai-part-3-of-5 2018-01-01 posts/deeplearning-ai-part-3-of-5.md\n",
      "deeplearning-ai-part-2-of-5 2017-01-01 posts/deeplearning-ai-part-2-of-5.md\n",
      "deeplearning-ai-part-1-of-5 2016-01-01 posts/deeplearning-ai-part-1-of-5.md\n",
      "udacity-cs101 2013-07-10 posts/udacity-cs101.md\n",
      "---------------\n",
      "tag: chromebooks\n",
      "setup-crostini-chromebook 2018-08-24 posts/setup-crostini-chromebook.md\n",
      "---------------\n",
      "tag: algorithims\n",
      "flood_fill 2018-08-10 notebooks/nb2md/flood_fill.md\n",
      "knn 2018-08-10 notebooks/nb2md/knn.md\n",
      "quicksort 2018-08-10 notebooks/nb2md/quicksort.md\n",
      "monte_carlo_pi 2018-08-10 notebooks/nb2md/monte_carlo_pi.md\n",
      "---------------\n",
      "tag: deep learning\n",
      "fastai-part1-2018 2018-05-05 posts/fastai-part1-2018.md\n",
      "---------------\n"
     ]
    }
   ],
   "source": [
    "for t in tagsdict.keys():\n",
    "    print(f\"tag: {t}\")\n",
    "    for s in sorted(tagsdict[t], key = lambda x: postsdict[x].date, reverse=True):\n",
    "        post = postsdict[s]\n",
    "        print(postsdict[s].slug, postsdict[s].date, postsdict[s].path)\n",
    "    print(\"---------------\")"
   ]
  },
  {
   "cell_type": "code",
   "execution_count": 13,
   "metadata": {
    "tags": []
   },
   "outputs": [
    {
     "name": "stdout",
     "output_type": "stream",
     "text": [
      "post 4\n",
      "post 4\n",
      "post 4\n",
      "post 4\n",
      "post 4\n",
      "post 4\n",
      "post 4\n",
      "post 4\n",
      "post 4\n",
      "post 4\n",
      "post 4\n",
      "post 4\n",
      "post 4\n",
      "post 4\n",
      "post 4\n",
      "post 4\n",
      "post 4\n",
      "post 4\n",
      "post 4\n",
      "post 4\n",
      "post 4\n",
      "post 4\n",
      "post 4\n",
      "notebook 8\n",
      "post 4\n",
      "post 4\n",
      "notebook 8\n",
      "post 4\n",
      "post 4\n",
      "post 4\n",
      "notebook 8\n",
      "post 4\n",
      "notebook 8\n",
      "post 4\n",
      "notebook 8\n",
      "post 4\n",
      "post 4\n",
      "post 4\n",
      "post 4\n",
      "post 4\n",
      "notebook 8\n",
      "notebook 8\n",
      "post 4\n",
      "post 4\n",
      "post 4\n",
      "post 4\n",
      "post 4\n",
      "post 4\n",
      "post 4\n",
      "post 4\n",
      "post 4\n",
      "notebook 8\n",
      "post 4\n",
      "post 4\n",
      "post 4\n",
      "post 4\n",
      "post 4\n",
      "post 4\n",
      "post 4\n",
      "post 4\n",
      "post 4\n",
      "post 4\n",
      "notebook 8\n",
      "notebook 8\n",
      "notebook 8\n",
      "notebook 8\n",
      "post 4\n",
      "post 4\n",
      "post 4\n",
      "post 4\n",
      "post 4\n",
      "post 4\n",
      "post 4\n",
      "post 4\n",
      "post 4\n",
      "post 4\n",
      "post 4\n",
      "post 4\n",
      "post 4\n",
      "post 4\n",
      "post 4\n"
     ]
    }
   ],
   "source": [
    "for p in posts:\n",
    "    print(p.type, len(p.type))"
   ]
  },
  {
   "cell_type": "code",
   "execution_count": 14,
   "metadata": {},
   "outputs": [
    {
     "name": "stdout",
     "output_type": "stream",
     "text": [
      "CLI tips\n",
      "untitled post\n",
      "untitled post\n",
      "The Naked Don't Fear the Water\n",
      "Zucchini pasta\n",
      "Biryani\n",
      "Ghachar Ghochar\n",
      "A Passage North\n",
      "Termination Shock\n",
      "Aloo Keema\n",
      "Shopify\n",
      "Using Anaconda/Mambaforge\n",
      "Aloo Anda ka salan\n",
      "Khata Bhaigan\n",
      "Bhaigan ka burta\n",
      "Indian Summer: The Secret History of the End of an Empire\n",
      "The Key Man\n",
      "Sveltekit with TailwindCSS\n",
      "TailwindCSS\n",
      "Short hikes in Sydney\n",
      "Aloo Sabzi\n",
      "Mung Beans Salad\n",
      "MacOS\n",
      "Covid in NSW, 2021 edition\n",
      "Too Migrant, Too Muslim, Too Loud\n",
      "The Uninhabitable Earth\n",
      "Book info using python\n",
      "Quarterly Essay 81: Getting to Zero - Australia’s Energy Transition\n",
      "Lilygo ttgo t5\n",
      "starting out with micropython on a esp8266\n",
      "Advent of Code 2020\n",
      "Exercise\n",
      "Pinboard API\n",
      "blogging in python\n",
      "Jupyter notebooks to markdown\n",
      "Windows 10\n",
      "untitled post\n",
      "Kheera and mint raita\n",
      "Dhal Fry\n",
      "Chana Masala\n",
      "Advent of Code 2015\n",
      "Blogging with Jupyter notebooks\n",
      "Vegan shami kebab\n",
      "Spouted Dhal (lentils)\n",
      "Testing note in a subfolder\n",
      "Visual Studio Code\n",
      "PyCon Australia 2019\n",
      "Jupyter Lab tips and tricks\n",
      "Paneer Karhai\n",
      "Omelette\n",
      "Daal (lentils)\n",
      "Monty Hall\n",
      "Statistics Done Wrong: The Woefully Complete Guide\n",
      "Data Science blogs\n",
      "Googles Best Practices for ML Engineering\n",
      "Advent of Code 2016\n",
      "SML 2018-09: Deep Reinforcement Learning\n",
      "PyCon Australia 2018\n",
      "Linux setup\n",
      "MITx 6.00.2X: Intro to Computational Thinking and Data Science\n",
      "Setting up Linux on a Chromebook with Crostini\n",
      "SML 2018-08: Deep Reinforcement Learning\n",
      "KNN algorithim\n",
      "Finding Pi using Monte Carlo\n",
      "Floodfill algorithim\n",
      "quicksort\n",
      "Grokking Deep Learning by Andrew Trask\n",
      "Techfugees Sydney Hackathon 2018\n",
      "DSS-2018-07: Michael Allwright and Inna Kolyshkina\n",
      "Microsoft OpenHack 2018 Sydney\n",
      "The Fifth Risk\n",
      "fastai Practical Deep Learning For Coders, Part 1, 2018\n",
      "deeplearning.ai: Structuring Machine Learning Projects\n",
      "Udacity ND101: Deep Learning Nanodegree\n",
      "CS109 notes, by the class schedule:\n",
      "Google Chrome\n",
      "deeplearning.ai: Improving Deep Neural Networks\n",
      "deeplearning.ai: Neural Networks and Deep Learning\n",
      "Apache Spark\n",
      "Udacity CS101: Intro to CS\n",
      "Freedom at Midnight\n"
     ]
    }
   ],
   "source": [
    "for p in posts:\n",
    "    print(p.title)"
   ]
  },
  {
   "cell_type": "code",
   "execution_count": 15,
   "metadata": {
    "tags": []
   },
   "outputs": [
    {
     "name": "stdout",
     "output_type": "stream",
     "text": [
      "dev {'CLI'}\n",
      "tablets {'Pixel Tablet 2023 Review'}\n",
      "python {'note_in_subfolder', 'PyConAu2018', 'advent-of-code-2016', 'advent-of-code-2020', 'covid_nsw_2021', 'building_this_blog', 'Advent-of-Code-2015', 'Peloton Cycle API', 'harvard-cs109-notes', 'pinboard', 'mitx6002x', 'monty_hall', 'convert2md', 'Python setup', 'blogging_with_jupyter_notebooks', 'udacity-cs101', 'books', 'PyConAu2019'}\n",
      "books {'getting_to_zero', 'the_fifth_risk', 'termination-shock', 'indian-summer', 'the_uninhabitable_earth', 'a-passage-north', 'ghachar-ghochar', 'the-key-man', 'too_migrant_too_muslim_too_loud', 'three-body-problem', 'freedom_at_midnight', 'the-naked-dont-fear-the-water', 'grokking-deep-learning-book', 'stats-done-wrong-book'}\n",
      "nonfiction {'the_fifth_risk', 'the_uninhabitable_earth', 'too_migrant_too_muslim_too_loud', 'the-key-man', 'freedom_at_midnight', 'the-naked-dont-fear-the-water'}\n",
      "recipes {'zuchinni-pasta', 'daal', 'kheera-raita', 'mung-sprouts-salad', 'omelette', 'aloo-keema', 'paneer-karhai', 'aloo-sabzi', 'urud-dhal', 'daal-sprouts', 'spicychickpeas', 'vegan-shami-kebab', 'biryani', 'Aloo Anda ka salan', 'khata-bhaigan', 'bhaigan-ka-bhurta'}\n",
      "india {'ghachar-ghochar'}\n",
      "sri lanka {'a-passage-north'}\n",
      "climate {'termination-shock'}\n",
      "web {'shopify'}\n",
      "history {'indian-summer'}\n",
      "webdev {'sveltekit_tailwindcss', 'tailwindcss'}\n",
      "hikes {'kid-friendly-hikes-in-sydney'}\n",
      "sydney {'kid-friendly-hikes-in-sydney'}\n",
      "mac {'setup-mac'}\n",
      "australia {'too_migrant_too_muslim_too_loud'}\n",
      "climate change {'the_uninhabitable_earth'}\n",
      "energy {'getting_to_zero'}\n",
      "iot {'esp32-eink', 'esp8266'}\n",
      "fitness {'exercise'}\n",
      "windows {'windows'}\n",
      "science fiction {'three-body-problem'}\n",
      "apps {'vs_code', 'chrome'}\n",
      "jupyter {'jupyterlab'}\n",
      "statistics {'stats-done-wrong-book'}\n",
      "untagged {'blogs-i-like', 'udacity-nd101', 'apache-spark'}\n",
      "ml {'google-ml-best-practice'}\n",
      "meetup {'sml-meetup-2018-09', 'sml-meetup', 'dss-meetup', 'techfugees-sydney-hackathon-2018', 'ms_openhack_2018'}\n",
      "data science {'sml-meetup-2018-09', 'ms_openhack_2018', 'harvard-cs109-notes', 'sml-meetup'}\n",
      "linux {'setup-crostini-chromebook', 'setup-ubuntu'}\n",
      "courses {'deeplearning-ai-part-2-of-5', 'deeplearning-ai-part-3-of-5', 'deeplearning-ai-part-1-of-5', 'fastai-part1-2018', 'mitx6002x', 'udacity-cs101'}\n",
      "chromebooks {'setup-crostini-chromebook'}\n",
      "algorithims {'monte_carlo_pi', 'knn', 'flood_fill', 'quicksort'}\n",
      "deep learning {'fastai-part1-2018'}\n"
     ]
    }
   ],
   "source": [
    "for tag, pp in tagsdict.items():\n",
    "    print(tag, pp)"
   ]
  },
  {
   "cell_type": "code",
   "execution_count": 16,
   "metadata": {
    "tags": []
   },
   "outputs": [
    {
     "name": "stdout",
     "output_type": "stream",
     "text": [
      "2023-07-13 CLI tips CLI\n",
      "2023-07-13 untitled post 023 Review\n",
      "2023-03-02 untitled post  Cycle API\n",
      "2022-04-21 The Naked Don't Fear the Water -the-water\n",
      "2022-03-01 Zucchini pasta inni-pasta\n",
      "2022-03-01 Biryani biryani\n",
      "2022-02-28 Ghachar Ghochar ar-ghochar\n",
      "2022-01-19 A Passage North sage-north\n",
      "2022-01-19 Termination Shock tion-shock\n",
      "2022-01-13 Aloo Keema aloo-keema\n",
      "2022-01-12 Shopify shopify\n",
      "2022-01-02 Using Anaconda/Mambaforge thon setup\n",
      "2021-12-14 Aloo Anda ka salan a ka salan\n",
      "2021-12-02 Khata Bhaigan ta-bhaigan\n",
      "2021-12-02 Bhaigan ka burta -ka-bhurta\n",
      "2021-10-19 Indian Summer: The Secret History of the End of an Empire ian-summer\n",
      "2021-09-14 The Key Man he-key-man\n",
      "2021-08-24 Sveltekit with TailwindCSS ailwindcss\n",
      "2021-08-07 TailwindCSS ailwindcss\n",
      "2021-08-06 Short hikes in Sydney -in-sydney\n",
      "2021-08-04 Aloo Sabzi aloo-sabzi\n",
      "2021-08-02 Mung Beans Salad outs-salad\n",
      "2021-07-26 MacOS setup-mac\n",
      "2021-07-23 Covid in NSW, 2021 edition d_nsw_2021\n",
      "2021-07-08 Too Migrant, Too Muslim, Too Loud m_too_loud\n",
      "2021-07-08 The Uninhabitable Earth able_earth\n",
      "2021-07-05 Book info using python books\n",
      "2021-06-02 Quarterly Essay 81: Getting to Zero - Australia’s Energy Transition ng_to_zero\n",
      "2021-01-18 Lilygo ttgo t5 esp32-eink\n",
      "2021-01-08 starting out with micropython on a esp8266 esp8266\n",
      "2020-12-01 Advent of Code 2020 -code-2020\n",
      "2020-11-29 Exercise exercise\n",
      "2020-11-14 Pinboard API pinboard\n",
      "2020-11-11 blogging in python _this_blog\n",
      "2020-11-10 Jupyter notebooks to markdown convert2md\n",
      "2020-10-28 Windows 10 windows\n",
      "2020-10-19 untitled post dy-problem\n",
      "2020-09-12 Kheera and mint raita eera-raita\n",
      "2020-09-12 Dhal Fry urud-dhal\n",
      "2020-09-04 Chana Masala ychickpeas\n",
      "2020-08-10 Advent of Code 2015 -Code-2015\n",
      "2020-08-09 Blogging with Jupyter notebooks _notebooks\n",
      "2020-08-04 Vegan shami kebab hami-kebab\n",
      "2020-08-04 Spouted Dhal (lentils) al-sprouts\n",
      "2020-06-14 Testing note in a subfolder _subfolder\n",
      "2019-10-10 Visual Studio Code vs_code\n",
      "2019-09-20 PyCon Australia 2019 yConAu2019\n",
      "2019-08-04 Jupyter Lab tips and tricks jupyterlab\n",
      "2019-08-04 Paneer Karhai eer-karhai\n",
      "2019-08-04 Omelette omelette\n",
      "2019-08-04 Daal (lentils) daal\n",
      "2019-07-05 Monty Hall monty_hall\n",
      "2019-05-05 Statistics Done Wrong: The Woefully Complete Guide wrong-book\n",
      "2019-03-04 Data Science blogs ogs-i-like\n",
      "2019-03-02 Googles Best Practices for ML Engineering t-practice\n",
      "2019-02-02 Advent of Code 2016 -code-2016\n",
      "2018-09-20 SML 2018-09: Deep Reinforcement Learning up-2018-09\n",
      "2018-09-20 PyCon Australia 2018 yConAu2018\n",
      "2018-09-20 Linux setup tup-ubuntu\n",
      "2018-09-20 MITx 6.00.2X: Intro to Computational Thinking and Data Science mitx6002x\n",
      "2018-08-24 Setting up Linux on a Chromebook with Crostini chromebook\n",
      "2018-08-20 SML 2018-08: Deep Reinforcement Learning sml-meetup\n",
      "2018-08-10 KNN algorithim knn\n",
      "2018-08-10 Finding Pi using Monte Carlo e_carlo_pi\n",
      "2018-08-10 Floodfill algorithim flood_fill\n",
      "2018-08-10 quicksort quicksort\n",
      "2018-08-08 Grokking Deep Learning by Andrew Trask rning-book\n",
      "2018-07-20 Techfugees Sydney Hackathon 2018 athon-2018\n",
      "2018-07-12 DSS-2018-07: Michael Allwright and Inna Kolyshkina dss-meetup\n",
      "2018-06-14 Microsoft OpenHack 2018 Sydney nhack_2018\n",
      "2018-05-13 The Fifth Risk fifth_risk\n",
      "2018-05-05 fastai Practical Deep Learning For Coders, Part 1, 2018 part1-2018\n",
      "2018-01-01 deeplearning.ai: Structuring Machine Learning Projects art-3-of-5\n",
      "2017-08-15 Udacity ND101: Deep Learning Nanodegree city-nd101\n",
      "2017-04-04 CS109 notes, by the class schedule: s109-notes\n",
      "2017-03-09 Google Chrome chrome\n",
      "2017-01-01 deeplearning.ai: Improving Deep Neural Networks art-2-of-5\n",
      "2016-01-01 deeplearning.ai: Neural Networks and Deep Learning art-1-of-5\n",
      "2016-01-01 Apache Spark ache-spark\n",
      "2013-07-10 Udacity CS101: Intro to CS city-cs101\n",
      "2013-05-13 Freedom at Midnight t_midnight\n"
     ]
    }
   ],
   "source": [
    "for p in posts:\n",
    "    print(p.date, p.title, p.slug[-10:])"
   ]
  },
  {
   "cell_type": "code",
   "execution_count": 17,
   "metadata": {
    "tags": []
   },
   "outputs": [
    {
     "name": "stdout",
     "output_type": "stream",
     "text": [
      "CLI 2023-07-13\n",
      "no toc\n",
      "Pixel Tablet 2023 Review 2023-07-13\n",
      "no toc\n",
      "Peloton Cycle API 2023-03-02\n",
      "has toc\n",
      "the-naked-dont-fear-the-water 2022-04-21\n",
      "has toc\n",
      "zuchinni-pasta 2022-03-01\n",
      "has toc\n",
      "biryani 2022-03-01\n",
      "has toc\n",
      "ghachar-ghochar 2022-02-28\n",
      "no toc\n",
      "a-passage-north 2022-01-19\n",
      "no toc\n",
      "termination-shock 2022-01-19\n",
      "no toc\n",
      "aloo-keema 2022-01-13\n",
      "has toc\n",
      "shopify 2022-01-12\n",
      "has toc\n",
      "Python setup 2022-01-02\n",
      "has toc\n",
      "Aloo Anda ka salan 2021-12-14\n",
      "has toc\n",
      "khata-bhaigan 2021-12-02\n",
      "has toc\n",
      "bhaigan-ka-bhurta 2021-12-02\n",
      "has toc\n",
      "indian-summer 2021-10-19\n",
      "no toc\n",
      "the-key-man 2021-09-14\n",
      "no toc\n",
      "sveltekit_tailwindcss 2021-08-24\n",
      "has toc\n",
      "tailwindcss 2021-08-07\n",
      "has toc\n",
      "kid-friendly-hikes-in-sydney 2021-08-06\n",
      "no toc\n",
      "aloo-sabzi 2021-08-04\n",
      "has toc\n",
      "mung-sprouts-salad 2021-08-02\n",
      "has toc\n",
      "setup-mac 2021-07-26\n",
      "has toc\n",
      "covid_nsw_2021 2021-07-23\n",
      "has toc\n",
      "too_migrant_too_muslim_too_loud 2021-07-08\n",
      "no toc\n",
      "the_uninhabitable_earth 2021-07-08\n",
      "no toc\n",
      "books 2021-07-05\n",
      "has toc\n",
      "getting_to_zero 2021-06-02\n",
      "has toc\n",
      "esp32-eink 2021-01-18\n",
      "has toc\n",
      "esp8266 2021-01-08\n",
      "has toc\n",
      "advent-of-code-2020 2020-12-01\n",
      "has toc\n",
      "exercise 2020-11-29\n",
      "has toc\n",
      "pinboard 2020-11-14\n",
      "no toc\n",
      "building_this_blog 2020-11-11\n",
      "has toc\n",
      "convert2md 2020-11-10\n",
      "has toc\n",
      "windows 2020-10-28\n",
      "has toc\n",
      "three-body-problem 2020-10-19\n",
      "no toc\n",
      "kheera-raita 2020-09-12\n",
      "has toc\n",
      "urud-dhal 2020-09-12\n",
      "has toc\n",
      "spicychickpeas 2020-09-04\n",
      "has toc\n",
      "Advent-of-Code-2015 2020-08-10\n",
      "has toc\n",
      "blogging_with_jupyter_notebooks 2020-08-09\n",
      "has toc\n",
      "vegan-shami-kebab 2020-08-04\n",
      "has toc\n",
      "daal-sprouts 2020-08-04\n",
      "has toc\n",
      "note_in_subfolder 2020-06-14\n",
      "has toc\n",
      "vs_code 2019-10-10\n",
      "has toc\n",
      "PyConAu2019 2019-09-20\n",
      "has toc\n",
      "jupyterlab 2019-08-04\n",
      "has toc\n",
      "paneer-karhai 2019-08-04\n",
      "has toc\n",
      "omelette 2019-08-04\n",
      "has toc\n",
      "daal 2019-08-04\n",
      "has toc\n",
      "monty_hall 2019-07-05\n",
      "has toc\n",
      "stats-done-wrong-book 2019-05-05\n",
      "no toc\n",
      "blogs-i-like 2019-03-04\n",
      "no toc\n",
      "google-ml-best-practice 2019-03-02\n",
      "has toc\n",
      "advent-of-code-2016 2019-02-02\n",
      "has toc\n",
      "sml-meetup-2018-09 2018-09-20\n",
      "has toc\n",
      "PyConAu2018 2018-09-20\n",
      "has toc\n",
      "setup-ubuntu 2018-09-20\n",
      "has toc\n",
      "mitx6002x 2018-09-20\n",
      "no toc\n",
      "setup-crostini-chromebook 2018-08-24\n",
      "has toc\n",
      "sml-meetup 2018-08-20\n",
      "has toc\n",
      "knn 2018-08-10\n",
      "no toc\n",
      "monte_carlo_pi 2018-08-10\n",
      "has toc\n",
      "flood_fill 2018-08-10\n",
      "no toc\n",
      "quicksort 2018-08-10\n",
      "has toc\n",
      "grokking-deep-learning-book 2018-08-08\n",
      "no toc\n",
      "techfugees-sydney-hackathon-2018 2018-07-20\n",
      "has toc\n",
      "dss-meetup 2018-07-12\n",
      "has toc\n",
      "ms_openhack_2018 2018-06-14\n",
      "has toc\n",
      "the_fifth_risk 2018-05-13\n",
      "no toc\n",
      "fastai-part1-2018 2018-05-05\n",
      "no toc\n",
      "deeplearning-ai-part-3-of-5 2018-01-01\n",
      "has toc\n",
      "udacity-nd101 2017-08-15\n",
      "has toc\n",
      "harvard-cs109-notes 2017-04-04\n",
      "has toc\n",
      "chrome 2017-03-09\n",
      "has toc\n",
      "deeplearning-ai-part-2-of-5 2017-01-01\n",
      "has toc\n",
      "deeplearning-ai-part-1-of-5 2016-01-01\n",
      "has toc\n",
      "apache-spark 2016-01-01\n",
      "has toc\n",
      "udacity-cs101 2013-07-10\n",
      "no toc\n",
      "freedom_at_midnight 2013-05-13\n",
      "no toc\n"
     ]
    }
   ],
   "source": [
    "for slug, p in postsdict.items():\n",
    "    print(slug, p.date)\n",
    "    if p.toc:\n",
    "        print(\"has toc\")\n",
    "    else:\n",
    "        print(\"no toc\")"
   ]
  },
  {
   "cell_type": "markdown",
   "metadata": {
    "jp-MarkdownHeadingCollapsed": true
   },
   "source": [
    "## Pinboard"
   ]
  },
  {
   "cell_type": "code",
   "execution_count": 11,
   "metadata": {},
   "outputs": [
    {
     "ename": "TypeError",
     "evalue": "'NoneType' object is not subscriptable",
     "output_type": "error",
     "traceback": [
      "\u001b[0;31m---------------------------------------------------------------------------\u001b[0m",
      "\u001b[0;31mTypeError\u001b[0m                                 Traceback (most recent call last)",
      "\u001b[0;32m<ipython-input-11-0338e1410ef6>\u001b[0m in \u001b[0;36m<module>\u001b[0;34m\u001b[0m\n\u001b[1;32m      1\u001b[0m \u001b[0mpb_token\u001b[0m \u001b[0;34m=\u001b[0m \u001b[0mos\u001b[0m\u001b[0;34m.\u001b[0m\u001b[0menviron\u001b[0m\u001b[0;34m.\u001b[0m\u001b[0mget\u001b[0m\u001b[0;34m(\u001b[0m\u001b[0;34m\"PB_TOKEN\"\u001b[0m\u001b[0;34m)\u001b[0m\u001b[0;34m\u001b[0m\u001b[0;34m\u001b[0m\u001b[0m\n\u001b[0;32m----> 2\u001b[0;31m \u001b[0mpb_token\u001b[0m\u001b[0;34m[\u001b[0m\u001b[0;34m:\u001b[0m\u001b[0;36m4\u001b[0m\u001b[0;34m]\u001b[0m\u001b[0;34m\u001b[0m\u001b[0;34m\u001b[0m\u001b[0m\n\u001b[0m",
      "\u001b[0;31mTypeError\u001b[0m: 'NoneType' object is not subscriptable"
     ]
    }
   ],
   "source": [
    "pb_token = os.environ.get(\"PB_TOKEN\")\n",
    "pb_token[:4]"
   ]
  },
  {
   "cell_type": "code",
   "execution_count": 13,
   "metadata": {},
   "outputs": [
    {
     "data": {
      "text/plain": [
       "datetime.datetime(2020, 7, 10, 22, 49, 29)"
      ]
     },
     "execution_count": 13,
     "metadata": {},
     "output_type": "execute_result"
    }
   ],
   "source": [
    "import pinboard\n",
    "pb = pinboard.Pinboard(pb_token)\n",
    "\n",
    "# check its working\n",
    "pb.posts.update() # should return most recent updated date"
   ]
  },
  {
   "cell_type": "code",
   "execution_count": 175,
   "metadata": {},
   "outputs": [],
   "source": [
    "all_posts = pb.posts.all() # list of all bookmarks"
   ]
  },
  {
   "cell_type": "code",
   "execution_count": 196,
   "metadata": {
    "tags": []
   },
   "outputs": [
    {
     "data": {
      "text/plain": [
       "('What I learned from looking at 200 machine learning tools',\n",
       " ['ai'],\n",
       " '',\n",
       " 'https://huyenchip.com/2020/06/22/mlops.html',\n",
       " datetime.datetime(2020, 6, 24, 4, 39, 45))"
      ]
     },
     "execution_count": 196,
     "metadata": {},
     "output_type": "execute_result"
    }
   ],
   "source": [
    "# the api returns a class obj\n",
    "bookmark = all_posts[0]\n",
    "# useful fields in that object:\n",
    "bookmark.description, bookmark.tags, bookmark.extended, bookmark.url, bookmark.time"
   ]
  },
  {
   "cell_type": "code",
   "execution_count": 149,
   "metadata": {},
   "outputs": [],
   "source": [
    "links = pb.posts.recent()"
   ]
  },
  {
   "cell_type": "code",
   "execution_count": 171,
   "metadata": {
    "tags": []
   },
   "outputs": [
    {
     "name": "stdout",
     "output_type": "stream",
     "text": [
      "2020-06-24 04:39:45 ['ai']\n",
      "2020-06-22 03:38:00 ['python']\n",
      "2020-06-22 03:36:08 ['python']\n",
      "2020-06-15 06:40:30 ['apps', 'markdown']\n",
      "2020-06-14 07:20:02 ['windows', 'apps']\n",
      "2020-06-13 20:06:16 ['']\n",
      "2020-06-13 12:18:36 ['recipes']\n",
      "2020-06-13 05:03:24 ['games']\n",
      "2020-06-12 14:13:48 ['dataviz']\n",
      "2020-06-12 01:04:52 ['art', 'posters']\n",
      "2020-06-10 23:44:52 ['ai']\n",
      "2020-06-04 05:10:27 ['blogs']\n",
      "2020-06-04 02:11:58 ['analytics']\n",
      "2020-06-02 07:29:04 ['streamlit']\n",
      "2020-05-31 03:00:33 ['books', 'programming']\n"
     ]
    }
   ],
   "source": [
    "for b in links[\"posts\"]:\n",
    "    print(b.time, b.tags)"
   ]
  },
  {
   "cell_type": "code",
   "execution_count": null,
   "metadata": {},
   "outputs": [],
   "source": []
  },
  {
   "cell_type": "code",
   "execution_count": 172,
   "metadata": {},
   "outputs": [],
   "source": [
    "tag_posts = pb.posts.all(tag=[\"programming\"])"
   ]
  },
  {
   "cell_type": "code",
   "execution_count": 174,
   "metadata": {
    "tags": []
   },
   "outputs": [
    {
     "name": "stdout",
     "output_type": "stream",
     "text": [
      "2020-05-31 03:00:33 ['books', 'programming']\n",
      "2018-03-14 07:07:19 ['programming']\n",
      "2017-02-27 23:27:15 ['python', 'programming', 'bayes']\n",
      "2016-11-15 22:35:31 ['programming', 'poster']\n",
      "2016-11-15 11:32:49 ['programming']\n"
     ]
    }
   ],
   "source": [
    "for b in tag_posts:\n",
    "    print(b.time, b.tags)"
   ]
  },
  {
   "cell_type": "markdown",
   "metadata": {},
   "source": [
    "## Read each file and parse front matter"
   ]
  },
  {
   "cell_type": "code",
   "execution_count": 45,
   "metadata": {},
   "outputs": [
    {
     "ename": "TypeError",
     "evalue": "__init__() missing 1 required positional argument: 'src'",
     "output_type": "error",
     "traceback": [
      "\u001b[0;31m---------------------------------------------------------------------------\u001b[0m",
      "\u001b[0;31mTypeError\u001b[0m                                 Traceback (most recent call last)",
      "\u001b[0;32m<ipython-input-45-ab34c0b3a63c>\u001b[0m in \u001b[0;36m<module>\u001b[0;34m\u001b[0m\n\u001b[1;32m      1\u001b[0m \u001b[0;32mfrom\u001b[0m \u001b[0mmarkdown\u001b[0m\u001b[0;34m.\u001b[0m\u001b[0mextensions\u001b[0m\u001b[0;34m.\u001b[0m\u001b[0mcodehilite\u001b[0m \u001b[0;32mimport\u001b[0m \u001b[0mCodeHilite\u001b[0m\u001b[0;34m\u001b[0m\u001b[0;34m\u001b[0m\u001b[0m\n\u001b[0;32m----> 2\u001b[0;31m \u001b[0mcodehilite\u001b[0m \u001b[0;34m=\u001b[0m \u001b[0mCodeHilite\u001b[0m\u001b[0;34m(\u001b[0m\u001b[0mnoclasses\u001b[0m\u001b[0;34m=\u001b[0m\u001b[0;32mTrue\u001b[0m\u001b[0;34m)\u001b[0m\u001b[0;34m\u001b[0m\u001b[0;34m\u001b[0m\u001b[0m\n\u001b[0m",
      "\u001b[0;31mTypeError\u001b[0m: __init__() missing 1 required positional argument: 'src'"
     ]
    }
   ],
   "source": [
    "from markdown.extensions.codehilite import CodeHilite\n",
    "codehilite = CodeHilite(noclasses=True)"
   ]
  },
  {
   "cell_type": "code",
   "execution_count": 65,
   "metadata": {},
   "outputs": [],
   "source": [
    "txt = \"\"\"\n",
    "\n",
    "# Heading 1\n",
    "\n",
    "This is a \"test\" para. Here goes a line break:\n",
    "what does it do?\n",
    "\n",
    "```python\n",
    "print(3+3) # this is a comment\n",
    "```\n",
    "\n",
    "## Bash\n",
    "\n",
    "Most remote VM's are running a basic bash shell. Fix that by running\n",
    "\n",
    "```bash\n",
    "sudo apt update &&\n",
    "sudo apt install htop neofetch -y &&\n",
    "wget https://github.com/sharkdp/bat/releases/download/v0.15.1/bat-musl_0.15.1_amd64.deb &&\n",
    "sudo dpkg -i bat-musl_0.15.1_amd64.deb &&\n",
    "rm bat-musl_0.15.1_amd64.deb &&\n",
    "sh -c \"$(curl -fsSL https://raw.github.com/ohmybash/oh-my-bash/master/tools/install.sh)\"\n",
    "```\n",
    "\n",
    "## repos\n",
    "\n",
    "This updates repos - but doesn't upgrade as no need generally for a short lived VM and installs\n",
    "\n",
    "- [htop](https://hisham.hm/htop/): monitor machine use\n",
    "- neofetch: show machine overview\n",
    "- [Bat](https://github.com/sharkdp/bat): better cat with syntax highlighting\n",
    "- [oh-my-bash](https://ohmybash.github.io/) - makes the terminal look good\n",
    "\n",
    "If working with files:\n",
    "\n",
    "```bash\n",
    "sudo apt install fzf mc -y\n",
    "```\n",
    "\n",
    "- mc: file manager\n",
    "- fzf: fuzzy search\n",
    "\n",
    "## git\n",
    "\n",
    "Setup git by running the following inside a git repo (if needed).\n",
    "\n",
    "```bash\n",
    "git config --global user.name \"khalido\" &&\n",
    "git config --global user.email \"khalid.omar@gmail.com\" &&\n",
    "git config credential.helper 'cache --timeout=21600'\n",
    "```\n",
    "\n",
    "# Heading 1 Second Time\n",
    "\n",
    "# Heading 1\n",
    "\n",
    "Note, there has gotta be a better way to do this.\n",
    "\"\"\""
   ]
  },
  {
   "cell_type": "code",
   "execution_count": 74,
   "metadata": {},
   "outputs": [
    {
     "data": {
      "text/plain": [
       "[{'level': 2, 'id': 'bash', 'name': 'Bash', 'children': []},\n",
       " {'level': 2, 'id': 'repos', 'name': 'repos', 'children': []},\n",
       " {'level': 2, 'id': 'git', 'name': 'git', 'children': []}]"
      ]
     },
     "execution_count": 74,
     "metadata": {},
     "output_type": "execute_result"
    }
   ],
   "source": [
    "len(md.toc_tokens)\n",
    "md.toc_tokens[0][\"children\"]"
   ]
  },
  {
   "cell_type": "code",
   "execution_count": 66,
   "metadata": {},
   "outputs": [
    {
     "data": {
      "text/plain": [
       "'Heading 1'"
      ]
     },
     "execution_count": 66,
     "metadata": {},
     "output_type": "execute_result"
    }
   ],
   "source": [
    "html = md.convert(txt)\n",
    "if md.toc_tokens[0][\"level\"] == 1:\n",
    "    heading1 = md.toc_tokens[0][\"name\"]\n",
    "\n",
    "heading1"
   ]
  },
  {
   "cell_type": "code",
   "execution_count": 43,
   "metadata": {},
   "outputs": [],
   "source": [
    "# make enters into line breaks by adding \"nl2br\"\n",
    "extensions=[\"extra\", \"toc\", \"codehilite\"] # , \"smarty\" \n",
    "\n",
    "# https://help.farbox.com/pygments.html\n",
    "# monokai default\n",
    "\n",
    "extension_configs = {\n",
    "    'codehilite': {\n",
    "        'noclasses': False,\n",
    "        'linenums': False,\n",
    "        'pygments_style': \"monokai\"\n",
    "    },\n",
    "}"
   ]
  },
  {
   "cell_type": "code",
   "execution_count": 44,
   "metadata": {
    "tags": []
   },
   "outputs": [
    {
     "ename": "NameError",
     "evalue": "name 'md' is not defined",
     "output_type": "error",
     "traceback": [
      "\u001b[0;31m---------------------------------------------------------------------------\u001b[0m",
      "\u001b[0;31mNameError\u001b[0m                                 Traceback (most recent call last)",
      "\u001b[0;32m<ipython-input-44-37de9b8d9cde>\u001b[0m in \u001b[0;36m<module>\u001b[0;34m\u001b[0m\n\u001b[0;32m----> 1\u001b[0;31m \u001b[0mprint\u001b[0m\u001b[0;34m(\u001b[0m\u001b[0mmd\u001b[0m\u001b[0;34m.\u001b[0m\u001b[0mtoc\u001b[0m\u001b[0;34m)\u001b[0m\u001b[0;34m\u001b[0m\u001b[0;34m\u001b[0m\u001b[0m\n\u001b[0m",
      "\u001b[0;31mNameError\u001b[0m: name 'md' is not defined"
     ]
    }
   ],
   "source": [
    "print(md.toc)"
   ]
  },
  {
   "cell_type": "code",
   "execution_count": 48,
   "metadata": {
    "tags": []
   },
   "outputs": [
    {
     "name": "stderr",
     "output_type": "stream",
     "text": [
      "<ipython-input-48-77cd6c75fa2a>:33: YAMLLoadWarning: calling yaml.load() without Loader=... is deprecated, as the default Loader is unsafe. Please read https://msg.pyyaml.org/load for full details.\n",
      "  fm = yaml.load(all_txt[:n]) # front matter dict\n",
      "<ipython-input-48-77cd6c75fa2a>:33: YAMLLoadWarning: calling yaml.load() without Loader=... is deprecated, as the default Loader is unsafe. Please read https://msg.pyyaml.org/load for full details.\n",
      "  fm = yaml.load(all_txt[:n]) # front matter dict\n",
      "43 posts converted and saved in dataframe\n"
     ]
    },
    {
     "data": {
      "text/html": [
       "<div>\n",
       "<style scoped>\n",
       "    .dataframe tbody tr th:only-of-type {\n",
       "        vertical-align: middle;\n",
       "    }\n",
       "\n",
       "    .dataframe tbody tr th {\n",
       "        vertical-align: top;\n",
       "    }\n",
       "\n",
       "    .dataframe thead th {\n",
       "        text-align: right;\n",
       "    }\n",
       "</style>\n",
       "<table border=\"1\" class=\"dataframe\">\n",
       "  <thead>\n",
       "    <tr style=\"text-align: right;\">\n",
       "      <th></th>\n",
       "      <th>title</th>\n",
       "      <th>slug</th>\n",
       "      <th>date</th>\n",
       "      <th>lastmod</th>\n",
       "      <th>path</th>\n",
       "      <th>filename</th>\n",
       "      <th>front_matter</th>\n",
       "      <th>markdown</th>\n",
       "      <th>tags</th>\n",
       "      <th>html</th>\n",
       "    </tr>\n",
       "  </thead>\n",
       "  <tbody>\n",
       "    <tr>\n",
       "      <th>0</th>\n",
       "      <td>Data Science blogs</td>\n",
       "      <td>blogs-i-like</td>\n",
       "      <td>2019-03-04</td>\n",
       "      <td>2021-03-18 10:36:20.800265</td>\n",
       "      <td>posts/blogs-i-like.md</td>\n",
       "      <td>blogs-i-like.md</td>\n",
       "      <td>{'title': 'Data Science blogs', 'description':...</td>\n",
       "      <td>Blogs on data science, AI, machine learning et...</td>\n",
       "      <td>[untagged]</td>\n",
       "      <td>&lt;p&gt;Blogs on data science, AI, machine learning...</td>\n",
       "    </tr>\n",
       "    <tr>\n",
       "      <th>1</th>\n",
       "      <td>Udacity CS101: Intro to CS</td>\n",
       "      <td>udacity-cs101</td>\n",
       "      <td>2013-07-10</td>\n",
       "      <td>2021-03-18 10:36:20.807904</td>\n",
       "      <td>posts/udacity-cs101.md</td>\n",
       "      <td>udacity-cs101.md</td>\n",
       "      <td>{'title': 'Udacity CS101: Intro to CS', 'image...</td>\n",
       "      <td>This was one of Udacity's first computer scien...</td>\n",
       "      <td>[courses, python]</td>\n",
       "      <td>&lt;p&gt;This was one of Udacity's first computer sc...</td>\n",
       "    </tr>\n",
       "    <tr>\n",
       "      <th>2</th>\n",
       "      <td>SML 2018-09: Deep Reinforcement Learning</td>\n",
       "      <td>sml-meetup-2018-09</td>\n",
       "      <td>2018-09-20</td>\n",
       "      <td>2021-03-18 10:36:20.806110</td>\n",
       "      <td>posts/sml-meetup-2018-09.md</td>\n",
       "      <td>sml-meetup-2018-09.md</td>\n",
       "      <td>{'title': 'SML 2018-09: Deep Reinforcement Lea...</td>\n",
       "      <td>SML's [2018-09 meetup](https://www.meetup.com/...</td>\n",
       "      <td>[meetup, data science]</td>\n",
       "      <td>&lt;p&gt;SML's &lt;a href=\"https://www.meetup.com/Sydne...</td>\n",
       "    </tr>\n",
       "    <tr>\n",
       "      <th>3</th>\n",
       "      <td>deeplearning.ai: Neural Networks and Deep Lear...</td>\n",
       "      <td>deeplearning-ai-part-1-of-5</td>\n",
       "      <td>2016-01-01</td>\n",
       "      <td>2021-03-18 10:36:20.801716</td>\n",
       "      <td>posts/deeplearning-ai-part-1-of-5.md</td>\n",
       "      <td>deeplearning-ai-part-1-of-5.md</td>\n",
       "      <td>{'title': 'deeplearning.ai: Neural Networks an...</td>\n",
       "      <td>It had been a while since I finished Udacity's...</td>\n",
       "      <td>[courses]</td>\n",
       "      <td>&lt;p&gt;It had been a while since I finished Udacit...</td>\n",
       "    </tr>\n",
       "    <tr>\n",
       "      <th>4</th>\n",
       "      <td>SML 2018-08: Deep Reinforcement Learning</td>\n",
       "      <td>sml-meetup</td>\n",
       "      <td>2018-08-20</td>\n",
       "      <td>2021-03-18 10:36:20.806368</td>\n",
       "      <td>posts/sml-meetup.md</td>\n",
       "      <td>sml-meetup.md</td>\n",
       "      <td>{'title': 'SML 2018-08: Deep Reinforcement Lea...</td>\n",
       "      <td>SML's [2018-08 meetup](https://www.meetup.com/...</td>\n",
       "      <td>[meetup, data science]</td>\n",
       "      <td>&lt;p&gt;SML's &lt;a href=\"https://www.meetup.com/Sydne...</td>\n",
       "    </tr>\n",
       "    <tr>\n",
       "      <th>5</th>\n",
       "      <td>Exercise</td>\n",
       "      <td>exercise</td>\n",
       "      <td>2020-11-29</td>\n",
       "      <td>2021-03-18 10:36:20.803624</td>\n",
       "      <td>posts/exercise.md</td>\n",
       "      <td>exercise.md</td>\n",
       "      <td>{'title': 'Exercise', 'date': 2020-11-29, 'tag...</td>\n",
       "      <td>Many ways to get fit. This is mine.\\n\\n## At h...</td>\n",
       "      <td>[fitness]</td>\n",
       "      <td>&lt;p&gt;Many ways to get fit. This is mine.&lt;/p&gt;\\n&lt;h...</td>\n",
       "    </tr>\n",
       "    <tr>\n",
       "      <th>6</th>\n",
       "      <td>Visual Studio Code</td>\n",
       "      <td>vs_code</td>\n",
       "      <td>2019-10-10</td>\n",
       "      <td>2019-10-10 00:00:00.000000</td>\n",
       "      <td>posts/vs_code.md</td>\n",
       "      <td>vs_code.md</td>\n",
       "      <td>{'title': 'Visual Studio Code', 'date': 2019-1...</td>\n",
       "      <td>VS Code has so many extensions and stuff, that...</td>\n",
       "      <td>[apps]</td>\n",
       "      <td>&lt;p&gt;VS Code has so many extensions and stuff, t...</td>\n",
       "    </tr>\n",
       "    <tr>\n",
       "      <th>7</th>\n",
       "      <td>how the blog was built</td>\n",
       "      <td>building_this_blog</td>\n",
       "      <td>2020-11-11</td>\n",
       "      <td>2021-05-24 15:22:33.875613</td>\n",
       "      <td>posts/building_this_blog.md</td>\n",
       "      <td>building_this_blog.md</td>\n",
       "      <td>{'title': 'how the blog was built', 'date': 20...</td>\n",
       "      <td>There are many excellent blog engines out ther...</td>\n",
       "      <td>[python]</td>\n",
       "      <td>&lt;p&gt;There are many excellent blog engines out t...</td>\n",
       "    </tr>\n",
       "    <tr>\n",
       "      <th>8</th>\n",
       "      <td>Googles Best Practices for ML Engineering</td>\n",
       "      <td>google-ml-best-practice</td>\n",
       "      <td>2019-03-02</td>\n",
       "      <td>2021-03-18 10:36:20.803967</td>\n",
       "      <td>posts/google-ml-best-practice.md</td>\n",
       "      <td>google-ml-best-practice.md</td>\n",
       "      <td>{'title': 'Googles Best Practices for ML Engin...</td>\n",
       "      <td>Notes on [Google's best practices guide for ML...</td>\n",
       "      <td>[ml]</td>\n",
       "      <td>&lt;p&gt;Notes on &lt;a href=\"https://developers.google...</td>\n",
       "    </tr>\n",
       "    <tr>\n",
       "      <th>9</th>\n",
       "      <td>deeplearning.ai: Improving Deep Neural Networks</td>\n",
       "      <td>deeplearning-ai-part-2-of-5</td>\n",
       "      <td>2017-01-01</td>\n",
       "      <td>2021-03-18 10:36:20.801943</td>\n",
       "      <td>posts/deeplearning-ai-part-2-of-5.md</td>\n",
       "      <td>deeplearning-ai-part-2-of-5.md</td>\n",
       "      <td>{'title': 'deeplearning.ai: Improving Deep Neu...</td>\n",
       "      <td>[Improving Deep Neural Networks: Hyperparamete...</td>\n",
       "      <td>[courses]</td>\n",
       "      <td>&lt;p&gt;&lt;a href=\"https://www.coursera.org/learn/dee...</td>\n",
       "    </tr>\n",
       "    <tr>\n",
       "      <th>10</th>\n",
       "      <td>Setting up Linux on a Chromebook with Crostini</td>\n",
       "      <td>setup-crostini-chromebook</td>\n",
       "      <td>2018-08-24</td>\n",
       "      <td>2020-01-07 00:00:00.000000</td>\n",
       "      <td>posts/setup-crostini-chromebook.md</td>\n",
       "      <td>setup-crostini-chromebook.md</td>\n",
       "      <td>{'title': 'Setting up Linux on a Chromebook wi...</td>\n",
       "      <td>ChromeOS supports a built in Linux - running i...</td>\n",
       "      <td>[chromebooks, linux]</td>\n",
       "      <td>&lt;p&gt;ChromeOS supports a built in Linux - runnin...</td>\n",
       "    </tr>\n",
       "    <tr>\n",
       "      <th>11</th>\n",
       "      <td>PyCon Australia 2019</td>\n",
       "      <td>PyConAu2019</td>\n",
       "      <td>2019-09-20</td>\n",
       "      <td>2021-03-18 10:36:20.799119</td>\n",
       "      <td>posts/PyConAu2019.md</td>\n",
       "      <td>PyConAu2019.md</td>\n",
       "      <td>{'title': 'PyCon Australia 2019', 'description...</td>\n",
       "      <td>_update this post to fix youtube video links_\\...</td>\n",
       "      <td>[python]</td>\n",
       "      <td>&lt;p&gt;&lt;em&gt;update this post to fix youtube video l...</td>\n",
       "    </tr>\n",
       "    <tr>\n",
       "      <th>12</th>\n",
       "      <td>Microsoft OpenHack 2018 Sydney</td>\n",
       "      <td>ms_openhack_2018</td>\n",
       "      <td>2018-06-14</td>\n",
       "      <td>2021-03-18 10:36:20.805220</td>\n",
       "      <td>posts/ms_openhack_2018.md</td>\n",
       "      <td>ms_openhack_2018.md</td>\n",
       "      <td>{'title': 'Microsoft OpenHack 2018 Sydney', 'd...</td>\n",
       "      <td>My first ever hackathon! Or so it was called. ...</td>\n",
       "      <td>[data science, meetup]</td>\n",
       "      <td>&lt;p&gt;My first ever hackathon! Or so it was calle...</td>\n",
       "    </tr>\n",
       "    <tr>\n",
       "      <th>13</th>\n",
       "      <td>PyCon Australia 2018</td>\n",
       "      <td>PyConAu2018</td>\n",
       "      <td>2018-09-20</td>\n",
       "      <td>2021-03-18 10:36:20.798619</td>\n",
       "      <td>posts/PyConAu2018.md</td>\n",
       "      <td>PyConAu2018.md</td>\n",
       "      <td>{'title': 'PyCon Australia 2018', 'description...</td>\n",
       "      <td>My notes for the [PyConAU 2018 talks](https://...</td>\n",
       "      <td>[python]</td>\n",
       "      <td>&lt;p&gt;My notes for the &lt;a href=\"https://2018.pyco...</td>\n",
       "    </tr>\n",
       "    <tr>\n",
       "      <th>14</th>\n",
       "      <td>Gooogle Chrome</td>\n",
       "      <td>chrome</td>\n",
       "      <td>2017-03-09</td>\n",
       "      <td>2021-03-18 10:36:20.801036</td>\n",
       "      <td>posts/chrome.md</td>\n",
       "      <td>chrome.md</td>\n",
       "      <td>{'title': 'Gooogle Chrome', 'date': 2017-03-09...</td>\n",
       "      <td>Notes on making Google chrome work for me. Nee...</td>\n",
       "      <td>[apps]</td>\n",
       "      <td>&lt;p&gt;Notes on making Google chrome work for me. ...</td>\n",
       "    </tr>\n",
       "    <tr>\n",
       "      <th>15</th>\n",
       "      <td>Windows 10</td>\n",
       "      <td>windows</td>\n",
       "      <td>2020-10-28</td>\n",
       "      <td>2021-05-07 09:55:47.330657</td>\n",
       "      <td>posts/windows.md</td>\n",
       "      <td>windows.md</td>\n",
       "      <td>{'title': 'Windows 10', 'date': 2020-10-28, 't...</td>\n",
       "      <td>## Factory reset\\n\\nWindows 10 gets slow and c...</td>\n",
       "      <td>[windows]</td>\n",
       "      <td>&lt;h2 id=\"factory-reset\"&gt;Factory reset&lt;/h2&gt;\\n&lt;p&gt;...</td>\n",
       "    </tr>\n",
       "    <tr>\n",
       "      <th>16</th>\n",
       "      <td>Statistics Done Wrong: The Woefully Complete G...</td>\n",
       "      <td>stats-done-wrong-book</td>\n",
       "      <td>2019-05-05</td>\n",
       "      <td>2021-03-18 10:36:20.806990</td>\n",
       "      <td>posts/stats-done-wrong-book.md</td>\n",
       "      <td>stats-done-wrong-book.md</td>\n",
       "      <td>{'title': 'Statistics Done Wrong: The Woefully...</td>\n",
       "      <td>This is a great statistics primer - Alex Reinh...</td>\n",
       "      <td>[books, statistics]</td>\n",
       "      <td>&lt;p&gt;This is a great statistics primer - Alex Re...</td>\n",
       "    </tr>\n",
       "    <tr>\n",
       "      <th>17</th>\n",
       "      <td>Quarterly Essay 81: Getting to Zero - Australi...</td>\n",
       "      <td>getting_to_zero</td>\n",
       "      <td>2021-06-02</td>\n",
       "      <td>2021-06-03 12:29:31.376976</td>\n",
       "      <td>posts/getting_to_zero.md</td>\n",
       "      <td>getting_to_zero.md</td>\n",
       "      <td>{'title': 'Quarterly Essay 81: Getting to Zero...</td>\n",
       "      <td>This [QE](https://www.quarterlyessay.com.au/es...</td>\n",
       "      <td>[books, energy]</td>\n",
       "      <td>&lt;p&gt;This &lt;a href=\"https://www.quarterlyessay.co...</td>\n",
       "    </tr>\n",
       "    <tr>\n",
       "      <th>18</th>\n",
       "      <td>Udacity ND101: Deep Learning Nanodegree</td>\n",
       "      <td>udacity-nd101</td>\n",
       "      <td>2017-08-15</td>\n",
       "      <td>2021-03-18 10:36:20.808102</td>\n",
       "      <td>posts/udacity-nd101.md</td>\n",
       "      <td>udacity-nd101.md</td>\n",
       "      <td>{'title': 'Udacity ND101: Deep Learning Nanode...</td>\n",
       "      <td>My notes &amp; files for [Udacity's Deep Learning ...</td>\n",
       "      <td>[untagged]</td>\n",
       "      <td>&lt;p&gt;My notes &amp;amp; files for &lt;a href=\"https://w...</td>\n",
       "    </tr>\n",
       "    <tr>\n",
       "      <th>19</th>\n",
       "      <td>Jupyter Lab tips and tricks</td>\n",
       "      <td>jupyterlab</td>\n",
       "      <td>2019-08-04</td>\n",
       "      <td>2021-03-21 13:37:32.000404</td>\n",
       "      <td>posts/jupyterlab.md</td>\n",
       "      <td>jupyterlab.md</td>\n",
       "      <td>{'title': 'Jupyter Lab tips and tricks', 'date...</td>\n",
       "      <td>My collection of tips and tricks for using jup...</td>\n",
       "      <td>[jupyter]</td>\n",
       "      <td>&lt;p&gt;My collection of tips and tricks for using ...</td>\n",
       "    </tr>\n",
       "    <tr>\n",
       "      <th>20</th>\n",
       "      <td>deeplearning.ai: Structuring Machine Learning ...</td>\n",
       "      <td>deeplearning-ai-part-3-of-5</td>\n",
       "      <td>2018-01-01</td>\n",
       "      <td>2021-03-18 10:36:20.802176</td>\n",
       "      <td>posts/deeplearning-ai-part-3-of-5.md</td>\n",
       "      <td>deeplearning-ai-part-3-of-5.md</td>\n",
       "      <td>{'title': 'deeplearning.ai: Structuring Machin...</td>\n",
       "      <td>This course covers how to think about and impr...</td>\n",
       "      <td>[courses]</td>\n",
       "      <td>&lt;p&gt;This course covers how to think about and i...</td>\n",
       "    </tr>\n",
       "    <tr>\n",
       "      <th>21</th>\n",
       "      <td>Setup Linux</td>\n",
       "      <td>setup-ubuntu</td>\n",
       "      <td>2018-09-20</td>\n",
       "      <td>2021-03-18 10:36:20.805951</td>\n",
       "      <td>posts/setup-ubuntu.md</td>\n",
       "      <td>setup-ubuntu.md</td>\n",
       "      <td>{'title': 'Setup Linux', 'description': 'setup...</td>\n",
       "      <td># Evnironment\\n\\ntodo\\n\\n# Apps \\n\\n\\n## vs co...</td>\n",
       "      <td>[linux]</td>\n",
       "      <td>&lt;h1 id=\"evnironment\"&gt;Evnironment&lt;/h1&gt;\\n&lt;p&gt;todo...</td>\n",
       "    </tr>\n",
       "    <tr>\n",
       "      <th>22</th>\n",
       "      <td>starting out with micropython on a esp8266</td>\n",
       "      <td>esp8266</td>\n",
       "      <td>2021-01-08</td>\n",
       "      <td>2021-03-21 22:14:18.572627</td>\n",
       "      <td>posts/esp8266.md</td>\n",
       "      <td>esp8266.md</td>\n",
       "      <td>{'title': 'starting out with micropython on a ...</td>\n",
       "      <td>I've been wanting to try out a IOT board to do...</td>\n",
       "      <td>[iot]</td>\n",
       "      <td>&lt;p&gt;I've been wanting to try out a IOT board to...</td>\n",
       "    </tr>\n",
       "    <tr>\n",
       "      <th>23</th>\n",
       "      <td>Apache Spark</td>\n",
       "      <td>apache-spark</td>\n",
       "      <td>2016-01-01</td>\n",
       "      <td>2021-03-18 10:36:20.799772</td>\n",
       "      <td>posts/apache-spark.md</td>\n",
       "      <td>apache-spark.md</td>\n",
       "      <td>{'title': 'Apache Spark', 'description': 'star...</td>\n",
       "      <td>Way back in the good old days Google came up w...</td>\n",
       "      <td>[untagged]</td>\n",
       "      <td>&lt;p&gt;Way back in the good old days Google came u...</td>\n",
       "    </tr>\n",
       "    <tr>\n",
       "      <th>24</th>\n",
       "      <td>Lilygo ttgo t5</td>\n",
       "      <td>esp32-eink</td>\n",
       "      <td>2021-01-18</td>\n",
       "      <td>2021-03-24 15:00:40.692414</td>\n",
       "      <td>posts/esp32-eink.md</td>\n",
       "      <td>esp32-eink.md</td>\n",
       "      <td>{'title': 'Lilygo ttgo t5', 'date': 2021-01-18...</td>\n",
       "      <td>## the board\\n\\nTTGO T5 V2.3 Wireless WiFi Bas...</td>\n",
       "      <td>[iot]</td>\n",
       "      <td>&lt;h2 id=\"the-board\"&gt;the board&lt;/h2&gt;\\n&lt;p&gt;TTGO T5 ...</td>\n",
       "    </tr>\n",
       "    <tr>\n",
       "      <th>25</th>\n",
       "      <td>Using Anaconda</td>\n",
       "      <td>anaconda</td>\n",
       "      <td>2021-01-02</td>\n",
       "      <td>2021-03-31 17:24:29.735177</td>\n",
       "      <td>posts/anaconda.md</td>\n",
       "      <td>anaconda.md</td>\n",
       "      <td>{'title': 'Using Anaconda', 'date': 2021-01-02...</td>\n",
       "      <td>## Install Anaconda\\n\\nThere seems to be two m...</td>\n",
       "      <td>[python]</td>\n",
       "      <td>&lt;h2 id=\"install-anaconda\"&gt;Install Anaconda&lt;/h2...</td>\n",
       "    </tr>\n",
       "    <tr>\n",
       "      <th>26</th>\n",
       "      <td>Grokking Deep Learning by Andrew Trask</td>\n",
       "      <td>grokking-deep-learning-book</td>\n",
       "      <td>2018-08-08</td>\n",
       "      <td>2021-05-24 09:27:52.052175</td>\n",
       "      <td>posts/grokking-deep-learning-book.md</td>\n",
       "      <td>grokking-deep-learning-book.md</td>\n",
       "      <td>{'title': 'Grokking Deep Learning by Andrew Tr...</td>\n",
       "      <td>Andrew Trask is an AI superstar, having come u...</td>\n",
       "      <td>[books]</td>\n",
       "      <td>&lt;p&gt;Andrew Trask is an AI superstar, having com...</td>\n",
       "    </tr>\n",
       "    <tr>\n",
       "      <th>27</th>\n",
       "      <td>fastai Practical Deep Learning For Coders, Par...</td>\n",
       "      <td>fastai-part1-2018</td>\n",
       "      <td>2018-05-05</td>\n",
       "      <td>2021-03-18 10:36:20.803794</td>\n",
       "      <td>posts/fastai-part1-2018.md</td>\n",
       "      <td>fastai-part1-2018.md</td>\n",
       "      <td>{'title': 'fastai Practical Deep Learning For ...</td>\n",
       "      <td>This is a great top down introduction to deep ...</td>\n",
       "      <td>[courses, deep learning]</td>\n",
       "      <td>&lt;p&gt;This is a great top down introduction to de...</td>\n",
       "    </tr>\n",
       "    <tr>\n",
       "      <th>28</th>\n",
       "      <td>Techfugees Sydney Hackathon 2018</td>\n",
       "      <td>techfugees-sydney-hackathon-2018</td>\n",
       "      <td>2018-07-20</td>\n",
       "      <td>2021-03-18 10:36:20.807704</td>\n",
       "      <td>posts/techfugees-sydney-hackathon-2018.md</td>\n",
       "      <td>techfugees-sydney-hackathon-2018.md</td>\n",
       "      <td>{'title': 'Techfugees Sydney Hackathon 2018', ...</td>\n",
       "      <td>This hackathon is about developing tech soluti...</td>\n",
       "      <td>[meetup]</td>\n",
       "      <td>&lt;p&gt;This hackathon is about developing tech sol...</td>\n",
       "    </tr>\n",
       "    <tr>\n",
       "      <th>29</th>\n",
       "      <td>Advent of Code 2016</td>\n",
       "      <td>advent-of-code-2016</td>\n",
       "      <td>2019-02-02</td>\n",
       "      <td>2021-03-18 10:36:20.799404</td>\n",
       "      <td>posts/advent-of-code-2016.md</td>\n",
       "      <td>advent-of-code-2016.md</td>\n",
       "      <td>{'title': 'Advent of Code 2016', 'description'...</td>\n",
       "      <td>todo: convert this into a jupyter notebook and...</td>\n",
       "      <td>[python]</td>\n",
       "      <td>&lt;p&gt;todo: convert this into a jupyter notebook ...</td>\n",
       "    </tr>\n",
       "    <tr>\n",
       "      <th>30</th>\n",
       "      <td>MITx 6.00.2X: Intro to Computational Thinking ...</td>\n",
       "      <td>mitx6002x</td>\n",
       "      <td>2018-09-20</td>\n",
       "      <td>2021-03-18 10:36:20.805060</td>\n",
       "      <td>posts/mitx6002x.md</td>\n",
       "      <td>mitx6002x.md</td>\n",
       "      <td>{'title': 'MITx 6.00.2X: Intro to Computationa...</td>\n",
       "      <td>I really liked this class - it was a engaging ...</td>\n",
       "      <td>[courses, python]</td>\n",
       "      <td>&lt;p&gt;I really liked this class - it was a engagi...</td>\n",
       "    </tr>\n",
       "    <tr>\n",
       "      <th>31</th>\n",
       "      <td>MacOS</td>\n",
       "      <td>setup-mac</td>\n",
       "      <td>2020-01-20</td>\n",
       "      <td>2021-03-21 13:37:59.305868</td>\n",
       "      <td>posts/setup-mac.md</td>\n",
       "      <td>setup-mac.md</td>\n",
       "      <td>{'title': 'MacOS', 'description': 'setup notes...</td>\n",
       "      <td>## Install the latest macOS\\n\\nIf starting wit...</td>\n",
       "      <td>[mac]</td>\n",
       "      <td>&lt;h2 id=\"install-the-latest-macos\"&gt;Install the ...</td>\n",
       "    </tr>\n",
       "    <tr>\n",
       "      <th>32</th>\n",
       "      <td>DSS-2018-07: Michael Allwright and Inna Kolysh...</td>\n",
       "      <td>dss-meetup</td>\n",
       "      <td>2018-07-12</td>\n",
       "      <td>2021-03-18 10:36:20.802421</td>\n",
       "      <td>posts/dss-meetup.md</td>\n",
       "      <td>dss-meetup.md</td>\n",
       "      <td>{'title': 'DSS-2018-07: Michael Allwright and ...</td>\n",
       "      <td>Data Science Sydney's [2018-07 meetup](https:/...</td>\n",
       "      <td>[meetup]</td>\n",
       "      <td>&lt;p&gt;Data Science Sydney's &lt;a href=\"https://www....</td>\n",
       "    </tr>\n",
       "    <tr>\n",
       "      <th>33</th>\n",
       "      <td>Notes for Harvard's Cs109 data science class</td>\n",
       "      <td>harvard-cs109-notes</td>\n",
       "      <td>2017-04-04</td>\n",
       "      <td>2021-03-18 10:36:20.804336</td>\n",
       "      <td>posts/harvard-cs109-notes.md</td>\n",
       "      <td>harvard-cs109-notes.md</td>\n",
       "      <td>{'title': 'Notes for Harvard's Cs109 data scie...</td>\n",
       "      <td>These are my notes for [Harvard's 2015 CS109 c...</td>\n",
       "      <td>[python, data science]</td>\n",
       "      <td>&lt;p&gt;These are my notes for &lt;a href=\"http://cs10...</td>\n",
       "    </tr>\n",
       "    <tr>\n",
       "      <th>34</th>\n",
       "      <td>Vegan Shami kebab</td>\n",
       "      <td>vegan-shami-kebab</td>\n",
       "      <td>2020-08-04</td>\n",
       "      <td>2021-03-18 10:36:20.808574</td>\n",
       "      <td>posts/recipes/vegan-shami-kebab.md</td>\n",
       "      <td>vegan-shami-kebab.md</td>\n",
       "      <td>{'title': 'Vegan Shami kebab', 'date': 2020-08...</td>\n",
       "      <td>Makes kebabs for frying or grilling. Goes well...</td>\n",
       "      <td>[recipes]</td>\n",
       "      <td>&lt;p&gt;Makes kebabs for frying or grilling. Goes w...</td>\n",
       "    </tr>\n",
       "    <tr>\n",
       "      <th>35</th>\n",
       "      <td>Sprouted Daal (lentils)</td>\n",
       "      <td>daal-sprouts</td>\n",
       "      <td>2020-08-04</td>\n",
       "      <td>2021-03-18 10:36:20.801247</td>\n",
       "      <td>posts/recipes/daal-sprouts.md</td>\n",
       "      <td>daal-sprouts.md</td>\n",
       "      <td>{'title': 'Sprouted Daal (lentils)', 'date': 2...</td>\n",
       "      <td>A faster daal recipe. 30 min, good for 3 ppl, ...</td>\n",
       "      <td>[recipes]</td>\n",
       "      <td>&lt;p&gt;A faster daal recipe. 30 min, good for 3 pp...</td>\n",
       "    </tr>\n",
       "    <tr>\n",
       "      <th>36</th>\n",
       "      <td>Mung bean Dhal</td>\n",
       "      <td>bean-lentils</td>\n",
       "      <td>2020-09-12</td>\n",
       "      <td>2021-03-18 10:36:20.799947</td>\n",
       "      <td>posts/recipes/bean-lentils.md</td>\n",
       "      <td>bean-lentils.md</td>\n",
       "      <td>{'title': 'Mung bean Dhal', 'date': 2020-09-12...</td>\n",
       "      <td>Easy to make sprouted bean dhal. Recipe still ...</td>\n",
       "      <td>[recipes]</td>\n",
       "      <td>&lt;p&gt;Easy to make sprouted bean dhal. Recipe sti...</td>\n",
       "    </tr>\n",
       "    <tr>\n",
       "      <th>37</th>\n",
       "      <td>Paneer Karhai</td>\n",
       "      <td>paneer-karhai</td>\n",
       "      <td>2019-08-04</td>\n",
       "      <td>2021-03-18 10:36:20.805381</td>\n",
       "      <td>posts/recipes/paneer-karhai.md</td>\n",
       "      <td>paneer-karhai.md</td>\n",
       "      <td>{'title': 'Paneer Karhai', 'date': 2019-08-04,...</td>\n",
       "      <td>Home made recipe from FDT. This is a basic des...</td>\n",
       "      <td>[recipes]</td>\n",
       "      <td>&lt;p&gt;Home made recipe from FDT. This is a basic ...</td>\n",
       "    </tr>\n",
       "    <tr>\n",
       "      <th>38</th>\n",
       "      <td>Kheera ka raita</td>\n",
       "      <td>kheera-raita</td>\n",
       "      <td>2020-09-12</td>\n",
       "      <td>2021-03-18 10:36:20.804865</td>\n",
       "      <td>posts/recipes/kheera-raita.md</td>\n",
       "      <td>kheera-raita.md</td>\n",
       "      <td>{'title': 'Kheera ka raita', 'date': 2020-09-1...</td>\n",
       "      <td>cucumber + mint raita\\n\\n## Ingredients\\n\\n- 1...</td>\n",
       "      <td>[recipes]</td>\n",
       "      <td>&lt;p&gt;cucumber + mint raita&lt;/p&gt;\\n&lt;h2 id=\"ingredie...</td>\n",
       "    </tr>\n",
       "    <tr>\n",
       "      <th>39</th>\n",
       "      <td>Dhal fry</td>\n",
       "      <td>urud-dhal</td>\n",
       "      <td>2020-09-12</td>\n",
       "      <td>2021-05-07 09:53:47.445642</td>\n",
       "      <td>posts/recipes/urud-dhal.md</td>\n",
       "      <td>urud-dhal.md</td>\n",
       "      <td>{'title': 'Dhal fry', 'date': 2020-09-12, 'tag...</td>\n",
       "      <td>Recipe from Lahore. Needs some more tips from ...</td>\n",
       "      <td>[recipes]</td>\n",
       "      <td>&lt;p&gt;Recipe from Lahore. Needs some more tips fr...</td>\n",
       "    </tr>\n",
       "    <tr>\n",
       "      <th>40</th>\n",
       "      <td>Spicy Chickpeas</td>\n",
       "      <td>spicychickpeas</td>\n",
       "      <td>2020-09-04</td>\n",
       "      <td>2021-03-18 10:36:20.806717</td>\n",
       "      <td>posts/recipes/spicychickpeas.md</td>\n",
       "      <td>spicychickpeas.md</td>\n",
       "      <td>{'title': 'Spicy Chickpeas', 'date': 2020-09-0...</td>\n",
       "      <td>## Spices (put aside in small bowl)\\n\\n- 1 tsp...</td>\n",
       "      <td>[recipes]</td>\n",
       "      <td>&lt;h2 id=\"spices-put-aside-in-small-bowl\"&gt;Spices...</td>\n",
       "    </tr>\n",
       "    <tr>\n",
       "      <th>41</th>\n",
       "      <td>Daal (lentils)</td>\n",
       "      <td>daal</td>\n",
       "      <td>2019-08-04</td>\n",
       "      <td>2021-05-07 09:54:46.505041</td>\n",
       "      <td>posts/recipes/daal.md</td>\n",
       "      <td>daal.md</td>\n",
       "      <td>{'title': 'Daal (lentils)', 'date': 2019-08-04...</td>\n",
       "      <td>A simple daal recipe.\\n\\n1 cup of daal is appr...</td>\n",
       "      <td>[recipes]</td>\n",
       "      <td>&lt;p&gt;A simple daal recipe.&lt;/p&gt;\\n&lt;p&gt;1 cup of daal...</td>\n",
       "    </tr>\n",
       "    <tr>\n",
       "      <th>42</th>\n",
       "      <td>Testing note in a subfolder</td>\n",
       "      <td>note_in_subfolder</td>\n",
       "      <td>2020-06-14</td>\n",
       "      <td>2019-08-07 00:00:00.000000</td>\n",
       "      <td>posts/sub_notes/note_in_subfolder.md</td>\n",
       "      <td>note_in_subfolder.md</td>\n",
       "      <td>{'title': 'Testing note in a subfolder', 'date...</td>\n",
       "      <td>This note is inside a subfolder.\\n\\n## twitter...</td>\n",
       "      <td>[python]</td>\n",
       "      <td>&lt;p&gt;This note is inside a subfolder.&lt;/p&gt;\\n&lt;h2 i...</td>\n",
       "    </tr>\n",
       "  </tbody>\n",
       "</table>\n",
       "</div>"
      ],
      "text/plain": [
       "                                                title  \\\n",
       "0                                  Data Science blogs   \n",
       "1                          Udacity CS101: Intro to CS   \n",
       "2            SML 2018-09: Deep Reinforcement Learning   \n",
       "3   deeplearning.ai: Neural Networks and Deep Lear...   \n",
       "4            SML 2018-08: Deep Reinforcement Learning   \n",
       "5                                            Exercise   \n",
       "6                                  Visual Studio Code   \n",
       "7                              how the blog was built   \n",
       "8           Googles Best Practices for ML Engineering   \n",
       "9     deeplearning.ai: Improving Deep Neural Networks   \n",
       "10     Setting up Linux on a Chromebook with Crostini   \n",
       "11                               PyCon Australia 2019   \n",
       "12                     Microsoft OpenHack 2018 Sydney   \n",
       "13                               PyCon Australia 2018   \n",
       "14                                     Gooogle Chrome   \n",
       "15                                         Windows 10   \n",
       "16  Statistics Done Wrong: The Woefully Complete G...   \n",
       "17  Quarterly Essay 81: Getting to Zero - Australi...   \n",
       "18            Udacity ND101: Deep Learning Nanodegree   \n",
       "19                        Jupyter Lab tips and tricks   \n",
       "20  deeplearning.ai: Structuring Machine Learning ...   \n",
       "21                                        Setup Linux   \n",
       "22         starting out with micropython on a esp8266   \n",
       "23                                       Apache Spark   \n",
       "24                                     Lilygo ttgo t5   \n",
       "25                                     Using Anaconda   \n",
       "26             Grokking Deep Learning by Andrew Trask   \n",
       "27  fastai Practical Deep Learning For Coders, Par...   \n",
       "28                   Techfugees Sydney Hackathon 2018   \n",
       "29                                Advent of Code 2016   \n",
       "30  MITx 6.00.2X: Intro to Computational Thinking ...   \n",
       "31                                              MacOS   \n",
       "32  DSS-2018-07: Michael Allwright and Inna Kolysh...   \n",
       "33       Notes for Harvard's Cs109 data science class   \n",
       "34                                  Vegan Shami kebab   \n",
       "35                            Sprouted Daal (lentils)   \n",
       "36                                     Mung bean Dhal   \n",
       "37                                      Paneer Karhai   \n",
       "38                                    Kheera ka raita   \n",
       "39                                           Dhal fry   \n",
       "40                                    Spicy Chickpeas   \n",
       "41                                     Daal (lentils)   \n",
       "42                        Testing note in a subfolder   \n",
       "\n",
       "                                slug        date                    lastmod  \\\n",
       "0                       blogs-i-like  2019-03-04 2021-03-18 10:36:20.800265   \n",
       "1                      udacity-cs101  2013-07-10 2021-03-18 10:36:20.807904   \n",
       "2                 sml-meetup-2018-09  2018-09-20 2021-03-18 10:36:20.806110   \n",
       "3        deeplearning-ai-part-1-of-5  2016-01-01 2021-03-18 10:36:20.801716   \n",
       "4                         sml-meetup  2018-08-20 2021-03-18 10:36:20.806368   \n",
       "5                           exercise  2020-11-29 2021-03-18 10:36:20.803624   \n",
       "6                            vs_code  2019-10-10 2019-10-10 00:00:00.000000   \n",
       "7                 building_this_blog  2020-11-11 2021-05-24 15:22:33.875613   \n",
       "8            google-ml-best-practice  2019-03-02 2021-03-18 10:36:20.803967   \n",
       "9        deeplearning-ai-part-2-of-5  2017-01-01 2021-03-18 10:36:20.801943   \n",
       "10         setup-crostini-chromebook  2018-08-24 2020-01-07 00:00:00.000000   \n",
       "11                       PyConAu2019  2019-09-20 2021-03-18 10:36:20.799119   \n",
       "12                  ms_openhack_2018  2018-06-14 2021-03-18 10:36:20.805220   \n",
       "13                       PyConAu2018  2018-09-20 2021-03-18 10:36:20.798619   \n",
       "14                            chrome  2017-03-09 2021-03-18 10:36:20.801036   \n",
       "15                           windows  2020-10-28 2021-05-07 09:55:47.330657   \n",
       "16             stats-done-wrong-book  2019-05-05 2021-03-18 10:36:20.806990   \n",
       "17                   getting_to_zero  2021-06-02 2021-06-03 12:29:31.376976   \n",
       "18                     udacity-nd101  2017-08-15 2021-03-18 10:36:20.808102   \n",
       "19                        jupyterlab  2019-08-04 2021-03-21 13:37:32.000404   \n",
       "20       deeplearning-ai-part-3-of-5  2018-01-01 2021-03-18 10:36:20.802176   \n",
       "21                      setup-ubuntu  2018-09-20 2021-03-18 10:36:20.805951   \n",
       "22                           esp8266  2021-01-08 2021-03-21 22:14:18.572627   \n",
       "23                      apache-spark  2016-01-01 2021-03-18 10:36:20.799772   \n",
       "24                        esp32-eink  2021-01-18 2021-03-24 15:00:40.692414   \n",
       "25                          anaconda  2021-01-02 2021-03-31 17:24:29.735177   \n",
       "26       grokking-deep-learning-book  2018-08-08 2021-05-24 09:27:52.052175   \n",
       "27                 fastai-part1-2018  2018-05-05 2021-03-18 10:36:20.803794   \n",
       "28  techfugees-sydney-hackathon-2018  2018-07-20 2021-03-18 10:36:20.807704   \n",
       "29               advent-of-code-2016  2019-02-02 2021-03-18 10:36:20.799404   \n",
       "30                         mitx6002x  2018-09-20 2021-03-18 10:36:20.805060   \n",
       "31                         setup-mac  2020-01-20 2021-03-21 13:37:59.305868   \n",
       "32                        dss-meetup  2018-07-12 2021-03-18 10:36:20.802421   \n",
       "33               harvard-cs109-notes  2017-04-04 2021-03-18 10:36:20.804336   \n",
       "34                 vegan-shami-kebab  2020-08-04 2021-03-18 10:36:20.808574   \n",
       "35                      daal-sprouts  2020-08-04 2021-03-18 10:36:20.801247   \n",
       "36                      bean-lentils  2020-09-12 2021-03-18 10:36:20.799947   \n",
       "37                     paneer-karhai  2019-08-04 2021-03-18 10:36:20.805381   \n",
       "38                      kheera-raita  2020-09-12 2021-03-18 10:36:20.804865   \n",
       "39                         urud-dhal  2020-09-12 2021-05-07 09:53:47.445642   \n",
       "40                    spicychickpeas  2020-09-04 2021-03-18 10:36:20.806717   \n",
       "41                              daal  2019-08-04 2021-05-07 09:54:46.505041   \n",
       "42                 note_in_subfolder  2020-06-14 2019-08-07 00:00:00.000000   \n",
       "\n",
       "                                         path  \\\n",
       "0                       posts/blogs-i-like.md   \n",
       "1                      posts/udacity-cs101.md   \n",
       "2                 posts/sml-meetup-2018-09.md   \n",
       "3        posts/deeplearning-ai-part-1-of-5.md   \n",
       "4                         posts/sml-meetup.md   \n",
       "5                           posts/exercise.md   \n",
       "6                            posts/vs_code.md   \n",
       "7                 posts/building_this_blog.md   \n",
       "8            posts/google-ml-best-practice.md   \n",
       "9        posts/deeplearning-ai-part-2-of-5.md   \n",
       "10         posts/setup-crostini-chromebook.md   \n",
       "11                       posts/PyConAu2019.md   \n",
       "12                  posts/ms_openhack_2018.md   \n",
       "13                       posts/PyConAu2018.md   \n",
       "14                            posts/chrome.md   \n",
       "15                           posts/windows.md   \n",
       "16             posts/stats-done-wrong-book.md   \n",
       "17                   posts/getting_to_zero.md   \n",
       "18                     posts/udacity-nd101.md   \n",
       "19                        posts/jupyterlab.md   \n",
       "20       posts/deeplearning-ai-part-3-of-5.md   \n",
       "21                      posts/setup-ubuntu.md   \n",
       "22                           posts/esp8266.md   \n",
       "23                      posts/apache-spark.md   \n",
       "24                        posts/esp32-eink.md   \n",
       "25                          posts/anaconda.md   \n",
       "26       posts/grokking-deep-learning-book.md   \n",
       "27                 posts/fastai-part1-2018.md   \n",
       "28  posts/techfugees-sydney-hackathon-2018.md   \n",
       "29               posts/advent-of-code-2016.md   \n",
       "30                         posts/mitx6002x.md   \n",
       "31                         posts/setup-mac.md   \n",
       "32                        posts/dss-meetup.md   \n",
       "33               posts/harvard-cs109-notes.md   \n",
       "34         posts/recipes/vegan-shami-kebab.md   \n",
       "35              posts/recipes/daal-sprouts.md   \n",
       "36              posts/recipes/bean-lentils.md   \n",
       "37             posts/recipes/paneer-karhai.md   \n",
       "38              posts/recipes/kheera-raita.md   \n",
       "39                 posts/recipes/urud-dhal.md   \n",
       "40            posts/recipes/spicychickpeas.md   \n",
       "41                      posts/recipes/daal.md   \n",
       "42       posts/sub_notes/note_in_subfolder.md   \n",
       "\n",
       "                               filename  \\\n",
       "0                       blogs-i-like.md   \n",
       "1                      udacity-cs101.md   \n",
       "2                 sml-meetup-2018-09.md   \n",
       "3        deeplearning-ai-part-1-of-5.md   \n",
       "4                         sml-meetup.md   \n",
       "5                           exercise.md   \n",
       "6                            vs_code.md   \n",
       "7                 building_this_blog.md   \n",
       "8            google-ml-best-practice.md   \n",
       "9        deeplearning-ai-part-2-of-5.md   \n",
       "10         setup-crostini-chromebook.md   \n",
       "11                       PyConAu2019.md   \n",
       "12                  ms_openhack_2018.md   \n",
       "13                       PyConAu2018.md   \n",
       "14                            chrome.md   \n",
       "15                           windows.md   \n",
       "16             stats-done-wrong-book.md   \n",
       "17                   getting_to_zero.md   \n",
       "18                     udacity-nd101.md   \n",
       "19                        jupyterlab.md   \n",
       "20       deeplearning-ai-part-3-of-5.md   \n",
       "21                      setup-ubuntu.md   \n",
       "22                           esp8266.md   \n",
       "23                      apache-spark.md   \n",
       "24                        esp32-eink.md   \n",
       "25                          anaconda.md   \n",
       "26       grokking-deep-learning-book.md   \n",
       "27                 fastai-part1-2018.md   \n",
       "28  techfugees-sydney-hackathon-2018.md   \n",
       "29               advent-of-code-2016.md   \n",
       "30                         mitx6002x.md   \n",
       "31                         setup-mac.md   \n",
       "32                        dss-meetup.md   \n",
       "33               harvard-cs109-notes.md   \n",
       "34                 vegan-shami-kebab.md   \n",
       "35                      daal-sprouts.md   \n",
       "36                      bean-lentils.md   \n",
       "37                     paneer-karhai.md   \n",
       "38                      kheera-raita.md   \n",
       "39                         urud-dhal.md   \n",
       "40                    spicychickpeas.md   \n",
       "41                              daal.md   \n",
       "42                 note_in_subfolder.md   \n",
       "\n",
       "                                         front_matter  \\\n",
       "0   {'title': 'Data Science blogs', 'description':...   \n",
       "1   {'title': 'Udacity CS101: Intro to CS', 'image...   \n",
       "2   {'title': 'SML 2018-09: Deep Reinforcement Lea...   \n",
       "3   {'title': 'deeplearning.ai: Neural Networks an...   \n",
       "4   {'title': 'SML 2018-08: Deep Reinforcement Lea...   \n",
       "5   {'title': 'Exercise', 'date': 2020-11-29, 'tag...   \n",
       "6   {'title': 'Visual Studio Code', 'date': 2019-1...   \n",
       "7   {'title': 'how the blog was built', 'date': 20...   \n",
       "8   {'title': 'Googles Best Practices for ML Engin...   \n",
       "9   {'title': 'deeplearning.ai: Improving Deep Neu...   \n",
       "10  {'title': 'Setting up Linux on a Chromebook wi...   \n",
       "11  {'title': 'PyCon Australia 2019', 'description...   \n",
       "12  {'title': 'Microsoft OpenHack 2018 Sydney', 'd...   \n",
       "13  {'title': 'PyCon Australia 2018', 'description...   \n",
       "14  {'title': 'Gooogle Chrome', 'date': 2017-03-09...   \n",
       "15  {'title': 'Windows 10', 'date': 2020-10-28, 't...   \n",
       "16  {'title': 'Statistics Done Wrong: The Woefully...   \n",
       "17  {'title': 'Quarterly Essay 81: Getting to Zero...   \n",
       "18  {'title': 'Udacity ND101: Deep Learning Nanode...   \n",
       "19  {'title': 'Jupyter Lab tips and tricks', 'date...   \n",
       "20  {'title': 'deeplearning.ai: Structuring Machin...   \n",
       "21  {'title': 'Setup Linux', 'description': 'setup...   \n",
       "22  {'title': 'starting out with micropython on a ...   \n",
       "23  {'title': 'Apache Spark', 'description': 'star...   \n",
       "24  {'title': 'Lilygo ttgo t5', 'date': 2021-01-18...   \n",
       "25  {'title': 'Using Anaconda', 'date': 2021-01-02...   \n",
       "26  {'title': 'Grokking Deep Learning by Andrew Tr...   \n",
       "27  {'title': 'fastai Practical Deep Learning For ...   \n",
       "28  {'title': 'Techfugees Sydney Hackathon 2018', ...   \n",
       "29  {'title': 'Advent of Code 2016', 'description'...   \n",
       "30  {'title': 'MITx 6.00.2X: Intro to Computationa...   \n",
       "31  {'title': 'MacOS', 'description': 'setup notes...   \n",
       "32  {'title': 'DSS-2018-07: Michael Allwright and ...   \n",
       "33  {'title': 'Notes for Harvard's Cs109 data scie...   \n",
       "34  {'title': 'Vegan Shami kebab', 'date': 2020-08...   \n",
       "35  {'title': 'Sprouted Daal (lentils)', 'date': 2...   \n",
       "36  {'title': 'Mung bean Dhal', 'date': 2020-09-12...   \n",
       "37  {'title': 'Paneer Karhai', 'date': 2019-08-04,...   \n",
       "38  {'title': 'Kheera ka raita', 'date': 2020-09-1...   \n",
       "39  {'title': 'Dhal fry', 'date': 2020-09-12, 'tag...   \n",
       "40  {'title': 'Spicy Chickpeas', 'date': 2020-09-0...   \n",
       "41  {'title': 'Daal (lentils)', 'date': 2019-08-04...   \n",
       "42  {'title': 'Testing note in a subfolder', 'date...   \n",
       "\n",
       "                                             markdown  \\\n",
       "0   Blogs on data science, AI, machine learning et...   \n",
       "1   This was one of Udacity's first computer scien...   \n",
       "2   SML's [2018-09 meetup](https://www.meetup.com/...   \n",
       "3   It had been a while since I finished Udacity's...   \n",
       "4   SML's [2018-08 meetup](https://www.meetup.com/...   \n",
       "5   Many ways to get fit. This is mine.\\n\\n## At h...   \n",
       "6   VS Code has so many extensions and stuff, that...   \n",
       "7   There are many excellent blog engines out ther...   \n",
       "8   Notes on [Google's best practices guide for ML...   \n",
       "9   [Improving Deep Neural Networks: Hyperparamete...   \n",
       "10  ChromeOS supports a built in Linux - running i...   \n",
       "11  _update this post to fix youtube video links_\\...   \n",
       "12  My first ever hackathon! Or so it was called. ...   \n",
       "13  My notes for the [PyConAU 2018 talks](https://...   \n",
       "14  Notes on making Google chrome work for me. Nee...   \n",
       "15  ## Factory reset\\n\\nWindows 10 gets slow and c...   \n",
       "16  This is a great statistics primer - Alex Reinh...   \n",
       "17  This [QE](https://www.quarterlyessay.com.au/es...   \n",
       "18  My notes & files for [Udacity's Deep Learning ...   \n",
       "19  My collection of tips and tricks for using jup...   \n",
       "20  This course covers how to think about and impr...   \n",
       "21  # Evnironment\\n\\ntodo\\n\\n# Apps \\n\\n\\n## vs co...   \n",
       "22  I've been wanting to try out a IOT board to do...   \n",
       "23  Way back in the good old days Google came up w...   \n",
       "24  ## the board\\n\\nTTGO T5 V2.3 Wireless WiFi Bas...   \n",
       "25  ## Install Anaconda\\n\\nThere seems to be two m...   \n",
       "26  Andrew Trask is an AI superstar, having come u...   \n",
       "27  This is a great top down introduction to deep ...   \n",
       "28  This hackathon is about developing tech soluti...   \n",
       "29  todo: convert this into a jupyter notebook and...   \n",
       "30  I really liked this class - it was a engaging ...   \n",
       "31  ## Install the latest macOS\\n\\nIf starting wit...   \n",
       "32  Data Science Sydney's [2018-07 meetup](https:/...   \n",
       "33  These are my notes for [Harvard's 2015 CS109 c...   \n",
       "34  Makes kebabs for frying or grilling. Goes well...   \n",
       "35  A faster daal recipe. 30 min, good for 3 ppl, ...   \n",
       "36  Easy to make sprouted bean dhal. Recipe still ...   \n",
       "37  Home made recipe from FDT. This is a basic des...   \n",
       "38  cucumber + mint raita\\n\\n## Ingredients\\n\\n- 1...   \n",
       "39  Recipe from Lahore. Needs some more tips from ...   \n",
       "40  ## Spices (put aside in small bowl)\\n\\n- 1 tsp...   \n",
       "41  A simple daal recipe.\\n\\n1 cup of daal is appr...   \n",
       "42  This note is inside a subfolder.\\n\\n## twitter...   \n",
       "\n",
       "                        tags  \\\n",
       "0                 [untagged]   \n",
       "1          [courses, python]   \n",
       "2     [meetup, data science]   \n",
       "3                  [courses]   \n",
       "4     [meetup, data science]   \n",
       "5                  [fitness]   \n",
       "6                     [apps]   \n",
       "7                   [python]   \n",
       "8                       [ml]   \n",
       "9                  [courses]   \n",
       "10      [chromebooks, linux]   \n",
       "11                  [python]   \n",
       "12    [data science, meetup]   \n",
       "13                  [python]   \n",
       "14                    [apps]   \n",
       "15                 [windows]   \n",
       "16       [books, statistics]   \n",
       "17           [books, energy]   \n",
       "18                [untagged]   \n",
       "19                 [jupyter]   \n",
       "20                 [courses]   \n",
       "21                   [linux]   \n",
       "22                     [iot]   \n",
       "23                [untagged]   \n",
       "24                     [iot]   \n",
       "25                  [python]   \n",
       "26                   [books]   \n",
       "27  [courses, deep learning]   \n",
       "28                  [meetup]   \n",
       "29                  [python]   \n",
       "30         [courses, python]   \n",
       "31                     [mac]   \n",
       "32                  [meetup]   \n",
       "33    [python, data science]   \n",
       "34                 [recipes]   \n",
       "35                 [recipes]   \n",
       "36                 [recipes]   \n",
       "37                 [recipes]   \n",
       "38                 [recipes]   \n",
       "39                 [recipes]   \n",
       "40                 [recipes]   \n",
       "41                 [recipes]   \n",
       "42                  [python]   \n",
       "\n",
       "                                                 html  \n",
       "0   <p>Blogs on data science, AI, machine learning...  \n",
       "1   <p>This was one of Udacity's first computer sc...  \n",
       "2   <p>SML's <a href=\"https://www.meetup.com/Sydne...  \n",
       "3   <p>It had been a while since I finished Udacit...  \n",
       "4   <p>SML's <a href=\"https://www.meetup.com/Sydne...  \n",
       "5   <p>Many ways to get fit. This is mine.</p>\\n<h...  \n",
       "6   <p>VS Code has so many extensions and stuff, t...  \n",
       "7   <p>There are many excellent blog engines out t...  \n",
       "8   <p>Notes on <a href=\"https://developers.google...  \n",
       "9   <p><a href=\"https://www.coursera.org/learn/dee...  \n",
       "10  <p>ChromeOS supports a built in Linux - runnin...  \n",
       "11  <p><em>update this post to fix youtube video l...  \n",
       "12  <p>My first ever hackathon! Or so it was calle...  \n",
       "13  <p>My notes for the <a href=\"https://2018.pyco...  \n",
       "14  <p>Notes on making Google chrome work for me. ...  \n",
       "15  <h2 id=\"factory-reset\">Factory reset</h2>\\n<p>...  \n",
       "16  <p>This is a great statistics primer - Alex Re...  \n",
       "17  <p>This <a href=\"https://www.quarterlyessay.co...  \n",
       "18  <p>My notes &amp; files for <a href=\"https://w...  \n",
       "19  <p>My collection of tips and tricks for using ...  \n",
       "20  <p>This course covers how to think about and i...  \n",
       "21  <h1 id=\"evnironment\">Evnironment</h1>\\n<p>todo...  \n",
       "22  <p>I've been wanting to try out a IOT board to...  \n",
       "23  <p>Way back in the good old days Google came u...  \n",
       "24  <h2 id=\"the-board\">the board</h2>\\n<p>TTGO T5 ...  \n",
       "25  <h2 id=\"install-anaconda\">Install Anaconda</h2...  \n",
       "26  <p>Andrew Trask is an AI superstar, having com...  \n",
       "27  <p>This is a great top down introduction to de...  \n",
       "28  <p>This hackathon is about developing tech sol...  \n",
       "29  <p>todo: convert this into a jupyter notebook ...  \n",
       "30  <p>I really liked this class - it was a engagi...  \n",
       "31  <h2 id=\"install-the-latest-macos\">Install the ...  \n",
       "32  <p>Data Science Sydney's <a href=\"https://www....  \n",
       "33  <p>These are my notes for <a href=\"http://cs10...  \n",
       "34  <p>Makes kebabs for frying or grilling. Goes w...  \n",
       "35  <p>A faster daal recipe. 30 min, good for 3 pp...  \n",
       "36  <p>Easy to make sprouted bean dhal. Recipe sti...  \n",
       "37  <p>Home made recipe from FDT. This is a basic ...  \n",
       "38  <p>cucumber + mint raita</p>\\n<h2 id=\"ingredie...  \n",
       "39  <p>Recipe from Lahore. Needs some more tips fr...  \n",
       "40  <h2 id=\"spices-put-aside-in-small-bowl\">Spices...  \n",
       "41  <p>A simple daal recipe.</p>\\n<p>1 cup of daal...  \n",
       "42  <p>This note is inside a subfolder.</p>\\n<h2 i...  "
      ]
     },
     "execution_count": 48,
     "metadata": {},
     "output_type": "execute_result"
    }
   ],
   "source": [
    "# configure python markdown parser\n",
    "\n",
    "# make enters into line breaks by adding \"nl2br\"\n",
    "extensions=[\"extra\", \"toc\", \"codehilite\"] # , \"smarty\" \n",
    "\n",
    "# https://help.farbox.com/pygments.html\n",
    "# monokai default\n",
    "\n",
    "extension_configs = {\n",
    "    \"output_format\": \"html5\",\n",
    "    'codehilite': {\n",
    "        'noclasses': False,\n",
    "        'linenums': False,\n",
    "        'pygments_style': \"monokai\"\n",
    "    },\n",
    "}\n",
    "\n",
    "md = markdown.Markdown(extensions=extensions, extension_configs=extension_configs)\n",
    "\n",
    "# paths\n",
    "md_paths = [f for f in path_md.rglob(\"*.md\")]\n",
    "notebook_paths = [f for f in path_nb.rglob(\"*.ipynb\")]\n",
    "\n",
    "data = [] # holds all the posts\n",
    "tags = defaultdict(set) # holds set of all posts for every tag\n",
    "\n",
    "for p in md_paths:\n",
    "    d = {} # one dict for each post\n",
    "    all_txt = p.read_text() \n",
    "\n",
    "    # extract front matter b/w \"---\" lines\n",
    "    n = all_txt[3:].find(\"---\") + 3\n",
    "    fm = yaml.load(all_txt[:n]) # front matter dict\n",
    "    txt = all_txt[n+3:].strip() # text excluding front matter\n",
    "\n",
    "    # now add values I care about to the dict\n",
    "    d[\"title\"] = fm[\"title\"]\n",
    "    \n",
    "    if fm.get(\"slug\"):\n",
    "        d[\"slug\"] = fm[\"slug\"]\n",
    "    else:\n",
    "        d[\"slug\"] = p.name.split(\".\")[0]\n",
    "\n",
    "    # add created date\n",
    "    try:\n",
    "        d[\"date\"] = fm[\"date\"]\n",
    "    except:\n",
    "        dt = datetime.fromtimestamp(p.stat().st_ctime) # create time of file\n",
    "        d[\"date\"] = dt\n",
    "\n",
    "    # add last modified data\n",
    "    try:\n",
    "        d[\"lastmod\"] = fm[\"lastmod\"]\n",
    "    except:\n",
    "        dt = datetime.fromtimestamp(p.stat().st_mtime)\n",
    "        d[\"lastmod\"] = dt\n",
    "    \n",
    "    d[\"path\"] = p\n",
    "    d[\"filename\"] = p.name\n",
    "    d[\"front_matter\"] = fm\n",
    "    d[\"markdown\"] = txt\n",
    "    \n",
    "    d[\"tags\"] = fm.get(\"tags\", [\"untagged\"])\n",
    "    for tag in d[\"tags\"]:\n",
    "        tags[tag].add(d[\"slug\"])\n",
    "\n",
    "    d[\"html\"] = md.convert(txt) \n",
    "    \n",
    "    data.append(d)\n",
    "\n",
    "df = pd.DataFrame(data) #.set_index(\"filename\")\n",
    "print(f\"{len(df)} posts converted and saved in dataframe\")\n",
    "df"
   ]
  },
  {
   "cell_type": "code",
   "execution_count": 54,
   "metadata": {},
   "outputs": [
    {
     "data": {
      "text/plain": [
       "'\\n\\n# Heading 1\\n\\nThis is a \"test\" para. Here goes a line break:\\nwhat does it do?\\n\\n```python\\nprint(3+3) # this is a comment\\n```\\n\\n## Bash\\n\\nMost remote VM\\'s are running a basic bash shell. Fix that by running\\n\\n```bash\\nsudo apt update &&\\nsudo apt install htop neofetch -y &&\\nwget https://github.com/sharkdp/bat/releases/download/v0.15.1/bat-musl_0.15.1_amd64.deb &&\\nsudo dpkg -i bat-musl_0.15.1_amd64.deb &&\\nrm bat-musl_0.15.1_amd64.deb &&\\nsh -c \"$(curl -fsSL https://raw.github.com/ohmybash/oh-my-bash/master/tools/install.sh)\"\\n```\\n\\n## repos\\n\\nThis updates repos - but doesn\\'t upgrade as no need generally for a short lived VM and installs\\n\\n- [htop](https://hisham.hm/htop/): monitor machine use\\n- neofetch: show machine overview\\n- [Bat](https://github.com/sharkdp/bat): better cat with syntax highlighting\\n- [oh-my-bash](https://ohmybash.github.io/) - makes the terminal look good\\n\\nIf working with files:\\n\\n```bash\\nsudo apt install fzf mc -y\\n```\\n\\n- mc: file manager\\n- fzf: fuzzy search\\n\\n## git\\n\\nSetup git by running the following inside a git repo (if needed).\\n\\n```bash\\ngit config --global user.name \"khalido\" &&\\ngit config --global user.email \"khalid.omar@gmail.com\" &&\\ngit config credential.helper \\'cache --timeout=21600\\'\\n```\\n\\n\\n\\nNote, there has gotta be a better way to do this.\\n'"
      ]
     },
     "execution_count": 54,
     "metadata": {},
     "output_type": "execute_result"
    }
   ],
   "source": [
    "txt"
   ]
  },
  {
   "cell_type": "code",
   "execution_count": 56,
   "metadata": {},
   "outputs": [
    {
     "data": {
      "text/plain": [
       "[{'level': 1,\n",
       "  'id': 'heading-1',\n",
       "  'name': 'Heading 1',\n",
       "  'children': [{'level': 2, 'id': 'bash', 'name': 'Bash', 'children': []},\n",
       "   {'level': 2, 'id': 'repos', 'name': 'repos', 'children': []},\n",
       "   {'level': 2, 'id': 'git', 'name': 'git', 'children': []}]}]"
      ]
     },
     "execution_count": 56,
     "metadata": {},
     "output_type": "execute_result"
    }
   ],
   "source": [
    "html = md.convert(txt)\n",
    "md.toc_tokens"
   ]
  },
  {
   "cell_type": "code",
   "execution_count": 49,
   "metadata": {
    "tags": []
   },
   "outputs": [
    {
     "name": "stdout",
     "output_type": "stream",
     "text": [
      "<p>This note is inside a subfolder.</p>\n",
      "<h2 id=\"twitter-embed\">twitter embed</h2>\n",
      "<p>This should show a twitter tweet embedded inside the page:</p>\n",
      "<blockquote class=\"twitter-tweet\"><p lang=\"en\" dir=\"ltr\">Sunsets don&#39;t get much better than this one over <a href=\"https://twitter.com/GrandTetonNPS?ref_src=twsrc%5Etfw\">@GrandTetonNPS</a>. <a href=\"https://twitter.com/hashtag/nature?src=hash&amp;ref_src=twsrc%5Etfw\">#nature</a> <a href=\"https://twitter.com/hashtag/sunset?src=hash&amp;ref_src=twsrc%5Etfw\">#sunset</a> <a href=\"http://t.co/YuKy2rcjyU\">pic.twitter.com/YuKy2rcjyU</a></p>&mdash; US Department of the Interior (@Interior) <a href=\"https://twitter.com/Interior/status/463440424141459456?ref_src=twsrc%5Etfw\">May 5, 2014</a></blockquote>\n",
      "<script async src=\"https://platform.twitter.com/widgets.js\" charset=\"utf-8\"></script>\n",
      "\n",
      "<p>The code used</p>\n",
      "<div class=\"codehilite\"><pre><span></span><code><span class=\"p\">&lt;</span><span class=\"nt\">blockquote</span> <span class=\"na\">class</span><span class=\"o\">=</span><span class=\"s\">&quot;twitter-tweet&quot;</span><span class=\"p\">&gt;&lt;</span><span class=\"nt\">p</span> <span class=\"na\">lang</span><span class=\"o\">=</span><span class=\"s\">&quot;en&quot;</span> <span class=\"na\">dir</span><span class=\"o\">=</span><span class=\"s\">&quot;ltr&quot;</span><span class=\"p\">&gt;</span>Sunsets don<span class=\"ni\">&amp;#39;</span>t get much better than this one over <span class=\"p\">&lt;</span><span class=\"nt\">a</span> <span class=\"na\">href</span><span class=\"o\">=</span><span class=\"s\">&quot;https://twitter.com/GrandTetonNPS?ref_src=twsrc%5Etfw&quot;</span><span class=\"p\">&gt;</span>@GrandTetonNPS<span class=\"p\">&lt;/</span><span class=\"nt\">a</span><span class=\"p\">&gt;</span>. <span class=\"p\">&lt;</span><span class=\"nt\">a</span> <span class=\"na\">href</span><span class=\"o\">=</span><span class=\"s\">&quot;https://twitter.com/hashtag/nature?src=hash&amp;amp;ref_src=twsrc%5Etfw&quot;</span><span class=\"p\">&gt;</span>#nature<span class=\"p\">&lt;/</span><span class=\"nt\">a</span><span class=\"p\">&gt;</span> <span class=\"p\">&lt;</span><span class=\"nt\">a</span> <span class=\"na\">href</span><span class=\"o\">=</span><span class=\"s\">&quot;https://twitter.com/hashtag/sunset?src=hash&amp;amp;ref_src=twsrc%5Etfw&quot;</span><span class=\"p\">&gt;</span>#sunset<span class=\"p\">&lt;/</span><span class=\"nt\">a</span><span class=\"p\">&gt;</span> <span class=\"p\">&lt;</span><span class=\"nt\">a</span> <span class=\"na\">href</span><span class=\"o\">=</span><span class=\"s\">&quot;http://t.co/YuKy2rcjyU&quot;</span><span class=\"p\">&gt;</span>pic.twitter.com/YuKy2rcjyU<span class=\"p\">&lt;/</span><span class=\"nt\">a</span><span class=\"p\">&gt;&lt;/</span><span class=\"nt\">p</span><span class=\"p\">&gt;</span><span class=\"ni\">&amp;mdash;</span> US Department of the Interior (@Interior) <span class=\"p\">&lt;</span><span class=\"nt\">a</span> <span class=\"na\">href</span><span class=\"o\">=</span><span class=\"s\">&quot;https://twitter.com/Interior/status/463440424141459456?ref_src=twsrc%5Etfw&quot;</span><span class=\"p\">&gt;</span>May 5, 2014<span class=\"p\">&lt;/</span><span class=\"nt\">a</span><span class=\"p\">&gt;&lt;/</span><span class=\"nt\">blockquote</span><span class=\"p\">&gt;</span> <span class=\"p\">&lt;</span><span class=\"nt\">script</span> <span class=\"na\">async</span> <span class=\"na\">src</span><span class=\"o\">=</span><span class=\"s\">&quot;https://platform.twitter.com/widgets.js&quot;</span> <span class=\"na\">charset</span><span class=\"o\">=</span><span class=\"s\">&quot;utf-8&quot;</span><span class=\"p\">&gt;&lt;/</span><span class=\"nt\">script</span><span class=\"p\">&gt;</span>\n",
      "</code></pre></div>\n"
     ]
    }
   ],
   "source": [
    "html = md.convert(txt)\n",
    "print(html)"
   ]
  },
  {
   "cell_type": "code",
   "execution_count": 186,
   "metadata": {
    "tags": []
   },
   "outputs": [
    {
     "name": "stdout",
     "output_type": "stream",
     "text": [
      "<div><p>This note is inside a subfolder.\n",
      "\n",
      "## twitter embed\n",
      "\n",
      "This should show a twitter tweet embedded inside the page:\n",
      "\n",
      "</p><blockquote class=\"twitter-tweet\"><p lang=\"en\" dir=\"ltr\">Sunsets don't get much better than this one over <a href=\"https://twitter.com/GrandTetonNPS?ref_src=twsrc%5Etfw\">@GrandTetonNPS</a>. <a href=\"https://twitter.com/hashtag/nature?src=hash&amp;ref_src=twsrc%5Etfw\">#nature</a> <a href=\"https://twitter.com/hashtag/sunset?src=hash&amp;ref_src=twsrc%5Etfw\">#sunset</a> <a href=\"http://t.co/YuKy2rcjyU\">pic.twitter.com/YuKy2rcjyU</a></p>— US Department of the Interior (@Interior) <a href=\"https://twitter.com/Interior/status/463440424141459456?ref_src=twsrc%5Etfw\">May 5, 2014</a></blockquote> \n",
      "\n",
      "The code used\n",
      "\n",
      "```html\n",
      "<blockquote class=\"twitter-tweet\"><p lang=\"en\" dir=\"ltr\">Sunsets don't get much better than this one over <a href=\"https://twitter.com/GrandTetonNPS?ref_src=twsrc%5Etfw\">@GrandTetonNPS</a>. <a href=\"https://twitter.com/hashtag/nature?src=hash&amp;ref_src=twsrc%5Etfw\">#nature</a> <a href=\"https://twitter.com/hashtag/sunset?src=hash&amp;ref_src=twsrc%5Etfw\">#sunset</a> <a href=\"http://t.co/YuKy2rcjyU\">pic.twitter.com/YuKy2rcjyU</a></p>— US Department of the Interior (@Interior) <a href=\"https://twitter.com/Interior/status/463440424141459456?ref_src=twsrc%5Etfw\">May 5, 2014</a></blockquote> \n",
      "```</div>\n"
     ]
    }
   ],
   "source": [
    "from lxml.html.clean import Cleaner\n",
    "\n",
    "cleaner = Cleaner(page_structure=False, kill_tags=[\"script\", \"img\"], scripts=True, javascript=True)\n",
    "print(cleaner.clean_html(txt))"
   ]
  },
  {
   "cell_type": "markdown",
   "metadata": {},
   "source": [
    "## Output"
   ]
  },
  {
   "cell_type": "code",
   "execution_count": 18,
   "metadata": {
    "tags": []
   },
   "outputs": [
    {
     "name": "stdout",
     "output_type": "stream",
     "text": [
      "Converting 12 notebooks to markdown files.\n"
     ]
    },
    {
     "name": "stderr",
     "output_type": "stream",
     "text": [
      "[NbConvertApp] Converting notebook notebooks/books.ipynb to markdown\n",
      "[NbConvertApp] Support files will be in books_files/\n",
      "[NbConvertApp] Writing 12396 bytes to notebooks/nb2md/books.md\n"
     ]
    },
    {
     "name": "stdout",
     "output_type": "stream",
     "text": [
      "converted notebooks/books.ipynb\n"
     ]
    },
    {
     "name": "stderr",
     "output_type": "stream",
     "text": [
      "[NbConvertApp] Converting notebook notebooks/convert2md.ipynb to markdown\n",
      "[NbConvertApp] Support files will be in convert2md_files/\n",
      "[NbConvertApp] Writing 6828 bytes to notebooks/nb2md/convert2md.md\n"
     ]
    },
    {
     "name": "stdout",
     "output_type": "stream",
     "text": [
      "converted notebooks/convert2md.ipynb\n"
     ]
    },
    {
     "name": "stderr",
     "output_type": "stream",
     "text": [
      "[NbConvertApp] Converting notebook notebooks/quicksort.ipynb to markdown\n",
      "[NbConvertApp] Support files will be in quicksort_files/\n",
      "[NbConvertApp] Writing 6772 bytes to notebooks/nb2md/quicksort.md\n"
     ]
    },
    {
     "name": "stdout",
     "output_type": "stream",
     "text": [
      "converted notebooks/quicksort.ipynb\n"
     ]
    },
    {
     "name": "stderr",
     "output_type": "stream",
     "text": [
      "[NbConvertApp] Converting notebook notebooks/flood_fill.ipynb to markdown\n",
      "[NbConvertApp] Support files will be in flood_fill_files/\n",
      "[NbConvertApp] Writing 2643 bytes to notebooks/nb2md/flood_fill.md\n"
     ]
    },
    {
     "name": "stdout",
     "output_type": "stream",
     "text": [
      "converted notebooks/flood_fill.ipynb\n"
     ]
    },
    {
     "name": "stderr",
     "output_type": "stream",
     "text": [
      "[NbConvertApp] Converting notebook notebooks/blogging_with_jupyter_notebooks.ipynb to markdown\n",
      "[NbConvertApp] Support files will be in blogging_with_jupyter_notebooks_files/\n",
      "[NbConvertApp] Writing 266684 bytes to notebooks/nb2md/blogging_with_jupyter_notebooks.md\n"
     ]
    },
    {
     "name": "stdout",
     "output_type": "stream",
     "text": [
      "converted notebooks/blogging_with_jupyter_notebooks.ipynb\n"
     ]
    },
    {
     "name": "stderr",
     "output_type": "stream",
     "text": [
      "[NbConvertApp] Converting notebook notebooks/pinboard.ipynb to markdown\n",
      "[NbConvertApp] Writing 705 bytes to notebooks/nb2md/pinboard.md\n"
     ]
    },
    {
     "name": "stdout",
     "output_type": "stream",
     "text": [
      "converted notebooks/pinboard.ipynb\n"
     ]
    },
    {
     "name": "stderr",
     "output_type": "stream",
     "text": [
      "[NbConvertApp] Converting notebook notebooks/monte_carlo_pi.ipynb to markdown\n",
      "[NbConvertApp] Support files will be in monte_carlo_pi_files/\n",
      "[NbConvertApp] Writing 4051 bytes to notebooks/nb2md/monte_carlo_pi.md\n"
     ]
    },
    {
     "name": "stdout",
     "output_type": "stream",
     "text": [
      "converted notebooks/monte_carlo_pi.ipynb\n"
     ]
    },
    {
     "name": "stderr",
     "output_type": "stream",
     "text": [
      "[NbConvertApp] Converting notebook notebooks/knn.ipynb to markdown\n",
      "[NbConvertApp] Support files will be in knn_files/\n",
      "[NbConvertApp] Writing 7212 bytes to notebooks/nb2md/knn.md\n"
     ]
    },
    {
     "name": "stdout",
     "output_type": "stream",
     "text": [
      "converted notebooks/knn.ipynb\n"
     ]
    },
    {
     "name": "stderr",
     "output_type": "stream",
     "text": [
      "[NbConvertApp] Converting notebook notebooks/advent-of-code-2020.ipynb to markdown\n",
      "[NbConvertApp] Support files will be in advent-of-code-2020_files/\n",
      "[NbConvertApp] Writing 14315 bytes to notebooks/nb2md/advent-of-code-2020.md\n"
     ]
    },
    {
     "name": "stdout",
     "output_type": "stream",
     "text": [
      "converted notebooks/advent-of-code-2020.ipynb\n"
     ]
    },
    {
     "name": "stderr",
     "output_type": "stream",
     "text": [
      "[NbConvertApp] Converting notebook notebooks/covid_nsw_2021.ipynb to markdown\n",
      "[NbConvertApp] Support files will be in covid_nsw_2021_files/\n",
      "[NbConvertApp] Writing 47400 bytes to notebooks/nb2md/covid_nsw_2021.md\n"
     ]
    },
    {
     "name": "stdout",
     "output_type": "stream",
     "text": [
      "converted notebooks/covid_nsw_2021.ipynb\n"
     ]
    },
    {
     "name": "stderr",
     "output_type": "stream",
     "text": [
      "[NbConvertApp] Converting notebook notebooks/Advent-of-Code-2015.ipynb to markdown\n",
      "[NbConvertApp] Support files will be in Advent-of-Code-2015_files/\n",
      "[NbConvertApp] Writing 10127 bytes to notebooks/nb2md/Advent-of-Code-2015.md\n"
     ]
    },
    {
     "name": "stdout",
     "output_type": "stream",
     "text": [
      "converted notebooks/Advent-of-Code-2015.ipynb\n"
     ]
    },
    {
     "name": "stderr",
     "output_type": "stream",
     "text": [
      "[NbConvertApp] Converting notebook notebooks/monty_hall.ipynb to markdown\n",
      "[NbConvertApp] Support files will be in monty_hall_files/\n",
      "[NbConvertApp] Writing 5050 bytes to notebooks/nb2md/monty_hall.md\n"
     ]
    },
    {
     "name": "stdout",
     "output_type": "stream",
     "text": [
      "converted notebooks/monty_hall.ipynb\n",
      "--------------------------\n",
      "\n",
      "<class 'list'> <class 'dict'> <class 'collections.defaultdict'>\n",
      "dict_keys(['dev', 'tablets', 'python', 'books', 'nonfiction', 'recipes', 'india', 'sri lanka', 'climate', 'web', 'history', 'webdev', 'hikes', 'sydney', 'mac', 'australia', 'climate change', 'energy', 'iot', 'fitness', 'windows', 'science fiction', 'apps', 'jupyter', 'statistics', 'untagged', 'ml', 'meetup', 'data science', 'linux', 'courses', 'chromebooks', 'algorithims', 'deep learning'])\n"
     ]
    },
    {
     "data": {
      "text/markdown": [
       "\n",
       "**Post slugs**"
      ],
      "text/plain": [
       "<IPython.core.display.Markdown object>"
      ]
     },
     "metadata": {},
     "output_type": "display_data"
    },
    {
     "name": "stdout",
     "output_type": "stream",
     "text": [
      "dev/CLI.html CLI tips\n",
      "tablets/Pixel Tablet 2023 Review.html untitled post\n",
      "python/Peloton Cycle API.html untitled post\n",
      "books/the-naked-dont-fear-the-water.html The Naked Don't Fear the Water\n",
      "recipes/zuchinni-pasta.html Zucchini pasta\n",
      "recipes/biryani.html Biryani\n",
      "books/ghachar-ghochar.html Ghachar Ghochar\n",
      "books/a-passage-north.html A Passage North\n",
      "books/termination-shock.html Termination Shock\n",
      "recipes/aloo-keema.html Aloo Keema\n",
      "web/shopify.html Shopify\n",
      "python/Python setup.html Using Anaconda/Mambaforge\n",
      "recipes/Aloo Anda ka salan.html Aloo Anda ka salan\n",
      "recipes/khata-bhaigan.html Khata Bhaigan\n",
      "recipes/bhaigan-ka-bhurta.html Bhaigan ka burta\n",
      "books/indian-summer.html Indian Summer: The Secret History of the End of an Empire\n",
      "books/the-key-man.html The Key Man\n",
      "webdev/sveltekit_tailwindcss.html Sveltekit with TailwindCSS\n",
      "webdev/tailwindcss.html TailwindCSS\n",
      "hikes/kid-friendly-hikes-in-sydney.html Short hikes in Sydney\n",
      "recipes/aloo-sabzi.html Aloo Sabzi\n",
      "recipes/mung-sprouts-salad.html Mung Beans Salad\n",
      "mac/setup-mac.html MacOS\n",
      "python/covid_nsw_2021.html Covid in NSW, 2021 edition\n",
      "books/too_migrant_too_muslim_too_loud.html Too Migrant, Too Muslim, Too Loud\n",
      "books/the_uninhabitable_earth.html The Uninhabitable Earth\n",
      "python/books.html Book info using python\n",
      "books/getting_to_zero.html Quarterly Essay 81: Getting to Zero - Australia’s Energy Transition\n",
      "iot/esp32-eink.html Lilygo ttgo t5\n",
      "iot/esp8266.html starting out with micropython on a esp8266\n",
      "python/advent-of-code-2020.html Advent of Code 2020\n",
      "fitness/exercise.html Exercise\n",
      "python/pinboard.html Pinboard API\n",
      "python/building_this_blog.html blogging in python\n",
      "python/convert2md.html Jupyter notebooks to markdown\n",
      "windows/windows.html Windows 10\n",
      "books/three-body-problem.html untitled post\n",
      "recipes/kheera-raita.html Kheera and mint raita\n",
      "recipes/urud-dhal.html Dhal Fry\n",
      "recipes/spicychickpeas.html Chana Masala\n",
      "python/Advent-of-Code-2015.html Advent of Code 2015\n",
      "python/blogging_with_jupyter_notebooks.html Blogging with Jupyter notebooks\n",
      "recipes/vegan-shami-kebab.html Vegan shami kebab\n",
      "recipes/daal-sprouts.html Spouted Dhal (lentils)\n",
      "python/note_in_subfolder.html Testing note in a subfolder\n",
      "apps/vs_code.html Visual Studio Code\n",
      "python/PyConAu2019.html PyCon Australia 2019\n",
      "jupyter/jupyterlab.html Jupyter Lab tips and tricks\n",
      "recipes/paneer-karhai.html Paneer Karhai\n",
      "recipes/omelette.html Omelette\n",
      "recipes/daal.html Daal (lentils)\n",
      "python/monty_hall.html Monty Hall\n",
      "books/stats-done-wrong-book.html Statistics Done Wrong: The Woefully Complete Guide\n",
      "untagged/blogs-i-like.html Data Science blogs\n",
      "ml/google-ml-best-practice.html Googles Best Practices for ML Engineering\n",
      "python/advent-of-code-2016.html Advent of Code 2016\n",
      "meetup/sml-meetup-2018-09.html SML 2018-09: Deep Reinforcement Learning\n",
      "python/PyConAu2018.html PyCon Australia 2018\n",
      "linux/setup-ubuntu.html Linux setup\n",
      "courses/mitx6002x.html MITx 6.00.2X: Intro to Computational Thinking and Data Science\n",
      "chromebooks/setup-crostini-chromebook.html Setting up Linux on a Chromebook with Crostini\n",
      "meetup/sml-meetup.html SML 2018-08: Deep Reinforcement Learning\n",
      "algorithims/knn.html KNN algorithim\n",
      "algorithims/monte_carlo_pi.html Finding Pi using Monte Carlo\n",
      "algorithims/flood_fill.html Floodfill algorithim\n",
      "algorithims/quicksort.html quicksort\n",
      "books/grokking-deep-learning-book.html Grokking Deep Learning by Andrew Trask\n",
      "meetup/techfugees-sydney-hackathon-2018.html Techfugees Sydney Hackathon 2018\n",
      "meetup/dss-meetup.html DSS-2018-07: Michael Allwright and Inna Kolyshkina\n",
      "data science/ms_openhack_2018.html Microsoft OpenHack 2018 Sydney\n",
      "books/the_fifth_risk.html The Fifth Risk\n",
      "courses/fastai-part1-2018.html fastai Practical Deep Learning For Coders, Part 1, 2018\n",
      "courses/deeplearning-ai-part-3-of-5.html deeplearning.ai: Structuring Machine Learning Projects\n",
      "untagged/udacity-nd101.html Udacity ND101: Deep Learning Nanodegree\n",
      "python/harvard-cs109-notes.html CS109 notes, by the class schedule:\n",
      "apps/chrome.html Google Chrome\n",
      "courses/deeplearning-ai-part-2-of-5.html deeplearning.ai: Improving Deep Neural Networks\n",
      "courses/deeplearning-ai-part-1-of-5.html deeplearning.ai: Neural Networks and Deep Learning\n",
      "untagged/apache-spark.html Apache Spark\n",
      "courses/udacity-cs101.html Udacity CS101: Intro to CS\n",
      "books/freedom_at_midnight.html Freedom at Midnight\n"
     ]
    }
   ],
   "source": [
    "posts, postsdict, tags = blog.get_posts()\n",
    "print(type(posts), type(postsdict), type(tags))\n",
    "print(tags.keys())\n",
    "\n",
    "printmd(\"\\n**Post slugs**\")\n",
    "for post in posts:\n",
    "    print(post.link, post.title)"
   ]
  },
  {
   "cell_type": "code",
   "execution_count": 40,
   "metadata": {
    "tags": []
   },
   "outputs": [],
   "source": [
    "from mako.template import Template\n",
    "from mako.lookup import TemplateLookup\n",
    "\n",
    "lookup = TemplateLookup(directories=[\"templates\"])"
   ]
  },
  {
   "cell_type": "code",
   "execution_count": 41,
   "metadata": {},
   "outputs": [
    {
     "ename": "SyntaxException",
     "evalue": "Expected: %> in file 'templates/index.html' at line: 79 char: 16",
     "output_type": "error",
     "traceback": [
      "\u001b[0;31m---------------------------------------------------------------------------\u001b[0m",
      "\u001b[0;31mKeyError\u001b[0m                                  Traceback (most recent call last)",
      "File \u001b[0;32m~/mambaforge/envs/py311/lib/python3.11/site-packages/mako/lookup.py:241\u001b[0m, in \u001b[0;36mTemplateLookup.get_template\u001b[0;34m(self, uri)\u001b[0m\n\u001b[1;32m    240\u001b[0m \u001b[38;5;28;01mif\u001b[39;00m \u001b[38;5;28mself\u001b[39m\u001b[38;5;241m.\u001b[39mfilesystem_checks:\n\u001b[0;32m--> 241\u001b[0m     \u001b[38;5;28;01mreturn\u001b[39;00m \u001b[38;5;28mself\u001b[39m\u001b[38;5;241m.\u001b[39m_check(uri, \u001b[38;5;28;43mself\u001b[39;49m\u001b[38;5;241;43m.\u001b[39;49m\u001b[43m_collection\u001b[49m\u001b[43m[\u001b[49m\u001b[43muri\u001b[49m\u001b[43m]\u001b[49m)\n\u001b[1;32m    242\u001b[0m \u001b[38;5;28;01melse\u001b[39;00m:\n",
      "\u001b[0;31mKeyError\u001b[0m: 'index.html'",
      "\nDuring handling of the above exception, another exception occurred:\n",
      "\u001b[0;31mSyntaxException\u001b[0m                           Traceback (most recent call last)",
      "Cell \u001b[0;32mIn[41], line 2\u001b[0m\n\u001b[1;32m      1\u001b[0m \u001b[38;5;66;03m#lookup.get_template(\"post.html\")\u001b[39;00m\n\u001b[0;32m----> 2\u001b[0m \u001b[43mlookup\u001b[49m\u001b[38;5;241;43m.\u001b[39;49m\u001b[43mget_template\u001b[49m\u001b[43m(\u001b[49m\u001b[38;5;124;43m\"\u001b[39;49m\u001b[38;5;124;43mindex.html\u001b[39;49m\u001b[38;5;124;43m\"\u001b[39;49m\u001b[43m)\u001b[49m\n",
      "File \u001b[0;32m~/mambaforge/envs/py311/lib/python3.11/site-packages/mako/lookup.py:252\u001b[0m, in \u001b[0;36mTemplateLookup.get_template\u001b[0;34m(self, uri)\u001b[0m\n\u001b[1;32m    250\u001b[0m     srcfile \u001b[38;5;241m=\u001b[39m posixpath\u001b[38;5;241m.\u001b[39mnormpath(posixpath\u001b[38;5;241m.\u001b[39mjoin(dir_, u))\n\u001b[1;32m    251\u001b[0m     \u001b[38;5;28;01mif\u001b[39;00m os\u001b[38;5;241m.\u001b[39mpath\u001b[38;5;241m.\u001b[39misfile(srcfile):\n\u001b[0;32m--> 252\u001b[0m         \u001b[38;5;28;01mreturn\u001b[39;00m \u001b[38;5;28;43mself\u001b[39;49m\u001b[38;5;241;43m.\u001b[39;49m\u001b[43m_load\u001b[49m\u001b[43m(\u001b[49m\u001b[43msrcfile\u001b[49m\u001b[43m,\u001b[49m\u001b[43m \u001b[49m\u001b[43muri\u001b[49m\u001b[43m)\u001b[49m\n\u001b[1;32m    253\u001b[0m \u001b[38;5;28;01melse\u001b[39;00m:\n\u001b[1;32m    254\u001b[0m     \u001b[38;5;28;01mraise\u001b[39;00m exceptions\u001b[38;5;241m.\u001b[39mTopLevelLookupException(\n\u001b[1;32m    255\u001b[0m         \u001b[38;5;124m\"\u001b[39m\u001b[38;5;124mCan\u001b[39m\u001b[38;5;124m'\u001b[39m\u001b[38;5;124mt locate template for uri \u001b[39m\u001b[38;5;132;01m%r\u001b[39;00m\u001b[38;5;124m\"\u001b[39m \u001b[38;5;241m%\u001b[39m uri\n\u001b[1;32m    256\u001b[0m     ) \u001b[38;5;28;01mfrom\u001b[39;00m \u001b[38;5;21;01me\u001b[39;00m\n",
      "File \u001b[0;32m~/mambaforge/envs/py311/lib/python3.11/site-packages/mako/lookup.py:313\u001b[0m, in \u001b[0;36mTemplateLookup._load\u001b[0;34m(self, filename, uri)\u001b[0m\n\u001b[1;32m    311\u001b[0m     \u001b[38;5;28;01melse\u001b[39;00m:\n\u001b[1;32m    312\u001b[0m         module_filename \u001b[38;5;241m=\u001b[39m \u001b[38;5;28;01mNone\u001b[39;00m\n\u001b[0;32m--> 313\u001b[0m     \u001b[38;5;28mself\u001b[39m\u001b[38;5;241m.\u001b[39m_collection[uri] \u001b[38;5;241m=\u001b[39m template \u001b[38;5;241m=\u001b[39m \u001b[43mTemplate\u001b[49m\u001b[43m(\u001b[49m\n\u001b[1;32m    314\u001b[0m \u001b[43m        \u001b[49m\u001b[43muri\u001b[49m\u001b[38;5;241;43m=\u001b[39;49m\u001b[43muri\u001b[49m\u001b[43m,\u001b[49m\n\u001b[1;32m    315\u001b[0m \u001b[43m        \u001b[49m\u001b[43mfilename\u001b[49m\u001b[38;5;241;43m=\u001b[39;49m\u001b[43mposixpath\u001b[49m\u001b[38;5;241;43m.\u001b[39;49m\u001b[43mnormpath\u001b[49m\u001b[43m(\u001b[49m\u001b[43mfilename\u001b[49m\u001b[43m)\u001b[49m\u001b[43m,\u001b[49m\n\u001b[1;32m    316\u001b[0m \u001b[43m        \u001b[49m\u001b[43mlookup\u001b[49m\u001b[38;5;241;43m=\u001b[39;49m\u001b[38;5;28;43mself\u001b[39;49m\u001b[43m,\u001b[49m\n\u001b[1;32m    317\u001b[0m \u001b[43m        \u001b[49m\u001b[43mmodule_filename\u001b[49m\u001b[38;5;241;43m=\u001b[39;49m\u001b[43mmodule_filename\u001b[49m\u001b[43m,\u001b[49m\n\u001b[1;32m    318\u001b[0m \u001b[43m        \u001b[49m\u001b[38;5;241;43m*\u001b[39;49m\u001b[38;5;241;43m*\u001b[39;49m\u001b[38;5;28;43mself\u001b[39;49m\u001b[38;5;241;43m.\u001b[39;49m\u001b[43mtemplate_args\u001b[49m\u001b[43m,\u001b[49m\n\u001b[1;32m    319\u001b[0m \u001b[43m    \u001b[49m\u001b[43m)\u001b[49m\n\u001b[1;32m    320\u001b[0m     \u001b[38;5;28;01mreturn\u001b[39;00m template\n\u001b[1;32m    321\u001b[0m \u001b[38;5;28;01mexcept\u001b[39;00m:\n\u001b[1;32m    322\u001b[0m     \u001b[38;5;66;03m# if compilation fails etc, ensure\u001b[39;00m\n\u001b[1;32m    323\u001b[0m     \u001b[38;5;66;03m# template is removed from collection,\u001b[39;00m\n\u001b[1;32m    324\u001b[0m     \u001b[38;5;66;03m# re-raise\u001b[39;00m\n",
      "File \u001b[0;32m~/mambaforge/envs/py311/lib/python3.11/site-packages/mako/template.py:317\u001b[0m, in \u001b[0;36mTemplate.__init__\u001b[0;34m(self, text, filename, uri, format_exceptions, error_handler, lookup, output_encoding, encoding_errors, module_directory, cache_args, cache_impl, cache_enabled, cache_type, cache_dir, cache_url, module_filename, input_encoding, module_writer, default_filters, buffer_filters, strict_undefined, imports, future_imports, enable_loop, preprocessor, lexer_cls, include_error_handler)\u001b[0m\n\u001b[1;32m    315\u001b[0m     \u001b[38;5;28;01melse\u001b[39;00m:\n\u001b[1;32m    316\u001b[0m         path \u001b[38;5;241m=\u001b[39m \u001b[38;5;28;01mNone\u001b[39;00m\n\u001b[0;32m--> 317\u001b[0m     module \u001b[38;5;241m=\u001b[39m \u001b[38;5;28;43mself\u001b[39;49m\u001b[38;5;241;43m.\u001b[39;49m\u001b[43m_compile_from_file\u001b[49m\u001b[43m(\u001b[49m\u001b[43mpath\u001b[49m\u001b[43m,\u001b[49m\u001b[43m \u001b[49m\u001b[43mfilename\u001b[49m\u001b[43m)\u001b[49m\n\u001b[1;32m    318\u001b[0m \u001b[38;5;28;01melse\u001b[39;00m:\n\u001b[1;32m    319\u001b[0m     \u001b[38;5;28;01mraise\u001b[39;00m exceptions\u001b[38;5;241m.\u001b[39mRuntimeException(\n\u001b[1;32m    320\u001b[0m         \u001b[38;5;124m\"\u001b[39m\u001b[38;5;124mTemplate requires text or filename\u001b[39m\u001b[38;5;124m\"\u001b[39m\n\u001b[1;32m    321\u001b[0m     )\n",
      "File \u001b[0;32m~/mambaforge/envs/py311/lib/python3.11/site-packages/mako/template.py:393\u001b[0m, in \u001b[0;36mTemplate._compile_from_file\u001b[0;34m(self, path, filename)\u001b[0m\n\u001b[1;32m    389\u001b[0m \u001b[38;5;28;01melse\u001b[39;00m:\n\u001b[1;32m    390\u001b[0m     \u001b[38;5;66;03m# template filename and no module directory, compile code\u001b[39;00m\n\u001b[1;32m    391\u001b[0m     \u001b[38;5;66;03m# in memory\u001b[39;00m\n\u001b[1;32m    392\u001b[0m     data \u001b[38;5;241m=\u001b[39m util\u001b[38;5;241m.\u001b[39mread_file(filename)\n\u001b[0;32m--> 393\u001b[0m     code, module \u001b[38;5;241m=\u001b[39m \u001b[43m_compile_text\u001b[49m\u001b[43m(\u001b[49m\u001b[38;5;28;43mself\u001b[39;49m\u001b[43m,\u001b[49m\u001b[43m \u001b[49m\u001b[43mdata\u001b[49m\u001b[43m,\u001b[49m\u001b[43m \u001b[49m\u001b[43mfilename\u001b[49m\u001b[43m)\u001b[49m\n\u001b[1;32m    394\u001b[0m     \u001b[38;5;28mself\u001b[39m\u001b[38;5;241m.\u001b[39m_source \u001b[38;5;241m=\u001b[39m \u001b[38;5;28;01mNone\u001b[39;00m\n\u001b[1;32m    395\u001b[0m     \u001b[38;5;28mself\u001b[39m\u001b[38;5;241m.\u001b[39m_code \u001b[38;5;241m=\u001b[39m code\n",
      "File \u001b[0;32m~/mambaforge/envs/py311/lib/python3.11/site-packages/mako/template.py:677\u001b[0m, in \u001b[0;36m_compile_text\u001b[0;34m(template, text, filename)\u001b[0m\n\u001b[1;32m    675\u001b[0m \u001b[38;5;28;01mdef\u001b[39;00m \u001b[38;5;21m_compile_text\u001b[39m(template, text, filename):\n\u001b[1;32m    676\u001b[0m     identifier \u001b[38;5;241m=\u001b[39m template\u001b[38;5;241m.\u001b[39mmodule_id\n\u001b[0;32m--> 677\u001b[0m     source, lexer \u001b[38;5;241m=\u001b[39m \u001b[43m_compile\u001b[49m\u001b[43m(\u001b[49m\n\u001b[1;32m    678\u001b[0m \u001b[43m        \u001b[49m\u001b[43mtemplate\u001b[49m\u001b[43m,\u001b[49m\u001b[43m \u001b[49m\u001b[43mtext\u001b[49m\u001b[43m,\u001b[49m\u001b[43m \u001b[49m\u001b[43mfilename\u001b[49m\u001b[43m,\u001b[49m\u001b[43m \u001b[49m\u001b[43mgenerate_magic_comment\u001b[49m\u001b[38;5;241;43m=\u001b[39;49m\u001b[38;5;28;43;01mFalse\u001b[39;49;00m\n\u001b[1;32m    679\u001b[0m \u001b[43m    \u001b[49m\u001b[43m)\u001b[49m\n\u001b[1;32m    681\u001b[0m     cid \u001b[38;5;241m=\u001b[39m identifier\n\u001b[1;32m    682\u001b[0m     module \u001b[38;5;241m=\u001b[39m types\u001b[38;5;241m.\u001b[39mModuleType(cid)\n",
      "File \u001b[0;32m~/mambaforge/envs/py311/lib/python3.11/site-packages/mako/template.py:657\u001b[0m, in \u001b[0;36m_compile\u001b[0;34m(template, text, filename, generate_magic_comment)\u001b[0m\n\u001b[1;32m    650\u001b[0m \u001b[38;5;28;01mdef\u001b[39;00m \u001b[38;5;21m_compile\u001b[39m(template, text, filename, generate_magic_comment):\n\u001b[1;32m    651\u001b[0m     lexer \u001b[38;5;241m=\u001b[39m template\u001b[38;5;241m.\u001b[39mlexer_cls(\n\u001b[1;32m    652\u001b[0m         text,\n\u001b[1;32m    653\u001b[0m         filename,\n\u001b[1;32m    654\u001b[0m         input_encoding\u001b[38;5;241m=\u001b[39mtemplate\u001b[38;5;241m.\u001b[39minput_encoding,\n\u001b[1;32m    655\u001b[0m         preprocessor\u001b[38;5;241m=\u001b[39mtemplate\u001b[38;5;241m.\u001b[39mpreprocessor,\n\u001b[1;32m    656\u001b[0m     )\n\u001b[0;32m--> 657\u001b[0m     node \u001b[38;5;241m=\u001b[39m \u001b[43mlexer\u001b[49m\u001b[38;5;241;43m.\u001b[39;49m\u001b[43mparse\u001b[49m\u001b[43m(\u001b[49m\u001b[43m)\u001b[49m\n\u001b[1;32m    658\u001b[0m     source \u001b[38;5;241m=\u001b[39m codegen\u001b[38;5;241m.\u001b[39mcompile(\n\u001b[1;32m    659\u001b[0m         node,\n\u001b[1;32m    660\u001b[0m         template\u001b[38;5;241m.\u001b[39muri,\n\u001b[0;32m   (...)\u001b[0m\n\u001b[1;32m    670\u001b[0m         reserved_names\u001b[38;5;241m=\u001b[39mtemplate\u001b[38;5;241m.\u001b[39mreserved_names,\n\u001b[1;32m    671\u001b[0m     )\n\u001b[1;32m    672\u001b[0m     \u001b[38;5;28;01mreturn\u001b[39;00m source, lexer\n",
      "File \u001b[0;32m~/mambaforge/envs/py311/lib/python3.11/site-packages/mako/lexer.py:248\u001b[0m, in \u001b[0;36mLexer.parse\u001b[0;34m(self)\u001b[0m\n\u001b[1;32m    246\u001b[0m \u001b[38;5;28;01mif\u001b[39;00m \u001b[38;5;28mself\u001b[39m\u001b[38;5;241m.\u001b[39mmatch_tag_end():\n\u001b[1;32m    247\u001b[0m     \u001b[38;5;28;01mcontinue\u001b[39;00m\n\u001b[0;32m--> 248\u001b[0m \u001b[38;5;28;01mif\u001b[39;00m \u001b[38;5;28;43mself\u001b[39;49m\u001b[38;5;241;43m.\u001b[39;49m\u001b[43mmatch_python_block\u001b[49m\u001b[43m(\u001b[49m\u001b[43m)\u001b[49m:\n\u001b[1;32m    249\u001b[0m     \u001b[38;5;28;01mcontinue\u001b[39;00m\n\u001b[1;32m    250\u001b[0m \u001b[38;5;28;01mif\u001b[39;00m \u001b[38;5;28mself\u001b[39m\u001b[38;5;241m.\u001b[39mmatch_text():\n",
      "File \u001b[0;32m~/mambaforge/envs/py311/lib/python3.11/site-packages/mako/lexer.py:388\u001b[0m, in \u001b[0;36mLexer.match_python_block\u001b[0;34m(self)\u001b[0m\n\u001b[1;32m    386\u001b[0m \u001b[38;5;28;01mif\u001b[39;00m match:\n\u001b[1;32m    387\u001b[0m     line, pos \u001b[38;5;241m=\u001b[39m \u001b[38;5;28mself\u001b[39m\u001b[38;5;241m.\u001b[39mmatched_lineno, \u001b[38;5;28mself\u001b[39m\u001b[38;5;241m.\u001b[39mmatched_charpos\n\u001b[0;32m--> 388\u001b[0m     text, end \u001b[38;5;241m=\u001b[39m \u001b[38;5;28;43mself\u001b[39;49m\u001b[38;5;241;43m.\u001b[39;49m\u001b[43mparse_until_text\u001b[49m\u001b[43m(\u001b[49m\u001b[38;5;28;43;01mFalse\u001b[39;49;00m\u001b[43m,\u001b[49m\u001b[43m \u001b[49m\u001b[38;5;124;43mr\u001b[39;49m\u001b[38;5;124;43m\"\u001b[39;49m\u001b[38;5;124;43m%\u001b[39;49m\u001b[38;5;124;43m>\u001b[39;49m\u001b[38;5;124;43m\"\u001b[39;49m\u001b[43m)\u001b[49m\n\u001b[1;32m    389\u001b[0m     \u001b[38;5;66;03m# the trailing newline helps\u001b[39;00m\n\u001b[1;32m    390\u001b[0m     \u001b[38;5;66;03m# compiler.parse() not complain about indentation\u001b[39;00m\n\u001b[1;32m    391\u001b[0m     text \u001b[38;5;241m=\u001b[39m adjust_whitespace(text) \u001b[38;5;241m+\u001b[39m \u001b[38;5;124m\"\u001b[39m\u001b[38;5;130;01m\\n\u001b[39;00m\u001b[38;5;124m\"\u001b[39m\n",
      "File \u001b[0;32m~/mambaforge/envs/py311/lib/python3.11/site-packages/mako/lexer.py:120\u001b[0m, in \u001b[0;36mLexer.parse_until_text\u001b[0;34m(self, watch_nesting, *text)\u001b[0m\n\u001b[1;32m    118\u001b[0m     bracket_level \u001b[38;5;241m-\u001b[39m\u001b[38;5;241m=\u001b[39m match\u001b[38;5;241m.\u001b[39mgroup(\u001b[38;5;241m1\u001b[39m)\u001b[38;5;241m.\u001b[39mcount(\u001b[38;5;124m\"\u001b[39m\u001b[38;5;124m]\u001b[39m\u001b[38;5;124m\"\u001b[39m)\n\u001b[1;32m    119\u001b[0m     \u001b[38;5;28;01mcontinue\u001b[39;00m\n\u001b[0;32m--> 120\u001b[0m \u001b[38;5;28;01mraise\u001b[39;00m exceptions\u001b[38;5;241m.\u001b[39mSyntaxException(\n\u001b[1;32m    121\u001b[0m     \u001b[38;5;124m\"\u001b[39m\u001b[38;5;124mExpected: \u001b[39m\u001b[38;5;132;01m%s\u001b[39;00m\u001b[38;5;124m\"\u001b[39m \u001b[38;5;241m%\u001b[39m \u001b[38;5;124m\"\u001b[39m\u001b[38;5;124m,\u001b[39m\u001b[38;5;124m\"\u001b[39m\u001b[38;5;241m.\u001b[39mjoin(text), \u001b[38;5;241m*\u001b[39m\u001b[38;5;241m*\u001b[39m\u001b[38;5;28mself\u001b[39m\u001b[38;5;241m.\u001b[39mexception_kwargs\n\u001b[1;32m    122\u001b[0m )\n",
      "\u001b[0;31mSyntaxException\u001b[0m: Expected: %> in file 'templates/index.html' at line: 79 char: 16"
     ]
    }
   ],
   "source": [
    "#lookup.get_template(\"post.html\")\n",
    "lookup.get_template(\"index.html\")"
   ]
  },
  {
   "cell_type": "code",
   "execution_count": 20,
   "metadata": {
    "tags": []
   },
   "outputs": [
    {
     "ename": "NameError",
     "evalue": "name 'make_folder' is not defined",
     "output_type": "error",
     "traceback": [
      "\u001b[0;31m---------------------------------------------------------------------------\u001b[0m",
      "\u001b[0;31mNameError\u001b[0m                                 Traceback (most recent call last)",
      "Cell \u001b[0;32mIn[20], line 16\u001b[0m\n\u001b[1;32m     13\u001b[0m     path\u001b[38;5;241m.\u001b[39mwrite_text(posts_json)\n\u001b[1;32m     14\u001b[0m     \u001b[38;5;28;01mreturn\u001b[39;00m posts_json\n\u001b[0;32m---> 16\u001b[0m postsjson \u001b[38;5;241m=\u001b[39m \u001b[43msearch_json\u001b[49m\u001b[43m(\u001b[49m\u001b[43mposts\u001b[49m\u001b[43m)\u001b[49m\n\u001b[1;32m     17\u001b[0m postsjson\n",
      "Cell \u001b[0;32mIn[20], line 11\u001b[0m, in \u001b[0;36msearch_json\u001b[0;34m(posts, path)\u001b[0m\n\u001b[1;32m      9\u001b[0m posts_json \u001b[38;5;241m=\u001b[39m json\u001b[38;5;241m.\u001b[39mdumps(search_list)\n\u001b[1;32m     10\u001b[0m path \u001b[38;5;241m=\u001b[39m path \u001b[38;5;241m/\u001b[39m \u001b[38;5;124m\"\u001b[39m\u001b[38;5;124mposts.json\u001b[39m\u001b[38;5;124m\"\u001b[39m\n\u001b[0;32m---> 11\u001b[0m \u001b[43mmake_folder\u001b[49m(path)\n\u001b[1;32m     13\u001b[0m path\u001b[38;5;241m.\u001b[39mwrite_text(posts_json)\n\u001b[1;32m     14\u001b[0m \u001b[38;5;28;01mreturn\u001b[39;00m posts_json\n",
      "\u001b[0;31mNameError\u001b[0m: name 'make_folder' is not defined"
     ]
    }
   ],
   "source": [
    "def search_json(posts, path=path_publish):\n",
    "    \"\"\"makes a json of the posts info to search, returns json string\n",
    "    and writes to disk\"\"\"\n",
    "\n",
    "    search_list = [\n",
    "        {\"title\": post.title, \"tags\": post.tags, \"link\": post.link} \n",
    "        for post in posts]\n",
    "\n",
    "    posts_json = json.dumps(search_list)\n",
    "    path = path / \"posts.json\"\n",
    "    make_folder(path)\n",
    "    \n",
    "    path.write_text(posts_json)\n",
    "    return posts_json\n",
    "\n",
    "postsjson = search_json(posts)\n",
    "postsjson"
   ]
  },
  {
   "cell_type": "code",
   "execution_count": 21,
   "metadata": {
    "tags": []
   },
   "outputs": [
    {
     "name": "stdout",
     "output_type": "stream",
     "text": [
      "public/test/test12 folder made\n"
     ]
    }
   ],
   "source": [
    "def make_folder(path, debug: bool=False):\n",
    "    \"\"\"makes parent folders if they don't exist for a path\"\"\"\n",
    "\n",
    "    # assume the last thing is a file if there is a dot in the name\n",
    "    if \".\" in path.name:\n",
    "        path = path.parent\n",
    "    \n",
    "    try:\n",
    "        path.mkdir(parents=True, exist_ok=False)\n",
    "        if debug: print(f\"{path} folder made\")\n",
    "    except FileExistsError:\n",
    "        if debug: print(f\"{path} folder already exists\")\n",
    "        pass\n",
    "\n",
    "make_folder(path=path_publish / \"test\" / \"test12\"/ \"test.html\", debug=True)"
   ]
  },
  {
   "cell_type": "code",
   "execution_count": null,
   "metadata": {},
   "outputs": [],
   "source": []
  },
  {
   "cell_type": "code",
   "execution_count": 22,
   "metadata": {
    "tags": []
   },
   "outputs": [
    {
     "ename": "SyntaxException",
     "evalue": "Expected: %> in file 'templates/index.html' at line: 80 char: 16",
     "output_type": "error",
     "traceback": [
      "\u001b[0;31m---------------------------------------------------------------------------\u001b[0m",
      "\u001b[0;31mKeyError\u001b[0m                                  Traceback (most recent call last)",
      "File \u001b[0;32m~/mambaforge/envs/py311/lib/python3.11/site-packages/mako/lookup.py:241\u001b[0m, in \u001b[0;36mTemplateLookup.get_template\u001b[0;34m(self, uri)\u001b[0m\n\u001b[1;32m    240\u001b[0m \u001b[38;5;28;01mif\u001b[39;00m \u001b[38;5;28mself\u001b[39m\u001b[38;5;241m.\u001b[39mfilesystem_checks:\n\u001b[0;32m--> 241\u001b[0m     \u001b[38;5;28;01mreturn\u001b[39;00m \u001b[38;5;28mself\u001b[39m\u001b[38;5;241m.\u001b[39m_check(uri, \u001b[38;5;28;43mself\u001b[39;49m\u001b[38;5;241;43m.\u001b[39;49m\u001b[43m_collection\u001b[49m\u001b[43m[\u001b[49m\u001b[43muri\u001b[49m\u001b[43m]\u001b[49m)\n\u001b[1;32m    242\u001b[0m \u001b[38;5;28;01melse\u001b[39;00m:\n",
      "\u001b[0;31mKeyError\u001b[0m: 'index.html'",
      "\nDuring handling of the above exception, another exception occurred:\n",
      "\u001b[0;31mSyntaxException\u001b[0m                           Traceback (most recent call last)",
      "Cell \u001b[0;32mIn[22], line 64\u001b[0m\n\u001b[1;32m     61\u001b[0m         \u001b[38;5;66;03m# using the same index page for now\u001b[39;00m\n\u001b[1;32m     62\u001b[0m         write_index_page(foldername\u001b[38;5;241m=\u001b[39mtag, posts\u001b[38;5;241m=\u001b[39mtag_posts)\n\u001b[0;32m---> 64\u001b[0m \u001b[43mwrite_index_page\u001b[49m\u001b[43m(\u001b[49m\u001b[43mfoldername\u001b[49m\u001b[38;5;241;43m=\u001b[39;49m\u001b[38;5;124;43m\"\u001b[39;49m\u001b[38;5;124;43m\"\u001b[39;49m\u001b[43m,\u001b[49m\u001b[43m \u001b[49m\u001b[43mposts\u001b[49m\u001b[38;5;241;43m=\u001b[39;49m\u001b[43mposts\u001b[49m\u001b[43m)\u001b[49m\n\u001b[1;32m     65\u001b[0m write_tags()\n\u001b[1;32m     66\u001b[0m write_posts(posts\u001b[38;5;241m=\u001b[39mposts)\n",
      "Cell \u001b[0;32mIn[22], line 37\u001b[0m, in \u001b[0;36mwrite_index_page\u001b[0;34m(tmpl, foldername, posts)\u001b[0m\n\u001b[1;32m     28\u001b[0m \u001b[38;5;28;01mdef\u001b[39;00m \u001b[38;5;21mwrite_index_page\u001b[39m(tmpl:\u001b[38;5;28mstr\u001b[39m \u001b[38;5;241m=\u001b[39m \u001b[38;5;124m\"\u001b[39m\u001b[38;5;124mindex.html\u001b[39m\u001b[38;5;124m\"\u001b[39m, foldername\u001b[38;5;241m=\u001b[39m\u001b[38;5;28;01mNone\u001b[39;00m, posts\u001b[38;5;241m=\u001b[39mposts):\n\u001b[1;32m     29\u001b[0m \u001b[38;5;250m    \u001b[39m\u001b[38;5;124;03m\"\"\"makes a html index page in the foldername using list of posts passed in\u001b[39;00m\n\u001b[1;32m     30\u001b[0m \u001b[38;5;124;03m    \u001b[39;00m\n\u001b[1;32m     31\u001b[0m \u001b[38;5;124;03m    Args:\u001b[39;00m\n\u001b[0;32m   (...)\u001b[0m\n\u001b[1;32m     34\u001b[0m \u001b[38;5;124;03m        posts: list of posts\u001b[39;00m\n\u001b[1;32m     35\u001b[0m \u001b[38;5;124;03m    \"\"\"\u001b[39;00m\n\u001b[0;32m---> 37\u001b[0m     template \u001b[38;5;241m=\u001b[39m \u001b[43mlookup\u001b[49m\u001b[38;5;241;43m.\u001b[39;49m\u001b[43mget_template\u001b[49m\u001b[43m(\u001b[49m\u001b[43mtmpl\u001b[49m\u001b[43m)\u001b[49m\n\u001b[1;32m     38\u001b[0m     path \u001b[38;5;241m=\u001b[39m path_publish\n\u001b[1;32m     40\u001b[0m     \u001b[38;5;28;01mif\u001b[39;00m foldername:\n",
      "File \u001b[0;32m~/mambaforge/envs/py311/lib/python3.11/site-packages/mako/lookup.py:252\u001b[0m, in \u001b[0;36mTemplateLookup.get_template\u001b[0;34m(self, uri)\u001b[0m\n\u001b[1;32m    250\u001b[0m     srcfile \u001b[38;5;241m=\u001b[39m posixpath\u001b[38;5;241m.\u001b[39mnormpath(posixpath\u001b[38;5;241m.\u001b[39mjoin(dir_, u))\n\u001b[1;32m    251\u001b[0m     \u001b[38;5;28;01mif\u001b[39;00m os\u001b[38;5;241m.\u001b[39mpath\u001b[38;5;241m.\u001b[39misfile(srcfile):\n\u001b[0;32m--> 252\u001b[0m         \u001b[38;5;28;01mreturn\u001b[39;00m \u001b[38;5;28;43mself\u001b[39;49m\u001b[38;5;241;43m.\u001b[39;49m\u001b[43m_load\u001b[49m\u001b[43m(\u001b[49m\u001b[43msrcfile\u001b[49m\u001b[43m,\u001b[49m\u001b[43m \u001b[49m\u001b[43muri\u001b[49m\u001b[43m)\u001b[49m\n\u001b[1;32m    253\u001b[0m \u001b[38;5;28;01melse\u001b[39;00m:\n\u001b[1;32m    254\u001b[0m     \u001b[38;5;28;01mraise\u001b[39;00m exceptions\u001b[38;5;241m.\u001b[39mTopLevelLookupException(\n\u001b[1;32m    255\u001b[0m         \u001b[38;5;124m\"\u001b[39m\u001b[38;5;124mCan\u001b[39m\u001b[38;5;124m'\u001b[39m\u001b[38;5;124mt locate template for uri \u001b[39m\u001b[38;5;132;01m%r\u001b[39;00m\u001b[38;5;124m\"\u001b[39m \u001b[38;5;241m%\u001b[39m uri\n\u001b[1;32m    256\u001b[0m     ) \u001b[38;5;28;01mfrom\u001b[39;00m \u001b[38;5;21;01me\u001b[39;00m\n",
      "File \u001b[0;32m~/mambaforge/envs/py311/lib/python3.11/site-packages/mako/lookup.py:313\u001b[0m, in \u001b[0;36mTemplateLookup._load\u001b[0;34m(self, filename, uri)\u001b[0m\n\u001b[1;32m    311\u001b[0m     \u001b[38;5;28;01melse\u001b[39;00m:\n\u001b[1;32m    312\u001b[0m         module_filename \u001b[38;5;241m=\u001b[39m \u001b[38;5;28;01mNone\u001b[39;00m\n\u001b[0;32m--> 313\u001b[0m     \u001b[38;5;28mself\u001b[39m\u001b[38;5;241m.\u001b[39m_collection[uri] \u001b[38;5;241m=\u001b[39m template \u001b[38;5;241m=\u001b[39m \u001b[43mTemplate\u001b[49m\u001b[43m(\u001b[49m\n\u001b[1;32m    314\u001b[0m \u001b[43m        \u001b[49m\u001b[43muri\u001b[49m\u001b[38;5;241;43m=\u001b[39;49m\u001b[43muri\u001b[49m\u001b[43m,\u001b[49m\n\u001b[1;32m    315\u001b[0m \u001b[43m        \u001b[49m\u001b[43mfilename\u001b[49m\u001b[38;5;241;43m=\u001b[39;49m\u001b[43mposixpath\u001b[49m\u001b[38;5;241;43m.\u001b[39;49m\u001b[43mnormpath\u001b[49m\u001b[43m(\u001b[49m\u001b[43mfilename\u001b[49m\u001b[43m)\u001b[49m\u001b[43m,\u001b[49m\n\u001b[1;32m    316\u001b[0m \u001b[43m        \u001b[49m\u001b[43mlookup\u001b[49m\u001b[38;5;241;43m=\u001b[39;49m\u001b[38;5;28;43mself\u001b[39;49m\u001b[43m,\u001b[49m\n\u001b[1;32m    317\u001b[0m \u001b[43m        \u001b[49m\u001b[43mmodule_filename\u001b[49m\u001b[38;5;241;43m=\u001b[39;49m\u001b[43mmodule_filename\u001b[49m\u001b[43m,\u001b[49m\n\u001b[1;32m    318\u001b[0m \u001b[43m        \u001b[49m\u001b[38;5;241;43m*\u001b[39;49m\u001b[38;5;241;43m*\u001b[39;49m\u001b[38;5;28;43mself\u001b[39;49m\u001b[38;5;241;43m.\u001b[39;49m\u001b[43mtemplate_args\u001b[49m\u001b[43m,\u001b[49m\n\u001b[1;32m    319\u001b[0m \u001b[43m    \u001b[49m\u001b[43m)\u001b[49m\n\u001b[1;32m    320\u001b[0m     \u001b[38;5;28;01mreturn\u001b[39;00m template\n\u001b[1;32m    321\u001b[0m \u001b[38;5;28;01mexcept\u001b[39;00m:\n\u001b[1;32m    322\u001b[0m     \u001b[38;5;66;03m# if compilation fails etc, ensure\u001b[39;00m\n\u001b[1;32m    323\u001b[0m     \u001b[38;5;66;03m# template is removed from collection,\u001b[39;00m\n\u001b[1;32m    324\u001b[0m     \u001b[38;5;66;03m# re-raise\u001b[39;00m\n",
      "File \u001b[0;32m~/mambaforge/envs/py311/lib/python3.11/site-packages/mako/template.py:317\u001b[0m, in \u001b[0;36mTemplate.__init__\u001b[0;34m(self, text, filename, uri, format_exceptions, error_handler, lookup, output_encoding, encoding_errors, module_directory, cache_args, cache_impl, cache_enabled, cache_type, cache_dir, cache_url, module_filename, input_encoding, module_writer, default_filters, buffer_filters, strict_undefined, imports, future_imports, enable_loop, preprocessor, lexer_cls, include_error_handler)\u001b[0m\n\u001b[1;32m    315\u001b[0m     \u001b[38;5;28;01melse\u001b[39;00m:\n\u001b[1;32m    316\u001b[0m         path \u001b[38;5;241m=\u001b[39m \u001b[38;5;28;01mNone\u001b[39;00m\n\u001b[0;32m--> 317\u001b[0m     module \u001b[38;5;241m=\u001b[39m \u001b[38;5;28;43mself\u001b[39;49m\u001b[38;5;241;43m.\u001b[39;49m\u001b[43m_compile_from_file\u001b[49m\u001b[43m(\u001b[49m\u001b[43mpath\u001b[49m\u001b[43m,\u001b[49m\u001b[43m \u001b[49m\u001b[43mfilename\u001b[49m\u001b[43m)\u001b[49m\n\u001b[1;32m    318\u001b[0m \u001b[38;5;28;01melse\u001b[39;00m:\n\u001b[1;32m    319\u001b[0m     \u001b[38;5;28;01mraise\u001b[39;00m exceptions\u001b[38;5;241m.\u001b[39mRuntimeException(\n\u001b[1;32m    320\u001b[0m         \u001b[38;5;124m\"\u001b[39m\u001b[38;5;124mTemplate requires text or filename\u001b[39m\u001b[38;5;124m\"\u001b[39m\n\u001b[1;32m    321\u001b[0m     )\n",
      "File \u001b[0;32m~/mambaforge/envs/py311/lib/python3.11/site-packages/mako/template.py:393\u001b[0m, in \u001b[0;36mTemplate._compile_from_file\u001b[0;34m(self, path, filename)\u001b[0m\n\u001b[1;32m    389\u001b[0m \u001b[38;5;28;01melse\u001b[39;00m:\n\u001b[1;32m    390\u001b[0m     \u001b[38;5;66;03m# template filename and no module directory, compile code\u001b[39;00m\n\u001b[1;32m    391\u001b[0m     \u001b[38;5;66;03m# in memory\u001b[39;00m\n\u001b[1;32m    392\u001b[0m     data \u001b[38;5;241m=\u001b[39m util\u001b[38;5;241m.\u001b[39mread_file(filename)\n\u001b[0;32m--> 393\u001b[0m     code, module \u001b[38;5;241m=\u001b[39m \u001b[43m_compile_text\u001b[49m\u001b[43m(\u001b[49m\u001b[38;5;28;43mself\u001b[39;49m\u001b[43m,\u001b[49m\u001b[43m \u001b[49m\u001b[43mdata\u001b[49m\u001b[43m,\u001b[49m\u001b[43m \u001b[49m\u001b[43mfilename\u001b[49m\u001b[43m)\u001b[49m\n\u001b[1;32m    394\u001b[0m     \u001b[38;5;28mself\u001b[39m\u001b[38;5;241m.\u001b[39m_source \u001b[38;5;241m=\u001b[39m \u001b[38;5;28;01mNone\u001b[39;00m\n\u001b[1;32m    395\u001b[0m     \u001b[38;5;28mself\u001b[39m\u001b[38;5;241m.\u001b[39m_code \u001b[38;5;241m=\u001b[39m code\n",
      "File \u001b[0;32m~/mambaforge/envs/py311/lib/python3.11/site-packages/mako/template.py:677\u001b[0m, in \u001b[0;36m_compile_text\u001b[0;34m(template, text, filename)\u001b[0m\n\u001b[1;32m    675\u001b[0m \u001b[38;5;28;01mdef\u001b[39;00m \u001b[38;5;21m_compile_text\u001b[39m(template, text, filename):\n\u001b[1;32m    676\u001b[0m     identifier \u001b[38;5;241m=\u001b[39m template\u001b[38;5;241m.\u001b[39mmodule_id\n\u001b[0;32m--> 677\u001b[0m     source, lexer \u001b[38;5;241m=\u001b[39m \u001b[43m_compile\u001b[49m\u001b[43m(\u001b[49m\n\u001b[1;32m    678\u001b[0m \u001b[43m        \u001b[49m\u001b[43mtemplate\u001b[49m\u001b[43m,\u001b[49m\u001b[43m \u001b[49m\u001b[43mtext\u001b[49m\u001b[43m,\u001b[49m\u001b[43m \u001b[49m\u001b[43mfilename\u001b[49m\u001b[43m,\u001b[49m\u001b[43m \u001b[49m\u001b[43mgenerate_magic_comment\u001b[49m\u001b[38;5;241;43m=\u001b[39;49m\u001b[38;5;28;43;01mFalse\u001b[39;49;00m\n\u001b[1;32m    679\u001b[0m \u001b[43m    \u001b[49m\u001b[43m)\u001b[49m\n\u001b[1;32m    681\u001b[0m     cid \u001b[38;5;241m=\u001b[39m identifier\n\u001b[1;32m    682\u001b[0m     module \u001b[38;5;241m=\u001b[39m types\u001b[38;5;241m.\u001b[39mModuleType(cid)\n",
      "File \u001b[0;32m~/mambaforge/envs/py311/lib/python3.11/site-packages/mako/template.py:657\u001b[0m, in \u001b[0;36m_compile\u001b[0;34m(template, text, filename, generate_magic_comment)\u001b[0m\n\u001b[1;32m    650\u001b[0m \u001b[38;5;28;01mdef\u001b[39;00m \u001b[38;5;21m_compile\u001b[39m(template, text, filename, generate_magic_comment):\n\u001b[1;32m    651\u001b[0m     lexer \u001b[38;5;241m=\u001b[39m template\u001b[38;5;241m.\u001b[39mlexer_cls(\n\u001b[1;32m    652\u001b[0m         text,\n\u001b[1;32m    653\u001b[0m         filename,\n\u001b[1;32m    654\u001b[0m         input_encoding\u001b[38;5;241m=\u001b[39mtemplate\u001b[38;5;241m.\u001b[39minput_encoding,\n\u001b[1;32m    655\u001b[0m         preprocessor\u001b[38;5;241m=\u001b[39mtemplate\u001b[38;5;241m.\u001b[39mpreprocessor,\n\u001b[1;32m    656\u001b[0m     )\n\u001b[0;32m--> 657\u001b[0m     node \u001b[38;5;241m=\u001b[39m \u001b[43mlexer\u001b[49m\u001b[38;5;241;43m.\u001b[39;49m\u001b[43mparse\u001b[49m\u001b[43m(\u001b[49m\u001b[43m)\u001b[49m\n\u001b[1;32m    658\u001b[0m     source \u001b[38;5;241m=\u001b[39m codegen\u001b[38;5;241m.\u001b[39mcompile(\n\u001b[1;32m    659\u001b[0m         node,\n\u001b[1;32m    660\u001b[0m         template\u001b[38;5;241m.\u001b[39muri,\n\u001b[0;32m   (...)\u001b[0m\n\u001b[1;32m    670\u001b[0m         reserved_names\u001b[38;5;241m=\u001b[39mtemplate\u001b[38;5;241m.\u001b[39mreserved_names,\n\u001b[1;32m    671\u001b[0m     )\n\u001b[1;32m    672\u001b[0m     \u001b[38;5;28;01mreturn\u001b[39;00m source, lexer\n",
      "File \u001b[0;32m~/mambaforge/envs/py311/lib/python3.11/site-packages/mako/lexer.py:248\u001b[0m, in \u001b[0;36mLexer.parse\u001b[0;34m(self)\u001b[0m\n\u001b[1;32m    246\u001b[0m \u001b[38;5;28;01mif\u001b[39;00m \u001b[38;5;28mself\u001b[39m\u001b[38;5;241m.\u001b[39mmatch_tag_end():\n\u001b[1;32m    247\u001b[0m     \u001b[38;5;28;01mcontinue\u001b[39;00m\n\u001b[0;32m--> 248\u001b[0m \u001b[38;5;28;01mif\u001b[39;00m \u001b[38;5;28;43mself\u001b[39;49m\u001b[38;5;241;43m.\u001b[39;49m\u001b[43mmatch_python_block\u001b[49m\u001b[43m(\u001b[49m\u001b[43m)\u001b[49m:\n\u001b[1;32m    249\u001b[0m     \u001b[38;5;28;01mcontinue\u001b[39;00m\n\u001b[1;32m    250\u001b[0m \u001b[38;5;28;01mif\u001b[39;00m \u001b[38;5;28mself\u001b[39m\u001b[38;5;241m.\u001b[39mmatch_text():\n",
      "File \u001b[0;32m~/mambaforge/envs/py311/lib/python3.11/site-packages/mako/lexer.py:388\u001b[0m, in \u001b[0;36mLexer.match_python_block\u001b[0;34m(self)\u001b[0m\n\u001b[1;32m    386\u001b[0m \u001b[38;5;28;01mif\u001b[39;00m match:\n\u001b[1;32m    387\u001b[0m     line, pos \u001b[38;5;241m=\u001b[39m \u001b[38;5;28mself\u001b[39m\u001b[38;5;241m.\u001b[39mmatched_lineno, \u001b[38;5;28mself\u001b[39m\u001b[38;5;241m.\u001b[39mmatched_charpos\n\u001b[0;32m--> 388\u001b[0m     text, end \u001b[38;5;241m=\u001b[39m \u001b[38;5;28;43mself\u001b[39;49m\u001b[38;5;241;43m.\u001b[39;49m\u001b[43mparse_until_text\u001b[49m\u001b[43m(\u001b[49m\u001b[38;5;28;43;01mFalse\u001b[39;49;00m\u001b[43m,\u001b[49m\u001b[43m \u001b[49m\u001b[38;5;124;43mr\u001b[39;49m\u001b[38;5;124;43m\"\u001b[39;49m\u001b[38;5;124;43m%\u001b[39;49m\u001b[38;5;124;43m>\u001b[39;49m\u001b[38;5;124;43m\"\u001b[39;49m\u001b[43m)\u001b[49m\n\u001b[1;32m    389\u001b[0m     \u001b[38;5;66;03m# the trailing newline helps\u001b[39;00m\n\u001b[1;32m    390\u001b[0m     \u001b[38;5;66;03m# compiler.parse() not complain about indentation\u001b[39;00m\n\u001b[1;32m    391\u001b[0m     text \u001b[38;5;241m=\u001b[39m adjust_whitespace(text) \u001b[38;5;241m+\u001b[39m \u001b[38;5;124m\"\u001b[39m\u001b[38;5;130;01m\\n\u001b[39;00m\u001b[38;5;124m\"\u001b[39m\n",
      "File \u001b[0;32m~/mambaforge/envs/py311/lib/python3.11/site-packages/mako/lexer.py:120\u001b[0m, in \u001b[0;36mLexer.parse_until_text\u001b[0;34m(self, watch_nesting, *text)\u001b[0m\n\u001b[1;32m    118\u001b[0m     bracket_level \u001b[38;5;241m-\u001b[39m\u001b[38;5;241m=\u001b[39m match\u001b[38;5;241m.\u001b[39mgroup(\u001b[38;5;241m1\u001b[39m)\u001b[38;5;241m.\u001b[39mcount(\u001b[38;5;124m\"\u001b[39m\u001b[38;5;124m]\u001b[39m\u001b[38;5;124m\"\u001b[39m)\n\u001b[1;32m    119\u001b[0m     \u001b[38;5;28;01mcontinue\u001b[39;00m\n\u001b[0;32m--> 120\u001b[0m \u001b[38;5;28;01mraise\u001b[39;00m exceptions\u001b[38;5;241m.\u001b[39mSyntaxException(\n\u001b[1;32m    121\u001b[0m     \u001b[38;5;124m\"\u001b[39m\u001b[38;5;124mExpected: \u001b[39m\u001b[38;5;132;01m%s\u001b[39;00m\u001b[38;5;124m\"\u001b[39m \u001b[38;5;241m%\u001b[39m \u001b[38;5;124m\"\u001b[39m\u001b[38;5;124m,\u001b[39m\u001b[38;5;124m\"\u001b[39m\u001b[38;5;241m.\u001b[39mjoin(text), \u001b[38;5;241m*\u001b[39m\u001b[38;5;241m*\u001b[39m\u001b[38;5;28mself\u001b[39m\u001b[38;5;241m.\u001b[39mexception_kwargs\n\u001b[1;32m    122\u001b[0m )\n",
      "\u001b[0;31mSyntaxException\u001b[0m: Expected: %> in file 'templates/index.html' at line: 80 char: 16"
     ]
    }
   ],
   "source": [
    "def write_posts(tmpl:str = \"post.html\", posts=posts):\n",
    "    \"\"\"makes a html index page in the foldername using list of posts passed in\n",
    "    \n",
    "    Args:\n",
    "        tmpl: name of templete\n",
    "        posts: list of posts\n",
    "    \"\"\"\n",
    "    \n",
    "    template = lookup.get_template(tmpl)\n",
    "\n",
    "    for post in posts:\n",
    "        html = template.render(post=post).strip()\n",
    "        \n",
    "        # publish each post inside its first tag folder\n",
    "        if post.tags:\n",
    "            path = path_publish / post.tags[0]\n",
    "        else:\n",
    "            path = path_publish\n",
    "\n",
    "        make_folder(path) # make folder in case\n",
    "\n",
    "        path = path / f\"{post.slug}.html\"\n",
    "        \n",
    "        path.write_text(html)\n",
    "        print(f\"wrote {post.slug} to {path}\")\n",
    "\n",
    "\n",
    "def write_index_page(tmpl:str = \"index.html\", foldername=None, posts=posts):\n",
    "    \"\"\"makes a html index page in the foldername using list of posts passed in\n",
    "    \n",
    "    Args:\n",
    "        tmpl: name of templete\n",
    "        foldername: name of folder to create\n",
    "        posts: list of posts\n",
    "    \"\"\"\n",
    "    \n",
    "    template = lookup.get_template(tmpl)\n",
    "    path = path_publish\n",
    "\n",
    "    if foldername:\n",
    "        path = path / foldername\n",
    "    \n",
    "    make_folder(path) # make folder in case it doesn't exist\n",
    "    \n",
    "    # get json for fusejs search object\n",
    "    # todo: modify js to read json from disk instead of passing obj\n",
    "    postsjson = search_json(posts, path)\n",
    "    \n",
    "    html = template.render(posts=posts, postsjson=postsjson).strip()\n",
    "    \n",
    "    # write to disk\n",
    "    path = path / tmpl\n",
    "    path.write_text(html)\n",
    "    print(f\"wrote {tmpl} to {path}\")\n",
    "\n",
    "def write_tags(posts=posts):\n",
    "    \"\"\"writes an index.html file for each tag\"\"\"\n",
    "    for tag in tags.keys():\n",
    "        # filter posts\n",
    "        tag_posts = [post for post in posts if tag in post.tags]\n",
    "        # using the same index page for now\n",
    "        write_index_page(foldername=tag, posts=tag_posts)\n",
    "\n",
    "write_index_page(foldername=\"\", posts=posts)\n",
    "write_tags()\n",
    "write_posts(posts=posts)"
   ]
  },
  {
   "cell_type": "code",
   "execution_count": 23,
   "metadata": {},
   "outputs": [
    {
     "data": {
      "text/plain": [
       "('books', 'freedom_at_midnight')"
      ]
     },
     "execution_count": 23,
     "metadata": {},
     "output_type": "execute_result"
    }
   ],
   "source": [
    "post.tags[0], post.slug"
   ]
  },
  {
   "cell_type": "code",
   "execution_count": 24,
   "metadata": {
    "tags": []
   },
   "outputs": [
    {
     "ename": "SyntaxException",
     "evalue": "Expected: %> in file 'templates/index.html' at line: 80 char: 16",
     "output_type": "error",
     "traceback": [
      "\u001b[0;31m---------------------------------------------------------------------------\u001b[0m",
      "\u001b[0;31mKeyError\u001b[0m                                  Traceback (most recent call last)",
      "File \u001b[0;32m~/mambaforge/envs/py311/lib/python3.11/site-packages/mako/lookup.py:241\u001b[0m, in \u001b[0;36mTemplateLookup.get_template\u001b[0;34m(self, uri)\u001b[0m\n\u001b[1;32m    240\u001b[0m \u001b[38;5;28;01mif\u001b[39;00m \u001b[38;5;28mself\u001b[39m\u001b[38;5;241m.\u001b[39mfilesystem_checks:\n\u001b[0;32m--> 241\u001b[0m     \u001b[38;5;28;01mreturn\u001b[39;00m \u001b[38;5;28mself\u001b[39m\u001b[38;5;241m.\u001b[39m_check(uri, \u001b[38;5;28;43mself\u001b[39;49m\u001b[38;5;241;43m.\u001b[39;49m\u001b[43m_collection\u001b[49m\u001b[43m[\u001b[49m\u001b[43muri\u001b[49m\u001b[43m]\u001b[49m)\n\u001b[1;32m    242\u001b[0m \u001b[38;5;28;01melse\u001b[39;00m:\n",
      "\u001b[0;31mKeyError\u001b[0m: 'index.html'",
      "\nDuring handling of the above exception, another exception occurred:\n",
      "\u001b[0;31mSyntaxException\u001b[0m                           Traceback (most recent call last)",
      "Cell \u001b[0;32mIn[24], line 3\u001b[0m\n\u001b[1;32m      1\u001b[0m \u001b[38;5;66;03m# make the big picture templates\u001b[39;00m\n\u001b[1;32m      2\u001b[0m \u001b[38;5;28;01mfor\u001b[39;00m tmpl \u001b[38;5;129;01min\u001b[39;00m [\u001b[38;5;124m\"\u001b[39m\u001b[38;5;124mindex.html\u001b[39m\u001b[38;5;124m\"\u001b[39m]:\n\u001b[0;32m----> 3\u001b[0m     template \u001b[38;5;241m=\u001b[39m \u001b[43mlookup\u001b[49m\u001b[38;5;241;43m.\u001b[39;49m\u001b[43mget_template\u001b[49m\u001b[43m(\u001b[49m\u001b[43mtmpl\u001b[49m\u001b[43m)\u001b[49m\n\u001b[1;32m      4\u001b[0m     html \u001b[38;5;241m=\u001b[39m template\u001b[38;5;241m.\u001b[39mrender(posts\u001b[38;5;241m=\u001b[39mposts, postsjson\u001b[38;5;241m=\u001b[39mpostsjson)\u001b[38;5;241m.\u001b[39mstrip()\n\u001b[1;32m      5\u001b[0m     path \u001b[38;5;241m=\u001b[39m path_publish \u001b[38;5;241m/\u001b[39m tmpl\n",
      "File \u001b[0;32m~/mambaforge/envs/py311/lib/python3.11/site-packages/mako/lookup.py:252\u001b[0m, in \u001b[0;36mTemplateLookup.get_template\u001b[0;34m(self, uri)\u001b[0m\n\u001b[1;32m    250\u001b[0m     srcfile \u001b[38;5;241m=\u001b[39m posixpath\u001b[38;5;241m.\u001b[39mnormpath(posixpath\u001b[38;5;241m.\u001b[39mjoin(dir_, u))\n\u001b[1;32m    251\u001b[0m     \u001b[38;5;28;01mif\u001b[39;00m os\u001b[38;5;241m.\u001b[39mpath\u001b[38;5;241m.\u001b[39misfile(srcfile):\n\u001b[0;32m--> 252\u001b[0m         \u001b[38;5;28;01mreturn\u001b[39;00m \u001b[38;5;28;43mself\u001b[39;49m\u001b[38;5;241;43m.\u001b[39;49m\u001b[43m_load\u001b[49m\u001b[43m(\u001b[49m\u001b[43msrcfile\u001b[49m\u001b[43m,\u001b[49m\u001b[43m \u001b[49m\u001b[43muri\u001b[49m\u001b[43m)\u001b[49m\n\u001b[1;32m    253\u001b[0m \u001b[38;5;28;01melse\u001b[39;00m:\n\u001b[1;32m    254\u001b[0m     \u001b[38;5;28;01mraise\u001b[39;00m exceptions\u001b[38;5;241m.\u001b[39mTopLevelLookupException(\n\u001b[1;32m    255\u001b[0m         \u001b[38;5;124m\"\u001b[39m\u001b[38;5;124mCan\u001b[39m\u001b[38;5;124m'\u001b[39m\u001b[38;5;124mt locate template for uri \u001b[39m\u001b[38;5;132;01m%r\u001b[39;00m\u001b[38;5;124m\"\u001b[39m \u001b[38;5;241m%\u001b[39m uri\n\u001b[1;32m    256\u001b[0m     ) \u001b[38;5;28;01mfrom\u001b[39;00m \u001b[38;5;21;01me\u001b[39;00m\n",
      "File \u001b[0;32m~/mambaforge/envs/py311/lib/python3.11/site-packages/mako/lookup.py:313\u001b[0m, in \u001b[0;36mTemplateLookup._load\u001b[0;34m(self, filename, uri)\u001b[0m\n\u001b[1;32m    311\u001b[0m     \u001b[38;5;28;01melse\u001b[39;00m:\n\u001b[1;32m    312\u001b[0m         module_filename \u001b[38;5;241m=\u001b[39m \u001b[38;5;28;01mNone\u001b[39;00m\n\u001b[0;32m--> 313\u001b[0m     \u001b[38;5;28mself\u001b[39m\u001b[38;5;241m.\u001b[39m_collection[uri] \u001b[38;5;241m=\u001b[39m template \u001b[38;5;241m=\u001b[39m \u001b[43mTemplate\u001b[49m\u001b[43m(\u001b[49m\n\u001b[1;32m    314\u001b[0m \u001b[43m        \u001b[49m\u001b[43muri\u001b[49m\u001b[38;5;241;43m=\u001b[39;49m\u001b[43muri\u001b[49m\u001b[43m,\u001b[49m\n\u001b[1;32m    315\u001b[0m \u001b[43m        \u001b[49m\u001b[43mfilename\u001b[49m\u001b[38;5;241;43m=\u001b[39;49m\u001b[43mposixpath\u001b[49m\u001b[38;5;241;43m.\u001b[39;49m\u001b[43mnormpath\u001b[49m\u001b[43m(\u001b[49m\u001b[43mfilename\u001b[49m\u001b[43m)\u001b[49m\u001b[43m,\u001b[49m\n\u001b[1;32m    316\u001b[0m \u001b[43m        \u001b[49m\u001b[43mlookup\u001b[49m\u001b[38;5;241;43m=\u001b[39;49m\u001b[38;5;28;43mself\u001b[39;49m\u001b[43m,\u001b[49m\n\u001b[1;32m    317\u001b[0m \u001b[43m        \u001b[49m\u001b[43mmodule_filename\u001b[49m\u001b[38;5;241;43m=\u001b[39;49m\u001b[43mmodule_filename\u001b[49m\u001b[43m,\u001b[49m\n\u001b[1;32m    318\u001b[0m \u001b[43m        \u001b[49m\u001b[38;5;241;43m*\u001b[39;49m\u001b[38;5;241;43m*\u001b[39;49m\u001b[38;5;28;43mself\u001b[39;49m\u001b[38;5;241;43m.\u001b[39;49m\u001b[43mtemplate_args\u001b[49m\u001b[43m,\u001b[49m\n\u001b[1;32m    319\u001b[0m \u001b[43m    \u001b[49m\u001b[43m)\u001b[49m\n\u001b[1;32m    320\u001b[0m     \u001b[38;5;28;01mreturn\u001b[39;00m template\n\u001b[1;32m    321\u001b[0m \u001b[38;5;28;01mexcept\u001b[39;00m:\n\u001b[1;32m    322\u001b[0m     \u001b[38;5;66;03m# if compilation fails etc, ensure\u001b[39;00m\n\u001b[1;32m    323\u001b[0m     \u001b[38;5;66;03m# template is removed from collection,\u001b[39;00m\n\u001b[1;32m    324\u001b[0m     \u001b[38;5;66;03m# re-raise\u001b[39;00m\n",
      "File \u001b[0;32m~/mambaforge/envs/py311/lib/python3.11/site-packages/mako/template.py:317\u001b[0m, in \u001b[0;36mTemplate.__init__\u001b[0;34m(self, text, filename, uri, format_exceptions, error_handler, lookup, output_encoding, encoding_errors, module_directory, cache_args, cache_impl, cache_enabled, cache_type, cache_dir, cache_url, module_filename, input_encoding, module_writer, default_filters, buffer_filters, strict_undefined, imports, future_imports, enable_loop, preprocessor, lexer_cls, include_error_handler)\u001b[0m\n\u001b[1;32m    315\u001b[0m     \u001b[38;5;28;01melse\u001b[39;00m:\n\u001b[1;32m    316\u001b[0m         path \u001b[38;5;241m=\u001b[39m \u001b[38;5;28;01mNone\u001b[39;00m\n\u001b[0;32m--> 317\u001b[0m     module \u001b[38;5;241m=\u001b[39m \u001b[38;5;28;43mself\u001b[39;49m\u001b[38;5;241;43m.\u001b[39;49m\u001b[43m_compile_from_file\u001b[49m\u001b[43m(\u001b[49m\u001b[43mpath\u001b[49m\u001b[43m,\u001b[49m\u001b[43m \u001b[49m\u001b[43mfilename\u001b[49m\u001b[43m)\u001b[49m\n\u001b[1;32m    318\u001b[0m \u001b[38;5;28;01melse\u001b[39;00m:\n\u001b[1;32m    319\u001b[0m     \u001b[38;5;28;01mraise\u001b[39;00m exceptions\u001b[38;5;241m.\u001b[39mRuntimeException(\n\u001b[1;32m    320\u001b[0m         \u001b[38;5;124m\"\u001b[39m\u001b[38;5;124mTemplate requires text or filename\u001b[39m\u001b[38;5;124m\"\u001b[39m\n\u001b[1;32m    321\u001b[0m     )\n",
      "File \u001b[0;32m~/mambaforge/envs/py311/lib/python3.11/site-packages/mako/template.py:393\u001b[0m, in \u001b[0;36mTemplate._compile_from_file\u001b[0;34m(self, path, filename)\u001b[0m\n\u001b[1;32m    389\u001b[0m \u001b[38;5;28;01melse\u001b[39;00m:\n\u001b[1;32m    390\u001b[0m     \u001b[38;5;66;03m# template filename and no module directory, compile code\u001b[39;00m\n\u001b[1;32m    391\u001b[0m     \u001b[38;5;66;03m# in memory\u001b[39;00m\n\u001b[1;32m    392\u001b[0m     data \u001b[38;5;241m=\u001b[39m util\u001b[38;5;241m.\u001b[39mread_file(filename)\n\u001b[0;32m--> 393\u001b[0m     code, module \u001b[38;5;241m=\u001b[39m \u001b[43m_compile_text\u001b[49m\u001b[43m(\u001b[49m\u001b[38;5;28;43mself\u001b[39;49m\u001b[43m,\u001b[49m\u001b[43m \u001b[49m\u001b[43mdata\u001b[49m\u001b[43m,\u001b[49m\u001b[43m \u001b[49m\u001b[43mfilename\u001b[49m\u001b[43m)\u001b[49m\n\u001b[1;32m    394\u001b[0m     \u001b[38;5;28mself\u001b[39m\u001b[38;5;241m.\u001b[39m_source \u001b[38;5;241m=\u001b[39m \u001b[38;5;28;01mNone\u001b[39;00m\n\u001b[1;32m    395\u001b[0m     \u001b[38;5;28mself\u001b[39m\u001b[38;5;241m.\u001b[39m_code \u001b[38;5;241m=\u001b[39m code\n",
      "File \u001b[0;32m~/mambaforge/envs/py311/lib/python3.11/site-packages/mako/template.py:677\u001b[0m, in \u001b[0;36m_compile_text\u001b[0;34m(template, text, filename)\u001b[0m\n\u001b[1;32m    675\u001b[0m \u001b[38;5;28;01mdef\u001b[39;00m \u001b[38;5;21m_compile_text\u001b[39m(template, text, filename):\n\u001b[1;32m    676\u001b[0m     identifier \u001b[38;5;241m=\u001b[39m template\u001b[38;5;241m.\u001b[39mmodule_id\n\u001b[0;32m--> 677\u001b[0m     source, lexer \u001b[38;5;241m=\u001b[39m \u001b[43m_compile\u001b[49m\u001b[43m(\u001b[49m\n\u001b[1;32m    678\u001b[0m \u001b[43m        \u001b[49m\u001b[43mtemplate\u001b[49m\u001b[43m,\u001b[49m\u001b[43m \u001b[49m\u001b[43mtext\u001b[49m\u001b[43m,\u001b[49m\u001b[43m \u001b[49m\u001b[43mfilename\u001b[49m\u001b[43m,\u001b[49m\u001b[43m \u001b[49m\u001b[43mgenerate_magic_comment\u001b[49m\u001b[38;5;241;43m=\u001b[39;49m\u001b[38;5;28;43;01mFalse\u001b[39;49;00m\n\u001b[1;32m    679\u001b[0m \u001b[43m    \u001b[49m\u001b[43m)\u001b[49m\n\u001b[1;32m    681\u001b[0m     cid \u001b[38;5;241m=\u001b[39m identifier\n\u001b[1;32m    682\u001b[0m     module \u001b[38;5;241m=\u001b[39m types\u001b[38;5;241m.\u001b[39mModuleType(cid)\n",
      "File \u001b[0;32m~/mambaforge/envs/py311/lib/python3.11/site-packages/mako/template.py:657\u001b[0m, in \u001b[0;36m_compile\u001b[0;34m(template, text, filename, generate_magic_comment)\u001b[0m\n\u001b[1;32m    650\u001b[0m \u001b[38;5;28;01mdef\u001b[39;00m \u001b[38;5;21m_compile\u001b[39m(template, text, filename, generate_magic_comment):\n\u001b[1;32m    651\u001b[0m     lexer \u001b[38;5;241m=\u001b[39m template\u001b[38;5;241m.\u001b[39mlexer_cls(\n\u001b[1;32m    652\u001b[0m         text,\n\u001b[1;32m    653\u001b[0m         filename,\n\u001b[1;32m    654\u001b[0m         input_encoding\u001b[38;5;241m=\u001b[39mtemplate\u001b[38;5;241m.\u001b[39minput_encoding,\n\u001b[1;32m    655\u001b[0m         preprocessor\u001b[38;5;241m=\u001b[39mtemplate\u001b[38;5;241m.\u001b[39mpreprocessor,\n\u001b[1;32m    656\u001b[0m     )\n\u001b[0;32m--> 657\u001b[0m     node \u001b[38;5;241m=\u001b[39m \u001b[43mlexer\u001b[49m\u001b[38;5;241;43m.\u001b[39;49m\u001b[43mparse\u001b[49m\u001b[43m(\u001b[49m\u001b[43m)\u001b[49m\n\u001b[1;32m    658\u001b[0m     source \u001b[38;5;241m=\u001b[39m codegen\u001b[38;5;241m.\u001b[39mcompile(\n\u001b[1;32m    659\u001b[0m         node,\n\u001b[1;32m    660\u001b[0m         template\u001b[38;5;241m.\u001b[39muri,\n\u001b[0;32m   (...)\u001b[0m\n\u001b[1;32m    670\u001b[0m         reserved_names\u001b[38;5;241m=\u001b[39mtemplate\u001b[38;5;241m.\u001b[39mreserved_names,\n\u001b[1;32m    671\u001b[0m     )\n\u001b[1;32m    672\u001b[0m     \u001b[38;5;28;01mreturn\u001b[39;00m source, lexer\n",
      "File \u001b[0;32m~/mambaforge/envs/py311/lib/python3.11/site-packages/mako/lexer.py:248\u001b[0m, in \u001b[0;36mLexer.parse\u001b[0;34m(self)\u001b[0m\n\u001b[1;32m    246\u001b[0m \u001b[38;5;28;01mif\u001b[39;00m \u001b[38;5;28mself\u001b[39m\u001b[38;5;241m.\u001b[39mmatch_tag_end():\n\u001b[1;32m    247\u001b[0m     \u001b[38;5;28;01mcontinue\u001b[39;00m\n\u001b[0;32m--> 248\u001b[0m \u001b[38;5;28;01mif\u001b[39;00m \u001b[38;5;28;43mself\u001b[39;49m\u001b[38;5;241;43m.\u001b[39;49m\u001b[43mmatch_python_block\u001b[49m\u001b[43m(\u001b[49m\u001b[43m)\u001b[49m:\n\u001b[1;32m    249\u001b[0m     \u001b[38;5;28;01mcontinue\u001b[39;00m\n\u001b[1;32m    250\u001b[0m \u001b[38;5;28;01mif\u001b[39;00m \u001b[38;5;28mself\u001b[39m\u001b[38;5;241m.\u001b[39mmatch_text():\n",
      "File \u001b[0;32m~/mambaforge/envs/py311/lib/python3.11/site-packages/mako/lexer.py:388\u001b[0m, in \u001b[0;36mLexer.match_python_block\u001b[0;34m(self)\u001b[0m\n\u001b[1;32m    386\u001b[0m \u001b[38;5;28;01mif\u001b[39;00m match:\n\u001b[1;32m    387\u001b[0m     line, pos \u001b[38;5;241m=\u001b[39m \u001b[38;5;28mself\u001b[39m\u001b[38;5;241m.\u001b[39mmatched_lineno, \u001b[38;5;28mself\u001b[39m\u001b[38;5;241m.\u001b[39mmatched_charpos\n\u001b[0;32m--> 388\u001b[0m     text, end \u001b[38;5;241m=\u001b[39m \u001b[38;5;28;43mself\u001b[39;49m\u001b[38;5;241;43m.\u001b[39;49m\u001b[43mparse_until_text\u001b[49m\u001b[43m(\u001b[49m\u001b[38;5;28;43;01mFalse\u001b[39;49;00m\u001b[43m,\u001b[49m\u001b[43m \u001b[49m\u001b[38;5;124;43mr\u001b[39;49m\u001b[38;5;124;43m\"\u001b[39;49m\u001b[38;5;124;43m%\u001b[39;49m\u001b[38;5;124;43m>\u001b[39;49m\u001b[38;5;124;43m\"\u001b[39;49m\u001b[43m)\u001b[49m\n\u001b[1;32m    389\u001b[0m     \u001b[38;5;66;03m# the trailing newline helps\u001b[39;00m\n\u001b[1;32m    390\u001b[0m     \u001b[38;5;66;03m# compiler.parse() not complain about indentation\u001b[39;00m\n\u001b[1;32m    391\u001b[0m     text \u001b[38;5;241m=\u001b[39m adjust_whitespace(text) \u001b[38;5;241m+\u001b[39m \u001b[38;5;124m\"\u001b[39m\u001b[38;5;130;01m\\n\u001b[39;00m\u001b[38;5;124m\"\u001b[39m\n",
      "File \u001b[0;32m~/mambaforge/envs/py311/lib/python3.11/site-packages/mako/lexer.py:120\u001b[0m, in \u001b[0;36mLexer.parse_until_text\u001b[0;34m(self, watch_nesting, *text)\u001b[0m\n\u001b[1;32m    118\u001b[0m     bracket_level \u001b[38;5;241m-\u001b[39m\u001b[38;5;241m=\u001b[39m match\u001b[38;5;241m.\u001b[39mgroup(\u001b[38;5;241m1\u001b[39m)\u001b[38;5;241m.\u001b[39mcount(\u001b[38;5;124m\"\u001b[39m\u001b[38;5;124m]\u001b[39m\u001b[38;5;124m\"\u001b[39m)\n\u001b[1;32m    119\u001b[0m     \u001b[38;5;28;01mcontinue\u001b[39;00m\n\u001b[0;32m--> 120\u001b[0m \u001b[38;5;28;01mraise\u001b[39;00m exceptions\u001b[38;5;241m.\u001b[39mSyntaxException(\n\u001b[1;32m    121\u001b[0m     \u001b[38;5;124m\"\u001b[39m\u001b[38;5;124mExpected: \u001b[39m\u001b[38;5;132;01m%s\u001b[39;00m\u001b[38;5;124m\"\u001b[39m \u001b[38;5;241m%\u001b[39m \u001b[38;5;124m\"\u001b[39m\u001b[38;5;124m,\u001b[39m\u001b[38;5;124m\"\u001b[39m\u001b[38;5;241m.\u001b[39mjoin(text), \u001b[38;5;241m*\u001b[39m\u001b[38;5;241m*\u001b[39m\u001b[38;5;28mself\u001b[39m\u001b[38;5;241m.\u001b[39mexception_kwargs\n\u001b[1;32m    122\u001b[0m )\n",
      "\u001b[0;31mSyntaxException\u001b[0m: Expected: %> in file 'templates/index.html' at line: 80 char: 16"
     ]
    }
   ],
   "source": [
    "# make the big picture templates\n",
    "for tmpl in [\"index.html\"]:\n",
    "    template = lookup.get_template(tmpl)\n",
    "    html = template.render(posts=posts, postsjson=postsjson).strip()\n",
    "    path = path_publish / tmpl\n",
    "    path.write_text(html)\n",
    "    print(f\"wrote {tmpl} to {path}\")\n",
    "\n",
    "# write all the posts\n",
    "template = lookup.get_template(\"post.html\")\n",
    "for post in posts:\n",
    "    html = template.render(post=post).strip()\n",
    "    path = path_publish / f\"{post.slug}.html\"\n",
    "    path.write_text(html)\n",
    "    print(f\"wrote {post.slug} to {path}\")"
   ]
  },
  {
   "cell_type": "code",
   "execution_count": 37,
   "metadata": {},
   "outputs": [
    {
     "data": {
      "text/plain": [
       "['anaconda.html',\n",
       " 'building_this_blog.html',\n",
       " 'vs_code.html',\n",
       " 'stats-done-wrong-book.html',\n",
       " 'setup-crostini-chromebook.html',\n",
       " 'jupyterlab.html',\n",
       " 'note_in_subfolder.html',\n",
       " 'index.html']"
      ]
     },
     "execution_count": 37,
     "metadata": {},
     "output_type": "execute_result"
    }
   ],
   "source": [
    "os.listdir(path_publish)"
   ]
  },
  {
   "cell_type": "code",
   "execution_count": 41,
   "metadata": {
    "tags": []
   },
   "outputs": [
    {
     "name": "stdout",
     "output_type": "stream",
     "text": [
      "['books', 'statistics']\n",
      "['python']\n",
      "['python']\n",
      "['python']\n",
      "['apps']\n",
      "['jupyter']\n",
      "['chromebooks']\n"
     ]
    }
   ],
   "source": [
    "for post in posts:\n",
    "    print(post.tags)"
   ]
  },
  {
   "cell_type": "code",
   "execution_count": 63,
   "metadata": {},
   "outputs": [
    {
     "data": {
      "text/plain": [
       "'[{\"title\": \"Statistics Done Wrong: The Woefully Complete Guide\", \"tags\": [\"books\", \"statistics\"], \"link\": \"stats-done-wrong-book.html\"}, {\"title\": \"how the blog was built\", \"tags\": [\"python\"], \"link\": \"building_this_blog.html\"}, {\"title\": \"Using Anaconda\", \"tags\": [\"python\"], \"link\": \"anaconda.html\"}, {\"title\": \"Testing note in a subfolder\", \"tags\": [\"python\"], \"link\": \"note_in_subfolder.html\"}, {\"title\": \"Visual Studio Code\", \"tags\": [\"apps\"], \"link\": \"vs_code.html\"}, {\"title\": \"Jupyter Lab tips and tricks\", \"tags\": [\"jupyter\"], \"link\": \"jupyterlab.html\"}, {\"title\": \"Setting up Linux on a Chromebook with Crostini\", \"tags\": [\"chromebooks\"], \"link\": \"setup-crostini-chromebook.html\"}]'"
      ]
     },
     "execution_count": 63,
     "metadata": {},
     "output_type": "execute_result"
    }
   ],
   "source": [
    "def searchlist(posts):\n",
    "    \"\"\"returns a json string of a list of search stuff\"\"\"\n",
    "    search_list = [{\"title\": post.title, \"tags\": post.tags, \"link\": f\"{post.slug}.html\"} for post in posts]\n",
    "    return json.dumps(search_list)\n",
    "\n",
    "postsjson = searchlist(posts)\n",
    "postsjson"
   ]
  },
  {
   "cell_type": "code",
   "execution_count": 15,
   "metadata": {},
   "outputs": [],
   "source": [
    "from nbconvert import HTMLExporter"
   ]
  },
  {
   "cell_type": "code",
   "execution_count": 13,
   "metadata": {},
   "outputs": [
    {
     "data": {
      "text/plain": [
       "[PosixPath('notebooks/monty_hall.ipynb')]"
      ]
     },
     "execution_count": 13,
     "metadata": {},
     "output_type": "execute_result"
    }
   ],
   "source": [
    "path_nb = blog.path_nb\n",
    "\n",
    "nb_paths = [f for f in path_nb.rglob(\"*.ipynb\")]\n",
    "nb_paths"
   ]
  },
  {
   "cell_type": "code",
   "execution_count": 14,
   "metadata": {
    "tags": []
   },
   "outputs": [
    {
     "name": "stdout",
     "output_type": "stream",
     "text": [
      "Help on class FilesWriter in module nbconvert.writers.files:\n",
      "\n",
      "class FilesWriter(nbconvert.writers.base.WriterBase)\n",
      " |  FilesWriter(*args, **kwargs)\n",
      " |  \n",
      " |  Consumes nbconvert output and produces files.\n",
      " |  \n",
      " |  Method resolution order:\n",
      " |      FilesWriter\n",
      " |      nbconvert.writers.base.WriterBase\n",
      " |      nbconvert.utils.base.NbConvertBase\n",
      " |      traitlets.config.configurable.LoggingConfigurable\n",
      " |      traitlets.config.configurable.Configurable\n",
      " |      traitlets.traitlets.HasTraits\n",
      " |      traitlets.traitlets.HasDescriptors\n",
      " |      builtins.object\n",
      " |  \n",
      " |  Methods defined here:\n",
      " |  \n",
      " |  __init__(self, **kw)\n",
      " |      Constructor\n",
      " |  \n",
      " |  write(self, output, resources, notebook_name=None, **kw)\n",
      " |      Consume and write Jinja output to the file system.  Output directory\n",
      " |      is set via the 'build_directory' variable of this instance (a \n",
      " |      configurable).\n",
      " |      \n",
      " |      See base for more...\n",
      " |  \n",
      " |  ----------------------------------------------------------------------\n",
      " |  Data descriptors defined here:\n",
      " |  \n",
      " |  build_directory\n",
      " |      A trait for unicode strings.\n",
      " |  \n",
      " |  relpath\n",
      " |      A trait for unicode strings.\n",
      " |  \n",
      " |  ----------------------------------------------------------------------\n",
      " |  Data descriptors inherited from nbconvert.writers.base.WriterBase:\n",
      " |  \n",
      " |  files\n",
      " |      An instance of a Python list.\n",
      " |  \n",
      " |  ----------------------------------------------------------------------\n",
      " |  Data descriptors inherited from nbconvert.utils.base.NbConvertBase:\n",
      " |  \n",
      " |  default_language\n",
      " |      A trait for unicode strings.\n",
      " |  \n",
      " |  display_data_priority\n",
      " |      An instance of a Python list.\n",
      " |  \n",
      " |  ----------------------------------------------------------------------\n",
      " |  Data descriptors inherited from traitlets.config.configurable.LoggingConfigurable:\n",
      " |  \n",
      " |  log\n",
      " |      A trait whose value must be an instance of a specified class.\n",
      " |      \n",
      " |      The value can also be an instance of a subclass of the specified class.\n",
      " |      \n",
      " |      Subclasses can declare default classes by overriding the klass attribute\n",
      " |  \n",
      " |  ----------------------------------------------------------------------\n",
      " |  Methods inherited from traitlets.config.configurable.Configurable:\n",
      " |  \n",
      " |  update_config(self, config)\n",
      " |      Update config and load the new values\n",
      " |  \n",
      " |  ----------------------------------------------------------------------\n",
      " |  Class methods inherited from traitlets.config.configurable.Configurable:\n",
      " |  \n",
      " |  class_config_rst_doc() from traitlets.traitlets.MetaHasTraits\n",
      " |      Generate rST documentation for this class' config options.\n",
      " |      \n",
      " |      Excludes traits defined on parent classes.\n",
      " |  \n",
      " |  class_config_section() from traitlets.traitlets.MetaHasTraits\n",
      " |      Get the config class config section\n",
      " |  \n",
      " |  class_get_help(inst=None) from traitlets.traitlets.MetaHasTraits\n",
      " |      Get the help string for this class in ReST format.\n",
      " |      \n",
      " |      If `inst` is given, it's current trait values will be used in place of\n",
      " |      class defaults.\n",
      " |  \n",
      " |  class_get_trait_help(trait, inst=None) from traitlets.traitlets.MetaHasTraits\n",
      " |      Get the help string for a single trait.\n",
      " |      \n",
      " |      If `inst` is given, it's current trait values will be used in place of\n",
      " |      the class default.\n",
      " |  \n",
      " |  class_print_help(inst=None) from traitlets.traitlets.MetaHasTraits\n",
      " |      Get the help string for a single trait and print it.\n",
      " |  \n",
      " |  section_names() from traitlets.traitlets.MetaHasTraits\n",
      " |      return section names as a list\n",
      " |  \n",
      " |  ----------------------------------------------------------------------\n",
      " |  Data descriptors inherited from traitlets.config.configurable.Configurable:\n",
      " |  \n",
      " |  config\n",
      " |      A trait whose value must be an instance of a specified class.\n",
      " |      \n",
      " |      The value can also be an instance of a subclass of the specified class.\n",
      " |      \n",
      " |      Subclasses can declare default classes by overriding the klass attribute\n",
      " |  \n",
      " |  parent\n",
      " |      A trait whose value must be an instance of a specified class.\n",
      " |      \n",
      " |      The value can also be an instance of a subclass of the specified class.\n",
      " |      \n",
      " |      Subclasses can declare default classes by overriding the klass attribute\n",
      " |  \n",
      " |  ----------------------------------------------------------------------\n",
      " |  Methods inherited from traitlets.traitlets.HasTraits:\n",
      " |  \n",
      " |  __getstate__(self)\n",
      " |  \n",
      " |  __setstate__(self, state)\n",
      " |  \n",
      " |  add_traits(self, **traits)\n",
      " |      Dynamically add trait attributes to the HasTraits instance.\n",
      " |  \n",
      " |  has_trait(self, name)\n",
      " |      Returns True if the object has a trait with the specified name.\n",
      " |  \n",
      " |  hold_trait_notifications(self)\n",
      " |      Context manager for bundling trait change notifications and cross\n",
      " |      validation.\n",
      " |      \n",
      " |      Use this when doing multiple trait assignments (init, config), to avoid\n",
      " |      race conditions in trait notifiers requesting other trait values.\n",
      " |      All trait notifications will fire after all values have been assigned.\n",
      " |  \n",
      " |  notify_change(self, change)\n",
      " |  \n",
      " |  observe(self, handler, names=traitlets.All, type='change')\n",
      " |      Setup a handler to be called when a trait changes.\n",
      " |      \n",
      " |      This is used to setup dynamic notifications of trait changes.\n",
      " |      \n",
      " |      Parameters\n",
      " |      ----------\n",
      " |      handler : callable\n",
      " |          A callable that is called when a trait changes. Its\n",
      " |          signature should be ``handler(change)``, where ``change`` is a\n",
      " |          dictionary. The change dictionary at least holds a 'type' key.\n",
      " |          * ``type``: the type of notification.\n",
      " |          Other keys may be passed depending on the value of 'type'. In the\n",
      " |          case where type is 'change', we also have the following keys:\n",
      " |          * ``owner`` : the HasTraits instance\n",
      " |          * ``old`` : the old value of the modified trait attribute\n",
      " |          * ``new`` : the new value of the modified trait attribute\n",
      " |          * ``name`` : the name of the modified trait attribute.\n",
      " |      names : list, str, All\n",
      " |          If names is All, the handler will apply to all traits.  If a list\n",
      " |          of str, handler will apply to all names in the list.  If a\n",
      " |          str, the handler will apply just to that name.\n",
      " |      type : str, All (default: 'change')\n",
      " |          The type of notification to filter by. If equal to All, then all\n",
      " |          notifications are passed to the observe handler.\n",
      " |  \n",
      " |  on_trait_change(self, handler=None, name=None, remove=False)\n",
      " |      DEPRECATED: Setup a handler to be called when a trait changes.\n",
      " |      \n",
      " |      This is used to setup dynamic notifications of trait changes.\n",
      " |      \n",
      " |      Static handlers can be created by creating methods on a HasTraits\n",
      " |      subclass with the naming convention '_[traitname]_changed'.  Thus,\n",
      " |      to create static handler for the trait 'a', create the method\n",
      " |      _a_changed(self, name, old, new) (fewer arguments can be used, see\n",
      " |      below).\n",
      " |      \n",
      " |      If `remove` is True and `handler` is not specified, all change\n",
      " |      handlers for the specified name are uninstalled.\n",
      " |      \n",
      " |      Parameters\n",
      " |      ----------\n",
      " |      handler : callable, None\n",
      " |          A callable that is called when a trait changes.  Its\n",
      " |          signature can be handler(), handler(name), handler(name, new),\n",
      " |          handler(name, old, new), or handler(name, old, new, self).\n",
      " |      name : list, str, None\n",
      " |          If None, the handler will apply to all traits.  If a list\n",
      " |          of str, handler will apply to all names in the list.  If a\n",
      " |          str, the handler will apply just to that name.\n",
      " |      remove : bool\n",
      " |          If False (the default), then install the handler.  If True\n",
      " |          then unintall it.\n",
      " |  \n",
      " |  set_trait(self, name, value)\n",
      " |      Forcibly sets trait attribute, including read-only attributes.\n",
      " |  \n",
      " |  setup_instance(self, *args, **kwargs)\n",
      " |      This is called **before** self.__init__ is called.\n",
      " |  \n",
      " |  trait_metadata(self, traitname, key, default=None)\n",
      " |      Get metadata values for trait by key.\n",
      " |  \n",
      " |  trait_names(self, **metadata)\n",
      " |      Get a list of all the names of this class' traits.\n",
      " |  \n",
      " |  traits(self, **metadata)\n",
      " |      Get a ``dict`` of all the traits of this class.  The dictionary\n",
      " |      is keyed on the name and the values are the TraitType objects.\n",
      " |      \n",
      " |      The TraitTypes returned don't know anything about the values\n",
      " |      that the various HasTrait's instances are holding.\n",
      " |      \n",
      " |      The metadata kwargs allow functions to be passed in which\n",
      " |      filter traits based on metadata values.  The functions should\n",
      " |      take a single value as an argument and return a boolean.  If\n",
      " |      any function returns False, then the trait is not included in\n",
      " |      the output.  If a metadata key doesn't exist, None will be passed\n",
      " |      to the function.\n",
      " |  \n",
      " |  unobserve(self, handler, names=traitlets.All, type='change')\n",
      " |      Remove a trait change handler.\n",
      " |      \n",
      " |      This is used to unregister handlers to trait change notifications.\n",
      " |      \n",
      " |      Parameters\n",
      " |      ----------\n",
      " |      handler : callable\n",
      " |          The callable called when a trait attribute changes.\n",
      " |      names : list, str, All (default: All)\n",
      " |          The names of the traits for which the specified handler should be\n",
      " |          uninstalled. If names is All, the specified handler is uninstalled\n",
      " |          from the list of notifiers corresponding to all changes.\n",
      " |      type : str or All (default: 'change')\n",
      " |          The type of notification to filter by. If All, the specified handler\n",
      " |          is uninstalled from the list of notifiers corresponding to all types.\n",
      " |  \n",
      " |  unobserve_all(self, name=traitlets.All)\n",
      " |      Remove trait change handlers of any type for the specified name.\n",
      " |      If name is not specified, removes all trait notifiers.\n",
      " |  \n",
      " |  ----------------------------------------------------------------------\n",
      " |  Class methods inherited from traitlets.traitlets.HasTraits:\n",
      " |  \n",
      " |  class_own_trait_events(name) from traitlets.traitlets.MetaHasTraits\n",
      " |      Get a dict of all event handlers defined on this class, not a parent.\n",
      " |      \n",
      " |      Works like ``event_handlers``, except for excluding traits from parents.\n",
      " |  \n",
      " |  class_own_traits(**metadata) from traitlets.traitlets.MetaHasTraits\n",
      " |      Get a dict of all the traitlets defined on this class, not a parent.\n",
      " |      \n",
      " |      Works like `class_traits`, except for excluding traits from parents.\n",
      " |  \n",
      " |  class_trait_names(**metadata) from traitlets.traitlets.MetaHasTraits\n",
      " |      Get a list of all the names of this class' traits.\n",
      " |      \n",
      " |      This method is just like the :meth:`trait_names` method,\n",
      " |      but is unbound.\n",
      " |  \n",
      " |  class_traits(**metadata) from traitlets.traitlets.MetaHasTraits\n",
      " |      Get a ``dict`` of all the traits of this class.  The dictionary\n",
      " |      is keyed on the name and the values are the TraitType objects.\n",
      " |      \n",
      " |      This method is just like the :meth:`traits` method, but is unbound.\n",
      " |      \n",
      " |      The TraitTypes returned don't know anything about the values\n",
      " |      that the various HasTrait's instances are holding.\n",
      " |      \n",
      " |      The metadata kwargs allow functions to be passed in which\n",
      " |      filter traits based on metadata values.  The functions should\n",
      " |      take a single value as an argument and return a boolean.  If\n",
      " |      any function returns False, then the trait is not included in\n",
      " |      the output.  If a metadata key doesn't exist, None will be passed\n",
      " |      to the function.\n",
      " |  \n",
      " |  trait_events(name=None) from traitlets.traitlets.MetaHasTraits\n",
      " |      Get a ``dict`` of all the event handlers of this class.\n",
      " |      \n",
      " |      Parameters\n",
      " |      ----------\n",
      " |      name: str (default: None)\n",
      " |          The name of a trait of this class. If name is ``None`` then all\n",
      " |          the event handlers of this class will be returned instead.\n",
      " |      \n",
      " |      Returns\n",
      " |      -------\n",
      " |      The event handlers associated with a trait name, or all event handlers.\n",
      " |  \n",
      " |  ----------------------------------------------------------------------\n",
      " |  Readonly properties inherited from traitlets.traitlets.HasTraits:\n",
      " |  \n",
      " |  cross_validation_lock\n",
      " |      A contextmanager for running a block with our cross validation lock set\n",
      " |      to True.\n",
      " |      \n",
      " |      At the end of the block, the lock's value is restored to its value\n",
      " |      prior to entering the block.\n",
      " |  \n",
      " |  ----------------------------------------------------------------------\n",
      " |  Static methods inherited from traitlets.traitlets.HasDescriptors:\n",
      " |  \n",
      " |  __new__(cls, *args, **kwargs)\n",
      " |      Create and return a new object.  See help(type) for accurate signature.\n",
      " |  \n",
      " |  ----------------------------------------------------------------------\n",
      " |  Data descriptors inherited from traitlets.traitlets.HasDescriptors:\n",
      " |  \n",
      " |  __dict__\n",
      " |      dictionary for instance variables (if defined)\n",
      " |  \n",
      " |  __weakref__\n",
      " |      list of weak references to the object (if defined)\n",
      "\n"
     ]
    }
   ],
   "source": [
    "help(nbconvert.writers.FilesWriter)"
   ]
  },
  {
   "cell_type": "code",
   "execution_count": 78,
   "metadata": {},
   "outputs": [],
   "source": []
  },
  {
   "cell_type": "code",
   "execution_count": 42,
   "metadata": {},
   "outputs": [
    {
     "data": {
      "text/plain": [
       "'tmp/img'"
      ]
     },
     "execution_count": 42,
     "metadata": {},
     "output_type": "execute_result"
    }
   ],
   "source": [
    "os.path.relpath(\"tmp/img\")"
   ]
  },
  {
   "cell_type": "code",
   "execution_count": 47,
   "metadata": {},
   "outputs": [
    {
     "data": {
      "text/plain": [
       "'_files'"
      ]
     },
     "execution_count": 47,
     "metadata": {},
     "output_type": "execute_result"
    }
   ],
   "source": [
    "writer = nbconvert.writers.FilesWriter()\n",
    "writer.relpath = \"_files\"\n",
    "writer.relpath"
   ]
  },
  {
   "cell_type": "code",
   "execution_count": 77,
   "metadata": {},
   "outputs": [
    {
     "data": {
      "text/plain": [
       "'tmp/kk'"
      ]
     },
     "execution_count": 77,
     "metadata": {},
     "output_type": "execute_result"
    }
   ],
   "source": [
    "os.path.relpath(\"tmp/kk\")"
   ]
  },
  {
   "cell_type": "code",
   "execution_count": null,
   "metadata": {},
   "outputs": [],
   "source": [
    "# move notebook outputs to the right directory"
   ]
  },
  {
   "cell_type": "code",
   "execution_count": 95,
   "metadata": {
    "tags": []
   },
   "outputs": [
    {
     "name": "stdout",
     "output_type": "stream",
     "text": [
      "converting notebooks/monty_hall.ipynb\n",
      "\n",
      "converted 1 notebooks to markdown files\n"
     ]
    }
   ],
   "source": [
    "def convert_notebooks_to_md():\n",
    "    # emptying tmp so don't end up with old md files here\n",
    "    shutil.rmtree(\"tmp\", ignore_errors=True)\n",
    "\n",
    "    exporter = nbconvert.MarkdownExporter()\n",
    "    writer = nbconvert.writers.FilesWriter(\n",
    "            build_directory=\"tmp\",\n",
    "            )\n",
    "\n",
    "    for nb_path in nb_paths:\n",
    "        print(f\"converting {nb_path}\")\n",
    "        \n",
    "        with open(nb_path) as f:\n",
    "            nb_node = nbformat.read(f, as_version=4)\n",
    "        #os.system(f'jupyter nbconvert --to markdown {nb_path} --output-dir tmp')\n",
    "        #return None\n",
    "\n",
    "        (body, resources) = exporter.from_notebook_node(nb_node)\n",
    "\n",
    "        writer.write(\n",
    "                    output=body,\n",
    "                    resources=resources,\n",
    "                    notebook_name=nb_path.name[:-6]\n",
    "                )\n",
    "        print(f\"\\nconverted {len(nb_paths)} notebooks to markdown files\")\n",
    "    return resources\n",
    "\n",
    "    \n",
    "r = convert_notebooks_to_md()"
   ]
  },
  {
   "cell_type": "code",
   "execution_count": 87,
   "metadata": {
    "tags": []
   },
   "outputs": [
    {
     "name": "stdout",
     "output_type": "stream",
     "text": [
      "dict_keys(['metadata', 'output_extension', 'outputs', 'raw_mimetypes', 'global_content_filter'])\n"
     ]
    },
    {
     "data": {
      "text/plain": [
       "{'include_code': True,\n",
       " 'include_markdown': True,\n",
       " 'include_raw': True,\n",
       " 'include_unknown': True,\n",
       " 'include_input': True,\n",
       " 'include_output': True,\n",
       " 'include_input_prompt': True,\n",
       " 'include_output_prompt': True,\n",
       " 'no_prompt': False}"
      ]
     },
     "execution_count": 87,
     "metadata": {},
     "output_type": "execute_result"
    }
   ],
   "source": [
    "print(r.keys())\n",
    "r[\"global_content_filter\"]"
   ]
  },
  {
   "cell_type": "code",
   "execution_count": 89,
   "metadata": {},
   "outputs": [
    {
     "data": {
      "text/plain": [
       "dict_keys(['output_12_0.png', 'output_20_0.png'])"
      ]
     },
     "execution_count": 89,
     "metadata": {},
     "output_type": "execute_result"
    }
   ],
   "source": [
    "r[\"outputs\"].keys()"
   ]
  },
  {
   "cell_type": "code",
   "execution_count": 74,
   "metadata": {},
   "outputs": [
    {
     "data": {
      "text/plain": [
       "dict_keys(['metadata', 'output_extension', 'outputs', 'raw_mimetypes', 'global_content_filter'])"
      ]
     },
     "execution_count": 74,
     "metadata": {},
     "output_type": "execute_result"
    }
   ],
   "source": [
    "resources.keys()"
   ]
  },
  {
   "cell_type": "code",
   "execution_count": 48,
   "metadata": {},
   "outputs": [
    {
     "data": {
      "text/plain": [
       "{'include_code': True,\n",
       " 'include_markdown': True,\n",
       " 'include_raw': True,\n",
       " 'include_unknown': True,\n",
       " 'include_input': True,\n",
       " 'include_output': True,\n",
       " 'include_input_prompt': True,\n",
       " 'include_output_prompt': True,\n",
       " 'no_prompt': False}"
      ]
     },
     "execution_count": 48,
     "metadata": {},
     "output_type": "execute_result"
    }
   ],
   "source": [
    "resources[\"global_content_filter\"]"
   ]
  },
  {
   "cell_type": "code",
   "execution_count": 18,
   "metadata": {},
   "outputs": [
    {
     "ename": "TypeError",
     "evalue": "argument of type 'WindowsPath' is not iterable",
     "output_type": "error",
     "traceback": [
      "\u001b[1;31m---------------------------------------------------------------------------\u001b[0m",
      "\u001b[1;31mTypeError\u001b[0m                                 Traceback (most recent call last)",
      "\u001b[1;32m<ipython-input-18-cd11d1d3bffa>\u001b[0m in \u001b[0;36m<module>\u001b[1;34m\u001b[0m\n\u001b[1;32m----> 1\u001b[1;33m \u001b[1;33m[\u001b[0m\u001b[0mf\u001b[0m \u001b[1;32mfor\u001b[0m \u001b[0mf\u001b[0m \u001b[1;32min\u001b[0m \u001b[0mblog\u001b[0m\u001b[1;33m.\u001b[0m\u001b[0mpath_nb\u001b[0m\u001b[1;33m.\u001b[0m\u001b[0mrglob\u001b[0m\u001b[1;33m(\u001b[0m\u001b[1;34m\"*.ipynb\"\u001b[0m\u001b[1;33m)\u001b[0m \u001b[1;32mif\u001b[0m \u001b[1;34m\".ipynb_checkpoints\"\u001b[0m \u001b[1;32mnot\u001b[0m \u001b[1;32min\u001b[0m \u001b[0mf\u001b[0m\u001b[1;33m]\u001b[0m\u001b[1;33m\u001b[0m\u001b[1;33m\u001b[0m\u001b[0m\n\u001b[0m",
      "\u001b[1;32m<ipython-input-18-cd11d1d3bffa>\u001b[0m in \u001b[0;36m<listcomp>\u001b[1;34m(.0)\u001b[0m\n\u001b[1;32m----> 1\u001b[1;33m \u001b[1;33m[\u001b[0m\u001b[0mf\u001b[0m \u001b[1;32mfor\u001b[0m \u001b[0mf\u001b[0m \u001b[1;32min\u001b[0m \u001b[0mblog\u001b[0m\u001b[1;33m.\u001b[0m\u001b[0mpath_nb\u001b[0m\u001b[1;33m.\u001b[0m\u001b[0mrglob\u001b[0m\u001b[1;33m(\u001b[0m\u001b[1;34m\"*.ipynb\"\u001b[0m\u001b[1;33m)\u001b[0m \u001b[1;32mif\u001b[0m \u001b[1;34m\".ipynb_checkpoints\"\u001b[0m \u001b[1;32mnot\u001b[0m \u001b[1;32min\u001b[0m \u001b[0mf\u001b[0m\u001b[1;33m]\u001b[0m\u001b[1;33m\u001b[0m\u001b[1;33m\u001b[0m\u001b[0m\n\u001b[0m",
      "\u001b[1;31mTypeError\u001b[0m: argument of type 'WindowsPath' is not iterable"
     ]
    }
   ],
   "source": [
    "[f for f in blog.path_nb.rglob(\"*.ipynb\") if \".ipynb_checkpoints\" not in f]"
   ]
  },
  {
   "cell_type": "code",
   "execution_count": 16,
   "metadata": {},
   "outputs": [
    {
     "data": {
      "text/plain": [
       "WindowsPath('notebooks')"
      ]
     },
     "execution_count": 16,
     "metadata": {},
     "output_type": "execute_result"
    }
   ],
   "source": [
    "blog.path_nb"
   ]
  },
  {
   "cell_type": "code",
   "execution_count": 22,
   "metadata": {},
   "outputs": [
    {
     "ename": "AttributeError",
     "evalue": "'WindowsPath' object has no attribute 'path'",
     "output_type": "error",
     "traceback": [
      "\u001b[1;31m---------------------------------------------------------------------------\u001b[0m",
      "\u001b[1;31mAttributeError\u001b[0m                            Traceback (most recent call last)",
      "\u001b[1;32m<ipython-input-22-485536563ac1>\u001b[0m in \u001b[0;36m<module>\u001b[1;34m\u001b[0m\n\u001b[1;32m----> 1\u001b[1;33m \u001b[0mblog\u001b[0m\u001b[1;33m.\u001b[0m\u001b[0mpath_nb\u001b[0m\u001b[1;33m.\u001b[0m\u001b[0mpath\u001b[0m\u001b[1;33m\u001b[0m\u001b[1;33m\u001b[0m\u001b[0m\n\u001b[0m",
      "\u001b[1;31mAttributeError\u001b[0m: 'WindowsPath' object has no attribute 'path'"
     ]
    }
   ],
   "source": [
    "blog.path_nb."
   ]
  },
  {
   "cell_type": "code",
   "execution_count": 39,
   "metadata": {},
   "outputs": [
    {
     "data": {
      "text/plain": [
       "[WindowsPath('notebooks/monty_hall.ipynb')]"
      ]
     },
     "execution_count": 39,
     "metadata": {},
     "output_type": "execute_result"
    }
   ],
   "source": [
    "p = Path(\"notebooks\")\n",
    "ff = [f for f in p.rglob(\"*.ipynb\") if \".ipynb_checkpoints\" not in str(f)]\n",
    "ff"
   ]
  },
  {
   "cell_type": "code",
   "execution_count": 38,
   "metadata": {},
   "outputs": [
    {
     "data": {
      "text/plain": [
       "'notebooks\\\\.ipynb_checkpoints\\\\monty_hall-checkpoint.ipynb'"
      ]
     },
     "execution_count": 38,
     "metadata": {},
     "output_type": "execute_result"
    }
   ],
   "source": [
    "f = ff[1]\n",
    "str(f)"
   ]
  },
  {
   "cell_type": "code",
   "execution_count": 30,
   "metadata": {},
   "outputs": [
    {
     "data": {
      "text/plain": [
       "WindowsPath('notebooks/.ipynb_checkpoints')"
      ]
     },
     "execution_count": 30,
     "metadata": {},
     "output_type": "execute_result"
    }
   ],
   "source": [
    "p / \".ipynb_checkpoints/\" / \"mon\""
   ]
  },
  {
   "cell_type": "code",
   "execution_count": 43,
   "metadata": {},
   "outputs": [
    {
     "data": {
      "text/plain": [
       "['monty_hall_files']"
      ]
     },
     "execution_count": 43,
     "metadata": {},
     "output_type": "execute_result"
    }
   ],
   "source": [
    "p = Path(\"tmp\")\n",
    "pp = [p for p in os.listdir(p) if \"_files\" in p]\n",
    "pp"
   ]
  },
  {
   "cell_type": "code",
   "execution_count": 52,
   "metadata": {},
   "outputs": [
    {
     "data": {
      "text/plain": [
       "[WindowsPath('tmp/monty_hall_files')]"
      ]
     },
     "execution_count": 52,
     "metadata": {},
     "output_type": "execute_result"
    }
   ],
   "source": [
    " cc = [x for x in p.iterdir() if x.is_dir() and (\"_files\" in x.name)]\n",
    " cc"
   ]
  },
  {
   "cell_type": "code",
   "execution_count": 54,
   "metadata": {},
   "outputs": [
    {
     "data": {
      "text/plain": [
       "WindowsPath('dist')"
      ]
     },
     "execution_count": 54,
     "metadata": {},
     "output_type": "execute_result"
    }
   ],
   "source": [
    "blog.path_publish"
   ]
  },
  {
   "cell_type": "code",
   "execution_count": 60,
   "metadata": {
    "tags": []
   },
   "outputs": [
    {
     "name": "stdout",
     "output_type": "stream",
     "text": [
      "tmp\\monty_hall_files\n"
     ]
    }
   ],
   "source": [
    "for f in cc:\n",
    "    print(f)\n",
    "    shutil.copytree(src=f, dst=blog.path_publish / \"python\", dirs_exist_ok=True)"
   ]
  },
  {
   "cell_type": "code",
   "execution_count": 56,
   "metadata": {},
   "outputs": [],
   "source": []
  },
  {
   "cell_type": "code",
   "execution_count": 85,
   "metadata": {
    "tags": []
   },
   "outputs": [],
   "source": [
    "from nbdev import export2html\n",
    "from nbdev import export\n",
    "from nbdev.export2html import Config, Path, _re_digits, _to_html, _re_block_notes"
   ]
  },
  {
   "cell_type": "code",
   "execution_count": 94,
   "metadata": {},
   "outputs": [
    {
     "ename": "TypeError",
     "evalue": "from_file() missing 1 required positional argument: 'file_stream'",
     "output_type": "error",
     "traceback": [
      "\u001b[1;31m---------------------------------------------------------------------------\u001b[0m",
      "\u001b[1;31mTypeError\u001b[0m                                 Traceback (most recent call last)",
      "\u001b[1;32m<ipython-input-94-dd3faa2025c1>\u001b[0m in \u001b[0;36m<module>\u001b[1;34m\u001b[0m\n\u001b[0;32m      1\u001b[0m \u001b[0me\u001b[0m \u001b[1;33m=\u001b[0m \u001b[0mexport2html\u001b[0m\u001b[1;33m.\u001b[0m\u001b[0mMarkdownExporter\u001b[0m\u001b[1;33m(\u001b[0m\u001b[1;33m)\u001b[0m\u001b[1;33m\u001b[0m\u001b[1;33m\u001b[0m\u001b[0m\n\u001b[1;32m----> 2\u001b[1;33m \u001b[0me\u001b[0m\u001b[1;33m.\u001b[0m\u001b[0mfrom_file\u001b[0m\u001b[1;33m(\u001b[0m\u001b[0mfname\u001b[0m\u001b[1;33m=\u001b[0m\u001b[1;34m'notebooks/monty_hall.ipynb'\u001b[0m\u001b[1;33m)\u001b[0m\u001b[1;33m\u001b[0m\u001b[1;33m\u001b[0m\u001b[0m\n\u001b[0m",
      "\u001b[1;31mTypeError\u001b[0m: from_file() missing 1 required positional argument: 'file_stream'"
     ]
    }
   ],
   "source": [
    "e = export2html.MarkdownExporter()\n",
    "e.from_file(fname='notebooks/monty_hall.ipynb')"
   ]
  },
  {
   "cell_type": "code",
   "execution_count": 84,
   "metadata": {
    "tags": []
   },
   "outputs": [],
   "source": [
    "export2html.notebook2html(fname='notebooks/*.ipynb', dest='tmp/', template_file='fastpages.tpl')"
   ]
  },
  {
   "cell_type": "code",
   "execution_count": 68,
   "metadata": {},
   "outputs": [],
   "source": [
    "export2html.notebook2html"
   ]
  },
  {
   "cell_type": "code",
   "execution_count": 81,
   "metadata": {},
   "outputs": [],
   "source": [
    "export2html.convert_md(fname='notebooks/monty_hall.ipynb', dest_path='tmp/', img_path=\".\", jekyll=True)"
   ]
  },
  {
   "cell_type": "code",
   "execution_count": 97,
   "metadata": {
    "tags": []
   },
   "outputs": [
    {
     "ename": "NameError",
     "evalue": "name 'nb_path' is not defined",
     "output_type": "error",
     "traceback": [
      "\u001b[1;31m---------------------------------------------------------------------------\u001b[0m",
      "\u001b[1;31mNameError\u001b[0m                                 Traceback (most recent call last)",
      "\u001b[1;32m<ipython-input-97-8eee47c9f181>\u001b[0m in \u001b[0;36m<module>\u001b[1;34m\u001b[0m\n\u001b[1;32m----> 1\u001b[1;33m \u001b[0murl\u001b[0m \u001b[1;33m=\u001b[0m \u001b[1;34mf\"https://github.com/khalido/blog/blob/master/notebooks/{nb_path}\"\u001b[0m\u001b[1;33m\u001b[0m\u001b[1;33m\u001b[0m\u001b[0m\n\u001b[0m",
      "\u001b[1;31mNameError\u001b[0m: name 'nb_path' is not defined"
     ]
    }
   ],
   "source": [
    "url = f\"https://github.com/khalido/blog/blob/master/notebooks/{nb_path}\""
   ]
  },
  {
   "cell_type": "markdown",
   "metadata": {},
   "source": [
    "## Convert jupyter notebooks"
   ]
  },
  {
   "cell_type": "code",
   "execution_count": 18,
   "metadata": {},
   "outputs": [],
   "source": [
    "from nbdev.export2html import convert_md"
   ]
  },
  {
   "cell_type": "code",
   "execution_count": 35,
   "metadata": {},
   "outputs": [
    {
     "data": {
      "text/plain": [
       "['monte_carlo_pi_files',\n",
       " 'monty_hall.md',\n",
       " 'flood_fill_files',\n",
       " 'us_elections_2020_files',\n",
       " 'convert2md.md',\n",
       " 'Advent-of-Code-2015_files',\n",
       " 'Advent-of-Code-2015.md',\n",
       " 'knn_files',\n",
       " 'quicksort_files',\n",
       " 'blogging_with_jupyter_notebooks.md',\n",
       " 'blogging_with_jupyter_notebooks_files',\n",
       " 'knn.md',\n",
       " 'monte_carlo_pi.md',\n",
       " 'convert2md_files',\n",
       " 'flood_fill.md',\n",
       " 'us_elections_2020.md',\n",
       " 'quicksort.md',\n",
       " 'monty_hall_files']"
      ]
     },
     "execution_count": 35,
     "metadata": {},
     "output_type": "execute_result"
    }
   ],
   "source": [
    "p = path_nb / \"markdown\"\n",
    "p."
   ]
  },
  {
   "cell_type": "code",
   "execution_count": null,
   "metadata": {},
   "outputs": [],
   "source": []
  }
 ],
 "metadata": {
  "kernelspec": {
   "display_name": "Python 3 (ipykernel)",
   "language": "python",
   "name": "python3"
  },
  "language_info": {
   "codemirror_mode": {
    "name": "ipython",
    "version": 3
   },
   "file_extension": ".py",
   "mimetype": "text/x-python",
   "name": "python",
   "nbconvert_exporter": "python",
   "pygments_lexer": "ipython3",
   "version": "3.11.4"
  }
 },
 "nbformat": 4,
 "nbformat_minor": 4
}
