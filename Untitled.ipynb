{
 "cells": [
  {
   "cell_type": "code",
   "execution_count": 8,
   "metadata": {},
   "outputs": [],
   "source": [
    "import os\n",
    "import re\n",
    "import fileinput\n",
    "import sys\n",
    "from glob import glob\n",
    "\n",
    "# Create path to content\n",
    "path = 'content/'"
   ]
  },
  {
   "cell_type": "code",
   "execution_count": 14,
   "metadata": {},
   "outputs": [
    {
     "name": "stdout",
     "output_type": "stream",
     "text": [
      "![png](game_of_life_4_0.png)\n",
      "game_of_life_4_0.png\n",
      "new ![png](game_of_life_4_0.png)\n",
      "![png](panel_101_2_0.png)\n",
      "panel_101_2_0.png\n",
      "new ![png](panel_101_2_0.png)\n",
      "![png](monte_carlo_pi_7_0.png)\n",
      "monte_carlo_pi_7_0.png\n",
      "new ![png](monte_carlo_pi_7_0.png)\n",
      "![png](bubble-sort_3_0.png)\n",
      "bubble-sort_3_0.png\n",
      "new ![png](bubble-sort_3_0.png)\n",
      "![png](monty_hall_11_0.png)\n",
      "monty_hall_11_0.png\n",
      "new ![png](monty_hall_11_0.png)\n",
      "![png](flood_fill_2_0.png)\n",
      "flood_fill_2_0.png\n",
      "new ![png](flood_fill_2_0.png)\n",
      "![png](quicksort_13_1.png)\n",
      "quicksort_13_1.png\n",
      "new ![png](quicksort_13_1.png)\n"
     ]
    }
   ],
   "source": [
    "def replaceAll(file,searchExp,replaceExp):\n",
    "    for line in fileinput.input(file, inplace=1):\n",
    "        if searchExp in line:\n",
    "            line = line.replace(searchExp,replaceExp)\n",
    "        sys.stdout.write(line)\n",
    "\n",
    "# Find all markdown files in all content folders\n",
    "all_md_files = [os.path.join(root, name)\n",
    "               for root, dirs, files in os.walk(path)\n",
    "               for name in files\n",
    "               if name.endswith((\".md\"))]\n",
    "\n",
    "for file in all_md_files:\n",
    "    with open(file,'r') as f:\n",
    "        filedata = f.read()\n",
    "        # Find all markdown link syntaxes\n",
    "        md_links = re.findall('!\\\\[[^\\\\]]+\\\\]\\\\([^)]+\\\\)', filedata)\n",
    "\n",
    "        # For each markdown link\n",
    "        for link in md_links:\n",
    "            print(link)\n",
    "            # Replace the full file path\n",
    "            md_image_path = re.search(r'\\((.*?)\\)', link).group(1)\n",
    "            md_image_filename = os.path.basename(md_image_path)\n",
    "            md_image_title = re.search(r'\\[(.*?)\\]', link).group(1)\n",
    "            \n",
    "            print(md_image_filename)\n",
    "            \n",
    "            new_link = \"![\"+md_image_title+\"](\"+md_image_filename+\")\"\n",
    "            print(\"new\", new_link)\n",
    "            break\n",
    "            replaceAll(file, link, new_link)"
   ]
  },
  {
   "cell_type": "code",
   "execution_count": null,
   "metadata": {},
   "outputs": [],
   "source": []
  }
 ],
 "metadata": {
  "kernelspec": {
   "display_name": "Python 3",
   "language": "python",
   "name": "python3"
  },
  "language_info": {
   "codemirror_mode": {
    "name": "ipython",
    "version": 3
   },
   "file_extension": ".py",
   "mimetype": "text/x-python",
   "name": "python",
   "nbconvert_exporter": "python",
   "pygments_lexer": "ipython3",
   "version": "3.7.3"
  }
 },
 "nbformat": 4,
 "nbformat_minor": 2
}
